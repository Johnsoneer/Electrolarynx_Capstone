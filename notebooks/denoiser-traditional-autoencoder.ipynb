{
 "cells": [
  {
   "cell_type": "code",
   "execution_count": 2,
   "metadata": {},
   "outputs": [],
   "source": [
    "import numpy as np\n",
    "import librosa\n",
    "import os\n",
    "from scipy.ndimage import zoom\n",
    "from moviepy.video.io.VideoFileClip import VideoFileClip\n",
    "from moviepy.audio.io.AudioFileClip import AudioFileClip\n",
    "import tensorflow as tf\n",
    "from tensorflow import keras\n",
    "from tensorflow.keras.layers import Input, Conv2D, Conv2DTranspose, Activation, BatchNormalization, MaxPooling2D, UpSampling2D\n",
    "from tensorflow.keras.models import Model\n",
    "import visualkeras\n",
    "from PIL import ImageFont\n",
    "import IPython.display as ipd\n",
    "import scipy\n",
    "from sklearn.model_selection import train_test_split\n",
    "from tensorflow.keras.callbacks import EarlyStopping\n",
    "import soundfile as sf\n",
    "import matplotlib.pyplot as plt"
   ]
  },
  {
   "cell_type": "code",
   "execution_count": 14,
   "metadata": {},
   "outputs": [
    {
     "name": "stderr",
     "output_type": "stream",
     "text": [
      "chunk:  27%|██▋       | 370/1375 [00:00<00:00, 3695.35it/s, now=None]"
     ]
    },
    {
     "name": "stdout",
     "output_type": "stream",
     "text": [
      "MoviePy - Writing audio in /home/fdf7gn/data/UVaVoice/ConversationalSpeech-FunctioningLarynxes/2021-12-17_11-25-03.wav\n"
     ]
    },
    {
     "name": "stderr",
     "output_type": "stream",
     "text": [
      "                                                                      \r"
     ]
    },
    {
     "name": "stdout",
     "output_type": "stream",
     "text": [
      "MoviePy - Done.\n"
     ]
    },
    {
     "name": "stderr",
     "output_type": "stream",
     "text": [
      "chunk:  26%|██▌       | 357/1366 [00:00<00:00, 3560.39it/s, now=None]"
     ]
    },
    {
     "name": "stdout",
     "output_type": "stream",
     "text": [
      "MoviePy - Writing audio in /home/fdf7gn/data/UVaVoice/ConversationalSpeech-FunctioningLarynxes/2021-12-17_11-30-22.wav\n"
     ]
    },
    {
     "name": "stderr",
     "output_type": "stream",
     "text": [
      "                                                                      \r"
     ]
    },
    {
     "name": "stdout",
     "output_type": "stream",
     "text": [
      "MoviePy - Done.\n"
     ]
    },
    {
     "name": "stderr",
     "output_type": "stream",
     "text": [
      "chunk:  27%|██▋       | 367/1358 [00:00<00:00, 3667.13it/s, now=None]"
     ]
    },
    {
     "name": "stdout",
     "output_type": "stream",
     "text": [
      "MoviePy - Writing audio in /home/fdf7gn/data/UVaVoice/ConversationalSpeech-FunctioningLarynxes/2021-12-17_11-35-28.wav\n"
     ]
    },
    {
     "name": "stderr",
     "output_type": "stream",
     "text": [
      "                                                                      \r"
     ]
    },
    {
     "name": "stdout",
     "output_type": "stream",
     "text": [
      "MoviePy - Done.\n"
     ]
    },
    {
     "name": "stderr",
     "output_type": "stream",
     "text": [
      "chunk:  26%|██▌       | 357/1388 [00:00<00:00, 3496.05it/s, now=None]"
     ]
    },
    {
     "name": "stdout",
     "output_type": "stream",
     "text": [
      "MoviePy - Writing audio in /home/fdf7gn/data/UVaVoice/ConversationalSpeech-FunctioningLarynxes/2021-12-17_11-26-11.wav\n"
     ]
    },
    {
     "name": "stderr",
     "output_type": "stream",
     "text": [
      "                                                                      \r"
     ]
    },
    {
     "name": "stdout",
     "output_type": "stream",
     "text": [
      "MoviePy - Done.\n"
     ]
    },
    {
     "name": "stderr",
     "output_type": "stream",
     "text": [
      "chunk:  27%|██▋       | 357/1344 [00:00<00:00, 3541.97it/s, now=None]"
     ]
    },
    {
     "name": "stdout",
     "output_type": "stream",
     "text": [
      "MoviePy - Writing audio in /home/fdf7gn/data/UVaVoice/ConversationalSpeech-FunctioningLarynxes/2021-12-17_11-31-32.wav\n"
     ]
    },
    {
     "name": "stderr",
     "output_type": "stream",
     "text": [
      "                                                                      \r"
     ]
    },
    {
     "name": "stdout",
     "output_type": "stream",
     "text": [
      "MoviePy - Done.\n"
     ]
    },
    {
     "name": "stderr",
     "output_type": "stream",
     "text": [
      "chunk:  28%|██▊       | 379/1357 [00:00<00:00, 3783.07it/s, now=None]"
     ]
    },
    {
     "name": "stdout",
     "output_type": "stream",
     "text": [
      "MoviePy - Writing audio in /home/fdf7gn/data/UVaVoice/ConversationalSpeech-FunctioningLarynxes/2021-12-17_11-29-13.wav\n"
     ]
    },
    {
     "name": "stderr",
     "output_type": "stream",
     "text": [
      "                                                                      \r"
     ]
    },
    {
     "name": "stdout",
     "output_type": "stream",
     "text": [
      "MoviePy - Done.\n"
     ]
    },
    {
     "name": "stderr",
     "output_type": "stream",
     "text": [
      "chunk:  27%|██▋       | 357/1343 [00:00<00:00, 3541.36it/s, now=None]"
     ]
    },
    {
     "name": "stdout",
     "output_type": "stream",
     "text": [
      "MoviePy - Writing audio in /home/fdf7gn/data/UVaVoice/ConversationalSpeech-FunctioningLarynxes/2021-12-17_11-33-43.wav\n"
     ]
    },
    {
     "name": "stderr",
     "output_type": "stream",
     "text": [
      "                                                                      \r"
     ]
    },
    {
     "name": "stdout",
     "output_type": "stream",
     "text": [
      "MoviePy - Done.\n"
     ]
    },
    {
     "name": "stderr",
     "output_type": "stream",
     "text": [
      "chunk:  27%|██▋       | 357/1344 [00:00<00:00, 3522.09it/s, now=None]"
     ]
    },
    {
     "name": "stdout",
     "output_type": "stream",
     "text": [
      "MoviePy - Writing audio in /home/fdf7gn/data/UVaVoice/ConversationalSpeech-FunctioningLarynxes/2021-12-17_11-32-38.wav\n"
     ]
    },
    {
     "name": "stderr",
     "output_type": "stream",
     "text": [
      "                                                                      \r"
     ]
    },
    {
     "name": "stdout",
     "output_type": "stream",
     "text": [
      "MoviePy - Done.\n"
     ]
    },
    {
     "name": "stderr",
     "output_type": "stream",
     "text": [
      "chunk:  27%|██▋       | 376/1381 [00:00<00:00, 3758.44it/s, now=None]"
     ]
    },
    {
     "name": "stdout",
     "output_type": "stream",
     "text": [
      "MoviePy - Writing audio in /home/fdf7gn/data/UVaVoice/ConversationalSpeech-FunctioningLarynxes/2021-12-17_11-27-18.wav\n"
     ]
    },
    {
     "name": "stderr",
     "output_type": "stream",
     "text": [
      "                                                                      \r"
     ]
    },
    {
     "name": "stdout",
     "output_type": "stream",
     "text": [
      "MoviePy - Done.\n"
     ]
    },
    {
     "name": "stderr",
     "output_type": "stream",
     "text": [
      "chunk:  26%|██▌       | 361/1378 [00:00<00:00, 3608.59it/s, now=None]"
     ]
    },
    {
     "name": "stdout",
     "output_type": "stream",
     "text": [
      "MoviePy - Writing audio in /home/fdf7gn/data/UVaVoice/ConversationalSpeech-FunctioningLarynxes/2021-12-17_11-23-57.wav\n"
     ]
    },
    {
     "name": "stderr",
     "output_type": "stream",
     "text": [
      "                                                                      \r"
     ]
    },
    {
     "name": "stdout",
     "output_type": "stream",
     "text": [
      "MoviePy - Done.\n"
     ]
    },
    {
     "name": "stderr",
     "output_type": "stream",
     "text": [
      "chunk:  26%|██▋       | 357/1360 [00:00<00:00, 3547.03it/s, now=None]"
     ]
    },
    {
     "name": "stdout",
     "output_type": "stream",
     "text": [
      "MoviePy - Writing audio in /home/fdf7gn/data/UVaVoice/ConversationalSpeech-FunctioningLarynxes/Participant 5/2021-06-23_15-01-37.wav\n"
     ]
    },
    {
     "name": "stderr",
     "output_type": "stream",
     "text": [
      "                                                                      \r"
     ]
    },
    {
     "name": "stdout",
     "output_type": "stream",
     "text": [
      "MoviePy - Done.\n"
     ]
    },
    {
     "name": "stderr",
     "output_type": "stream",
     "text": [
      "chunk:  23%|██▎       | 315/1341 [00:00<00:00, 3149.43it/s, now=None]"
     ]
    },
    {
     "name": "stdout",
     "output_type": "stream",
     "text": [
      "MoviePy - Writing audio in /home/fdf7gn/data/UVaVoice/ConversationalSpeech-FunctioningLarynxes/Participant 5/2021-06-23_14-40-35.wav\n"
     ]
    },
    {
     "name": "stderr",
     "output_type": "stream",
     "text": [
      "                                                                      \r"
     ]
    },
    {
     "name": "stdout",
     "output_type": "stream",
     "text": [
      "MoviePy - Done.\n",
      "MoviePy - Writing audio in /home/fdf7gn/data/UVaVoice/ConversationalSpeech-FunctioningLarynxes/Participant 5/2021-06-23_14-56-02.wav\n"
     ]
    },
    {
     "name": "stderr",
     "output_type": "stream",
     "text": [
      "                                                                      \r"
     ]
    },
    {
     "name": "stdout",
     "output_type": "stream",
     "text": [
      "MoviePy - Done.\n"
     ]
    },
    {
     "name": "stderr",
     "output_type": "stream",
     "text": [
      "chunk:  27%|██▋       | 360/1357 [00:00<00:00, 3593.17it/s, now=None]"
     ]
    },
    {
     "name": "stdout",
     "output_type": "stream",
     "text": [
      "MoviePy - Writing audio in /home/fdf7gn/data/UVaVoice/ConversationalSpeech-FunctioningLarynxes/Participant 5/2021-06-23_14-43-25.wav\n"
     ]
    },
    {
     "name": "stderr",
     "output_type": "stream",
     "text": [
      "                                                                      \r"
     ]
    },
    {
     "name": "stdout",
     "output_type": "stream",
     "text": [
      "MoviePy - Done.\n"
     ]
    },
    {
     "name": "stderr",
     "output_type": "stream",
     "text": [
      "chunk:  26%|██▌       | 357/1378 [00:00<00:00, 3513.92it/s, now=None]"
     ]
    },
    {
     "name": "stdout",
     "output_type": "stream",
     "text": [
      "MoviePy - Writing audio in /home/fdf7gn/data/UVaVoice/ConversationalSpeech-FunctioningLarynxes/Participant 5/2021-06-23_15-07-23.wav\n"
     ]
    },
    {
     "name": "stderr",
     "output_type": "stream",
     "text": [
      "                                                                      \r"
     ]
    },
    {
     "name": "stdout",
     "output_type": "stream",
     "text": [
      "MoviePy - Done.\n"
     ]
    },
    {
     "name": "stderr",
     "output_type": "stream",
     "text": [
      "chunk:  25%|██▍       | 338/1355 [00:00<00:00, 3375.15it/s, now=None]"
     ]
    },
    {
     "name": "stdout",
     "output_type": "stream",
     "text": [
      "MoviePy - Writing audio in /home/fdf7gn/data/UVaVoice/ConversationalSpeech-FunctioningLarynxes/Participant 5/2021-06-23_15-05-06.wav\n"
     ]
    },
    {
     "name": "stderr",
     "output_type": "stream",
     "text": [
      "                                                                      \r"
     ]
    },
    {
     "name": "stdout",
     "output_type": "stream",
     "text": [
      "MoviePy - Done.\n"
     ]
    },
    {
     "name": "stderr",
     "output_type": "stream",
     "text": [
      "chunk:  27%|██▋       | 357/1347 [00:00<00:00, 3520.46it/s, now=None]"
     ]
    },
    {
     "name": "stdout",
     "output_type": "stream",
     "text": [
      "MoviePy - Writing audio in /home/fdf7gn/data/UVaVoice/ConversationalSpeech-FunctioningLarynxes/Participant 5/2021-06-23_14-49-26.wav\n"
     ]
    },
    {
     "name": "stderr",
     "output_type": "stream",
     "text": [
      "                                                                      \r"
     ]
    },
    {
     "name": "stdout",
     "output_type": "stream",
     "text": [
      "MoviePy - Done.\n"
     ]
    },
    {
     "name": "stderr",
     "output_type": "stream",
     "text": [
      "chunk:  26%|██▌       | 357/1362 [00:00<00:00, 3484.61it/s, now=None]"
     ]
    },
    {
     "name": "stdout",
     "output_type": "stream",
     "text": [
      "MoviePy - Writing audio in /home/fdf7gn/data/UVaVoice/ConversationalSpeech-FunctioningLarynxes/Participant 5/2021-06-23_14-54-08.wav\n"
     ]
    },
    {
     "name": "stderr",
     "output_type": "stream",
     "text": [
      "                                                                      \r"
     ]
    },
    {
     "name": "stdout",
     "output_type": "stream",
     "text": [
      "MoviePy - Done.\n",
      "MoviePy - Writing audio in /home/fdf7gn/data/UVaVoice/ConversationalSpeech-FunctioningLarynxes/Participant 5/2021-06-23_14-46-53.wav\n"
     ]
    },
    {
     "name": "stderr",
     "output_type": "stream",
     "text": [
      "chunk:   0%|          | 0/1369 [00:00<?, ?it/s, now=None]             "
     ]
    },
    {
     "name": "stdout",
     "output_type": "stream",
     "text": [
      "MoviePy - Done.\n",
      "MoviePy - Writing audio in /home/fdf7gn/data/UVaVoice/ConversationalSpeech-FunctioningLarynxes/Participant 5/2021-06-23_14-59-07.wav\n"
     ]
    },
    {
     "name": "stderr",
     "output_type": "stream",
     "text": [
      "                                                                      \r"
     ]
    },
    {
     "name": "stdout",
     "output_type": "stream",
     "text": [
      "MoviePy - Done.\n"
     ]
    },
    {
     "name": "stderr",
     "output_type": "stream",
     "text": [
      "chunk:  27%|██▋       | 371/1365 [00:00<00:00, 3709.43it/s, now=None]"
     ]
    },
    {
     "name": "stdout",
     "output_type": "stream",
     "text": [
      "MoviePy - Writing audio in /home/fdf7gn/data/UVaVoice/ConversationalSpeech-FunctioningLarynxes/Participant 3/Electrolarynx/2021-12-01_16-05-04.wav\n"
     ]
    },
    {
     "name": "stderr",
     "output_type": "stream",
     "text": [
      "                                                                      \r"
     ]
    },
    {
     "name": "stdout",
     "output_type": "stream",
     "text": [
      "MoviePy - Done.\n"
     ]
    },
    {
     "name": "stderr",
     "output_type": "stream",
     "text": [
      "chunk:  26%|██▌       | 367/1411 [00:00<00:00, 3667.99it/s, now=None]"
     ]
    },
    {
     "name": "stdout",
     "output_type": "stream",
     "text": [
      "MoviePy - Writing audio in /home/fdf7gn/data/UVaVoice/ConversationalSpeech-FunctioningLarynxes/Participant 3/Electrolarynx/2021-12-01_15-49-27.wav\n"
     ]
    },
    {
     "name": "stderr",
     "output_type": "stream",
     "text": [
      "                                                                      \r"
     ]
    },
    {
     "name": "stdout",
     "output_type": "stream",
     "text": [
      "MoviePy - Done.\n"
     ]
    },
    {
     "name": "stderr",
     "output_type": "stream",
     "text": [
      "chunk:  28%|██▊       | 375/1332 [00:00<00:00, 3746.53it/s, now=None]"
     ]
    },
    {
     "name": "stdout",
     "output_type": "stream",
     "text": [
      "MoviePy - Writing audio in /home/fdf7gn/data/UVaVoice/ConversationalSpeech-FunctioningLarynxes/Participant 3/Electrolarynx/2021-12-01_16-02-23.wav\n"
     ]
    },
    {
     "name": "stderr",
     "output_type": "stream",
     "text": [
      "                                                                      \r"
     ]
    },
    {
     "name": "stdout",
     "output_type": "stream",
     "text": [
      "MoviePy - Done.\n"
     ]
    },
    {
     "name": "stderr",
     "output_type": "stream",
     "text": [
      "chunk:  26%|██▋       | 373/1413 [00:00<00:00, 3724.68it/s, now=None]"
     ]
    },
    {
     "name": "stdout",
     "output_type": "stream",
     "text": [
      "MoviePy - Writing audio in /home/fdf7gn/data/UVaVoice/ConversationalSpeech-FunctioningLarynxes/Participant 3/Electrolarynx/2021-12-01_16-06-10.wav\n"
     ]
    },
    {
     "name": "stderr",
     "output_type": "stream",
     "text": [
      "                                                                      \r"
     ]
    },
    {
     "name": "stdout",
     "output_type": "stream",
     "text": [
      "MoviePy - Done.\n"
     ]
    },
    {
     "name": "stderr",
     "output_type": "stream",
     "text": [
      "chunk:  26%|██▌       | 368/1440 [00:00<00:00, 3679.16it/s, now=None]"
     ]
    },
    {
     "name": "stdout",
     "output_type": "stream",
     "text": [
      "MoviePy - Writing audio in /home/fdf7gn/data/UVaVoice/ConversationalSpeech-FunctioningLarynxes/Participant 3/Electrolarynx/2021-12-01_16-07-19.wav\n"
     ]
    },
    {
     "name": "stderr",
     "output_type": "stream",
     "text": [
      "chunk:   0%|          | 0/1464 [00:00<?, ?it/s, now=None]             "
     ]
    },
    {
     "name": "stdout",
     "output_type": "stream",
     "text": [
      "MoviePy - Done.\n",
      "MoviePy - Writing audio in /home/fdf7gn/data/UVaVoice/ConversationalSpeech-FunctioningLarynxes/Participant 3/Electrolarynx/2021-12-01_15-53-17.wav\n"
     ]
    },
    {
     "name": "stderr",
     "output_type": "stream",
     "text": [
      "                                                                      \r"
     ]
    },
    {
     "name": "stdout",
     "output_type": "stream",
     "text": [
      "MoviePy - Done.\n"
     ]
    },
    {
     "name": "stderr",
     "output_type": "stream",
     "text": [
      "chunk:  24%|██▍       | 357/1462 [00:00<00:00, 3545.25it/s, now=None]"
     ]
    },
    {
     "name": "stdout",
     "output_type": "stream",
     "text": [
      "MoviePy - Writing audio in /home/fdf7gn/data/UVaVoice/ConversationalSpeech-FunctioningLarynxes/Participant 3/Electrolarynx/2021-12-01_15-54-28.wav\n"
     ]
    },
    {
     "name": "stderr",
     "output_type": "stream",
     "text": [
      "                                                                      \r"
     ]
    },
    {
     "name": "stdout",
     "output_type": "stream",
     "text": [
      "MoviePy - Done.\n"
     ]
    },
    {
     "name": "stderr",
     "output_type": "stream",
     "text": [
      "chunk:  27%|██▋       | 357/1334 [00:00<00:00, 3553.32it/s, now=None]"
     ]
    },
    {
     "name": "stdout",
     "output_type": "stream",
     "text": [
      "MoviePy - Writing audio in /home/fdf7gn/data/UVaVoice/ConversationalSpeech-FunctioningLarynxes/Participant 3/Electrolarynx/2021-12-01_16-00-12.wav\n"
     ]
    },
    {
     "name": "stderr",
     "output_type": "stream",
     "text": [
      "                                                                      \r"
     ]
    },
    {
     "name": "stdout",
     "output_type": "stream",
     "text": [
      "MoviePy - Done.\n"
     ]
    },
    {
     "name": "stderr",
     "output_type": "stream",
     "text": [
      "chunk:  28%|██▊       | 375/1334 [00:00<00:00, 3744.92it/s, now=None]"
     ]
    },
    {
     "name": "stdout",
     "output_type": "stream",
     "text": [
      "MoviePy - Writing audio in /home/fdf7gn/data/UVaVoice/ConversationalSpeech-FunctioningLarynxes/Participant 3/Electrolarynx/2021-12-01_16-01-18.wav\n"
     ]
    },
    {
     "name": "stderr",
     "output_type": "stream",
     "text": [
      "                                                                      \r"
     ]
    },
    {
     "name": "stdout",
     "output_type": "stream",
     "text": [
      "MoviePy - Done.\n"
     ]
    },
    {
     "name": "stderr",
     "output_type": "stream",
     "text": [
      "chunk:  26%|██▌       | 357/1382 [00:00<00:00, 3401.17it/s, now=None]"
     ]
    },
    {
     "name": "stdout",
     "output_type": "stream",
     "text": [
      "MoviePy - Writing audio in /home/fdf7gn/data/UVaVoice/ConversationalSpeech-FunctioningLarynxes/Participant 3/Electrolarynx/2021-12-01_15-50-35.wav\n"
     ]
    },
    {
     "name": "stderr",
     "output_type": "stream",
     "text": [
      "                                                                      \r"
     ]
    },
    {
     "name": "stdout",
     "output_type": "stream",
     "text": [
      "MoviePy - Done.\n"
     ]
    },
    {
     "name": "stderr",
     "output_type": "stream",
     "text": [
      "chunk:  28%|██▊       | 372/1350 [00:00<00:00, 3719.85it/s, now=None]"
     ]
    },
    {
     "name": "stdout",
     "output_type": "stream",
     "text": [
      "MoviePy - Writing audio in /home/fdf7gn/data/UVaVoice/ConversationalSpeech-FunctioningLarynxes/Participant 3/Larynx/2021-12-10_13-13-59.wav\n"
     ]
    },
    {
     "name": "stderr",
     "output_type": "stream",
     "text": [
      "                                                                      \r"
     ]
    },
    {
     "name": "stdout",
     "output_type": "stream",
     "text": [
      "MoviePy - Done.\n"
     ]
    },
    {
     "name": "stderr",
     "output_type": "stream",
     "text": [
      "chunk:  27%|██▋       | 369/1355 [00:00<00:00, 3687.34it/s, now=None]"
     ]
    },
    {
     "name": "stdout",
     "output_type": "stream",
     "text": [
      "MoviePy - Writing audio in /home/fdf7gn/data/UVaVoice/ConversationalSpeech-FunctioningLarynxes/Participant 3/Larynx/2021-12-10_13-03-02.wav\n"
     ]
    },
    {
     "name": "stderr",
     "output_type": "stream",
     "text": [
      "                                                                      \r"
     ]
    },
    {
     "name": "stdout",
     "output_type": "stream",
     "text": [
      "MoviePy - Done.\n"
     ]
    },
    {
     "name": "stderr",
     "output_type": "stream",
     "text": [
      "chunk:  25%|██▍       | 357/1445 [00:00<00:00, 3525.00it/s, now=None]"
     ]
    },
    {
     "name": "stdout",
     "output_type": "stream",
     "text": [
      "MoviePy - Writing audio in /home/fdf7gn/data/UVaVoice/ConversationalSpeech-FunctioningLarynxes/Participant 3/Larynx/2021-12-10_12-54-35.wav\n"
     ]
    },
    {
     "name": "stderr",
     "output_type": "stream",
     "text": [
      "                                                                      \r"
     ]
    },
    {
     "name": "stdout",
     "output_type": "stream",
     "text": [
      "MoviePy - Done.\n"
     ]
    },
    {
     "name": "stderr",
     "output_type": "stream",
     "text": [
      "chunk:  26%|██▌       | 357/1377 [00:00<00:00, 3538.83it/s, now=None]"
     ]
    },
    {
     "name": "stdout",
     "output_type": "stream",
     "text": [
      "MoviePy - Writing audio in /home/fdf7gn/data/UVaVoice/ConversationalSpeech-FunctioningLarynxes/Participant 3/Larynx/2021-12-10_12-56-55.wav\n"
     ]
    },
    {
     "name": "stderr",
     "output_type": "stream",
     "text": [
      "                                                                      \r"
     ]
    },
    {
     "name": "stdout",
     "output_type": "stream",
     "text": [
      "MoviePy - Done.\n"
     ]
    },
    {
     "name": "stderr",
     "output_type": "stream",
     "text": [
      "chunk:  27%|██▋       | 378/1404 [00:00<00:00, 3778.72it/s, now=None]"
     ]
    },
    {
     "name": "stdout",
     "output_type": "stream",
     "text": [
      "MoviePy - Writing audio in /home/fdf7gn/data/UVaVoice/ConversationalSpeech-FunctioningLarynxes/Participant 3/Larynx/2021-12-10_13-05-14.wav\n"
     ]
    },
    {
     "name": "stderr",
     "output_type": "stream",
     "text": [
      "                                                                      \r"
     ]
    },
    {
     "name": "stdout",
     "output_type": "stream",
     "text": [
      "MoviePy - Done.\n"
     ]
    },
    {
     "name": "stderr",
     "output_type": "stream",
     "text": [
      "chunk:  25%|██▍       | 358/1439 [00:00<00:00, 3574.86it/s, now=None]"
     ]
    },
    {
     "name": "stdout",
     "output_type": "stream",
     "text": [
      "MoviePy - Writing audio in /home/fdf7gn/data/UVaVoice/ConversationalSpeech-FunctioningLarynxes/Participant 3/Larynx/2021-12-10_12-55-45.wav\n"
     ]
    },
    {
     "name": "stderr",
     "output_type": "stream",
     "text": [
      "                                                                      \r"
     ]
    },
    {
     "name": "stdout",
     "output_type": "stream",
     "text": [
      "MoviePy - Done.\n"
     ]
    },
    {
     "name": "stderr",
     "output_type": "stream",
     "text": [
      "chunk:  25%|██▌       | 372/1461 [00:00<00:00, 3716.18it/s, now=None]"
     ]
    },
    {
     "name": "stdout",
     "output_type": "stream",
     "text": [
      "MoviePy - Writing audio in /home/fdf7gn/data/UVaVoice/ConversationalSpeech-FunctioningLarynxes/Participant 3/Larynx/2021-12-10_13-10-46.wav\n"
     ]
    },
    {
     "name": "stderr",
     "output_type": "stream",
     "text": [
      "                                                                      \r"
     ]
    },
    {
     "name": "stdout",
     "output_type": "stream",
     "text": [
      "MoviePy - Done.\n"
     ]
    },
    {
     "name": "stderr",
     "output_type": "stream",
     "text": [
      "chunk:  26%|██▌       | 366/1415 [00:00<00:00, 3654.38it/s, now=None]"
     ]
    },
    {
     "name": "stdout",
     "output_type": "stream",
     "text": [
      "MoviePy - Writing audio in /home/fdf7gn/data/UVaVoice/ConversationalSpeech-FunctioningLarynxes/Participant 3/Larynx/2021-12-10_13-06-22.wav\n"
     ]
    },
    {
     "name": "stderr",
     "output_type": "stream",
     "text": [
      "                                                                      \r"
     ]
    },
    {
     "name": "stdout",
     "output_type": "stream",
     "text": [
      "MoviePy - Done.\n"
     ]
    },
    {
     "name": "stderr",
     "output_type": "stream",
     "text": [
      "chunk:  27%|██▋       | 369/1353 [00:00<00:00, 3688.85it/s, now=None]"
     ]
    },
    {
     "name": "stdout",
     "output_type": "stream",
     "text": [
      "MoviePy - Writing audio in /home/fdf7gn/data/UVaVoice/ConversationalSpeech-FunctioningLarynxes/Participant 3/Larynx/2021-12-10_13-04-08.wav\n"
     ]
    },
    {
     "name": "stderr",
     "output_type": "stream",
     "text": [
      "                                                                      \r"
     ]
    },
    {
     "name": "stdout",
     "output_type": "stream",
     "text": [
      "MoviePy - Done.\n"
     ]
    },
    {
     "name": "stderr",
     "output_type": "stream",
     "text": [
      "chunk:  28%|██▊       | 376/1327 [00:00<00:00, 3756.16it/s, now=None]"
     ]
    },
    {
     "name": "stdout",
     "output_type": "stream",
     "text": [
      "MoviePy - Writing audio in /home/fdf7gn/data/UVaVoice/ConversationalSpeech-FunctioningLarynxes/Participant 3/Larynx/2021-12-10_13-01-56.wav\n"
     ]
    },
    {
     "name": "stderr",
     "output_type": "stream",
     "text": [
      "chunk:   0%|          | 0/1431 [00:00<?, ?it/s, now=None]             "
     ]
    },
    {
     "name": "stdout",
     "output_type": "stream",
     "text": [
      "MoviePy - Done.\n",
      "MoviePy - Writing audio in /home/fdf7gn/data/UVaVoice/ConversationalSpeech-FunctioningLarynxes/Participant 1/Electrolarynx/2021-06-23_16-07-45.wav\n"
     ]
    },
    {
     "name": "stderr",
     "output_type": "stream",
     "text": [
      "chunk:   0%|          | 0/1397 [00:00<?, ?it/s, now=None]             "
     ]
    },
    {
     "name": "stdout",
     "output_type": "stream",
     "text": [
      "MoviePy - Done.\n",
      "MoviePy - Writing audio in /home/fdf7gn/data/UVaVoice/ConversationalSpeech-FunctioningLarynxes/Participant 1/Electrolarynx/2021-06-23_16-02-05.wav\n"
     ]
    },
    {
     "name": "stderr",
     "output_type": "stream",
     "text": [
      "chunk:   0%|          | 0/1364 [00:00<?, ?it/s, now=None]             "
     ]
    },
    {
     "name": "stdout",
     "output_type": "stream",
     "text": [
      "MoviePy - Done.\n",
      "MoviePy - Writing audio in /home/fdf7gn/data/UVaVoice/ConversationalSpeech-FunctioningLarynxes/Participant 1/Electrolarynx/2021-06-23_16-09-14.wav\n"
     ]
    },
    {
     "name": "stderr",
     "output_type": "stream",
     "text": [
      "chunk:   0%|          | 0/1395 [00:00<?, ?it/s, now=None]             "
     ]
    },
    {
     "name": "stdout",
     "output_type": "stream",
     "text": [
      "MoviePy - Done.\n",
      "MoviePy - Writing audio in /home/fdf7gn/data/UVaVoice/ConversationalSpeech-FunctioningLarynxes/Participant 1/Electrolarynx/2021-06-23_16-06-34.wav\n"
     ]
    },
    {
     "name": "stderr",
     "output_type": "stream",
     "text": [
      "chunk:   0%|          | 0/1383 [00:00<?, ?it/s, now=None]             "
     ]
    },
    {
     "name": "stdout",
     "output_type": "stream",
     "text": [
      "MoviePy - Done.\n",
      "MoviePy - Writing audio in /home/fdf7gn/data/UVaVoice/ConversationalSpeech-FunctioningLarynxes/Participant 1/Electrolarynx/2021-06-23_15-49-18.wav\n"
     ]
    },
    {
     "name": "stderr",
     "output_type": "stream",
     "text": [
      "chunk:   0%|          | 0/1339 [00:00<?, ?it/s, now=None]             "
     ]
    },
    {
     "name": "stdout",
     "output_type": "stream",
     "text": [
      "MoviePy - Done.\n",
      "MoviePy - Writing audio in /home/fdf7gn/data/UVaVoice/ConversationalSpeech-FunctioningLarynxes/Participant 1/Electrolarynx/2021-06-23_15-58-59.wav\n"
     ]
    },
    {
     "name": "stderr",
     "output_type": "stream",
     "text": [
      "chunk:   0%|          | 0/1354 [00:00<?, ?it/s, now=None]             "
     ]
    },
    {
     "name": "stdout",
     "output_type": "stream",
     "text": [
      "MoviePy - Done.\n",
      "MoviePy - Writing audio in /home/fdf7gn/data/UVaVoice/ConversationalSpeech-FunctioningLarynxes/Participant 1/Electrolarynx/2021-06-23_15-51-43.wav\n"
     ]
    },
    {
     "name": "stderr",
     "output_type": "stream",
     "text": [
      "chunk:   0%|          | 0/1387 [00:00<?, ?it/s, now=None]             "
     ]
    },
    {
     "name": "stdout",
     "output_type": "stream",
     "text": [
      "MoviePy - Done.\n",
      "MoviePy - Writing audio in /home/fdf7gn/data/UVaVoice/ConversationalSpeech-FunctioningLarynxes/Participant 1/Electrolarynx/2021-06-23_16-03-16.wav\n"
     ]
    },
    {
     "name": "stderr",
     "output_type": "stream",
     "text": [
      "chunk:   0%|          | 0/1358 [00:00<?, ?it/s, now=None]             "
     ]
    },
    {
     "name": "stdout",
     "output_type": "stream",
     "text": [
      "MoviePy - Done.\n",
      "MoviePy - Writing audio in /home/fdf7gn/data/UVaVoice/ConversationalSpeech-FunctioningLarynxes/Participant 1/Electrolarynx/2021-06-23_16-00-07.wav\n"
     ]
    },
    {
     "name": "stderr",
     "output_type": "stream",
     "text": [
      "chunk:   0%|          | 0/1361 [00:00<?, ?it/s, now=None]             "
     ]
    },
    {
     "name": "stdout",
     "output_type": "stream",
     "text": [
      "MoviePy - Done.\n",
      "MoviePy - Writing audio in /home/fdf7gn/data/UVaVoice/ConversationalSpeech-FunctioningLarynxes/Participant 1/Electrolarynx/2021-06-23_15-43-40.wav\n"
     ]
    },
    {
     "name": "stderr",
     "output_type": "stream",
     "text": [
      "                                                                      \r"
     ]
    },
    {
     "name": "stdout",
     "output_type": "stream",
     "text": [
      "MoviePy - Done.\n"
     ]
    },
    {
     "name": "stderr",
     "output_type": "stream",
     "text": [
      "chunk:  28%|██▊       | 371/1337 [00:00<00:00, 3707.08it/s, now=None]"
     ]
    },
    {
     "name": "stdout",
     "output_type": "stream",
     "text": [
      "MoviePy - Writing audio in /home/fdf7gn/data/UVaVoice/ConversationalSpeech-FunctioningLarynxes/Participant 1/Larynx/2021-11-05_13-16-38.wav\n"
     ]
    },
    {
     "name": "stderr",
     "output_type": "stream",
     "text": [
      "                                                                      \r"
     ]
    },
    {
     "name": "stdout",
     "output_type": "stream",
     "text": [
      "MoviePy - Done.\n"
     ]
    },
    {
     "name": "stderr",
     "output_type": "stream",
     "text": [
      "chunk:  25%|██▌       | 366/1454 [00:00<00:00, 3658.33it/s, now=None]"
     ]
    },
    {
     "name": "stdout",
     "output_type": "stream",
     "text": [
      "MoviePy - Writing audio in /home/fdf7gn/data/UVaVoice/ConversationalSpeech-FunctioningLarynxes/Participant 1/Larynx/2021-11-05_13-25-58.wav\n"
     ]
    },
    {
     "name": "stderr",
     "output_type": "stream",
     "text": [
      "                                                                      \r"
     ]
    },
    {
     "name": "stdout",
     "output_type": "stream",
     "text": [
      "MoviePy - Done.\n"
     ]
    },
    {
     "name": "stderr",
     "output_type": "stream",
     "text": [
      "chunk:  27%|██▋       | 375/1393 [00:00<00:00, 3748.88it/s, now=None]"
     ]
    },
    {
     "name": "stdout",
     "output_type": "stream",
     "text": [
      "MoviePy - Writing audio in /home/fdf7gn/data/UVaVoice/ConversationalSpeech-FunctioningLarynxes/Participant 1/Larynx/2021-11-05_13-13-09.wav\n"
     ]
    },
    {
     "name": "stderr",
     "output_type": "stream",
     "text": [
      "                                                                      \r"
     ]
    },
    {
     "name": "stdout",
     "output_type": "stream",
     "text": [
      "MoviePy - Done.\n",
      "MoviePy - Writing audio in /home/fdf7gn/data/UVaVoice/ConversationalSpeech-FunctioningLarynxes/Participant 1/Larynx/2021-11-05_13-19-06.wav\n"
     ]
    },
    {
     "name": "stderr",
     "output_type": "stream",
     "text": [
      "                                                                      \r"
     ]
    },
    {
     "name": "stdout",
     "output_type": "stream",
     "text": [
      "MoviePy - Done.\n"
     ]
    },
    {
     "name": "stderr",
     "output_type": "stream",
     "text": [
      "chunk:  27%|██▋       | 371/1370 [00:00<00:00, 3706.05it/s, now=None]"
     ]
    },
    {
     "name": "stdout",
     "output_type": "stream",
     "text": [
      "MoviePy - Writing audio in /home/fdf7gn/data/UVaVoice/ConversationalSpeech-FunctioningLarynxes/Participant 1/Larynx/2021-11-05_13-17-44.wav\n"
     ]
    },
    {
     "name": "stderr",
     "output_type": "stream",
     "text": [
      "                                                                      \r"
     ]
    },
    {
     "name": "stdout",
     "output_type": "stream",
     "text": [
      "MoviePy - Done.\n"
     ]
    },
    {
     "name": "stderr",
     "output_type": "stream",
     "text": [
      "chunk:  26%|██▌       | 359/1376 [00:00<00:00, 3584.66it/s, now=None]"
     ]
    },
    {
     "name": "stdout",
     "output_type": "stream",
     "text": [
      "MoviePy - Writing audio in /home/fdf7gn/data/UVaVoice/ConversationalSpeech-FunctioningLarynxes/Participant 1/Larynx/2021-11-05_13-14-54.wav\n"
     ]
    },
    {
     "name": "stderr",
     "output_type": "stream",
     "text": [
      "                                                                      \r"
     ]
    },
    {
     "name": "stdout",
     "output_type": "stream",
     "text": [
      "MoviePy - Done.\n"
     ]
    },
    {
     "name": "stderr",
     "output_type": "stream",
     "text": [
      "chunk:  28%|██▊       | 378/1329 [00:00<00:00, 3775.60it/s, now=None]"
     ]
    },
    {
     "name": "stdout",
     "output_type": "stream",
     "text": [
      "MoviePy - Writing audio in /home/fdf7gn/data/UVaVoice/ConversationalSpeech-FunctioningLarynxes/Participant 1/Larynx/2021-11-05_13-09-29.wav\n"
     ]
    },
    {
     "name": "stderr",
     "output_type": "stream",
     "text": [
      "                                                                      \r"
     ]
    },
    {
     "name": "stdout",
     "output_type": "stream",
     "text": [
      "MoviePy - Done.\n"
     ]
    },
    {
     "name": "stderr",
     "output_type": "stream",
     "text": [
      "chunk:  27%|██▋       | 373/1374 [00:00<00:00, 3724.79it/s, now=None]"
     ]
    },
    {
     "name": "stdout",
     "output_type": "stream",
     "text": [
      "MoviePy - Writing audio in /home/fdf7gn/data/UVaVoice/ConversationalSpeech-FunctioningLarynxes/Participant 1/Larynx/2021-11-05_13-23-49.wav\n"
     ]
    },
    {
     "name": "stderr",
     "output_type": "stream",
     "text": [
      "                                                                      \r"
     ]
    },
    {
     "name": "stdout",
     "output_type": "stream",
     "text": [
      "MoviePy - Done.\n"
     ]
    },
    {
     "name": "stderr",
     "output_type": "stream",
     "text": [
      "chunk:  28%|██▊       | 374/1337 [00:00<00:00, 3736.63it/s, now=None]"
     ]
    },
    {
     "name": "stdout",
     "output_type": "stream",
     "text": [
      "MoviePy - Writing audio in /home/fdf7gn/data/UVaVoice/ConversationalSpeech-FunctioningLarynxes/Participant 1/Larynx/2021-11-05_13-22-44.wav\n"
     ]
    },
    {
     "name": "stderr",
     "output_type": "stream",
     "text": [
      "                                                                      \r"
     ]
    },
    {
     "name": "stdout",
     "output_type": "stream",
     "text": [
      "MoviePy - Done.\n",
      "MoviePy - Writing audio in /home/fdf7gn/data/UVaVoice/ConversationalSpeech-FunctioningLarynxes/Participant 1/Larynx/2021-11-05_13-11-13.wav\n"
     ]
    },
    {
     "name": "stderr",
     "output_type": "stream",
     "text": [
      "chunk:   0%|          | 0/1435 [00:00<?, ?it/s, now=None]             "
     ]
    },
    {
     "name": "stdout",
     "output_type": "stream",
     "text": [
      "MoviePy - Done.\n",
      "MoviePy - Writing audio in /home/fdf7gn/data/UVaVoice/ConversationalSpeech-FunctioningLarynxes/Participant 4/Electrolarynx/2021-10-06_15-57-49.wav\n"
     ]
    },
    {
     "name": "stderr",
     "output_type": "stream",
     "text": [
      "chunk:   0%|          | 0/1409 [00:00<?, ?it/s, now=None]             "
     ]
    },
    {
     "name": "stdout",
     "output_type": "stream",
     "text": [
      "MoviePy - Done.\n",
      "MoviePy - Writing audio in /home/fdf7gn/data/UVaVoice/ConversationalSpeech-FunctioningLarynxes/Participant 4/Electrolarynx/2021-10-06_15-52-57.wav\n"
     ]
    },
    {
     "name": "stderr",
     "output_type": "stream",
     "text": [
      "                                                                      \r"
     ]
    },
    {
     "name": "stdout",
     "output_type": "stream",
     "text": [
      "MoviePy - Done.\n",
      "MoviePy - Writing audio in /home/fdf7gn/data/UVaVoice/ConversationalSpeech-FunctioningLarynxes/Participant 4/Electrolarynx/2021-10-06_15-40-10.wav\n"
     ]
    },
    {
     "name": "stderr",
     "output_type": "stream",
     "text": [
      "                                                                      \r"
     ]
    },
    {
     "name": "stdout",
     "output_type": "stream",
     "text": [
      "MoviePy - Done.\n"
     ]
    },
    {
     "name": "stderr",
     "output_type": "stream",
     "text": [
      "chunk:  25%|██▌       | 357/1418 [00:00<00:00, 3567.25it/s, now=None]"
     ]
    },
    {
     "name": "stdout",
     "output_type": "stream",
     "text": [
      "MoviePy - Writing audio in /home/fdf7gn/data/UVaVoice/ConversationalSpeech-FunctioningLarynxes/Participant 4/Electrolarynx/2021-10-06_15-43-11.wav\n"
     ]
    },
    {
     "name": "stderr",
     "output_type": "stream",
     "text": [
      "                                                                      \r"
     ]
    },
    {
     "name": "stdout",
     "output_type": "stream",
     "text": [
      "MoviePy - Done.\n",
      "MoviePy - Writing audio in /home/fdf7gn/data/UVaVoice/ConversationalSpeech-FunctioningLarynxes/Participant 4/Electrolarynx/2021-10-06_15-44-58.wav\n"
     ]
    },
    {
     "name": "stderr",
     "output_type": "stream",
     "text": [
      "                                                                      \r"
     ]
    },
    {
     "name": "stdout",
     "output_type": "stream",
     "text": [
      "MoviePy - Done.\n"
     ]
    },
    {
     "name": "stderr",
     "output_type": "stream",
     "text": [
      "chunk:  28%|██▊       | 373/1354 [00:00<00:00, 3726.95it/s, now=None]"
     ]
    },
    {
     "name": "stdout",
     "output_type": "stream",
     "text": [
      "MoviePy - Writing audio in /home/fdf7gn/data/UVaVoice/ConversationalSpeech-FunctioningLarynxes/Participant 4/Electrolarynx/2021-10-06_16-05-49.wav\n"
     ]
    },
    {
     "name": "stderr",
     "output_type": "stream",
     "text": [
      "chunk:   0%|          | 0/1407 [00:00<?, ?it/s, now=None]             "
     ]
    },
    {
     "name": "stdout",
     "output_type": "stream",
     "text": [
      "MoviePy - Done.\n",
      "MoviePy - Writing audio in /home/fdf7gn/data/UVaVoice/ConversationalSpeech-FunctioningLarynxes/Participant 4/Electrolarynx/2021-10-06_15-33-12.wav\n"
     ]
    },
    {
     "name": "stderr",
     "output_type": "stream",
     "text": [
      "chunk:   0%|          | 0/1341 [00:00<?, ?it/s, now=None]             "
     ]
    },
    {
     "name": "stdout",
     "output_type": "stream",
     "text": [
      "MoviePy - Done.\n",
      "MoviePy - Writing audio in /home/fdf7gn/data/UVaVoice/ConversationalSpeech-FunctioningLarynxes/Participant 4/Electrolarynx/2021-10-06_15-37-17.wav\n"
     ]
    },
    {
     "name": "stderr",
     "output_type": "stream",
     "text": [
      "chunk:   0%|          | 0/1326 [00:00<?, ?it/s, now=None]             "
     ]
    },
    {
     "name": "stdout",
     "output_type": "stream",
     "text": [
      "MoviePy - Done.\n",
      "MoviePy - Writing audio in /home/fdf7gn/data/UVaVoice/ConversationalSpeech-FunctioningLarynxes/Participant 4/Electrolarynx/2021-10-06_15-47-00.wav\n"
     ]
    },
    {
     "name": "stderr",
     "output_type": "stream",
     "text": [
      "chunk:   0%|          | 0/1362 [00:00<?, ?it/s, now=None]             "
     ]
    },
    {
     "name": "stdout",
     "output_type": "stream",
     "text": [
      "MoviePy - Done.\n",
      "MoviePy - Writing audio in /home/fdf7gn/data/UVaVoice/ConversationalSpeech-FunctioningLarynxes/Participant 4/Electrolarynx/2021-10-06_15-35-25.wav\n"
     ]
    },
    {
     "name": "stderr",
     "output_type": "stream",
     "text": [
      "                                                                      \r"
     ]
    },
    {
     "name": "stdout",
     "output_type": "stream",
     "text": [
      "MoviePy - Done.\n"
     ]
    },
    {
     "name": "stderr",
     "output_type": "stream",
     "text": [
      "chunk:  27%|██▋       | 357/1341 [00:00<00:00, 3499.89it/s, now=None]"
     ]
    },
    {
     "name": "stdout",
     "output_type": "stream",
     "text": [
      "MoviePy - Writing audio in /home/fdf7gn/data/UVaVoice/ConversationalSpeech-FunctioningLarynxes/Participant 2/Electrolarynx/2021-12-15_14-50-04.wav\n"
     ]
    },
    {
     "name": "stderr",
     "output_type": "stream",
     "text": [
      "chunk:   0%|          | 0/1341 [00:00<?, ?it/s, now=None]             "
     ]
    },
    {
     "name": "stdout",
     "output_type": "stream",
     "text": [
      "MoviePy - Done.\n",
      "MoviePy - Writing audio in /home/fdf7gn/data/UVaVoice/ConversationalSpeech-FunctioningLarynxes/Participant 2/Electrolarynx/2021-12-15_15-04-45.wav\n"
     ]
    },
    {
     "name": "stderr",
     "output_type": "stream",
     "text": [
      "chunk:   0%|          | 0/1338 [00:00<?, ?it/s, now=None]             "
     ]
    },
    {
     "name": "stdout",
     "output_type": "stream",
     "text": [
      "MoviePy - Done.\n",
      "MoviePy - Writing audio in /home/fdf7gn/data/UVaVoice/ConversationalSpeech-FunctioningLarynxes/Participant 2/Electrolarynx/2021-12-15_14-55-16.wav\n"
     ]
    },
    {
     "name": "stderr",
     "output_type": "stream",
     "text": [
      "                                                                      \r"
     ]
    },
    {
     "name": "stdout",
     "output_type": "stream",
     "text": [
      "MoviePy - Done.\n"
     ]
    },
    {
     "name": "stderr",
     "output_type": "stream",
     "text": [
      "chunk:  27%|██▋       | 366/1342 [00:00<00:00, 3656.88it/s, now=None]"
     ]
    },
    {
     "name": "stdout",
     "output_type": "stream",
     "text": [
      "MoviePy - Writing audio in /home/fdf7gn/data/UVaVoice/ConversationalSpeech-FunctioningLarynxes/Participant 2/Electrolarynx/2021-12-15_15-06-58.wav\n"
     ]
    },
    {
     "name": "stderr",
     "output_type": "stream",
     "text": [
      "                                                                      \r"
     ]
    },
    {
     "name": "stdout",
     "output_type": "stream",
     "text": [
      "MoviePy - Done.\n",
      "MoviePy - Writing audio in /home/fdf7gn/data/UVaVoice/ConversationalSpeech-FunctioningLarynxes/Participant 2/Electrolarynx/2021-12-15_15-05-50.wav\n"
     ]
    },
    {
     "name": "stderr",
     "output_type": "stream",
     "text": [
      "                                                                      \r"
     ]
    },
    {
     "name": "stdout",
     "output_type": "stream",
     "text": [
      "MoviePy - Done.\n",
      "MoviePy - Writing audio in /home/fdf7gn/data/UVaVoice/ConversationalSpeech-FunctioningLarynxes/Participant 2/Electrolarynx/2021-12-15_14-58-33.wav\n"
     ]
    },
    {
     "name": "stderr",
     "output_type": "stream",
     "text": [
      "chunk:   0%|          | 0/1363 [00:00<?, ?it/s, now=None]             "
     ]
    },
    {
     "name": "stdout",
     "output_type": "stream",
     "text": [
      "MoviePy - Done.\n",
      "MoviePy - Writing audio in /home/fdf7gn/data/UVaVoice/ConversationalSpeech-FunctioningLarynxes/Participant 2/Electrolarynx/2021-12-15_14-48-57.wav\n"
     ]
    },
    {
     "name": "stderr",
     "output_type": "stream",
     "text": [
      "                                                                      \r"
     ]
    },
    {
     "name": "stdout",
     "output_type": "stream",
     "text": [
      "MoviePy - Done.\n"
     ]
    },
    {
     "name": "stderr",
     "output_type": "stream",
     "text": [
      "chunk:  27%|██▋       | 357/1327 [00:00<00:00, 3529.35it/s, now=None]"
     ]
    },
    {
     "name": "stdout",
     "output_type": "stream",
     "text": [
      "MoviePy - Writing audio in /home/fdf7gn/data/UVaVoice/ConversationalSpeech-FunctioningLarynxes/Participant 2/Electrolarynx/2021-12-15_14-56-21.wav\n"
     ]
    },
    {
     "name": "stderr",
     "output_type": "stream",
     "text": [
      "                                                                      \r"
     ]
    },
    {
     "name": "stdout",
     "output_type": "stream",
     "text": [
      "MoviePy - Done.\n"
     ]
    },
    {
     "name": "stderr",
     "output_type": "stream",
     "text": [
      "chunk:  26%|██▋       | 357/1348 [00:00<00:00, 3492.34it/s, now=None]"
     ]
    },
    {
     "name": "stdout",
     "output_type": "stream",
     "text": [
      "MoviePy - Writing audio in /home/fdf7gn/data/UVaVoice/ConversationalSpeech-FunctioningLarynxes/Participant 2/Electrolarynx/2021-12-15_14-51-10.wav\n"
     ]
    },
    {
     "name": "stderr",
     "output_type": "stream",
     "text": [
      "                                                                      \r"
     ]
    },
    {
     "name": "stdout",
     "output_type": "stream",
     "text": [
      "MoviePy - Done.\n"
     ]
    },
    {
     "name": "stderr",
     "output_type": "stream",
     "text": [
      "chunk:  26%|██▋       | 362/1374 [00:00<00:00, 3614.85it/s, now=None]"
     ]
    },
    {
     "name": "stdout",
     "output_type": "stream",
     "text": [
      "MoviePy - Writing audio in /home/fdf7gn/data/UVaVoice/ConversationalSpeech-FunctioningLarynxes/Participant 2/Electrolarynx/2021-12-15_14-57-26.wav\n"
     ]
    },
    {
     "name": "stderr",
     "output_type": "stream",
     "text": [
      "chunk:   0%|          | 0/1372 [00:00<?, ?it/s, now=None]             "
     ]
    },
    {
     "name": "stdout",
     "output_type": "stream",
     "text": [
      "MoviePy - Done.\n",
      "MoviePy - Writing audio in /home/fdf7gn/data/UVaVoice/ConversationalSpeech-FunctioningLarynxes/Participant 2/Larynx/2021-12-15_15-13-54.wav\n"
     ]
    },
    {
     "name": "stderr",
     "output_type": "stream",
     "text": [
      "chunk:   0%|          | 0/1344 [00:00<?, ?it/s, now=None]             "
     ]
    },
    {
     "name": "stdout",
     "output_type": "stream",
     "text": [
      "MoviePy - Done.\n",
      "MoviePy - Writing audio in /home/fdf7gn/data/UVaVoice/ConversationalSpeech-FunctioningLarynxes/Participant 2/Larynx/2021-12-15_15-12-49.wav\n"
     ]
    },
    {
     "name": "stderr",
     "output_type": "stream",
     "text": [
      "chunk:   0%|          | 0/1336 [00:00<?, ?it/s, now=None]             "
     ]
    },
    {
     "name": "stdout",
     "output_type": "stream",
     "text": [
      "MoviePy - Done.\n",
      "MoviePy - Writing audio in /home/fdf7gn/data/UVaVoice/ConversationalSpeech-FunctioningLarynxes/Participant 2/Larynx/2021-12-15_15-18-57.wav\n"
     ]
    },
    {
     "name": "stderr",
     "output_type": "stream",
     "text": [
      "chunk:   0%|          | 0/1332 [00:00<?, ?it/s, now=None]             "
     ]
    },
    {
     "name": "stdout",
     "output_type": "stream",
     "text": [
      "MoviePy - Done.\n",
      "MoviePy - Writing audio in /home/fdf7gn/data/UVaVoice/ConversationalSpeech-FunctioningLarynxes/Participant 2/Larynx/2021-12-15_15-22-55.wav\n"
     ]
    },
    {
     "name": "stderr",
     "output_type": "stream",
     "text": [
      "chunk:   0%|          | 0/1386 [00:00<?, ?it/s, now=None]             "
     ]
    },
    {
     "name": "stdout",
     "output_type": "stream",
     "text": [
      "MoviePy - Done.\n",
      "MoviePy - Writing audio in /home/fdf7gn/data/UVaVoice/ConversationalSpeech-FunctioningLarynxes/Participant 2/Larynx/2021-12-15_15-17-50.wav\n"
     ]
    },
    {
     "name": "stderr",
     "output_type": "stream",
     "text": [
      "chunk:   0%|          | 0/1342 [00:00<?, ?it/s, now=None]             "
     ]
    },
    {
     "name": "stdout",
     "output_type": "stream",
     "text": [
      "MoviePy - Done.\n",
      "MoviePy - Writing audio in /home/fdf7gn/data/UVaVoice/ConversationalSpeech-FunctioningLarynxes/Participant 2/Larynx/2021-12-15_15-24-00.wav\n"
     ]
    },
    {
     "name": "stderr",
     "output_type": "stream",
     "text": [
      "chunk:   0%|          | 0/1337 [00:00<?, ?it/s, now=None]             "
     ]
    },
    {
     "name": "stdout",
     "output_type": "stream",
     "text": [
      "MoviePy - Done.\n",
      "MoviePy - Writing audio in /home/fdf7gn/data/UVaVoice/ConversationalSpeech-FunctioningLarynxes/Participant 2/Larynx/2021-12-15_15-20-02.wav\n"
     ]
    },
    {
     "name": "stderr",
     "output_type": "stream",
     "text": [
      "chunk:   0%|          | 0/1508 [00:00<?, ?it/s, now=None]             "
     ]
    },
    {
     "name": "stdout",
     "output_type": "stream",
     "text": [
      "MoviePy - Done.\n",
      "MoviePy - Writing audio in /home/fdf7gn/data/UVaVoice/ConversationalSpeech-FunctioningLarynxes/Participant 2/Larynx/2021-12-15_15-16-37.wav\n"
     ]
    },
    {
     "name": "stderr",
     "output_type": "stream",
     "text": [
      "chunk:   0%|          | 0/1349 [00:00<?, ?it/s, now=None]             "
     ]
    },
    {
     "name": "stdout",
     "output_type": "stream",
     "text": [
      "MoviePy - Done.\n",
      "MoviePy - Writing audio in /home/fdf7gn/data/UVaVoice/ConversationalSpeech-FunctioningLarynxes/Participant 2/Larynx/2021-12-15_15-15-01.wav\n"
     ]
    },
    {
     "name": "stderr",
     "output_type": "stream",
     "text": [
      "chunk:   0%|          | 0/1345 [00:00<?, ?it/s, now=None]             "
     ]
    },
    {
     "name": "stdout",
     "output_type": "stream",
     "text": [
      "MoviePy - Done.\n",
      "MoviePy - Writing audio in /home/fdf7gn/data/UVaVoice/ConversationalSpeech-FunctioningLarynxes/Participant 2/Larynx/2021-12-15_15-11-43.wav\n"
     ]
    },
    {
     "name": "stderr",
     "output_type": "stream",
     "text": [
      "                                                                      \r"
     ]
    },
    {
     "name": "stdout",
     "output_type": "stream",
     "text": [
      "MoviePy - Done.\n"
     ]
    },
    {
     "name": "stderr",
     "output_type": "stream",
     "text": [
      "chunk:  24%|██▍       | 357/1468 [00:00<00:00, 3521.55it/s, now=None]"
     ]
    },
    {
     "name": "stdout",
     "output_type": "stream",
     "text": [
      "MoviePy - Writing audio in /home/fdf7gn/data/UVaVoice/ConversationalSpeech-FunctioningLarynxes/Participant 6/2022-05-18_14-37-16.wav\n"
     ]
    },
    {
     "name": "stderr",
     "output_type": "stream",
     "text": [
      "                                                                      \r"
     ]
    },
    {
     "name": "stdout",
     "output_type": "stream",
     "text": [
      "MoviePy - Done.\n"
     ]
    },
    {
     "name": "stderr",
     "output_type": "stream",
     "text": [
      "chunk:  25%|██▍       | 357/1449 [00:00<00:00, 3473.31it/s, now=None]"
     ]
    },
    {
     "name": "stdout",
     "output_type": "stream",
     "text": [
      "MoviePy - Writing audio in /home/fdf7gn/data/UVaVoice/ConversationalSpeech-FunctioningLarynxes/Participant 6/2022-05-18_14-44-06.wav\n"
     ]
    },
    {
     "name": "stderr",
     "output_type": "stream",
     "text": [
      "                                                                      \r"
     ]
    },
    {
     "name": "stdout",
     "output_type": "stream",
     "text": [
      "MoviePy - Done.\n"
     ]
    },
    {
     "name": "stderr",
     "output_type": "stream",
     "text": [
      "chunk:  24%|██▍       | 357/1484 [00:00<00:00, 3479.82it/s, now=None]"
     ]
    },
    {
     "name": "stdout",
     "output_type": "stream",
     "text": [
      "MoviePy - Writing audio in /home/fdf7gn/data/UVaVoice/ConversationalSpeech-FunctioningLarynxes/Participant 6/2022-05-18_14-38-51.wav\n"
     ]
    },
    {
     "name": "stderr",
     "output_type": "stream",
     "text": [
      "                                                                      \r"
     ]
    },
    {
     "name": "stdout",
     "output_type": "stream",
     "text": [
      "MoviePy - Done.\n"
     ]
    },
    {
     "name": "stderr",
     "output_type": "stream",
     "text": [
      "chunk:  26%|██▌       | 360/1406 [00:00<00:00, 3598.07it/s, now=None]"
     ]
    },
    {
     "name": "stdout",
     "output_type": "stream",
     "text": [
      "MoviePy - Writing audio in /home/fdf7gn/data/UVaVoice/ConversationalSpeech-FunctioningLarynxes/Participant 6/2022-05-18_14-32-59.wav\n"
     ]
    },
    {
     "name": "stderr",
     "output_type": "stream",
     "text": [
      "                                                                      \r"
     ]
    },
    {
     "name": "stdout",
     "output_type": "stream",
     "text": [
      "MoviePy - Done.\n"
     ]
    },
    {
     "name": "stderr",
     "output_type": "stream",
     "text": [
      "chunk:  26%|██▌       | 382/1480 [00:00<00:00, 3814.07it/s, now=None]"
     ]
    },
    {
     "name": "stdout",
     "output_type": "stream",
     "text": [
      "MoviePy - Writing audio in /home/fdf7gn/data/UVaVoice/ConversationalSpeech-FunctioningLarynxes/Participant 6/2022-05-18_14-40-02.wav\n"
     ]
    },
    {
     "name": "stderr",
     "output_type": "stream",
     "text": [
      "                                                                      \r"
     ]
    },
    {
     "name": "stdout",
     "output_type": "stream",
     "text": [
      "MoviePy - Done.\n"
     ]
    },
    {
     "name": "stderr",
     "output_type": "stream",
     "text": [
      "chunk:  25%|██▌       | 365/1456 [00:00<00:00, 3646.88it/s, now=None]"
     ]
    },
    {
     "name": "stdout",
     "output_type": "stream",
     "text": [
      "MoviePy - Writing audio in /home/fdf7gn/data/UVaVoice/ConversationalSpeech-FunctioningLarynxes/Participant 6/2022-05-18_14-42-45.wav\n"
     ]
    },
    {
     "name": "stderr",
     "output_type": "stream",
     "text": [
      "                                                                      \r"
     ]
    },
    {
     "name": "stdout",
     "output_type": "stream",
     "text": [
      "MoviePy - Done.\n"
     ]
    },
    {
     "name": "stderr",
     "output_type": "stream",
     "text": [
      "chunk:  17%|█▋        | 255/1460 [00:00<00:00, 2526.32it/s, now=None]"
     ]
    },
    {
     "name": "stdout",
     "output_type": "stream",
     "text": [
      "MoviePy - Writing audio in /home/fdf7gn/data/UVaVoice/ConversationalSpeech-FunctioningLarynxes/Participant 6/2022-05-18_14-31-09.wav\n"
     ]
    },
    {
     "name": "stderr",
     "output_type": "stream",
     "text": [
      "                                                                      \r"
     ]
    },
    {
     "name": "stdout",
     "output_type": "stream",
     "text": [
      "MoviePy - Done.\n"
     ]
    },
    {
     "name": "stderr",
     "output_type": "stream",
     "text": [
      "chunk:  25%|██▍       | 357/1432 [00:00<00:00, 3483.02it/s, now=None]"
     ]
    },
    {
     "name": "stdout",
     "output_type": "stream",
     "text": [
      "MoviePy - Writing audio in /home/fdf7gn/data/UVaVoice/ConversationalSpeech-FunctioningLarynxes/Participant 6/2022-05-18_14-34-28.wav\n"
     ]
    },
    {
     "name": "stderr",
     "output_type": "stream",
     "text": [
      "                                                                      \r"
     ]
    },
    {
     "name": "stdout",
     "output_type": "stream",
     "text": [
      "MoviePy - Done.\n"
     ]
    },
    {
     "name": "stderr",
     "output_type": "stream",
     "text": [
      "chunk:  25%|██▍       | 368/1477 [00:00<00:00, 3675.56it/s, now=None]"
     ]
    },
    {
     "name": "stdout",
     "output_type": "stream",
     "text": [
      "MoviePy - Writing audio in /home/fdf7gn/data/UVaVoice/ConversationalSpeech-FunctioningLarynxes/Participant 6/2022-05-18_14-35-51.wav\n"
     ]
    },
    {
     "name": "stderr",
     "output_type": "stream",
     "text": [
      "                                                                      \r"
     ]
    },
    {
     "name": "stdout",
     "output_type": "stream",
     "text": [
      "MoviePy - Done.\n"
     ]
    },
    {
     "name": "stderr",
     "output_type": "stream",
     "text": [
      "chunk:  24%|██▍       | 364/1504 [00:00<00:00, 3638.85it/s, now=None]"
     ]
    },
    {
     "name": "stdout",
     "output_type": "stream",
     "text": [
      "MoviePy - Writing audio in /home/fdf7gn/data/UVaVoice/ConversationalSpeech-FunctioningLarynxes/Participant 6/2022-05-18_14-45-25.wav\n"
     ]
    },
    {
     "name": "stderr",
     "output_type": "stream",
     "text": [
      "                                                                      \r"
     ]
    },
    {
     "name": "stdout",
     "output_type": "stream",
     "text": [
      "MoviePy - Done.\n"
     ]
    },
    {
     "name": "stderr",
     "output_type": "stream",
     "text": [
      "                                                        "
     ]
    },
    {
     "name": "stdout",
     "output_type": "stream",
     "text": [
      "MoviePy - Writing audio in /home/fdf7gn/data/UVaVoice/Participant1/Electrolarynx/6.wav\n",
      "MoviePy - Done.\n"
     ]
    },
    {
     "name": "stderr",
     "output_type": "stream",
     "text": [
      "chunk:  28%|██▊       | 255/920 [00:00<00:00, 2303.04it/s, now=None]"
     ]
    },
    {
     "name": "stdout",
     "output_type": "stream",
     "text": [
      "MoviePy - Writing audio in /home/fdf7gn/data/UVaVoice/Participant1/Electrolarynx/11.wav\n"
     ]
    },
    {
     "name": "stderr",
     "output_type": "stream",
     "text": [
      "                                                                    \r"
     ]
    },
    {
     "name": "stdout",
     "output_type": "stream",
     "text": [
      "MoviePy - Done.\n"
     ]
    },
    {
     "name": "stderr",
     "output_type": "stream",
     "text": [
      "chunk:  22%|██▏       | 206/929 [00:00<00:00, 2056.59it/s, now=None]"
     ]
    },
    {
     "name": "stdout",
     "output_type": "stream",
     "text": [
      "MoviePy - Writing audio in /home/fdf7gn/data/UVaVoice/Participant1/Electrolarynx/8.wav\n"
     ]
    },
    {
     "name": "stderr",
     "output_type": "stream",
     "text": [
      "                                                                    \r"
     ]
    },
    {
     "name": "stdout",
     "output_type": "stream",
     "text": [
      "MoviePy - Done.\n"
     ]
    },
    {
     "name": "stderr",
     "output_type": "stream",
     "text": [
      "chunk:  19%|█▊        | 204/1090 [00:00<00:00, 1633.53it/s, now=None]"
     ]
    },
    {
     "name": "stdout",
     "output_type": "stream",
     "text": [
      "MoviePy - Writing audio in /home/fdf7gn/data/UVaVoice/Participant1/Electrolarynx/2.wav\n"
     ]
    },
    {
     "name": "stderr",
     "output_type": "stream",
     "text": [
      "                                                                     \r"
     ]
    },
    {
     "name": "stdout",
     "output_type": "stream",
     "text": [
      "MoviePy - Done.\n"
     ]
    },
    {
     "name": "stderr",
     "output_type": "stream",
     "text": [
      "chunk:  26%|██▌       | 255/984 [00:00<00:00, 2232.31it/s, now=None]"
     ]
    },
    {
     "name": "stdout",
     "output_type": "stream",
     "text": [
      "MoviePy - Writing audio in /home/fdf7gn/data/UVaVoice/Participant1/Electrolarynx/3.wav\n"
     ]
    },
    {
     "name": "stderr",
     "output_type": "stream",
     "text": [
      "                                                                    \r"
     ]
    },
    {
     "name": "stdout",
     "output_type": "stream",
     "text": [
      "MoviePy - Done.\n",
      "MoviePy - Writing audio in /home/fdf7gn/data/UVaVoice/Participant1/Electrolarynx/7.wav\n"
     ]
    },
    {
     "name": "stderr",
     "output_type": "stream",
     "text": [
      "chunk:   0%|          | 0/887 [00:00<?, ?it/s, now=None]            "
     ]
    },
    {
     "name": "stdout",
     "output_type": "stream",
     "text": [
      "MoviePy - Done.\n",
      "MoviePy - Writing audio in /home/fdf7gn/data/UVaVoice/Participant1/Electrolarynx/12.wav\n"
     ]
    },
    {
     "name": "stderr",
     "output_type": "stream",
     "text": [
      "                                                                    \r"
     ]
    },
    {
     "name": "stdout",
     "output_type": "stream",
     "text": [
      "MoviePy - Done.\n"
     ]
    },
    {
     "name": "stderr",
     "output_type": "stream",
     "text": [
      "chunk:  34%|███▍      | 314/917 [00:00<00:00, 3135.50it/s, now=None]"
     ]
    },
    {
     "name": "stdout",
     "output_type": "stream",
     "text": [
      "MoviePy - Writing audio in /home/fdf7gn/data/UVaVoice/Participant1/Electrolarynx/10.wav\n"
     ]
    },
    {
     "name": "stderr",
     "output_type": "stream",
     "text": [
      "                                                                    \r"
     ]
    },
    {
     "name": "stdout",
     "output_type": "stream",
     "text": [
      "MoviePy - Done.\n"
     ]
    },
    {
     "name": "stderr",
     "output_type": "stream",
     "text": [
      "chunk:  30%|██▉       | 287/966 [00:00<00:00, 2865.10it/s, now=None]"
     ]
    },
    {
     "name": "stdout",
     "output_type": "stream",
     "text": [
      "MoviePy - Writing audio in /home/fdf7gn/data/UVaVoice/Participant1/Electrolarynx/4.wav\n"
     ]
    },
    {
     "name": "stderr",
     "output_type": "stream",
     "text": [
      "                                                                    \r"
     ]
    },
    {
     "name": "stdout",
     "output_type": "stream",
     "text": [
      "MoviePy - Done.\n"
     ]
    },
    {
     "name": "stderr",
     "output_type": "stream",
     "text": [
      "chunk:  26%|██▌       | 255/978 [00:00<00:00, 2024.91it/s, now=None]"
     ]
    },
    {
     "name": "stdout",
     "output_type": "stream",
     "text": [
      "MoviePy - Writing audio in /home/fdf7gn/data/UVaVoice/Participant1/Electrolarynx/5.wav\n"
     ]
    },
    {
     "name": "stderr",
     "output_type": "stream",
     "text": [
      "                                                                    \r"
     ]
    },
    {
     "name": "stdout",
     "output_type": "stream",
     "text": [
      "MoviePy - Done.\n"
     ]
    },
    {
     "name": "stderr",
     "output_type": "stream",
     "text": [
      "chunk:  29%|██▉       | 279/950 [00:00<00:00, 2784.11it/s, now=None]"
     ]
    },
    {
     "name": "stdout",
     "output_type": "stream",
     "text": [
      "MoviePy - Writing audio in /home/fdf7gn/data/UVaVoice/Participant1/Electrolarynx/9.wav\n"
     ]
    },
    {
     "name": "stderr",
     "output_type": "stream",
     "text": [
      "                                                                    \r"
     ]
    },
    {
     "name": "stdout",
     "output_type": "stream",
     "text": [
      "MoviePy - Done.\n"
     ]
    },
    {
     "name": "stderr",
     "output_type": "stream",
     "text": [
      "chunk:  47%|████▋     | 253/539 [00:00<00:00, 2526.18it/s, now=None]"
     ]
    },
    {
     "name": "stdout",
     "output_type": "stream",
     "text": [
      "MoviePy - Writing audio in /home/fdf7gn/data/UVaVoice/Participant1/Larynx/17.wav\n"
     ]
    },
    {
     "name": "stderr",
     "output_type": "stream",
     "text": [
      "                                                                    \r"
     ]
    },
    {
     "name": "stdout",
     "output_type": "stream",
     "text": [
      "MoviePy - Done.\n"
     ]
    },
    {
     "name": "stderr",
     "output_type": "stream",
     "text": [
      "chunk:  39%|███▉      | 204/522 [00:00<00:00, 1902.51it/s, now=None]"
     ]
    },
    {
     "name": "stdout",
     "output_type": "stream",
     "text": [
      "MoviePy - Writing audio in /home/fdf7gn/data/UVaVoice/Participant1/Larynx/15.wav\n"
     ]
    },
    {
     "name": "stderr",
     "output_type": "stream",
     "text": [
      "                                                                    \r"
     ]
    },
    {
     "name": "stdout",
     "output_type": "stream",
     "text": [
      "MoviePy - Done.\n"
     ]
    },
    {
     "name": "stderr",
     "output_type": "stream",
     "text": [
      "chunk:  53%|█████▎    | 248/467 [00:00<00:00, 2478.97it/s, now=None]"
     ]
    },
    {
     "name": "stdout",
     "output_type": "stream",
     "text": [
      "MoviePy - Writing audio in /home/fdf7gn/data/UVaVoice/Participant1/Larynx/23.wav\n"
     ]
    },
    {
     "name": "stderr",
     "output_type": "stream",
     "text": [
      "                                                                    \r"
     ]
    },
    {
     "name": "stdout",
     "output_type": "stream",
     "text": [
      "MoviePy - Done.\n"
     ]
    },
    {
     "name": "stderr",
     "output_type": "stream",
     "text": [
      "chunk:  39%|███▉      | 204/523 [00:00<00:00, 1914.09it/s, now=None]"
     ]
    },
    {
     "name": "stdout",
     "output_type": "stream",
     "text": [
      "MoviePy - Writing audio in /home/fdf7gn/data/UVaVoice/Participant1/Larynx/21.wav\n"
     ]
    },
    {
     "name": "stderr",
     "output_type": "stream",
     "text": [
      "                                                                    \r"
     ]
    },
    {
     "name": "stdout",
     "output_type": "stream",
     "text": [
      "MoviePy - Done.\n"
     ]
    },
    {
     "name": "stderr",
     "output_type": "stream",
     "text": [
      "chunk:  53%|█████▎    | 255/485 [00:00<00:00, 2537.79it/s, now=None]"
     ]
    },
    {
     "name": "stdout",
     "output_type": "stream",
     "text": [
      "MoviePy - Writing audio in /home/fdf7gn/data/UVaVoice/Participant1/Larynx/20.wav\n"
     ]
    },
    {
     "name": "stderr",
     "output_type": "stream",
     "text": [
      "                                                                    \r"
     ]
    },
    {
     "name": "stdout",
     "output_type": "stream",
     "text": [
      "MoviePy - Done.\n"
     ]
    },
    {
     "name": "stderr",
     "output_type": "stream",
     "text": [
      "                                                       "
     ]
    },
    {
     "name": "stdout",
     "output_type": "stream",
     "text": [
      "MoviePy - Writing audio in /home/fdf7gn/data/UVaVoice/Participant1/Larynx/14.wav\n",
      "MoviePy - Done.\n"
     ]
    },
    {
     "name": "stderr",
     "output_type": "stream",
     "text": [
      "chunk:  42%|████▏     | 204/485 [00:00<00:00, 2035.83it/s, now=None]"
     ]
    },
    {
     "name": "stdout",
     "output_type": "stream",
     "text": [
      "MoviePy - Writing audio in /home/fdf7gn/data/UVaVoice/Participant1/Larynx/19.wav\n"
     ]
    },
    {
     "name": "stderr",
     "output_type": "stream",
     "text": [
      "                                                                    \r"
     ]
    },
    {
     "name": "stdout",
     "output_type": "stream",
     "text": [
      "MoviePy - Done.\n"
     ]
    },
    {
     "name": "stderr",
     "output_type": "stream",
     "text": [
      "chunk:  33%|███▎      | 153/465 [00:00<00:00, 1491.40it/s, now=None]"
     ]
    },
    {
     "name": "stdout",
     "output_type": "stream",
     "text": [
      "MoviePy - Writing audio in /home/fdf7gn/data/UVaVoice/Participant1/Larynx/22.wav\n"
     ]
    },
    {
     "name": "stderr",
     "output_type": "stream",
     "text": [
      "                                                                    \r"
     ]
    },
    {
     "name": "stdout",
     "output_type": "stream",
     "text": [
      "MoviePy - Done.\n"
     ]
    },
    {
     "name": "stderr",
     "output_type": "stream",
     "text": [
      "chunk:  58%|█████▊    | 306/532 [00:00<00:00, 2975.30it/s, now=None]"
     ]
    },
    {
     "name": "stdout",
     "output_type": "stream",
     "text": [
      "MoviePy - Writing audio in /home/fdf7gn/data/UVaVoice/Participant1/Larynx/18.wav\n"
     ]
    },
    {
     "name": "stderr",
     "output_type": "stream",
     "text": [
      "                                                                    \r"
     ]
    },
    {
     "name": "stdout",
     "output_type": "stream",
     "text": [
      "MoviePy - Done.\n"
     ]
    },
    {
     "name": "stderr",
     "output_type": "stream",
     "text": [
      "chunk:  40%|████      | 204/508 [00:00<00:00, 1796.04it/s, now=None]"
     ]
    },
    {
     "name": "stdout",
     "output_type": "stream",
     "text": [
      "MoviePy - Writing audio in /home/fdf7gn/data/UVaVoice/Participant1/Larynx/13.wav\n"
     ]
    },
    {
     "name": "stderr",
     "output_type": "stream",
     "text": [
      "                                                                    \r"
     ]
    },
    {
     "name": "stdout",
     "output_type": "stream",
     "text": [
      "MoviePy - Done.\n"
     ]
    },
    {
     "name": "stderr",
     "output_type": "stream",
     "text": [
      "chunk:  46%|████▌     | 255/557 [00:00<00:00, 2188.71it/s, now=None]"
     ]
    },
    {
     "name": "stdout",
     "output_type": "stream",
     "text": [
      "MoviePy - Writing audio in /home/fdf7gn/data/UVaVoice/Participant1/Larynx/16.wav\n"
     ]
    },
    {
     "name": "stderr",
     "output_type": "stream",
     "text": [
      "                                                                    \r"
     ]
    },
    {
     "name": "stdout",
     "output_type": "stream",
     "text": [
      "MoviePy - Done.\n"
     ]
    },
    {
     "name": "stderr",
     "output_type": "stream",
     "text": [
      "chunk:  13%|█▎        | 189/1507 [00:00<00:00, 1889.10it/s, now=None]"
     ]
    },
    {
     "name": "stdout",
     "output_type": "stream",
     "text": [
      "MoviePy - Writing audio in /home/fdf7gn/data/UVaVoice/Participant3/Electrolarynx/50.wav\n"
     ]
    },
    {
     "name": "stderr",
     "output_type": "stream",
     "text": [
      "                                                                      \r"
     ]
    },
    {
     "name": "stdout",
     "output_type": "stream",
     "text": [
      "MoviePy - Done.\n"
     ]
    },
    {
     "name": "stderr",
     "output_type": "stream",
     "text": [
      "chunk:  16%|█▋        | 275/1692 [00:00<00:00, 2748.04it/s, now=None]"
     ]
    },
    {
     "name": "stdout",
     "output_type": "stream",
     "text": [
      "MoviePy - Writing audio in /home/fdf7gn/data/UVaVoice/Participant3/Electrolarynx/47.wav\n"
     ]
    },
    {
     "name": "stderr",
     "output_type": "stream",
     "text": [
      "                                                                      \r"
     ]
    },
    {
     "name": "stdout",
     "output_type": "stream",
     "text": [
      "MoviePy - Done.\n"
     ]
    },
    {
     "name": "stderr",
     "output_type": "stream",
     "text": [
      "chunk:  14%|█▎        | 204/1484 [00:00<00:00, 1968.87it/s, now=None]"
     ]
    },
    {
     "name": "stdout",
     "output_type": "stream",
     "text": [
      "MoviePy - Writing audio in /home/fdf7gn/data/UVaVoice/Participant3/Electrolarynx/49.wav\n"
     ]
    },
    {
     "name": "stderr",
     "output_type": "stream",
     "text": [
      "                                                                      \r"
     ]
    },
    {
     "name": "stdout",
     "output_type": "stream",
     "text": [
      "MoviePy - Done.\n"
     ]
    },
    {
     "name": "stderr",
     "output_type": "stream",
     "text": [
      "chunk:  11%|█▏        | 204/1792 [00:00<00:01, 1341.37it/s, now=None]"
     ]
    },
    {
     "name": "stdout",
     "output_type": "stream",
     "text": [
      "MoviePy - Writing audio in /home/fdf7gn/data/UVaVoice/Participant3/Electrolarynx/46.wav\n"
     ]
    },
    {
     "name": "stderr",
     "output_type": "stream",
     "text": [
      "                                                                      \r"
     ]
    },
    {
     "name": "stdout",
     "output_type": "stream",
     "text": [
      "MoviePy - Done.\n"
     ]
    },
    {
     "name": "stderr",
     "output_type": "stream",
     "text": [
      "chunk:  12%|█▏        | 204/1659 [00:00<00:00, 1959.13it/s, now=None]"
     ]
    },
    {
     "name": "stdout",
     "output_type": "stream",
     "text": [
      "MoviePy - Writing audio in /home/fdf7gn/data/UVaVoice/Participant3/Electrolarynx/48.wav\n"
     ]
    },
    {
     "name": "stderr",
     "output_type": "stream",
     "text": [
      "                                                                      \r"
     ]
    },
    {
     "name": "stdout",
     "output_type": "stream",
     "text": [
      "MoviePy - Done.\n"
     ]
    },
    {
     "name": "stderr",
     "output_type": "stream",
     "text": [
      "chunk:  10%|█         | 204/1971 [00:00<00:00, 2004.15it/s, now=None]"
     ]
    },
    {
     "name": "stdout",
     "output_type": "stream",
     "text": [
      "MoviePy - Writing audio in /home/fdf7gn/data/UVaVoice/Participant3/Electrolarynx/45.wav\n"
     ]
    },
    {
     "name": "stderr",
     "output_type": "stream",
     "text": [
      "                                                                      \r"
     ]
    },
    {
     "name": "stdout",
     "output_type": "stream",
     "text": [
      "MoviePy - Done.\n"
     ]
    },
    {
     "name": "stderr",
     "output_type": "stream",
     "text": [
      "chunk:  17%|█▋        | 255/1531 [00:00<00:00, 2079.75it/s, now=None]"
     ]
    },
    {
     "name": "stdout",
     "output_type": "stream",
     "text": [
      "MoviePy - Writing audio in /home/fdf7gn/data/UVaVoice/Participant3/Electrolarynx/54.wav\n"
     ]
    },
    {
     "name": "stderr",
     "output_type": "stream",
     "text": [
      "                                                                      \r"
     ]
    },
    {
     "name": "stdout",
     "output_type": "stream",
     "text": [
      "MoviePy - Done.\n"
     ]
    },
    {
     "name": "stderr",
     "output_type": "stream",
     "text": [
      "chunk:  21%|██        | 306/1457 [00:00<00:00, 3052.09it/s, now=None]"
     ]
    },
    {
     "name": "stdout",
     "output_type": "stream",
     "text": [
      "MoviePy - Writing audio in /home/fdf7gn/data/UVaVoice/Participant3/Electrolarynx/53.wav\n"
     ]
    },
    {
     "name": "stderr",
     "output_type": "stream",
     "text": [
      "                                                                      \r"
     ]
    },
    {
     "name": "stdout",
     "output_type": "stream",
     "text": [
      "MoviePy - Done.\n"
     ]
    },
    {
     "name": "stderr",
     "output_type": "stream",
     "text": [
      "chunk:  23%|██▎       | 357/1562 [00:00<00:00, 3472.29it/s, now=None]"
     ]
    },
    {
     "name": "stdout",
     "output_type": "stream",
     "text": [
      "MoviePy - Writing audio in /home/fdf7gn/data/UVaVoice/Participant3/Electrolarynx/51.wav\n"
     ]
    },
    {
     "name": "stderr",
     "output_type": "stream",
     "text": [
      "                                                                      \r"
     ]
    },
    {
     "name": "stdout",
     "output_type": "stream",
     "text": [
      "MoviePy - Done.\n"
     ]
    },
    {
     "name": "stderr",
     "output_type": "stream",
     "text": [
      "chunk:  10%|█         | 153/1487 [00:00<00:01, 988.67it/s, now=None]"
     ]
    },
    {
     "name": "stdout",
     "output_type": "stream",
     "text": [
      "MoviePy - Writing audio in /home/fdf7gn/data/UVaVoice/Participant3/Electrolarynx/52.wav\n"
     ]
    },
    {
     "name": "stderr",
     "output_type": "stream",
     "text": [
      "                                                                      \r"
     ]
    },
    {
     "name": "stdout",
     "output_type": "stream",
     "text": [
      "MoviePy - Done.\n"
     ]
    },
    {
     "name": "stderr",
     "output_type": "stream",
     "text": [
      "chunk:   0%|          | 0/774 [00:00<?, ?it/s, now=None]"
     ]
    },
    {
     "name": "stdout",
     "output_type": "stream",
     "text": [
      "MoviePy - Writing audio in /home/fdf7gn/data/UVaVoice/Participant3/Larynx/62.wav\n"
     ]
    },
    {
     "name": "stderr",
     "output_type": "stream",
     "text": [
      "                                                                    \r"
     ]
    },
    {
     "name": "stdout",
     "output_type": "stream",
     "text": [
      "MoviePy - Done.\n"
     ]
    },
    {
     "name": "stderr",
     "output_type": "stream",
     "text": [
      "chunk:  33%|███▎      | 255/777 [00:00<00:00, 2471.00it/s, now=None]"
     ]
    },
    {
     "name": "stdout",
     "output_type": "stream",
     "text": [
      "MoviePy - Writing audio in /home/fdf7gn/data/UVaVoice/Participant3/Larynx/56.wav\n"
     ]
    },
    {
     "name": "stderr",
     "output_type": "stream",
     "text": [
      "                                                                    \r"
     ]
    },
    {
     "name": "stdout",
     "output_type": "stream",
     "text": [
      "MoviePy - Done.\n"
     ]
    },
    {
     "name": "stderr",
     "output_type": "stream",
     "text": [
      "chunk:  32%|███▏      | 255/787 [00:00<00:00, 1753.05it/s, now=None]"
     ]
    },
    {
     "name": "stdout",
     "output_type": "stream",
     "text": [
      "MoviePy - Writing audio in /home/fdf7gn/data/UVaVoice/Participant3/Larynx/61.wav\n"
     ]
    },
    {
     "name": "stderr",
     "output_type": "stream",
     "text": [
      "                                                                    \r"
     ]
    },
    {
     "name": "stdout",
     "output_type": "stream",
     "text": [
      "MoviePy - Done.\n"
     ]
    },
    {
     "name": "stderr",
     "output_type": "stream",
     "text": [
      "chunk:  29%|██▉       | 226/773 [00:00<00:00, 2256.08it/s, now=None]"
     ]
    },
    {
     "name": "stdout",
     "output_type": "stream",
     "text": [
      "MoviePy - Writing audio in /home/fdf7gn/data/UVaVoice/Participant3/Larynx/60.wav\n"
     ]
    },
    {
     "name": "stderr",
     "output_type": "stream",
     "text": [
      "                                                                    \r"
     ]
    },
    {
     "name": "stdout",
     "output_type": "stream",
     "text": [
      "MoviePy - Done.\n"
     ]
    },
    {
     "name": "stderr",
     "output_type": "stream",
     "text": [
      "chunk:  32%|███▏      | 255/806 [00:00<00:00, 2075.37it/s, now=None]"
     ]
    },
    {
     "name": "stdout",
     "output_type": "stream",
     "text": [
      "MoviePy - Writing audio in /home/fdf7gn/data/UVaVoice/Participant3/Larynx/55.wav\n"
     ]
    },
    {
     "name": "stderr",
     "output_type": "stream",
     "text": [
      "                                                                    \r"
     ]
    },
    {
     "name": "stdout",
     "output_type": "stream",
     "text": [
      "MoviePy - Done.\n"
     ]
    },
    {
     "name": "stderr",
     "output_type": "stream",
     "text": [
      "chunk:  30%|███       | 235/774 [00:00<00:00, 2346.38it/s, now=None]"
     ]
    },
    {
     "name": "stdout",
     "output_type": "stream",
     "text": [
      "MoviePy - Writing audio in /home/fdf7gn/data/UVaVoice/Participant3/Larynx/63.wav\n"
     ]
    },
    {
     "name": "stderr",
     "output_type": "stream",
     "text": [
      "                                                                    \r"
     ]
    },
    {
     "name": "stdout",
     "output_type": "stream",
     "text": [
      "MoviePy - Done.\n"
     ]
    },
    {
     "name": "stderr",
     "output_type": "stream",
     "text": [
      "chunk:  32%|███▏      | 255/803 [00:00<00:00, 2532.15it/s, now=None]"
     ]
    },
    {
     "name": "stdout",
     "output_type": "stream",
     "text": [
      "MoviePy - Writing audio in /home/fdf7gn/data/UVaVoice/Participant3/Larynx/58.wav\n"
     ]
    },
    {
     "name": "stderr",
     "output_type": "stream",
     "text": [
      "                                                                    \r"
     ]
    },
    {
     "name": "stdout",
     "output_type": "stream",
     "text": [
      "MoviePy - Done.\n"
     ]
    },
    {
     "name": "stderr",
     "output_type": "stream",
     "text": [
      "chunk:  38%|███▊      | 294/773 [00:00<00:00, 2935.97it/s, now=None]"
     ]
    },
    {
     "name": "stdout",
     "output_type": "stream",
     "text": [
      "MoviePy - Writing audio in /home/fdf7gn/data/UVaVoice/Participant3/Larynx/59.wav\n"
     ]
    },
    {
     "name": "stderr",
     "output_type": "stream",
     "text": [
      "                                                                    \r"
     ]
    },
    {
     "name": "stdout",
     "output_type": "stream",
     "text": [
      "MoviePy - Done.\n"
     ]
    },
    {
     "name": "stderr",
     "output_type": "stream",
     "text": [
      "chunk:  39%|███▉      | 292/747 [00:00<00:00, 2915.69it/s, now=None]"
     ]
    },
    {
     "name": "stdout",
     "output_type": "stream",
     "text": [
      "MoviePy - Writing audio in /home/fdf7gn/data/UVaVoice/Participant3/Larynx/64.wav\n"
     ]
    },
    {
     "name": "stderr",
     "output_type": "stream",
     "text": [
      "                                                                    \r"
     ]
    },
    {
     "name": "stdout",
     "output_type": "stream",
     "text": [
      "MoviePy - Done.\n"
     ]
    },
    {
     "name": "stderr",
     "output_type": "stream",
     "text": [
      "chunk:  39%|███▉      | 311/790 [00:00<00:00, 3104.45it/s, now=None]"
     ]
    },
    {
     "name": "stdout",
     "output_type": "stream",
     "text": [
      "MoviePy - Writing audio in /home/fdf7gn/data/UVaVoice/Participant3/Larynx/57.wav\n"
     ]
    },
    {
     "name": "stderr",
     "output_type": "stream",
     "text": [
      "                                                                    \r"
     ]
    },
    {
     "name": "stdout",
     "output_type": "stream",
     "text": [
      "MoviePy - Done.\n"
     ]
    },
    {
     "name": "stderr",
     "output_type": "stream",
     "text": [
      "chunk:  28%|██▊       | 255/927 [00:00<00:00, 2497.21it/s, now=None]"
     ]
    },
    {
     "name": "stdout",
     "output_type": "stream",
     "text": [
      "MoviePy - Writing audio in /home/fdf7gn/data/UVaVoice/Participant2/Electrolarynx/33.wav\n"
     ]
    },
    {
     "name": "stderr",
     "output_type": "stream",
     "text": [
      "                                                                    \r"
     ]
    },
    {
     "name": "stdout",
     "output_type": "stream",
     "text": [
      "MoviePy - Done.\n"
     ]
    },
    {
     "name": "stderr",
     "output_type": "stream",
     "text": [
      "chunk:  30%|██▉       | 287/967 [00:00<00:00, 2865.95it/s, now=None]"
     ]
    },
    {
     "name": "stdout",
     "output_type": "stream",
     "text": [
      "MoviePy - Writing audio in /home/fdf7gn/data/UVaVoice/Participant2/Electrolarynx/24.wav\n"
     ]
    },
    {
     "name": "stderr",
     "output_type": "stream",
     "text": [
      "                                                                    \r"
     ]
    },
    {
     "name": "stdout",
     "output_type": "stream",
     "text": [
      "MoviePy - Done.\n"
     ]
    },
    {
     "name": "stderr",
     "output_type": "stream",
     "text": [
      "chunk:  27%|██▋       | 255/932 [00:00<00:00, 2291.20it/s, now=None]"
     ]
    },
    {
     "name": "stdout",
     "output_type": "stream",
     "text": [
      "MoviePy - Writing audio in /home/fdf7gn/data/UVaVoice/Participant2/Electrolarynx/32.wav\n"
     ]
    },
    {
     "name": "stderr",
     "output_type": "stream",
     "text": [
      "                                                                    \r"
     ]
    },
    {
     "name": "stdout",
     "output_type": "stream",
     "text": [
      "MoviePy - Done.\n"
     ]
    },
    {
     "name": "stderr",
     "output_type": "stream",
     "text": [
      "chunk:  28%|██▊       | 270/969 [00:00<00:00, 2697.30it/s, now=None]"
     ]
    },
    {
     "name": "stdout",
     "output_type": "stream",
     "text": [
      "MoviePy - Writing audio in /home/fdf7gn/data/UVaVoice/Participant2/Electrolarynx/30.wav\n"
     ]
    },
    {
     "name": "stderr",
     "output_type": "stream",
     "text": [
      "                                                                    \r"
     ]
    },
    {
     "name": "stdout",
     "output_type": "stream",
     "text": [
      "MoviePy - Done.\n"
     ]
    },
    {
     "name": "stderr",
     "output_type": "stream",
     "text": [
      "chunk:  26%|██▌       | 258/990 [00:00<00:00, 2575.40it/s, now=None]"
     ]
    },
    {
     "name": "stdout",
     "output_type": "stream",
     "text": [
      "MoviePy - Writing audio in /home/fdf7gn/data/UVaVoice/Participant2/Electrolarynx/28.wav\n"
     ]
    },
    {
     "name": "stderr",
     "output_type": "stream",
     "text": [
      "                                                                    \r"
     ]
    },
    {
     "name": "stdout",
     "output_type": "stream",
     "text": [
      "MoviePy - Done.\n"
     ]
    },
    {
     "name": "stderr",
     "output_type": "stream",
     "text": [
      "chunk:  17%|█▋        | 102/586 [00:00<00:00, 849.46it/s, now=None]"
     ]
    },
    {
     "name": "stdout",
     "output_type": "stream",
     "text": [
      "MoviePy - Writing audio in /home/fdf7gn/data/UVaVoice/Participant2/Electrolarynx/35.wav\n"
     ]
    },
    {
     "name": "stderr",
     "output_type": "stream",
     "text": [
      "                                                                    \r"
     ]
    },
    {
     "name": "stdout",
     "output_type": "stream",
     "text": [
      "MoviePy - Done.\n"
     ]
    },
    {
     "name": "stderr",
     "output_type": "stream",
     "text": [
      "chunk:  16%|█▋        | 153/935 [00:00<00:00, 1298.70it/s, now=None]"
     ]
    },
    {
     "name": "stdout",
     "output_type": "stream",
     "text": [
      "MoviePy - Writing audio in /home/fdf7gn/data/UVaVoice/Participant2/Electrolarynx/29.wav\n"
     ]
    },
    {
     "name": "stderr",
     "output_type": "stream",
     "text": [
      "                                                                    \r"
     ]
    },
    {
     "name": "stdout",
     "output_type": "stream",
     "text": [
      "MoviePy - Done.\n"
     ]
    },
    {
     "name": "stderr",
     "output_type": "stream",
     "text": [
      "chunk:  27%|██▋       | 255/952 [00:00<00:00, 2423.37it/s, now=None]"
     ]
    },
    {
     "name": "stdout",
     "output_type": "stream",
     "text": [
      "MoviePy - Writing audio in /home/fdf7gn/data/UVaVoice/Participant2/Electrolarynx/34.wav\n"
     ]
    },
    {
     "name": "stderr",
     "output_type": "stream",
     "text": [
      "                                                                    \r"
     ]
    },
    {
     "name": "stdout",
     "output_type": "stream",
     "text": [
      "MoviePy - Done.\n"
     ]
    },
    {
     "name": "stderr",
     "output_type": "stream",
     "text": [
      "chunk:  26%|██▌       | 255/995 [00:00<00:00, 2267.39it/s, now=None]"
     ]
    },
    {
     "name": "stdout",
     "output_type": "stream",
     "text": [
      "MoviePy - Writing audio in /home/fdf7gn/data/UVaVoice/Participant2/Electrolarynx/27.wav\n"
     ]
    },
    {
     "name": "stderr",
     "output_type": "stream",
     "text": [
      "                                                                    \r"
     ]
    },
    {
     "name": "stdout",
     "output_type": "stream",
     "text": [
      "MoviePy - Done.\n"
     ]
    },
    {
     "name": "stderr",
     "output_type": "stream",
     "text": [
      "chunk:   9%|▉         | 102/1155 [00:00<00:01, 838.86it/s, now=None]"
     ]
    },
    {
     "name": "stdout",
     "output_type": "stream",
     "text": [
      "MoviePy - Writing audio in /home/fdf7gn/data/UVaVoice/Participant2/Electrolarynx/26.wav\n"
     ]
    },
    {
     "name": "stderr",
     "output_type": "stream",
     "text": [
      "                                                                      \r"
     ]
    },
    {
     "name": "stdout",
     "output_type": "stream",
     "text": [
      "MoviePy - Done.\n"
     ]
    },
    {
     "name": "stderr",
     "output_type": "stream",
     "text": [
      "chunk:  24%|██▍       | 227/934 [00:00<00:00, 2268.74it/s, now=None]"
     ]
    },
    {
     "name": "stdout",
     "output_type": "stream",
     "text": [
      "MoviePy - Writing audio in /home/fdf7gn/data/UVaVoice/Participant2/Electrolarynx/25.wav\n"
     ]
    },
    {
     "name": "stderr",
     "output_type": "stream",
     "text": [
      "                                                                    \r"
     ]
    },
    {
     "name": "stdout",
     "output_type": "stream",
     "text": [
      "MoviePy - Done.\n"
     ]
    },
    {
     "name": "stderr",
     "output_type": "stream",
     "text": [
      "chunk:  27%|██▋       | 255/934 [00:00<00:00, 2234.08it/s, now=None]"
     ]
    },
    {
     "name": "stdout",
     "output_type": "stream",
     "text": [
      "MoviePy - Writing audio in /home/fdf7gn/data/UVaVoice/Participant2/Electrolarynx/31.wav\n"
     ]
    },
    {
     "name": "stderr",
     "output_type": "stream",
     "text": [
      "                                                                    \r"
     ]
    },
    {
     "name": "stdout",
     "output_type": "stream",
     "text": [
      "MoviePy - Done.\n"
     ]
    },
    {
     "name": "stderr",
     "output_type": "stream",
     "text": [
      "chunk:  26%|██▌       | 153/591 [00:00<00:00, 1146.54it/s, now=None]"
     ]
    },
    {
     "name": "stdout",
     "output_type": "stream",
     "text": [
      "MoviePy - Writing audio in /home/fdf7gn/data/UVaVoice/Participant2/Larynx/42.wav\n"
     ]
    },
    {
     "name": "stderr",
     "output_type": "stream",
     "text": [
      "                                                                    \r"
     ]
    },
    {
     "name": "stdout",
     "output_type": "stream",
     "text": [
      "MoviePy - Done.\n"
     ]
    },
    {
     "name": "stderr",
     "output_type": "stream",
     "text": [
      "chunk:  34%|███▍      | 204/600 [00:00<00:00, 1220.05it/s, now=None]"
     ]
    },
    {
     "name": "stdout",
     "output_type": "stream",
     "text": [
      "MoviePy - Writing audio in /home/fdf7gn/data/UVaVoice/Participant2/Larynx/39.wav\n"
     ]
    },
    {
     "name": "stderr",
     "output_type": "stream",
     "text": [
      "                                                                    \r"
     ]
    },
    {
     "name": "stdout",
     "output_type": "stream",
     "text": [
      "MoviePy - Done.\n"
     ]
    },
    {
     "name": "stderr",
     "output_type": "stream",
     "text": [
      "chunk:  29%|██▉       | 171/587 [00:00<00:00, 1707.45it/s, now=None]"
     ]
    },
    {
     "name": "stdout",
     "output_type": "stream",
     "text": [
      "MoviePy - Writing audio in /home/fdf7gn/data/UVaVoice/Participant2/Larynx/40.wav\n"
     ]
    },
    {
     "name": "stderr",
     "output_type": "stream",
     "text": [
      "                                                                    \r"
     ]
    },
    {
     "name": "stdout",
     "output_type": "stream",
     "text": [
      "MoviePy - Done.\n"
     ]
    },
    {
     "name": "stderr",
     "output_type": "stream",
     "text": [
      "chunk:  34%|███▍      | 204/603 [00:00<00:00, 1768.24it/s, now=None]"
     ]
    },
    {
     "name": "stdout",
     "output_type": "stream",
     "text": [
      "MoviePy - Writing audio in /home/fdf7gn/data/UVaVoice/Participant2/Larynx/44.wav\n"
     ]
    },
    {
     "name": "stderr",
     "output_type": "stream",
     "text": [
      "                                                                    \r"
     ]
    },
    {
     "name": "stdout",
     "output_type": "stream",
     "text": [
      "MoviePy - Done.\n"
     ]
    },
    {
     "name": "stderr",
     "output_type": "stream",
     "text": [
      "chunk:  16%|█▌        | 102/628 [00:00<00:00, 930.82it/s, now=None]"
     ]
    },
    {
     "name": "stdout",
     "output_type": "stream",
     "text": [
      "MoviePy - Writing audio in /home/fdf7gn/data/UVaVoice/Participant2/Larynx/38.wav\n"
     ]
    },
    {
     "name": "stderr",
     "output_type": "stream",
     "text": [
      "                                                                    \r"
     ]
    },
    {
     "name": "stdout",
     "output_type": "stream",
     "text": [
      "MoviePy - Done.\n"
     ]
    },
    {
     "name": "stderr",
     "output_type": "stream",
     "text": [
      "chunk:  26%|██▌       | 153/595 [00:00<00:00, 1268.81it/s, now=None]"
     ]
    },
    {
     "name": "stdout",
     "output_type": "stream",
     "text": [
      "MoviePy - Writing audio in /home/fdf7gn/data/UVaVoice/Participant2/Larynx/41.wav\n"
     ]
    },
    {
     "name": "stderr",
     "output_type": "stream",
     "text": [
      "                                                                    \r"
     ]
    },
    {
     "name": "stdout",
     "output_type": "stream",
     "text": [
      "MoviePy - Done.\n"
     ]
    },
    {
     "name": "stderr",
     "output_type": "stream",
     "text": [
      "chunk:  34%|███▎      | 204/605 [00:00<00:00, 1617.66it/s, now=None]"
     ]
    },
    {
     "name": "stdout",
     "output_type": "stream",
     "text": [
      "MoviePy - Writing audio in /home/fdf7gn/data/UVaVoice/Participant2/Larynx/43.wav\n"
     ]
    },
    {
     "name": "stderr",
     "output_type": "stream",
     "text": [
      "                                                                    \r"
     ]
    },
    {
     "name": "stdout",
     "output_type": "stream",
     "text": [
      "MoviePy - Done.\n"
     ]
    },
    {
     "name": "stderr",
     "output_type": "stream",
     "text": [
      "chunk:  24%|██▍       | 153/639 [00:00<00:00, 1391.25it/s, now=None]"
     ]
    },
    {
     "name": "stdout",
     "output_type": "stream",
     "text": [
      "MoviePy - Writing audio in /home/fdf7gn/data/UVaVoice/Participant2/Larynx/36.wav\n"
     ]
    },
    {
     "name": "stderr",
     "output_type": "stream",
     "text": [
      "                                                                    \r"
     ]
    },
    {
     "name": "stdout",
     "output_type": "stream",
     "text": [
      "MoviePy - Done.\n"
     ]
    },
    {
     "name": "stderr",
     "output_type": "stream",
     "text": [
      "chunk:  25%|██▌       | 153/603 [00:00<00:00, 1101.62it/s, now=None]"
     ]
    },
    {
     "name": "stdout",
     "output_type": "stream",
     "text": [
      "MoviePy - Writing audio in /home/fdf7gn/data/UVaVoice/Participant2/Larynx/37.wav\n"
     ]
    },
    {
     "name": "stderr",
     "output_type": "stream",
     "text": [
      "chunk:  24%|██▍       | 355/1462 [00:00<00:00, 3547.69it/s, now=None]"
     ]
    },
    {
     "name": "stdout",
     "output_type": "stream",
     "text": [
      "MoviePy - Done.\n",
      "MoviePy - Writing audio in /home/fdf7gn/data/UVaVoice/DataScience2023/Participant 7/Participant 2, JC/Chapter 1, paragraph 7, animal farm, Orwell.wav\n"
     ]
    },
    {
     "name": "stderr",
     "output_type": "stream",
     "text": [
      "chunk:  32%|███▏      | 408/1257 [00:00<00:00, 3978.22it/s, now=None] "
     ]
    },
    {
     "name": "stdout",
     "output_type": "stream",
     "text": [
      "MoviePy - Done.\n",
      "MoviePy - Writing audio in /home/fdf7gn/data/UVaVoice/DataScience2023/Participant 7/Participant 2, JC/Chapter 1, paragraph 4, animal farm, Orwell.wav\n"
     ]
    },
    {
     "name": "stderr",
     "output_type": "stream",
     "text": [
      "chunk:  42%|████▏     | 408/976 [00:00<00:00, 3898.72it/s, now=None]  "
     ]
    },
    {
     "name": "stdout",
     "output_type": "stream",
     "text": [
      "MoviePy - Done.\n",
      "MoviePy - Writing audio in /home/fdf7gn/data/UVaVoice/DataScience2023/Participant 7/Participant 2, JC/Chapter 1, paragraph 6, animal farm, Orwell.wav\n"
     ]
    },
    {
     "name": "stderr",
     "output_type": "stream",
     "text": [
      "chunk:  51%|█████     | 406/801 [00:00<00:00, 4052.91it/s, now=None]"
     ]
    },
    {
     "name": "stdout",
     "output_type": "stream",
     "text": [
      "MoviePy - Done.\n",
      "MoviePy - Writing audio in /home/fdf7gn/data/UVaVoice/DataScience2023/Participant 7/Participant 2, JC/Chapter 1, paragraph 5, animal farm, Orwell.wav\n"
     ]
    },
    {
     "name": "stderr",
     "output_type": "stream",
     "text": [
      "chunk:  38%|███▊      | 357/940 [00:00<00:00, 3538.56it/s, now=None]"
     ]
    },
    {
     "name": "stdout",
     "output_type": "stream",
     "text": [
      "MoviePy - Done.\n",
      "MoviePy - Writing audio in /home/fdf7gn/data/UVaVoice/DataScience2023/Participant 7/Participant 2, JC/Chapter 1, paragraph 2, animal farm, Orwell.wav\n"
     ]
    },
    {
     "name": "stderr",
     "output_type": "stream",
     "text": [
      "chunk:  11%|█▏        | 372/3259 [00:00<00:00, 3718.22it/s, now=None]"
     ]
    },
    {
     "name": "stdout",
     "output_type": "stream",
     "text": [
      "MoviePy - Done.\n",
      "MoviePy - Writing audio in /home/fdf7gn/data/UVaVoice/DataScience2023/Participant 7/Participant 2, JC/Chapter 1, paragraph 3, animal farm, Orwell.wav\n"
     ]
    },
    {
     "name": "stderr",
     "output_type": "stream",
     "text": [
      "chunk:  60%|█████▉    | 379/633 [00:00<00:00, 3783.92it/s, now=None]  "
     ]
    },
    {
     "name": "stdout",
     "output_type": "stream",
     "text": [
      "MoviePy - Done.\n",
      "MoviePy - Writing audio in /home/fdf7gn/data/UVaVoice/DataScience2023/Participant 7/Participant 2, JC/Chapter 1, paragraph 1, animal farm, Orwell.wav\n"
     ]
    },
    {
     "name": "stderr",
     "output_type": "stream",
     "text": [
      "chunk:  17%|█▋        | 363/2198 [00:00<00:00, 3629.74it/s, now=None]"
     ]
    },
    {
     "name": "stdout",
     "output_type": "stream",
     "text": [
      "MoviePy - Done.\n",
      "MoviePy - Writing audio in /home/fdf7gn/data/UVaVoice/DataScience2023/Participant 8/Participant 3, KW/Chapter 2,  paragraph 1 and 2, animal farm, Orwell.wav\n"
     ]
    },
    {
     "name": "stderr",
     "output_type": "stream",
     "text": [
      "chunk:   0%|          | 0/264 [00:00<?, ?it/s, now=None]              "
     ]
    },
    {
     "name": "stdout",
     "output_type": "stream",
     "text": [
      "MoviePy - Done.\n",
      "MoviePy - Writing audio in /home/fdf7gn/data/UVaVoice/DataScience2023/Participant 8/Participant 3, KW/Chapter 2, paragraph 6,  animal farm, Orwell.wav\n"
     ]
    },
    {
     "name": "stderr",
     "output_type": "stream",
     "text": [
      "chunk:  39%|███▉      | 398/1013 [00:00<00:00, 3973.33it/s, now=None]"
     ]
    },
    {
     "name": "stdout",
     "output_type": "stream",
     "text": [
      "MoviePy - Done.\n",
      "MoviePy - Writing audio in /home/fdf7gn/data/UVaVoice/DataScience2023/Participant 8/Participant 3, KW/Chapter 2, paragraph 10,  animal farm, Orwell.wav\n"
     ]
    },
    {
     "name": "stderr",
     "output_type": "stream",
     "text": [
      "chunk:  33%|███▎      | 400/1215 [00:00<00:00, 3997.80it/s, now=None]"
     ]
    },
    {
     "name": "stdout",
     "output_type": "stream",
     "text": [
      "MoviePy - Done.\n",
      "MoviePy - Writing audio in /home/fdf7gn/data/UVaVoice/DataScience2023/Participant 8/Participant 3, KW/Chapter 2, paragraph 8,  animal farm, Orwell.wav\n"
     ]
    },
    {
     "name": "stderr",
     "output_type": "stream",
     "text": [
      "chunk:   0%|          | 0/283 [00:00<?, ?it/s, now=None]              "
     ]
    },
    {
     "name": "stdout",
     "output_type": "stream",
     "text": [
      "MoviePy - Done.\n",
      "MoviePy - Writing audio in /home/fdf7gn/data/UVaVoice/DataScience2023/Participant 8/Participant 3, KW/Chapter 2, paragraph 7,  animal farm, Orwell.wav\n",
      "MoviePy - Done.\n",
      "MoviePy - Writing audio in /home/fdf7gn/data/UVaVoice/DataScience2023/Participant 8/Participant 3, KW/Chapter 2, paragraph 4,  animal farm, Orwell.wav\n"
     ]
    },
    {
     "name": "stderr",
     "output_type": "stream",
     "text": [
      "chunk:  17%|█▋        | 378/2165 [00:00<00:00, 3779.15it/s, now=None]"
     ]
    },
    {
     "name": "stdout",
     "output_type": "stream",
     "text": [
      "MoviePy - Done.\n",
      "MoviePy - Writing audio in /home/fdf7gn/data/UVaVoice/DataScience2023/Participant 8/Participant 3, KW/Chapter 2, paragraph 11,  animal farm, Orwell.wav\n"
     ]
    },
    {
     "name": "stderr",
     "output_type": "stream",
     "text": [
      "chunk:  27%|██▋       | 408/1509 [00:00<00:00, 3999.66it/s, now=None] "
     ]
    },
    {
     "name": "stdout",
     "output_type": "stream",
     "text": [
      "MoviePy - Done.\n",
      "MoviePy - Writing audio in /home/fdf7gn/data/UVaVoice/DataScience2023/Participant 8/Participant 3, KW/Chapter 2, paragraph 3,  animal farm, Orwell.wav\n"
     ]
    },
    {
     "name": "stderr",
     "output_type": "stream",
     "text": [
      "chunk:   0%|          | 0/664 [00:00<?, ?it/s, now=None]              "
     ]
    },
    {
     "name": "stdout",
     "output_type": "stream",
     "text": [
      "MoviePy - Done.\n",
      "MoviePy - Writing audio in /home/fdf7gn/data/UVaVoice/DataScience2023/Participant 8/Participant 3, KW/Chapter 2, paragraph 5,  animal farm, Orwell.wav\n",
      "MoviePy - Done.\n",
      "MoviePy - Writing audio in /home/fdf7gn/data/UVaVoice/DataScience2023/Participant 8/Participant 3, KW/Chapter 2, paragraph 9,  animal farm, Orwell.wav\n"
     ]
    },
    {
     "name": "stderr",
     "output_type": "stream",
     "text": [
      "chunk:  23%|██▎       | 378/1668 [00:00<00:00, 3773.64it/s, now=None]"
     ]
    },
    {
     "name": "stdout",
     "output_type": "stream",
     "text": [
      "MoviePy - Done.\n",
      "MoviePy - Writing audio in /home/fdf7gn/data/UVaVoice/DataScience2023/Participant 6/Chapter 1, Paragraph 8, 1984, Orwell.wav\n"
     ]
    },
    {
     "name": "stderr",
     "output_type": "stream",
     "text": [
      "chunk:  20%|██        | 393/1936 [00:00<00:00, 3927.34it/s, now=None] "
     ]
    },
    {
     "name": "stdout",
     "output_type": "stream",
     "text": [
      "MoviePy - Done.\n",
      "MoviePy - Writing audio in /home/fdf7gn/data/UVaVoice/DataScience2023/Participant 6/Chapter 1, Paragraph 1 and 2, 1984, Orwell.wav\n"
     ]
    },
    {
     "name": "stderr",
     "output_type": "stream",
     "text": [
      "chunk:  19%|█▊        | 389/2087 [00:00<00:00, 3886.64it/s, now=None] "
     ]
    },
    {
     "name": "stdout",
     "output_type": "stream",
     "text": [
      "MoviePy - Done.\n",
      "MoviePy - Writing audio in /home/fdf7gn/data/UVaVoice/DataScience2023/Participant 6/Chapter 1, Paragraph 6, 1984, Orwell.wav\n"
     ]
    },
    {
     "name": "stderr",
     "output_type": "stream",
     "text": [
      "chunk:  23%|██▎       | 396/1697 [00:00<00:00, 3955.88it/s, now=None] "
     ]
    },
    {
     "name": "stdout",
     "output_type": "stream",
     "text": [
      "MoviePy - Done.\n",
      "MoviePy - Writing audio in /home/fdf7gn/data/UVaVoice/DataScience2023/Participant 6/Chapter 1, Paragraph 4, 1984, Orwell.wav\n"
     ]
    },
    {
     "name": "stderr",
     "output_type": "stream",
     "text": [
      "chunk:  37%|███▋      | 408/1115 [00:00<00:00, 3938.97it/s, now=None] "
     ]
    },
    {
     "name": "stdout",
     "output_type": "stream",
     "text": [
      "MoviePy - Done.\n",
      "MoviePy - Writing audio in /home/fdf7gn/data/UVaVoice/DataScience2023/Participant 6/Chapter 1, Paragraph 7, 1984, Orwell.wav\n"
     ]
    },
    {
     "name": "stderr",
     "output_type": "stream",
     "text": [
      "chunk:  26%|██▌       | 408/1559 [00:00<00:00, 4007.99it/s, now=None]"
     ]
    },
    {
     "name": "stdout",
     "output_type": "stream",
     "text": [
      "MoviePy - Done.\n",
      "MoviePy - Writing audio in /home/fdf7gn/data/UVaVoice/DataScience2023/Participant 6/Chapter 1, Paragraph 5, 1984, Orwell.wav\n"
     ]
    },
    {
     "name": "stderr",
     "output_type": "stream",
     "text": [
      "chunk:  31%|███       | 408/1317 [00:00<00:00, 3963.35it/s, now=None] "
     ]
    },
    {
     "name": "stdout",
     "output_type": "stream",
     "text": [
      "MoviePy - Done.\n",
      "MoviePy - Writing audio in /home/fdf7gn/data/UVaVoice/DataScience2023/Participant 6/Chapter 1, Paragraph 3, 1984, Orwell.wav\n"
     ]
    },
    {
     "name": "stderr",
     "output_type": "stream",
     "text": [
      "                                                                      \r"
     ]
    },
    {
     "name": "stdout",
     "output_type": "stream",
     "text": [
      "MoviePy - Done.\n"
     ]
    },
    {
     "name": "stderr",
     "output_type": "stream",
     "text": [
      "chunk:  34%|███▍      | 313/913 [00:00<00:00, 3125.25it/s, now=None]"
     ]
    },
    {
     "name": "stdout",
     "output_type": "stream",
     "text": [
      "MoviePy - Writing audio in /home/fdf7gn/data/UVaVoice/Participant5/Electrolarynx/89.wav\n"
     ]
    },
    {
     "name": "stderr",
     "output_type": "stream",
     "text": [
      "                                                                    \r"
     ]
    },
    {
     "name": "stdout",
     "output_type": "stream",
     "text": [
      "MoviePy - Done.\n"
     ]
    },
    {
     "name": "stderr",
     "output_type": "stream",
     "text": [
      "chunk:  33%|███▎      | 306/932 [00:00<00:00, 2914.56it/s, now=None]"
     ]
    },
    {
     "name": "stdout",
     "output_type": "stream",
     "text": [
      "MoviePy - Writing audio in /home/fdf7gn/data/UVaVoice/Participant5/Electrolarynx/91.wav\n"
     ]
    },
    {
     "name": "stderr",
     "output_type": "stream",
     "text": [
      "                                                                    \r"
     ]
    },
    {
     "name": "stdout",
     "output_type": "stream",
     "text": [
      "MoviePy - Done.\n"
     ]
    },
    {
     "name": "stderr",
     "output_type": "stream",
     "text": [
      "chunk:  21%|██        | 216/1029 [00:00<00:00, 2156.22it/s, now=None]"
     ]
    },
    {
     "name": "stdout",
     "output_type": "stream",
     "text": [
      "MoviePy - Writing audio in /home/fdf7gn/data/UVaVoice/Participant5/Electrolarynx/84.wav\n"
     ]
    },
    {
     "name": "stderr",
     "output_type": "stream",
     "text": [
      "                                                                     \r"
     ]
    },
    {
     "name": "stdout",
     "output_type": "stream",
     "text": [
      "MoviePy - Done.\n"
     ]
    },
    {
     "name": "stderr",
     "output_type": "stream",
     "text": [
      "chunk:  34%|███▍      | 343/1006 [00:00<00:00, 3426.34it/s, now=None]"
     ]
    },
    {
     "name": "stdout",
     "output_type": "stream",
     "text": [
      "MoviePy - Writing audio in /home/fdf7gn/data/UVaVoice/Participant5/Electrolarynx/86.wav\n"
     ]
    },
    {
     "name": "stderr",
     "output_type": "stream",
     "text": [
      "                                                                     \r"
     ]
    },
    {
     "name": "stdout",
     "output_type": "stream",
     "text": [
      "MoviePy - Done.\n"
     ]
    },
    {
     "name": "stderr",
     "output_type": "stream",
     "text": [
      "chunk:  26%|██▋       | 255/970 [00:00<00:00, 2221.97it/s, now=None]"
     ]
    },
    {
     "name": "stdout",
     "output_type": "stream",
     "text": [
      "MoviePy - Writing audio in /home/fdf7gn/data/UVaVoice/Participant5/Electrolarynx/85.wav\n"
     ]
    },
    {
     "name": "stderr",
     "output_type": "stream",
     "text": [
      "                                                                    \r"
     ]
    },
    {
     "name": "stdout",
     "output_type": "stream",
     "text": [
      "MoviePy - Done.\n"
     ]
    },
    {
     "name": "stderr",
     "output_type": "stream",
     "text": [
      "chunk:   0%|          | 0/955 [00:00<?, ?it/s, now=None]"
     ]
    },
    {
     "name": "stdout",
     "output_type": "stream",
     "text": [
      "MoviePy - Writing audio in /home/fdf7gn/data/UVaVoice/Participant5/Electrolarynx/87.wav\n"
     ]
    },
    {
     "name": "stderr",
     "output_type": "stream",
     "text": [
      "                                                                    \r"
     ]
    },
    {
     "name": "stdout",
     "output_type": "stream",
     "text": [
      "MoviePy - Done.\n"
     ]
    },
    {
     "name": "stderr",
     "output_type": "stream",
     "text": [
      "chunk:  33%|███▎      | 306/922 [00:00<00:00, 2965.10it/s, now=None]"
     ]
    },
    {
     "name": "stdout",
     "output_type": "stream",
     "text": [
      "MoviePy - Writing audio in /home/fdf7gn/data/UVaVoice/Participant5/Electrolarynx/88.wav\n"
     ]
    },
    {
     "name": "stderr",
     "output_type": "stream",
     "text": [
      "                                                                    \r"
     ]
    },
    {
     "name": "stdout",
     "output_type": "stream",
     "text": [
      "MoviePy - Done.\n"
     ]
    },
    {
     "name": "stderr",
     "output_type": "stream",
     "text": [
      "chunk:  38%|███▊      | 357/943 [00:00<00:00, 3505.28it/s, now=None]"
     ]
    },
    {
     "name": "stdout",
     "output_type": "stream",
     "text": [
      "MoviePy - Writing audio in /home/fdf7gn/data/UVaVoice/Participant5/Electrolarynx/92.wav\n"
     ]
    },
    {
     "name": "stderr",
     "output_type": "stream",
     "text": [
      "                                                                    \r"
     ]
    },
    {
     "name": "stdout",
     "output_type": "stream",
     "text": [
      "MoviePy - Done.\n"
     ]
    },
    {
     "name": "stderr",
     "output_type": "stream",
     "text": [
      "chunk:  33%|███▎      | 306/922 [00:00<00:00, 2948.37it/s, now=None]"
     ]
    },
    {
     "name": "stdout",
     "output_type": "stream",
     "text": [
      "MoviePy - Writing audio in /home/fdf7gn/data/UVaVoice/Participant5/Electrolarynx/93.wav\n"
     ]
    },
    {
     "name": "stderr",
     "output_type": "stream",
     "text": [
      "                                                                    \r"
     ]
    },
    {
     "name": "stdout",
     "output_type": "stream",
     "text": [
      "MoviePy - Done.\n"
     ]
    },
    {
     "name": "stderr",
     "output_type": "stream",
     "text": [
      "chunk:  27%|██▋       | 255/929 [00:00<00:00, 1959.05it/s, now=None]"
     ]
    },
    {
     "name": "stdout",
     "output_type": "stream",
     "text": [
      "MoviePy - Writing audio in /home/fdf7gn/data/UVaVoice/Participant5/Electrolarynx/90.wav\n"
     ]
    },
    {
     "name": "stderr",
     "output_type": "stream",
     "text": [
      "                                                                    \r"
     ]
    },
    {
     "name": "stdout",
     "output_type": "stream",
     "text": [
      "MoviePy - Done.\n"
     ]
    },
    {
     "name": "stderr",
     "output_type": "stream",
     "text": [
      "chunk:  50%|█████     | 308/615 [00:00<00:00, 3074.76it/s, now=None]"
     ]
    },
    {
     "name": "stdout",
     "output_type": "stream",
     "text": [
      "MoviePy - Writing audio in /home/fdf7gn/data/UVaVoice/Participant5/Larynx/97.wav\n"
     ]
    },
    {
     "name": "stderr",
     "output_type": "stream",
     "text": [
      "                                                                    \r"
     ]
    },
    {
     "name": "stdout",
     "output_type": "stream",
     "text": [
      "MoviePy - Done.\n"
     ]
    },
    {
     "name": "stderr",
     "output_type": "stream",
     "text": [
      "chunk:  49%|████▉     | 306/627 [00:00<00:00, 2831.86it/s, now=None]"
     ]
    },
    {
     "name": "stdout",
     "output_type": "stream",
     "text": [
      "MoviePy - Writing audio in /home/fdf7gn/data/UVaVoice/Participant5/Larynx/103.wav\n"
     ]
    },
    {
     "name": "stderr",
     "output_type": "stream",
     "text": [
      "                                                                    \r"
     ]
    },
    {
     "name": "stdout",
     "output_type": "stream",
     "text": [
      "MoviePy - Done.\n"
     ]
    },
    {
     "name": "stderr",
     "output_type": "stream",
     "text": [
      "chunk:  47%|████▋     | 303/644 [00:00<00:00, 3029.76it/s, now=None]"
     ]
    },
    {
     "name": "stdout",
     "output_type": "stream",
     "text": [
      "MoviePy - Writing audio in /home/fdf7gn/data/UVaVoice/Participant5/Larynx/95.wav\n"
     ]
    },
    {
     "name": "stderr",
     "output_type": "stream",
     "text": [
      "                                                                    \r"
     ]
    },
    {
     "name": "stdout",
     "output_type": "stream",
     "text": [
      "MoviePy - Done.\n"
     ]
    },
    {
     "name": "stderr",
     "output_type": "stream",
     "text": [
      "chunk:  49%|████▊     | 306/630 [00:00<00:00, 2980.99it/s, now=None]"
     ]
    },
    {
     "name": "stdout",
     "output_type": "stream",
     "text": [
      "MoviePy - Writing audio in /home/fdf7gn/data/UVaVoice/Participant5/Larynx/96.wav\n"
     ]
    },
    {
     "name": "stderr",
     "output_type": "stream",
     "text": [
      "                                                                    \r"
     ]
    },
    {
     "name": "stdout",
     "output_type": "stream",
     "text": [
      "MoviePy - Done.\n"
     ]
    },
    {
     "name": "stderr",
     "output_type": "stream",
     "text": [
      "chunk:  35%|███▌      | 229/653 [00:00<00:00, 2287.25it/s, now=None]"
     ]
    },
    {
     "name": "stdout",
     "output_type": "stream",
     "text": [
      "MoviePy - Writing audio in /home/fdf7gn/data/UVaVoice/Participant5/Larynx/100.wav\n"
     ]
    },
    {
     "name": "stderr",
     "output_type": "stream",
     "text": [
      "                                                                    \r"
     ]
    },
    {
     "name": "stdout",
     "output_type": "stream",
     "text": [
      "MoviePy - Done.\n"
     ]
    },
    {
     "name": "stderr",
     "output_type": "stream",
     "text": [
      "chunk:  48%|████▊     | 308/645 [00:00<00:00, 3076.55it/s, now=None]"
     ]
    },
    {
     "name": "stdout",
     "output_type": "stream",
     "text": [
      "MoviePy - Writing audio in /home/fdf7gn/data/UVaVoice/Participant5/Larynx/98.wav\n"
     ]
    },
    {
     "name": "stderr",
     "output_type": "stream",
     "text": [
      "                                                                    \r"
     ]
    },
    {
     "name": "stdout",
     "output_type": "stream",
     "text": [
      "MoviePy - Done.\n"
     ]
    },
    {
     "name": "stderr",
     "output_type": "stream",
     "text": [
      "chunk:  43%|████▎     | 261/603 [00:00<00:00, 2605.80it/s, now=None]"
     ]
    },
    {
     "name": "stdout",
     "output_type": "stream",
     "text": [
      "MoviePy - Writing audio in /home/fdf7gn/data/UVaVoice/Participant5/Larynx/101.wav\n"
     ]
    },
    {
     "name": "stderr",
     "output_type": "stream",
     "text": [
      "                                                                    \r"
     ]
    },
    {
     "name": "stdout",
     "output_type": "stream",
     "text": [
      "MoviePy - Done.\n"
     ]
    },
    {
     "name": "stderr",
     "output_type": "stream",
     "text": [
      "chunk:  45%|████▌     | 285/628 [00:00<00:00, 2845.55it/s, now=None]"
     ]
    },
    {
     "name": "stdout",
     "output_type": "stream",
     "text": [
      "MoviePy - Writing audio in /home/fdf7gn/data/UVaVoice/Participant5/Larynx/99.wav\n"
     ]
    },
    {
     "name": "stderr",
     "output_type": "stream",
     "text": [
      "                                                                    \r"
     ]
    },
    {
     "name": "stdout",
     "output_type": "stream",
     "text": [
      "MoviePy - Done.\n"
     ]
    },
    {
     "name": "stderr",
     "output_type": "stream",
     "text": [
      "chunk:  40%|███▉      | 255/638 [00:00<00:00, 2468.35it/s, now=None]"
     ]
    },
    {
     "name": "stdout",
     "output_type": "stream",
     "text": [
      "MoviePy - Writing audio in /home/fdf7gn/data/UVaVoice/Participant5/Larynx/102.wav\n"
     ]
    },
    {
     "name": "stderr",
     "output_type": "stream",
     "text": [
      "                                                                    \r"
     ]
    },
    {
     "name": "stdout",
     "output_type": "stream",
     "text": [
      "MoviePy - Done.\n"
     ]
    },
    {
     "name": "stderr",
     "output_type": "stream",
     "text": [
      "chunk:  15%|█▌        | 102/666 [00:00<00:00, 827.67it/s, now=None]"
     ]
    },
    {
     "name": "stdout",
     "output_type": "stream",
     "text": [
      "MoviePy - Writing audio in /home/fdf7gn/data/UVaVoice/Participant5/Larynx/94.wav\n"
     ]
    },
    {
     "name": "stderr",
     "output_type": "stream",
     "text": [
      "                                                                    \r"
     ]
    },
    {
     "name": "stdout",
     "output_type": "stream",
     "text": [
      "MoviePy - Done.\n"
     ]
    },
    {
     "name": "stderr",
     "output_type": "stream",
     "text": [
      "chunk:  32%|███▏      | 307/972 [00:00<00:00, 3068.74it/s, now=None]"
     ]
    },
    {
     "name": "stdout",
     "output_type": "stream",
     "text": [
      "MoviePy - Writing audio in /home/fdf7gn/data/UVaVoice/Participant4/Electrolarynx/73.wav\n"
     ]
    },
    {
     "name": "stderr",
     "output_type": "stream",
     "text": [
      "                                                                    \r"
     ]
    },
    {
     "name": "stdout",
     "output_type": "stream",
     "text": [
      "MoviePy - Done.\n"
     ]
    },
    {
     "name": "stderr",
     "output_type": "stream",
     "text": [
      "chunk:  15%|█▌        | 153/1004 [00:00<00:00, 1389.06it/s, now=None]"
     ]
    },
    {
     "name": "stdout",
     "output_type": "stream",
     "text": [
      "MoviePy - Writing audio in /home/fdf7gn/data/UVaVoice/Participant4/Electrolarynx/65.wav\n"
     ]
    },
    {
     "name": "stderr",
     "output_type": "stream",
     "text": [
      "                                                                     \r"
     ]
    },
    {
     "name": "stdout",
     "output_type": "stream",
     "text": [
      "MoviePy - Done.\n"
     ]
    },
    {
     "name": "stderr",
     "output_type": "stream",
     "text": [
      "chunk:  26%|██▌       | 255/976 [00:00<00:00, 2095.98it/s, now=None]"
     ]
    },
    {
     "name": "stdout",
     "output_type": "stream",
     "text": [
      "MoviePy - Writing audio in /home/fdf7gn/data/UVaVoice/Participant4/Electrolarynx/69.wav\n"
     ]
    },
    {
     "name": "stderr",
     "output_type": "stream",
     "text": [
      "                                                                    \r"
     ]
    },
    {
     "name": "stdout",
     "output_type": "stream",
     "text": [
      "MoviePy - Done.\n"
     ]
    },
    {
     "name": "stderr",
     "output_type": "stream",
     "text": [
      "chunk:  25%|██▍       | 255/1031 [00:00<00:00, 2353.27it/s, now=None]"
     ]
    },
    {
     "name": "stdout",
     "output_type": "stream",
     "text": [
      "MoviePy - Writing audio in /home/fdf7gn/data/UVaVoice/Participant4/Electrolarynx/1.wav\n"
     ]
    },
    {
     "name": "stderr",
     "output_type": "stream",
     "text": [
      "                                                                     \r"
     ]
    },
    {
     "name": "stdout",
     "output_type": "stream",
     "text": [
      "MoviePy - Done.\n"
     ]
    },
    {
     "name": "stderr",
     "output_type": "stream",
     "text": [
      "chunk:  11%|█▏        | 111/973 [00:00<00:00, 1108.80it/s, now=None]"
     ]
    },
    {
     "name": "stdout",
     "output_type": "stream",
     "text": [
      "MoviePy - Writing audio in /home/fdf7gn/data/UVaVoice/Participant4/Electrolarynx/70.wav\n"
     ]
    },
    {
     "name": "stderr",
     "output_type": "stream",
     "text": [
      "                                                                    \r"
     ]
    },
    {
     "name": "stdout",
     "output_type": "stream",
     "text": [
      "MoviePy - Done.\n"
     ]
    },
    {
     "name": "stderr",
     "output_type": "stream",
     "text": [
      "chunk:  29%|██▉       | 278/957 [00:00<00:00, 2777.41it/s, now=None]"
     ]
    },
    {
     "name": "stdout",
     "output_type": "stream",
     "text": [
      "MoviePy - Writing audio in /home/fdf7gn/data/UVaVoice/Participant4/Electrolarynx/68.wav\n"
     ]
    },
    {
     "name": "stderr",
     "output_type": "stream",
     "text": [
      "                                                                    \r"
     ]
    },
    {
     "name": "stdout",
     "output_type": "stream",
     "text": [
      "MoviePy - Done.\n"
     ]
    },
    {
     "name": "stderr",
     "output_type": "stream",
     "text": [
      "chunk:  26%|██▌       | 256/999 [00:00<00:00, 2557.42it/s, now=None]"
     ]
    },
    {
     "name": "stdout",
     "output_type": "stream",
     "text": [
      "MoviePy - Writing audio in /home/fdf7gn/data/UVaVoice/Participant4/Electrolarynx/66.wav\n"
     ]
    },
    {
     "name": "stderr",
     "output_type": "stream",
     "text": [
      "                                                                    \r"
     ]
    },
    {
     "name": "stdout",
     "output_type": "stream",
     "text": [
      "MoviePy - Done.\n"
     ]
    },
    {
     "name": "stderr",
     "output_type": "stream",
     "text": [
      "chunk:  27%|██▋       | 264/974 [00:00<00:00, 2636.24it/s, now=None]"
     ]
    },
    {
     "name": "stdout",
     "output_type": "stream",
     "text": [
      "MoviePy - Writing audio in /home/fdf7gn/data/UVaVoice/Participant4/Electrolarynx/72.wav\n"
     ]
    },
    {
     "name": "stderr",
     "output_type": "stream",
     "text": [
      "                                                                    \r"
     ]
    },
    {
     "name": "stdout",
     "output_type": "stream",
     "text": [
      "MoviePy - Done.\n"
     ]
    },
    {
     "name": "stderr",
     "output_type": "stream",
     "text": [
      "chunk:  27%|██▋       | 274/1026 [00:00<00:00, 2736.16it/s, now=None]"
     ]
    },
    {
     "name": "stdout",
     "output_type": "stream",
     "text": [
      "MoviePy - Writing audio in /home/fdf7gn/data/UVaVoice/Participant4/Electrolarynx/71.wav\n"
     ]
    },
    {
     "name": "stderr",
     "output_type": "stream",
     "text": [
      "                                                                     \r"
     ]
    },
    {
     "name": "stdout",
     "output_type": "stream",
     "text": [
      "MoviePy - Done.\n"
     ]
    },
    {
     "name": "stderr",
     "output_type": "stream",
     "text": [
      "chunk:  27%|██▋       | 255/950 [00:00<00:00, 2434.59it/s, now=None]"
     ]
    },
    {
     "name": "stdout",
     "output_type": "stream",
     "text": [
      "MoviePy - Writing audio in /home/fdf7gn/data/UVaVoice/Participant4/Electrolarynx/67.wav\n"
     ]
    },
    {
     "name": "stderr",
     "output_type": "stream",
     "text": [
      "                                                                    \r"
     ]
    },
    {
     "name": "stdout",
     "output_type": "stream",
     "text": [
      "MoviePy - Done.\n"
     ]
    },
    {
     "name": "stderr",
     "output_type": "stream",
     "text": [
      "chunk:  24%|██▍       | 153/634 [00:00<00:00, 1514.65it/s, now=None]"
     ]
    },
    {
     "name": "stdout",
     "output_type": "stream",
     "text": [
      "MoviePy - Writing audio in /home/fdf7gn/data/UVaVoice/Participant4/Larynx/79.wav\n"
     ]
    },
    {
     "name": "stderr",
     "output_type": "stream",
     "text": [
      "                                                                    \r"
     ]
    },
    {
     "name": "stdout",
     "output_type": "stream",
     "text": [
      "MoviePy - Done.\n"
     ]
    },
    {
     "name": "stderr",
     "output_type": "stream",
     "text": [
      "chunk:  23%|██▎       | 153/666 [00:00<00:00, 1045.66it/s, now=None]"
     ]
    },
    {
     "name": "stdout",
     "output_type": "stream",
     "text": [
      "MoviePy - Writing audio in /home/fdf7gn/data/UVaVoice/Participant4/Larynx/74.wav\n"
     ]
    },
    {
     "name": "stderr",
     "output_type": "stream",
     "text": [
      "                                                                    \r"
     ]
    },
    {
     "name": "stdout",
     "output_type": "stream",
     "text": [
      "MoviePy - Done.\n"
     ]
    },
    {
     "name": "stderr",
     "output_type": "stream",
     "text": [
      "chunk:  41%|████      | 270/665 [00:00<00:00, 2699.08it/s, now=None]"
     ]
    },
    {
     "name": "stdout",
     "output_type": "stream",
     "text": [
      "MoviePy - Writing audio in /home/fdf7gn/data/UVaVoice/Participant4/Larynx/75.wav\n"
     ]
    },
    {
     "name": "stderr",
     "output_type": "stream",
     "text": [
      "                                                                    \r"
     ]
    },
    {
     "name": "stdout",
     "output_type": "stream",
     "text": [
      "MoviePy - Done.\n"
     ]
    },
    {
     "name": "stderr",
     "output_type": "stream",
     "text": [
      "chunk:  31%|███       | 204/665 [00:00<00:00, 1120.89it/s, now=None]"
     ]
    },
    {
     "name": "stdout",
     "output_type": "stream",
     "text": [
      "MoviePy - Writing audio in /home/fdf7gn/data/UVaVoice/Participant4/Larynx/77.wav\n"
     ]
    },
    {
     "name": "stderr",
     "output_type": "stream",
     "text": [
      "                                                                    \r"
     ]
    },
    {
     "name": "stdout",
     "output_type": "stream",
     "text": [
      "MoviePy - Done.\n"
     ]
    },
    {
     "name": "stderr",
     "output_type": "stream",
     "text": [
      "chunk:  41%|████      | 255/621 [00:00<00:00, 1513.62it/s, now=None]"
     ]
    },
    {
     "name": "stdout",
     "output_type": "stream",
     "text": [
      "MoviePy - Writing audio in /home/fdf7gn/data/UVaVoice/Participant4/Larynx/83.wav\n"
     ]
    },
    {
     "name": "stderr",
     "output_type": "stream",
     "text": [
      "                                                                    \r"
     ]
    },
    {
     "name": "stdout",
     "output_type": "stream",
     "text": [
      "MoviePy - Done.\n"
     ]
    },
    {
     "name": "stderr",
     "output_type": "stream",
     "text": [
      "chunk:  32%|███▏      | 204/643 [00:00<00:00, 1950.11it/s, now=None]"
     ]
    },
    {
     "name": "stdout",
     "output_type": "stream",
     "text": [
      "MoviePy - Writing audio in /home/fdf7gn/data/UVaVoice/Participant4/Larynx/76.wav\n"
     ]
    },
    {
     "name": "stderr",
     "output_type": "stream",
     "text": [
      "                                                                    \r"
     ]
    },
    {
     "name": "stdout",
     "output_type": "stream",
     "text": [
      "MoviePy - Done.\n"
     ]
    },
    {
     "name": "stderr",
     "output_type": "stream",
     "text": [
      "chunk:  46%|████▌     | 306/664 [00:00<00:00, 2963.28it/s, now=None]"
     ]
    },
    {
     "name": "stdout",
     "output_type": "stream",
     "text": [
      "MoviePy - Writing audio in /home/fdf7gn/data/UVaVoice/Participant4/Larynx/81.wav\n"
     ]
    },
    {
     "name": "stderr",
     "output_type": "stream",
     "text": [
      "                                                                    \r"
     ]
    },
    {
     "name": "stdout",
     "output_type": "stream",
     "text": [
      "MoviePy - Done.\n"
     ]
    },
    {
     "name": "stderr",
     "output_type": "stream",
     "text": [
      "chunk:  33%|███▎      | 204/617 [00:00<00:00, 1991.97it/s, now=None]"
     ]
    },
    {
     "name": "stdout",
     "output_type": "stream",
     "text": [
      "MoviePy - Writing audio in /home/fdf7gn/data/UVaVoice/Participant4/Larynx/82.wav\n"
     ]
    },
    {
     "name": "stderr",
     "output_type": "stream",
     "text": [
      "                                                                    \r"
     ]
    },
    {
     "name": "stdout",
     "output_type": "stream",
     "text": [
      "MoviePy - Done.\n"
     ]
    },
    {
     "name": "stderr",
     "output_type": "stream",
     "text": [
      "chunk:  42%|████▏     | 278/666 [00:00<00:00, 2777.43it/s, now=None]"
     ]
    },
    {
     "name": "stdout",
     "output_type": "stream",
     "text": [
      "MoviePy - Writing audio in /home/fdf7gn/data/UVaVoice/Participant4/Larynx/80.wav\n"
     ]
    },
    {
     "name": "stderr",
     "output_type": "stream",
     "text": [
      "                                                                    \r"
     ]
    },
    {
     "name": "stdout",
     "output_type": "stream",
     "text": [
      "MoviePy - Done.\n"
     ]
    },
    {
     "name": "stderr",
     "output_type": "stream",
     "text": [
      "chunk:  39%|███▉      | 255/656 [00:00<00:00, 2337.62it/s, now=None]"
     ]
    },
    {
     "name": "stdout",
     "output_type": "stream",
     "text": [
      "MoviePy - Writing audio in /home/fdf7gn/data/UVaVoice/Participant4/Larynx/78.wav\n"
     ]
    },
    {
     "name": "stderr",
     "output_type": "stream",
     "text": [
      "                                                                    "
     ]
    },
    {
     "name": "stdout",
     "output_type": "stream",
     "text": [
      "MoviePy - Done.\n"
     ]
    },
    {
     "name": "stderr",
     "output_type": "stream",
     "text": [
      "\r"
     ]
    }
   ],
   "source": [
    "import os\n",
    "from moviepy.video.io.VideoFileClip import VideoFileClip\n",
    "from moviepy.audio.io.AudioFileClip import AudioFileClip\n",
    "\n",
    "def convert_to_wav(file_path):\n",
    "    \"\"\"Converts the given file to WAV format\"\"\"\n",
    "    name, ext = os.path.splitext(file_path)\n",
    "    if ext in ('.mp4', '.m4a') and not os.path.basename(file_path).startswith('.'):\n",
    "        wav_path = name + '.wav'\n",
    "        if ext == '.mp4':\n",
    "            clip = VideoFileClip(file_path)\n",
    "            audio_clip = clip.audio\n",
    "            audio_clip.write_audiofile(wav_path)\n",
    "            clip.close()\n",
    "            audio_clip.close()\n",
    "        elif ext == '.m4a':\n",
    "            audio_clip = AudioFileClip(file_path)\n",
    "            audio_clip.write_audiofile(wav_path)\n",
    "            audio_clip.close()\n",
    "\n",
    "def convert_folder_to_wav(folder_path):\n",
    "    \"\"\"Recursively scans the given folder and converts all media files to WAV format\"\"\"\n",
    "    for root, dirs, files in os.walk(folder_path):\n",
    "        for file in files:\n",
    "            file_path = os.path.join(root, file)\n",
    "            convert_to_wav(file_path)\n",
    "\n",
    "# Example usage\n",
    "convert_folder_to_wav('/home/fdf7gn/data')\n"
   ]
  },
  {
   "cell_type": "code",
   "execution_count": 10,
   "metadata": {},
   "outputs": [
    {
     "name": "stdout",
     "output_type": "stream",
     "text": [
      "/home/fdf7gn/data/UVaVoice/ConversationalSpeech-FunctioningLarynxes/2021-12-17_11-32-38.wav\n",
      "Epoch 1/20\n",
      "1/1 [==============================] - 3s 3s/step - loss: 4062.3564 - accuracy: 0.0000e+00\n",
      "Epoch 2/20\n",
      "1/1 [==============================] - 2s 2s/step - loss: 3933.1699 - accuracy: 7.5585e-07\n",
      "Epoch 3/20\n",
      "1/1 [==============================] - 2s 2s/step - loss: 3523.5754 - accuracy: 7.5585e-07\n",
      "Epoch 4/20\n",
      "1/1 [==============================] - 2s 2s/step - loss: 2864.4587 - accuracy: 7.5585e-07\n",
      "Epoch 5/20\n",
      "1/1 [==============================] - 2s 2s/step - loss: 2040.4429 - accuracy: 7.5585e-07\n",
      "Epoch 6/20\n",
      "1/1 [==============================] - 2s 2s/step - loss: 1108.3282 - accuracy: 7.5585e-07\n",
      "Epoch 7/20\n",
      "1/1 [==============================] - 2s 2s/step - loss: 325.3573 - accuracy: 7.5585e-07\n",
      "Epoch 8/20\n",
      "1/1 [==============================] - 2s 2s/step - loss: 352.6279 - accuracy: 7.5585e-07\n",
      "Epoch 9/20\n",
      "1/1 [==============================] - 2s 2s/step - loss: 1055.7200 - accuracy: 7.5585e-07\n",
      "Epoch 10/20\n",
      "1/1 [==============================] - 2s 2s/step - loss: 871.5175 - accuracy: 7.5585e-07\n",
      "Epoch 11/20\n",
      "1/1 [==============================] - 2s 2s/step - loss: 408.3801 - accuracy: 7.5585e-07\n",
      "Epoch 12/20\n",
      "1/1 [==============================] - 2s 2s/step - loss: 184.1448 - accuracy: 7.5585e-07\n",
      "Epoch 13/20\n",
      "1/1 [==============================] - 2s 2s/step - loss: 224.7331 - accuracy: 7.5585e-07\n",
      "Epoch 14/20\n",
      "1/1 [==============================] - 2s 2s/step - loss: 362.2637 - accuracy: 7.5585e-07\n",
      "Epoch 15/20\n",
      "1/1 [==============================] - 2s 2s/step - loss: 473.1779 - accuracy: 7.5585e-07\n",
      "Epoch 16/20\n",
      "1/1 [==============================] - 2s 2s/step - loss: 511.5410 - accuracy: 7.5585e-07\n",
      "Epoch 17/20\n",
      "1/1 [==============================] - 2s 2s/step - loss: 475.8918 - accuracy: 7.5585e-07\n",
      "Epoch 18/20\n",
      "1/1 [==============================] - 2s 2s/step - loss: 384.7411 - accuracy: 7.5585e-07\n",
      "Epoch 19/20\n",
      "1/1 [==============================] - 2s 2s/step - loss: 272.4694 - accuracy: 7.5585e-07\n",
      "Epoch 20/20\n",
      "1/1 [==============================] - 2s 2s/step - loss: 184.9815 - accuracy: 7.5585e-07\n",
      "Epoch 1/20\n",
      "1/1 [==============================] - 2s 2s/step - loss: 176.5921 - accuracy: 0.0000e+00\n",
      "Epoch 2/20\n",
      "1/1 [==============================] - 2s 2s/step - loss: 233.1904 - accuracy: 0.0000e+00\n",
      "Epoch 3/20\n",
      "1/1 [==============================] - 2s 2s/step - loss: 301.9108 - accuracy: 0.0000e+00\n",
      "Epoch 4/20\n",
      "1/1 [==============================] - 2s 2s/step - loss: 309.4470 - accuracy: 0.0000e+00\n",
      "Epoch 5/20\n",
      "1/1 [==============================] - 2s 2s/step - loss: 255.6747 - accuracy: 0.0000e+00\n",
      "Epoch 6/20\n",
      "1/1 [==============================] - 2s 2s/step - loss: 192.0399 - accuracy: 0.0000e+00\n",
      "Epoch 7/20\n",
      "1/1 [==============================] - 2s 2s/step - loss: 159.7717 - accuracy: 0.0000e+00\n",
      "Epoch 8/20\n",
      "1/1 [==============================] - 2s 2s/step - loss: 164.4255 - accuracy: 0.0000e+00\n",
      "Epoch 9/20\n",
      "1/1 [==============================] - 2s 2s/step - loss: 187.5133 - accuracy: 0.0000e+00\n",
      "Epoch 10/20\n",
      "1/1 [==============================] - 2s 2s/step - loss: 207.3217 - accuracy: 0.0000e+00\n",
      "Epoch 11/20\n",
      "1/1 [==============================] - 2s 2s/step - loss: 210.2368 - accuracy: 0.0000e+00\n",
      "Epoch 12/20\n",
      "1/1 [==============================] - 2s 2s/step - loss: 193.1829 - accuracy: 0.0000e+00\n",
      "Epoch 13/20\n",
      "1/1 [==============================] - 2s 2s/step - loss: 163.8944 - accuracy: 0.0000e+00\n",
      "Epoch 14/20\n",
      "1/1 [==============================] - 2s 2s/step - loss: 136.7188 - accuracy: 0.0000e+00\n",
      "Epoch 15/20\n",
      "1/1 [==============================] - 2s 2s/step - loss: 124.5837 - accuracy: 0.0000e+00\n",
      "Epoch 16/20\n",
      "1/1 [==============================] - 2s 2s/step - loss: 131.0101 - accuracy: 0.0000e+00\n",
      "Epoch 17/20\n",
      "1/1 [==============================] - 2s 2s/step - loss: 140.2778 - accuracy: 0.0000e+00\n",
      "Epoch 18/20\n",
      "1/1 [==============================] - 2s 2s/step - loss: 137.1120 - accuracy: 0.0000e+00\n",
      "Epoch 19/20\n",
      "1/1 [==============================] - 2s 2s/step - loss: 120.2548 - accuracy: 0.0000e+00\n",
      "Epoch 20/20\n",
      "1/1 [==============================] - 2s 2s/step - loss: 100.7855 - accuracy: 0.0000e+00\n",
      "/home/fdf7gn/data/UVaVoice/ConversationalSpeech-FunctioningLarynxes/2021-12-17_11-25-03.wav\n",
      "Epoch 1/20\n",
      "1/1 [==============================] - 2s 2s/step - loss: 92.8979 - accuracy: 7.5585e-07\n",
      "Epoch 2/20\n",
      "1/1 [==============================] - 2s 2s/step - loss: 93.7175 - accuracy: 7.5585e-07\n",
      "Epoch 3/20\n",
      "1/1 [==============================] - 2s 2s/step - loss: 96.7856 - accuracy: 7.5585e-07\n",
      "Epoch 4/20\n",
      "1/1 [==============================] - 2s 2s/step - loss: 93.4715 - accuracy: 7.5585e-07\n",
      "Epoch 5/20\n",
      "1/1 [==============================] - 2s 2s/step - loss: 83.9703 - accuracy: 7.5585e-07\n",
      "Epoch 6/20\n",
      "1/1 [==============================] - 2s 2s/step - loss: 73.9010 - accuracy: 7.5585e-07\n",
      "Epoch 7/20\n",
      "1/1 [==============================] - 2s 2s/step - loss: 69.1033 - accuracy: 7.5585e-07\n",
      "Epoch 8/20\n",
      "1/1 [==============================] - 2s 2s/step - loss: 70.7349 - accuracy: 7.5585e-07\n",
      "Epoch 9/20\n",
      "1/1 [==============================] - 2s 2s/step - loss: 73.7574 - accuracy: 7.5585e-07\n",
      "Epoch 10/20\n",
      "1/1 [==============================] - 2s 2s/step - loss: 72.9856 - accuracy: 7.5585e-07\n",
      "Epoch 11/20\n",
      "1/1 [==============================] - 2s 2s/step - loss: 68.8309 - accuracy: 7.5585e-07\n",
      "Epoch 12/20\n",
      "1/1 [==============================] - 2s 2s/step - loss: 65.4607 - accuracy: 7.5585e-07\n",
      "Epoch 13/20\n",
      "1/1 [==============================] - 2s 2s/step - loss: 65.3138 - accuracy: 7.5585e-07\n",
      "Epoch 14/20\n",
      "1/1 [==============================] - 2s 2s/step - loss: 66.0402 - accuracy: 7.5585e-07\n",
      "Epoch 15/20\n",
      "1/1 [==============================] - 2s 2s/step - loss: 65.2402 - accuracy: 7.5585e-07\n",
      "Epoch 16/20\n",
      "1/1 [==============================] - 2s 2s/step - loss: 62.4408 - accuracy: 7.5585e-07\n",
      "Epoch 17/20\n",
      "1/1 [==============================] - 2s 2s/step - loss: 59.0704 - accuracy: 7.5585e-07\n",
      "Epoch 18/20\n",
      "1/1 [==============================] - 2s 2s/step - loss: 56.5209 - accuracy: 7.5585e-07\n",
      "Epoch 19/20\n",
      "1/1 [==============================] - 2s 2s/step - loss: 55.4014 - accuracy: 7.5585e-07\n",
      "Epoch 20/20\n",
      "1/1 [==============================] - 2s 2s/step - loss: 55.1190 - accuracy: 7.5585e-07\n",
      "Epoch 1/20\n",
      "1/1 [==============================] - 2s 2s/step - loss: 52.5733 - accuracy: 7.5585e-07\n",
      "Epoch 2/20\n",
      "1/1 [==============================] - 2s 2s/step - loss: 51.1187 - accuracy: 7.5585e-07\n",
      "Epoch 3/20\n",
      "1/1 [==============================] - 2s 2s/step - loss: 49.3570 - accuracy: 7.5585e-07\n",
      "Epoch 4/20\n",
      "1/1 [==============================] - 2s 2s/step - loss: 48.0227 - accuracy: 7.5585e-07\n",
      "Epoch 5/20\n",
      "1/1 [==============================] - 2s 2s/step - loss: 47.2550 - accuracy: 7.5585e-07\n",
      "Epoch 6/20\n",
      "1/1 [==============================] - 2s 2s/step - loss: 46.4583 - accuracy: 7.5585e-07\n",
      "Epoch 7/20\n",
      "1/1 [==============================] - 2s 2s/step - loss: 45.2843 - accuracy: 7.5585e-07\n",
      "Epoch 8/20\n",
      "1/1 [==============================] - 2s 2s/step - loss: 44.0933 - accuracy: 7.5585e-07\n",
      "Epoch 9/20\n",
      "1/1 [==============================] - 2s 2s/step - loss: 43.3085 - accuracy: 7.5585e-07\n",
      "Epoch 10/20\n",
      "1/1 [==============================] - 2s 2s/step - loss: 42.6862 - accuracy: 7.5585e-07\n",
      "Epoch 11/20\n",
      "1/1 [==============================] - 2s 2s/step - loss: 41.7379 - accuracy: 7.5585e-07\n",
      "Epoch 12/20\n",
      "1/1 [==============================] - 2s 2s/step - loss: 40.6040 - accuracy: 7.5585e-07\n",
      "Epoch 13/20\n",
      "1/1 [==============================] - 2s 2s/step - loss: 39.7007 - accuracy: 7.5585e-07\n",
      "Epoch 14/20\n",
      "1/1 [==============================] - 2s 2s/step - loss: 38.9168 - accuracy: 7.5585e-07\n",
      "Epoch 15/20\n",
      "1/1 [==============================] - 2s 2s/step - loss: 37.8983 - accuracy: 7.5585e-07\n",
      "Epoch 16/20\n",
      "1/1 [==============================] - 2s 2s/step - loss: 36.7302 - accuracy: 7.5585e-07\n",
      "Epoch 17/20\n",
      "1/1 [==============================] - 2s 2s/step - loss: 35.7761 - accuracy: 7.5585e-07\n",
      "Epoch 18/20\n",
      "1/1 [==============================] - 2s 2s/step - loss: 34.8590 - accuracy: 7.5585e-07\n",
      "Epoch 19/20\n",
      "1/1 [==============================] - 2s 2s/step - loss: 33.5558 - accuracy: 7.5585e-07\n",
      "Epoch 20/20\n",
      "1/1 [==============================] - 2s 2s/step - loss: 32.2351 - accuracy: 7.5585e-07\n",
      "/home/fdf7gn/data/UVaVoice/ConversationalSpeech-FunctioningLarynxes/2021-12-17_11-33-43.wav\n",
      "Epoch 1/20\n",
      "1/1 [==============================] - 2s 2s/step - loss: 30.2216 - accuracy: 7.5585e-07\n",
      "Epoch 2/20\n",
      "1/1 [==============================] - 2s 2s/step - loss: 29.2464 - accuracy: 7.5585e-07\n",
      "Epoch 3/20\n",
      "1/1 [==============================] - 2s 2s/step - loss: 28.1712 - accuracy: 7.5585e-07\n",
      "Epoch 4/20\n",
      "1/1 [==============================] - 2s 2s/step - loss: 27.0431 - accuracy: 7.5585e-07\n",
      "Epoch 5/20\n",
      "1/1 [==============================] - 2s 2s/step - loss: 26.5726 - accuracy: 7.5585e-07\n",
      "Epoch 6/20\n",
      "1/1 [==============================] - 2s 2s/step - loss: 25.1534 - accuracy: 7.5585e-07\n",
      "Epoch 7/20\n",
      "1/1 [==============================] - 2s 2s/step - loss: 23.7705 - accuracy: 7.5585e-07\n",
      "Epoch 8/20\n",
      "1/1 [==============================] - 2s 2s/step - loss: 22.9548 - accuracy: 7.5585e-07\n",
      "Epoch 9/20\n",
      "1/1 [==============================] - 2s 2s/step - loss: 21.9781 - accuracy: 7.5585e-07\n",
      "Epoch 10/20\n",
      "1/1 [==============================] - 2s 2s/step - loss: 21.0599 - accuracy: 7.5585e-07\n",
      "Epoch 11/20\n",
      "1/1 [==============================] - 2s 2s/step - loss: 20.4824 - accuracy: 7.5585e-07\n",
      "Epoch 12/20\n",
      "1/1 [==============================] - 2s 2s/step - loss: 19.7721 - accuracy: 7.5585e-07\n",
      "Epoch 13/20\n",
      "1/1 [==============================] - 2s 2s/step - loss: 19.0146 - accuracy: 7.5585e-07\n",
      "Epoch 14/20\n",
      "1/1 [==============================] - 2s 2s/step - loss: 18.4186 - accuracy: 7.5585e-07\n",
      "Epoch 15/20\n",
      "1/1 [==============================] - 2s 2s/step - loss: 17.7580 - accuracy: 7.5585e-07\n",
      "Epoch 16/20\n",
      "1/1 [==============================] - 2s 2s/step - loss: 17.0406 - accuracy: 7.5585e-07\n",
      "Epoch 17/20\n",
      "1/1 [==============================] - 2s 2s/step - loss: 16.4109 - accuracy: 7.5585e-07\n",
      "Epoch 18/20\n",
      "1/1 [==============================] - 2s 2s/step - loss: 15.8788 - accuracy: 7.5585e-07\n",
      "Epoch 19/20\n",
      "1/1 [==============================] - 2s 2s/step - loss: 15.3559 - accuracy: 7.5585e-07\n",
      "Epoch 20/20\n",
      "1/1 [==============================] - 2s 2s/step - loss: 14.7809 - accuracy: 7.5585e-07\n",
      "Epoch 1/20\n",
      "1/1 [==============================] - 2s 2s/step - loss: 14.2715 - accuracy: 7.5585e-07\n",
      "Epoch 2/20\n",
      "1/1 [==============================] - 2s 2s/step - loss: 13.8007 - accuracy: 7.5585e-07\n",
      "Epoch 3/20\n",
      "1/1 [==============================] - 2s 2s/step - loss: 13.3876 - accuracy: 7.5585e-07\n",
      "Epoch 4/20\n",
      "1/1 [==============================] - 2s 2s/step - loss: 13.0198 - accuracy: 7.5585e-07\n",
      "Epoch 5/20\n",
      "1/1 [==============================] - 2s 2s/step - loss: 12.6859 - accuracy: 7.5585e-07\n",
      "Epoch 6/20\n",
      "1/1 [==============================] - 2s 2s/step - loss: 12.4282 - accuracy: 7.5585e-07\n",
      "Epoch 7/20\n",
      "1/1 [==============================] - 2s 2s/step - loss: 12.1258 - accuracy: 7.5585e-07\n",
      "Epoch 8/20\n",
      "1/1 [==============================] - 2s 2s/step - loss: 11.7705 - accuracy: 7.5585e-07\n",
      "Epoch 9/20\n",
      "1/1 [==============================] - 2s 2s/step - loss: 11.3248 - accuracy: 7.5585e-07\n",
      "Epoch 10/20\n",
      "1/1 [==============================] - 2s 2s/step - loss: 11.0119 - accuracy: 7.5585e-07\n",
      "Epoch 11/20\n",
      "1/1 [==============================] - 2s 2s/step - loss: 10.8532 - accuracy: 7.5585e-07\n",
      "Epoch 12/20\n",
      "1/1 [==============================] - 2s 2s/step - loss: 10.6962 - accuracy: 7.5585e-07\n",
      "Epoch 13/20\n",
      "1/1 [==============================] - 2s 2s/step - loss: 10.4520 - accuracy: 7.5585e-07\n",
      "Epoch 14/20\n",
      "1/1 [==============================] - 2s 2s/step - loss: 10.1244 - accuracy: 7.5585e-07\n",
      "Epoch 15/20\n",
      "1/1 [==============================] - 2s 2s/step - loss: 9.8668 - accuracy: 7.5585e-07\n",
      "Epoch 16/20\n",
      "1/1 [==============================] - 2s 2s/step - loss: 9.7134 - accuracy: 7.5585e-07\n",
      "Epoch 17/20\n",
      "1/1 [==============================] - 2s 2s/step - loss: 9.5976 - accuracy: 7.5585e-07\n",
      "Epoch 18/20\n",
      "1/1 [==============================] - 2s 2s/step - loss: 9.4627 - accuracy: 7.5585e-07\n",
      "Epoch 19/20\n",
      "1/1 [==============================] - 2s 2s/step - loss: 9.2440 - accuracy: 7.5585e-07\n",
      "Epoch 20/20\n",
      "1/1 [==============================] - 2s 2s/step - loss: 8.9855 - accuracy: 7.5585e-07\n",
      "/home/fdf7gn/data/UVaVoice/ConversationalSpeech-FunctioningLarynxes/2021-12-17_11-35-28.wav\n",
      "Epoch 1/20\n",
      "1/1 [==============================] - 2s 2s/step - loss: 9.4284 - accuracy: 0.0000e+00\n",
      "Epoch 2/20\n",
      "1/1 [==============================] - 2s 2s/step - loss: 9.2235 - accuracy: 0.0000e+00\n",
      "Epoch 3/20\n",
      "1/1 [==============================] - 2s 2s/step - loss: 9.0673 - accuracy: 0.0000e+00\n",
      "Epoch 4/20\n",
      "1/1 [==============================] - 2s 2s/step - loss: 8.9372 - accuracy: 0.0000e+00\n",
      "Epoch 5/20\n",
      "1/1 [==============================] - 2s 2s/step - loss: 8.8152 - accuracy: 0.0000e+00\n",
      "Epoch 6/20\n",
      "1/1 [==============================] - 2s 2s/step - loss: 8.6730 - accuracy: 0.0000e+00\n",
      "Epoch 7/20\n",
      "1/1 [==============================] - 2s 2s/step - loss: 8.5189 - accuracy: 0.0000e+00\n",
      "Epoch 8/20\n",
      "1/1 [==============================] - 2s 2s/step - loss: 8.3598 - accuracy: 0.0000e+00\n",
      "Epoch 9/20\n",
      "1/1 [==============================] - 2s 2s/step - loss: 8.2030 - accuracy: 0.0000e+00\n",
      "Epoch 10/20\n",
      "1/1 [==============================] - 2s 2s/step - loss: 8.0501 - accuracy: 0.0000e+00\n",
      "Epoch 11/20\n",
      "1/1 [==============================] - 2s 2s/step - loss: 7.9085 - accuracy: 0.0000e+00\n",
      "Epoch 12/20\n",
      "1/1 [==============================] - 2s 2s/step - loss: 7.7733 - accuracy: 0.0000e+00\n",
      "Epoch 13/20\n",
      "1/1 [==============================] - 2s 2s/step - loss: 7.6425 - accuracy: 0.0000e+00\n",
      "Epoch 14/20\n",
      "1/1 [==============================] - 2s 2s/step - loss: 7.5183 - accuracy: 0.0000e+00\n",
      "Epoch 15/20\n",
      "1/1 [==============================] - 2s 2s/step - loss: 7.3980 - accuracy: 0.0000e+00\n",
      "Epoch 16/20\n",
      "1/1 [==============================] - 2s 2s/step - loss: 7.2818 - accuracy: 0.0000e+00\n",
      "Epoch 17/20\n",
      "1/1 [==============================] - 2s 2s/step - loss: 7.1716 - accuracy: 0.0000e+00\n",
      "Epoch 18/20\n",
      "1/1 [==============================] - 2s 2s/step - loss: 7.0650 - accuracy: 0.0000e+00\n",
      "Epoch 19/20\n",
      "1/1 [==============================] - 2s 2s/step - loss: 6.9620 - accuracy: 0.0000e+00\n",
      "Epoch 20/20\n",
      "1/1 [==============================] - 2s 2s/step - loss: 6.8640 - accuracy: 0.0000e+00\n",
      "Epoch 1/20\n",
      "1/1 [==============================] - 2s 2s/step - loss: 6.6327 - accuracy: 7.5585e-07\n",
      "Epoch 2/20\n",
      "1/1 [==============================] - 2s 2s/step - loss: 6.5433 - accuracy: 7.5585e-07\n",
      "Epoch 3/20\n",
      "1/1 [==============================] - 2s 2s/step - loss: 6.4636 - accuracy: 7.5585e-07\n",
      "Epoch 4/20\n",
      "1/1 [==============================] - 2s 2s/step - loss: 6.4036 - accuracy: 7.5585e-07\n",
      "Epoch 5/20\n",
      "1/1 [==============================] - 2s 2s/step - loss: 6.3908 - accuracy: 7.5585e-07\n",
      "Epoch 6/20\n",
      "1/1 [==============================] - 2s 2s/step - loss: 6.4950 - accuracy: 7.5585e-07\n",
      "Epoch 7/20\n",
      "1/1 [==============================] - 2s 2s/step - loss: 6.7761 - accuracy: 7.5585e-07\n",
      "Epoch 8/20\n",
      "1/1 [==============================] - 2s 2s/step - loss: 7.1791 - accuracy: 7.5585e-07\n",
      "Epoch 9/20\n",
      "1/1 [==============================] - 2s 2s/step - loss: 6.8879 - accuracy: 7.5585e-07\n",
      "Epoch 10/20\n",
      "1/1 [==============================] - 2s 2s/step - loss: 6.1244 - accuracy: 7.5585e-07\n",
      "Epoch 11/20\n",
      "1/1 [==============================] - 2s 2s/step - loss: 5.9283 - accuracy: 7.5585e-07\n",
      "Epoch 12/20\n",
      "1/1 [==============================] - 2s 2s/step - loss: 6.3640 - accuracy: 7.5585e-07\n",
      "Epoch 13/20\n",
      "1/1 [==============================] - 2s 2s/step - loss: 6.2923 - accuracy: 7.5585e-07\n",
      "Epoch 14/20\n",
      "1/1 [==============================] - 2s 2s/step - loss: 5.7299 - accuracy: 7.5585e-07\n",
      "Epoch 15/20\n",
      "1/1 [==============================] - 2s 2s/step - loss: 5.8418 - accuracy: 7.5585e-07\n",
      "Epoch 16/20\n",
      "1/1 [==============================] - 2s 2s/step - loss: 6.0751 - accuracy: 7.5585e-07\n",
      "Epoch 17/20\n",
      "1/1 [==============================] - 2s 2s/step - loss: 5.6736 - accuracy: 7.5585e-07\n",
      "Epoch 18/20\n",
      "1/1 [==============================] - 2s 2s/step - loss: 5.5450 - accuracy: 7.5585e-07\n",
      "Epoch 19/20\n",
      "1/1 [==============================] - 2s 2s/step - loss: 5.7768 - accuracy: 7.5585e-07\n",
      "Epoch 20/20\n",
      "1/1 [==============================] - 2s 2s/step - loss: 5.5738 - accuracy: 7.5585e-07\n",
      "/home/fdf7gn/data/UVaVoice/ConversationalSpeech-FunctioningLarynxes/2021-12-17_11-23-57.wav\n",
      "Epoch 1/20\n",
      "1/1 [==============================] - 2s 2s/step - loss: 5.5472 - accuracy: 7.5585e-07\n",
      "Epoch 2/20\n",
      "1/1 [==============================] - 2s 2s/step - loss: 5.7112 - accuracy: 7.5585e-07\n",
      "Epoch 3/20\n",
      "1/1 [==============================] - 2s 2s/step - loss: 5.5525 - accuracy: 7.5585e-07\n",
      "Epoch 4/20\n",
      "1/1 [==============================] - 2s 2s/step - loss: 5.4159 - accuracy: 7.5585e-07\n",
      "Epoch 5/20\n",
      "1/1 [==============================] - 2s 2s/step - loss: 5.5218 - accuracy: 7.5585e-07\n",
      "Epoch 6/20\n",
      "1/1 [==============================] - 2s 2s/step - loss: 5.3734 - accuracy: 7.5585e-07\n",
      "Epoch 7/20\n",
      "1/1 [==============================] - 2s 2s/step - loss: 5.2891 - accuracy: 7.5585e-07\n",
      "Epoch 8/20\n",
      "1/1 [==============================] - 2s 2s/step - loss: 5.3530 - accuracy: 7.5585e-07\n",
      "Epoch 9/20\n",
      "1/1 [==============================] - 2s 2s/step - loss: 5.2255 - accuracy: 7.5585e-07\n",
      "Epoch 10/20\n",
      "1/1 [==============================] - 2s 2s/step - loss: 5.1660 - accuracy: 7.5585e-07\n",
      "Epoch 11/20\n",
      "1/1 [==============================] - 2s 2s/step - loss: 5.2015 - accuracy: 7.5585e-07\n",
      "Epoch 12/20\n",
      "1/1 [==============================] - 2s 2s/step - loss: 5.0966 - accuracy: 7.5585e-07\n",
      "Epoch 13/20\n",
      "1/1 [==============================] - 2s 2s/step - loss: 5.0455 - accuracy: 7.5585e-07\n",
      "Epoch 14/20\n",
      "1/1 [==============================] - 2s 2s/step - loss: 5.0637 - accuracy: 7.5585e-07\n",
      "Epoch 15/20\n",
      "1/1 [==============================] - 2s 2s/step - loss: 4.9807 - accuracy: 7.5585e-07\n",
      "Epoch 16/20\n",
      "1/1 [==============================] - 2s 2s/step - loss: 4.9293 - accuracy: 7.5585e-07\n",
      "Epoch 17/20\n",
      "1/1 [==============================] - 2s 2s/step - loss: 4.9367 - accuracy: 7.5585e-07\n",
      "Epoch 18/20\n",
      "1/1 [==============================] - 2s 2s/step - loss: 4.8741 - accuracy: 7.5585e-07\n",
      "Epoch 19/20\n",
      "1/1 [==============================] - 2s 2s/step - loss: 4.8194 - accuracy: 7.5585e-07\n",
      "Epoch 20/20\n",
      "1/1 [==============================] - 2s 2s/step - loss: 4.8172 - accuracy: 7.5585e-07\n",
      "Epoch 1/20\n",
      "1/1 [==============================] - 2s 2s/step - loss: 4.5778 - accuracy: 7.5585e-07\n",
      "Epoch 2/20\n",
      "1/1 [==============================] - 2s 2s/step - loss: 4.5232 - accuracy: 7.5585e-07\n",
      "Epoch 3/20\n",
      "1/1 [==============================] - 2s 2s/step - loss: 4.5064 - accuracy: 7.5585e-07\n",
      "Epoch 4/20\n",
      "1/1 [==============================] - 2s 2s/step - loss: 4.4859 - accuracy: 7.5585e-07\n",
      "Epoch 5/20\n",
      "1/1 [==============================] - 2s 2s/step - loss: 4.4375 - accuracy: 7.5585e-07\n",
      "Epoch 6/20\n",
      "1/1 [==============================] - 2s 2s/step - loss: 4.3993 - accuracy: 7.5585e-07\n",
      "Epoch 7/20\n",
      "1/1 [==============================] - 2s 2s/step - loss: 4.3847 - accuracy: 7.5585e-07\n",
      "Epoch 8/20\n",
      "1/1 [==============================] - 2s 2s/step - loss: 4.3613 - accuracy: 7.5585e-07\n",
      "Epoch 9/20\n",
      "1/1 [==============================] - 2s 2s/step - loss: 4.3207 - accuracy: 7.5585e-07\n",
      "Epoch 10/20\n",
      "1/1 [==============================] - 2s 2s/step - loss: 4.2890 - accuracy: 7.5585e-07\n",
      "Epoch 11/20\n",
      "1/1 [==============================] - 2s 2s/step - loss: 4.2709 - accuracy: 7.5585e-07\n",
      "Epoch 12/20\n",
      "1/1 [==============================] - 2s 2s/step - loss: 4.2461 - accuracy: 7.5585e-07\n",
      "Epoch 13/20\n",
      "1/1 [==============================] - 2s 2s/step - loss: 4.2104 - accuracy: 7.5585e-07\n",
      "Epoch 14/20\n",
      "1/1 [==============================] - 2s 2s/step - loss: 4.1790 - accuracy: 7.5585e-07\n",
      "Epoch 15/20\n",
      "1/1 [==============================] - 2s 2s/step - loss: 4.1579 - accuracy: 7.5585e-07\n",
      "Epoch 16/20\n",
      "1/1 [==============================] - 2s 2s/step - loss: 4.1363 - accuracy: 7.5585e-07\n",
      "Epoch 17/20\n",
      "1/1 [==============================] - 2s 2s/step - loss: 4.1070 - accuracy: 7.5585e-07\n",
      "Epoch 18/20\n",
      "1/1 [==============================] - 2s 2s/step - loss: 4.0767 - accuracy: 7.5585e-07\n",
      "Epoch 19/20\n",
      "1/1 [==============================] - 2s 2s/step - loss: 4.0524 - accuracy: 7.5585e-07\n",
      "Epoch 20/20\n",
      "1/1 [==============================] - 2s 2s/step - loss: 4.0314 - accuracy: 7.5585e-07\n",
      "/home/fdf7gn/data/UVaVoice/ConversationalSpeech-FunctioningLarynxes/2021-12-17_11-27-18.wav\n",
      "Epoch 1/20\n",
      "1/1 [==============================] - 2s 2s/step - loss: 4.3887 - accuracy: 0.0000e+00\n",
      "Epoch 2/20\n",
      "1/1 [==============================] - 2s 2s/step - loss: 4.3578 - accuracy: 0.0000e+00\n",
      "Epoch 3/20\n",
      "1/1 [==============================] - 2s 2s/step - loss: 4.3269 - accuracy: 0.0000e+00\n",
      "Epoch 4/20\n",
      "1/1 [==============================] - 2s 2s/step - loss: 4.3008 - accuracy: 0.0000e+00\n",
      "Epoch 5/20\n",
      "1/1 [==============================] - 2s 2s/step - loss: 4.2757 - accuracy: 0.0000e+00\n",
      "Epoch 6/20\n",
      "1/1 [==============================] - 2s 2s/step - loss: 4.2471 - accuracy: 0.0000e+00\n",
      "Epoch 7/20\n",
      "1/1 [==============================] - 2s 2s/step - loss: 4.2166 - accuracy: 0.0000e+00\n",
      "Epoch 8/20\n",
      "1/1 [==============================] - 2s 2s/step - loss: 4.1880 - accuracy: 0.0000e+00\n",
      "Epoch 9/20\n",
      "1/1 [==============================] - 2s 2s/step - loss: 4.1617 - accuracy: 0.0000e+00\n",
      "Epoch 10/20\n",
      "1/1 [==============================] - 2s 2s/step - loss: 4.1349 - accuracy: 0.0000e+00\n",
      "Epoch 11/20\n",
      "1/1 [==============================] - 2s 2s/step - loss: 4.1059 - accuracy: 0.0000e+00\n",
      "Epoch 12/20\n",
      "1/1 [==============================] - 2s 2s/step - loss: 4.0758 - accuracy: 0.0000e+00\n",
      "Epoch 13/20\n",
      "1/1 [==============================] - 2s 2s/step - loss: 4.0470 - accuracy: 0.0000e+00\n",
      "Epoch 14/20\n",
      "1/1 [==============================] - 2s 2s/step - loss: 4.0198 - accuracy: 0.0000e+00\n",
      "Epoch 15/20\n",
      "1/1 [==============================] - 2s 2s/step - loss: 3.9930 - accuracy: 0.0000e+00\n",
      "Epoch 16/20\n",
      "1/1 [==============================] - 2s 2s/step - loss: 3.9652 - accuracy: 0.0000e+00\n",
      "Epoch 17/20\n",
      "1/1 [==============================] - 2s 2s/step - loss: 3.9364 - accuracy: 0.0000e+00\n",
      "Epoch 18/20\n",
      "1/1 [==============================] - 2s 2s/step - loss: 3.9074 - accuracy: 0.0000e+00\n",
      "Epoch 19/20\n",
      "1/1 [==============================] - 2s 2s/step - loss: 3.8789 - accuracy: 0.0000e+00\n",
      "Epoch 20/20\n",
      "1/1 [==============================] - 2s 2s/step - loss: 3.8511 - accuracy: 0.0000e+00\n",
      "Epoch 1/20\n",
      "1/1 [==============================] - 2s 2s/step - loss: 3.4690 - accuracy: 7.5585e-07\n",
      "Epoch 2/20\n",
      "1/1 [==============================] - 2s 2s/step - loss: 3.4465 - accuracy: 7.5585e-07\n",
      "Epoch 3/20\n",
      "1/1 [==============================] - 2s 2s/step - loss: 3.4258 - accuracy: 7.5585e-07\n",
      "Epoch 4/20\n",
      "1/1 [==============================] - 2s 2s/step - loss: 3.4084 - accuracy: 7.5585e-07\n",
      "Epoch 5/20\n",
      "1/1 [==============================] - 2s 2s/step - loss: 3.3983 - accuracy: 7.5585e-07\n",
      "Epoch 6/20\n",
      "1/1 [==============================] - 2s 2s/step - loss: 3.4033 - accuracy: 7.5585e-07\n",
      "Epoch 7/20\n",
      "1/1 [==============================] - 2s 2s/step - loss: 3.4431 - accuracy: 7.5585e-07\n",
      "Epoch 8/20\n",
      "1/1 [==============================] - 2s 2s/step - loss: 3.5512 - accuracy: 7.5585e-07\n",
      "Epoch 9/20\n",
      "1/1 [==============================] - 2s 2s/step - loss: 3.8053 - accuracy: 7.5585e-07\n",
      "Epoch 10/20\n",
      "1/1 [==============================] - 2s 2s/step - loss: 4.2088 - accuracy: 7.5585e-07\n",
      "Epoch 11/20\n",
      "1/1 [==============================] - 2s 2s/step - loss: 4.7118 - accuracy: 7.5585e-07\n",
      "Epoch 12/20\n",
      "1/1 [==============================] - 2s 2s/step - loss: 4.5610 - accuracy: 7.5585e-07\n",
      "Epoch 13/20\n",
      "1/1 [==============================] - 2s 2s/step - loss: 3.8219 - accuracy: 7.5585e-07\n",
      "Epoch 14/20\n",
      "1/1 [==============================] - 2s 2s/step - loss: 3.1874 - accuracy: 7.5585e-07\n",
      "Epoch 15/20\n",
      "1/1 [==============================] - 2s 2s/step - loss: 3.4528 - accuracy: 7.5585e-07\n",
      "Epoch 16/20\n",
      "1/1 [==============================] - 2s 2s/step - loss: 3.9540 - accuracy: 7.5585e-07\n",
      "Epoch 17/20\n",
      "1/1 [==============================] - 2s 2s/step - loss: 3.6794 - accuracy: 7.5585e-07\n",
      "Epoch 18/20\n",
      "1/1 [==============================] - 2s 2s/step - loss: 3.1485 - accuracy: 7.5585e-07\n",
      "Epoch 19/20\n",
      "1/1 [==============================] - 2s 2s/step - loss: 3.2082 - accuracy: 7.5585e-07\n",
      "Epoch 20/20\n",
      "1/1 [==============================] - 2s 2s/step - loss: 3.5374 - accuracy: 7.5585e-07\n",
      "/home/fdf7gn/data/UVaVoice/ConversationalSpeech-FunctioningLarynxes/2021-12-17_11-30-22.wav\n",
      "Epoch 1/20\n",
      "1/1 [==============================] - 2s 2s/step - loss: 3.4961 - accuracy: 7.5585e-07\n",
      "Epoch 2/20\n",
      "1/1 [==============================] - 2s 2s/step - loss: 3.1311 - accuracy: 7.5585e-07\n",
      "Epoch 3/20\n",
      "1/1 [==============================] - 2s 2s/step - loss: 3.1821 - accuracy: 7.5585e-07\n",
      "Epoch 4/20\n",
      "1/1 [==============================] - 2s 2s/step - loss: 3.4002 - accuracy: 7.5585e-07\n",
      "Epoch 5/20\n",
      "1/1 [==============================] - 2s 2s/step - loss: 3.2535 - accuracy: 7.5585e-07\n",
      "Epoch 6/20\n",
      "1/1 [==============================] - 2s 2s/step - loss: 3.0256 - accuracy: 7.5585e-07\n",
      "Epoch 7/20\n",
      "1/1 [==============================] - 2s 2s/step - loss: 3.0933 - accuracy: 7.5585e-07\n",
      "Epoch 8/20\n",
      "1/1 [==============================] - 2s 2s/step - loss: 3.2020 - accuracy: 7.5585e-07\n",
      "Epoch 9/20\n",
      "1/1 [==============================] - 2s 2s/step - loss: 3.0769 - accuracy: 7.5585e-07\n",
      "Epoch 10/20\n",
      "1/1 [==============================] - 2s 2s/step - loss: 2.9377 - accuracy: 7.5585e-07\n",
      "Epoch 11/20\n",
      "1/1 [==============================] - 2s 2s/step - loss: 3.0015 - accuracy: 7.5585e-07\n",
      "Epoch 12/20\n",
      "1/1 [==============================] - 2s 2s/step - loss: 3.0540 - accuracy: 7.5585e-07\n",
      "Epoch 13/20\n",
      "1/1 [==============================] - 2s 2s/step - loss: 2.9384 - accuracy: 7.5585e-07\n",
      "Epoch 14/20\n",
      "1/1 [==============================] - 2s 2s/step - loss: 2.8570 - accuracy: 7.5585e-07\n",
      "Epoch 15/20\n",
      "1/1 [==============================] - 2s 2s/step - loss: 2.9057 - accuracy: 7.5585e-07\n",
      "Epoch 16/20\n",
      "1/1 [==============================] - 2s 2s/step - loss: 2.9164 - accuracy: 7.5585e-07\n",
      "Epoch 17/20\n",
      "1/1 [==============================] - 2s 2s/step - loss: 2.8292 - accuracy: 7.5585e-07\n",
      "Epoch 18/20\n",
      "1/1 [==============================] - 2s 2s/step - loss: 2.7769 - accuracy: 7.5585e-07\n",
      "Epoch 19/20\n",
      "1/1 [==============================] - 2s 2s/step - loss: 2.8051 - accuracy: 7.5585e-07\n",
      "Epoch 20/20\n",
      "1/1 [==============================] - 2s 2s/step - loss: 2.8036 - accuracy: 7.5585e-07\n",
      "Epoch 1/20\n",
      "1/1 [==============================] - 2s 2s/step - loss: 2.6669 - accuracy: 7.5585e-07\n",
      "Epoch 2/20\n",
      "1/1 [==============================] - 2s 2s/step - loss: 2.6268 - accuracy: 7.5585e-07\n",
      "Epoch 3/20\n",
      "1/1 [==============================] - 2s 2s/step - loss: 2.6400 - accuracy: 7.5585e-07\n",
      "Epoch 4/20\n",
      "1/1 [==============================] - 2s 2s/step - loss: 2.6303 - accuracy: 7.5585e-07\n",
      "Epoch 5/20\n",
      "1/1 [==============================] - 2s 2s/step - loss: 2.5795 - accuracy: 7.5585e-07\n",
      "Epoch 6/20\n",
      "1/1 [==============================] - 2s 2s/step - loss: 2.5467 - accuracy: 7.5585e-07\n",
      "Epoch 7/20\n",
      "1/1 [==============================] - 2s 2s/step - loss: 2.5483 - accuracy: 7.5585e-07\n",
      "Epoch 8/20\n",
      "1/1 [==============================] - 2s 2s/step - loss: 2.5371 - accuracy: 7.5585e-07\n",
      "Epoch 9/20\n",
      "1/1 [==============================] - 2s 2s/step - loss: 2.4971 - accuracy: 7.5585e-07\n",
      "Epoch 10/20\n",
      "1/1 [==============================] - 2s 2s/step - loss: 2.4659 - accuracy: 7.5585e-07\n",
      "Epoch 11/20\n",
      "1/1 [==============================] - 2s 2s/step - loss: 2.4584 - accuracy: 7.5585e-07\n",
      "Epoch 12/20\n",
      "1/1 [==============================] - 2s 2s/step - loss: 2.4471 - accuracy: 7.5585e-07\n",
      "Epoch 13/20\n",
      "1/1 [==============================] - 2s 2s/step - loss: 2.4167 - accuracy: 7.5585e-07\n",
      "Epoch 14/20\n",
      "1/1 [==============================] - 2s 2s/step - loss: 2.3857 - accuracy: 7.5585e-07\n",
      "Epoch 15/20\n",
      "1/1 [==============================] - 2s 2s/step - loss: 2.3705 - accuracy: 7.5585e-07\n",
      "Epoch 16/20\n",
      "1/1 [==============================] - 2s 2s/step - loss: 2.3590 - accuracy: 7.5585e-07\n",
      "Epoch 17/20\n",
      "1/1 [==============================] - 2s 2s/step - loss: 2.3359 - accuracy: 7.5585e-07\n",
      "Epoch 18/20\n",
      "1/1 [==============================] - 2s 2s/step - loss: 2.3067 - accuracy: 7.5585e-07\n",
      "Epoch 19/20\n",
      "1/1 [==============================] - 2s 2s/step - loss: 2.2848 - accuracy: 7.5585e-07\n",
      "Epoch 20/20\n",
      "1/1 [==============================] - 2s 2s/step - loss: 2.2702 - accuracy: 7.5585e-07\n",
      "/home/fdf7gn/data/UVaVoice/ConversationalSpeech-FunctioningLarynxes/2021-12-17_11-29-13.wav\n",
      "Epoch 1/20\n",
      "1/1 [==============================] - 2s 2s/step - loss: 2.3271 - accuracy: 7.5585e-07\n",
      "Epoch 2/20\n",
      "1/1 [==============================] - 2s 2s/step - loss: 2.3006 - accuracy: 7.5585e-07\n",
      "Epoch 3/20\n",
      "1/1 [==============================] - 2s 2s/step - loss: 2.2751 - accuracy: 7.5585e-07\n",
      "Epoch 4/20\n",
      "1/1 [==============================] - 2s 2s/step - loss: 2.2559 - accuracy: 7.5585e-07\n",
      "Epoch 5/20\n",
      "1/1 [==============================] - 2s 2s/step - loss: 2.2375 - accuracy: 7.5585e-07\n",
      "Epoch 6/20\n",
      "1/1 [==============================] - 2s 2s/step - loss: 2.2145 - accuracy: 7.5585e-07\n",
      "Epoch 7/20\n",
      "1/1 [==============================] - 2s 2s/step - loss: 2.1890 - accuracy: 7.5585e-07\n",
      "Epoch 8/20\n",
      "1/1 [==============================] - 2s 2s/step - loss: 2.1663 - accuracy: 7.5585e-07\n",
      "Epoch 9/20\n",
      "1/1 [==============================] - 2s 2s/step - loss: 2.1467 - accuracy: 7.5585e-07\n",
      "Epoch 10/20\n",
      "1/1 [==============================] - 2s 2s/step - loss: 2.1267 - accuracy: 7.5585e-07\n",
      "Epoch 11/20\n",
      "1/1 [==============================] - 2s 2s/step - loss: 2.1041 - accuracy: 7.5585e-07\n",
      "Epoch 12/20\n",
      "1/1 [==============================] - 2s 2s/step - loss: 2.0806 - accuracy: 7.5585e-07\n",
      "Epoch 13/20\n",
      "1/1 [==============================] - 2s 2s/step - loss: 2.0587 - accuracy: 7.5585e-07\n",
      "Epoch 14/20\n",
      "1/1 [==============================] - 2s 2s/step - loss: 2.0390 - accuracy: 7.5585e-07\n",
      "Epoch 15/20\n",
      "1/1 [==============================] - 2s 2s/step - loss: 2.0202 - accuracy: 7.5585e-07\n",
      "Epoch 16/20\n",
      "1/1 [==============================] - 2s 2s/step - loss: 2.0006 - accuracy: 7.5585e-07\n",
      "Epoch 17/20\n",
      "1/1 [==============================] - 2s 2s/step - loss: 1.9801 - accuracy: 7.5585e-07\n",
      "Epoch 18/20\n",
      "1/1 [==============================] - 2s 2s/step - loss: 1.9593 - accuracy: 7.5585e-07\n",
      "Epoch 19/20\n",
      "1/1 [==============================] - 2s 2s/step - loss: 1.9388 - accuracy: 7.5585e-07\n",
      "Epoch 20/20\n",
      "1/1 [==============================] - 2s 2s/step - loss: 1.9190 - accuracy: 7.5585e-07\n",
      "Epoch 1/20\n",
      "1/1 [==============================] - 2s 2s/step - loss: 1.8312 - accuracy: 0.0000e+00\n",
      "Epoch 2/20\n",
      "1/1 [==============================] - 2s 2s/step - loss: 1.8146 - accuracy: 0.0000e+00\n",
      "Epoch 3/20\n",
      "1/1 [==============================] - 2s 2s/step - loss: 1.7990 - accuracy: 0.0000e+00\n",
      "Epoch 4/20\n",
      "1/1 [==============================] - 2s 2s/step - loss: 1.7847 - accuracy: 0.0000e+00\n",
      "Epoch 5/20\n",
      "1/1 [==============================] - 2s 2s/step - loss: 1.7724 - accuracy: 0.0000e+00\n",
      "Epoch 6/20\n",
      "1/1 [==============================] - 2s 2s/step - loss: 1.7637 - accuracy: 0.0000e+00\n",
      "Epoch 7/20\n",
      "1/1 [==============================] - 2s 2s/step - loss: 1.7621 - accuracy: 0.0000e+00\n",
      "Epoch 8/20\n",
      "1/1 [==============================] - 2s 2s/step - loss: 1.7726 - accuracy: 0.0000e+00\n",
      "Epoch 9/20\n",
      "1/1 [==============================] - 2s 2s/step - loss: 1.8086 - accuracy: 0.0000e+00\n",
      "Epoch 10/20\n",
      "1/1 [==============================] - 2s 2s/step - loss: 1.8785 - accuracy: 0.0000e+00\n",
      "Epoch 11/20\n",
      "1/1 [==============================] - 2s 2s/step - loss: 2.0126 - accuracy: 0.0000e+00\n",
      "Epoch 12/20\n",
      "1/1 [==============================] - 2s 2s/step - loss: 2.1764 - accuracy: 0.0000e+00\n",
      "Epoch 13/20\n",
      "1/1 [==============================] - 2s 2s/step - loss: 2.3694 - accuracy: 0.0000e+00\n",
      "Epoch 14/20\n",
      "1/1 [==============================] - 2s 2s/step - loss: 2.4008 - accuracy: 0.0000e+00\n",
      "Epoch 15/20\n",
      "1/1 [==============================] - 2s 2s/step - loss: 2.2709 - accuracy: 0.0000e+00\n",
      "Epoch 16/20\n",
      "1/1 [==============================] - 2s 2s/step - loss: 1.9318 - accuracy: 0.0000e+00\n",
      "Epoch 17/20\n",
      "1/1 [==============================] - 2s 2s/step - loss: 1.6519 - accuracy: 0.0000e+00\n",
      "Epoch 18/20\n",
      "1/1 [==============================] - 2s 2s/step - loss: 1.5884 - accuracy: 0.0000e+00\n",
      "Epoch 19/20\n",
      "1/1 [==============================] - 2s 2s/step - loss: 1.7211 - accuracy: 0.0000e+00\n",
      "Epoch 20/20\n",
      "1/1 [==============================] - 2s 2s/step - loss: 1.8861 - accuracy: 0.0000e+00\n",
      "/home/fdf7gn/data/UVaVoice/ConversationalSpeech-FunctioningLarynxes/2021-12-17_11-31-32.wav\n",
      "Epoch 1/20\n",
      "1/1 [==============================] - 2s 2s/step - loss: 1.9086 - accuracy: 7.5585e-07\n",
      "Epoch 2/20\n",
      "1/1 [==============================] - 2s 2s/step - loss: 1.8107 - accuracy: 7.5585e-07\n",
      "Epoch 3/20\n",
      "1/1 [==============================] - 2s 2s/step - loss: 1.6488 - accuracy: 7.5585e-07\n",
      "Epoch 4/20\n",
      "1/1 [==============================] - 2s 2s/step - loss: 1.5167 - accuracy: 7.5585e-07\n",
      "Epoch 5/20\n",
      "1/1 [==============================] - 2s 2s/step - loss: 1.4718 - accuracy: 7.5585e-07\n",
      "Epoch 6/20\n",
      "1/1 [==============================] - 2s 2s/step - loss: 1.5099 - accuracy: 7.5585e-07\n",
      "Epoch 7/20\n",
      "1/1 [==============================] - 2s 2s/step - loss: 1.5825 - accuracy: 7.5585e-07\n",
      "Epoch 8/20\n",
      "1/1 [==============================] - 2s 2s/step - loss: 1.6330 - accuracy: 7.5585e-07\n",
      "Epoch 9/20\n",
      "1/1 [==============================] - 2s 2s/step - loss: 1.6360 - accuracy: 7.5585e-07\n",
      "Epoch 10/20\n",
      "1/1 [==============================] - 2s 2s/step - loss: 1.5689 - accuracy: 7.5585e-07\n",
      "Epoch 11/20\n",
      "1/1 [==============================] - 2s 2s/step - loss: 1.4749 - accuracy: 7.5585e-07\n",
      "Epoch 12/20\n",
      "1/1 [==============================] - 2s 2s/step - loss: 1.3961 - accuracy: 7.5585e-07\n",
      "Epoch 13/20\n",
      "1/1 [==============================] - 2s 2s/step - loss: 1.3629 - accuracy: 7.5585e-07\n",
      "Epoch 14/20\n",
      "1/1 [==============================] - 2s 2s/step - loss: 1.3744 - accuracy: 7.5585e-07\n",
      "Epoch 15/20\n",
      "1/1 [==============================] - 2s 2s/step - loss: 1.4117 - accuracy: 7.5585e-07\n",
      "Epoch 16/20\n",
      "1/1 [==============================] - 2s 2s/step - loss: 1.4640 - accuracy: 7.5585e-07\n",
      "Epoch 17/20\n",
      "1/1 [==============================] - 2s 2s/step - loss: 1.4977 - accuracy: 7.5585e-07\n",
      "Epoch 18/20\n",
      "1/1 [==============================] - 2s 2s/step - loss: 1.5041 - accuracy: 7.5585e-07\n",
      "Epoch 19/20\n",
      "1/1 [==============================] - 2s 2s/step - loss: 1.4575 - accuracy: 7.5585e-07\n",
      "Epoch 20/20\n",
      "1/1 [==============================] - 2s 2s/step - loss: 1.3839 - accuracy: 7.5585e-07\n",
      "Epoch 1/20\n",
      "1/1 [==============================] - 2s 2s/step - loss: 1.3102 - accuracy: 0.0000e+00\n",
      "Epoch 2/20\n",
      "1/1 [==============================] - 2s 2s/step - loss: 1.2646 - accuracy: 0.0000e+00\n",
      "Epoch 3/20\n",
      "1/1 [==============================] - 2s 2s/step - loss: 1.2635 - accuracy: 0.0000e+00\n",
      "Epoch 4/20\n",
      "1/1 [==============================] - 2s 2s/step - loss: 1.2895 - accuracy: 0.0000e+00\n",
      "Epoch 5/20\n",
      "1/1 [==============================] - 2s 2s/step - loss: 1.3144 - accuracy: 0.0000e+00\n",
      "Epoch 6/20\n",
      "1/1 [==============================] - 2s 2s/step - loss: 1.3158 - accuracy: 0.0000e+00\n",
      "Epoch 7/20\n",
      "1/1 [==============================] - 2s 2s/step - loss: 1.3017 - accuracy: 0.0000e+00\n",
      "Epoch 8/20\n",
      "1/1 [==============================] - 2s 2s/step - loss: 1.2660 - accuracy: 0.0000e+00\n",
      "Epoch 9/20\n",
      "1/1 [==============================] - 2s 2s/step - loss: 1.2262 - accuracy: 0.0000e+00\n",
      "Epoch 10/20\n",
      "1/1 [==============================] - 2s 2s/step - loss: 1.1907 - accuracy: 0.0000e+00\n",
      "Epoch 11/20\n",
      "1/1 [==============================] - 2s 2s/step - loss: 1.1670 - accuracy: 0.0000e+00\n",
      "Epoch 12/20\n",
      "1/1 [==============================] - 2s 2s/step - loss: 1.1535 - accuracy: 0.0000e+00\n",
      "Epoch 13/20\n",
      "1/1 [==============================] - 2s 2s/step - loss: 1.1566 - accuracy: 0.0000e+00\n",
      "Epoch 14/20\n",
      "1/1 [==============================] - 2s 2s/step - loss: 1.2230 - accuracy: 0.0000e+00\n",
      "Epoch 15/20\n",
      "1/1 [==============================] - 2s 2s/step - loss: 1.4162 - accuracy: 0.0000e+00\n",
      "Epoch 16/20\n",
      "1/1 [==============================] - 2s 2s/step - loss: 1.8488 - accuracy: 0.0000e+00\n",
      "Epoch 17/20\n",
      "1/1 [==============================] - 2s 2s/step - loss: 2.1742 - accuracy: 0.0000e+00\n",
      "Epoch 18/20\n",
      "1/1 [==============================] - 2s 2s/step - loss: 2.1006 - accuracy: 0.0000e+00\n",
      "Epoch 19/20\n",
      "1/1 [==============================] - 2s 2s/step - loss: 1.5130 - accuracy: 0.0000e+00\n",
      "Epoch 20/20\n",
      "1/1 [==============================] - 2s 2s/step - loss: 1.1198 - accuracy: 0.0000e+00\n",
      "/home/fdf7gn/data/UVaVoice/ConversationalSpeech-FunctioningLarynxes/2021-12-17_11-26-11.wav\n",
      "Epoch 1/20\n",
      "1/1 [==============================] - 2s 2s/step - loss: 1.2994 - accuracy: 0.0000e+00\n",
      "Epoch 2/20\n",
      "1/1 [==============================] - 2s 2s/step - loss: 1.5507 - accuracy: 0.0000e+00\n",
      "Epoch 3/20\n",
      "1/1 [==============================] - 2s 2s/step - loss: 1.4577 - accuracy: 0.0000e+00\n",
      "Epoch 4/20\n",
      "1/1 [==============================] - 2s 2s/step - loss: 1.1633 - accuracy: 0.0000e+00\n",
      "Epoch 5/20\n",
      "1/1 [==============================] - 2s 2s/step - loss: 1.1498 - accuracy: 0.0000e+00\n",
      "Epoch 6/20\n",
      "1/1 [==============================] - 2s 2s/step - loss: 1.3404 - accuracy: 0.0000e+00\n",
      "Epoch 7/20\n",
      "1/1 [==============================] - 2s 2s/step - loss: 1.3486 - accuracy: 0.0000e+00\n",
      "Epoch 8/20\n",
      "1/1 [==============================] - 2s 2s/step - loss: 1.1710 - accuracy: 0.0000e+00\n",
      "Epoch 9/20\n",
      "1/1 [==============================] - 2s 2s/step - loss: 1.0658 - accuracy: 0.0000e+00\n",
      "Epoch 10/20\n",
      "1/1 [==============================] - 2s 2s/step - loss: 1.1467 - accuracy: 0.0000e+00\n",
      "Epoch 11/20\n",
      "1/1 [==============================] - 2s 2s/step - loss: 1.2903 - accuracy: 0.0000e+00\n",
      "Epoch 12/20\n",
      "1/1 [==============================] - 2s 2s/step - loss: 1.2803 - accuracy: 0.0000e+00\n",
      "Epoch 13/20\n",
      "1/1 [==============================] - 2s 2s/step - loss: 1.1426 - accuracy: 0.0000e+00\n",
      "Epoch 14/20\n",
      "1/1 [==============================] - 2s 2s/step - loss: 1.0325 - accuracy: 0.0000e+00\n",
      "Epoch 15/20\n",
      "1/1 [==============================] - 2s 2s/step - loss: 1.0754 - accuracy: 0.0000e+00\n",
      "Epoch 16/20\n",
      "1/1 [==============================] - 2s 2s/step - loss: 1.1558 - accuracy: 0.0000e+00\n",
      "Epoch 17/20\n",
      "1/1 [==============================] - 2s 2s/step - loss: 1.1151 - accuracy: 0.0000e+00\n",
      "Epoch 18/20\n",
      "1/1 [==============================] - 2s 2s/step - loss: 1.0235 - accuracy: 0.0000e+00\n",
      "Epoch 19/20\n",
      "1/1 [==============================] - 2s 2s/step - loss: 1.0128 - accuracy: 0.0000e+00\n",
      "Epoch 20/20\n",
      "1/1 [==============================] - 2s 2s/step - loss: 1.0663 - accuracy: 0.0000e+00\n",
      "Epoch 1/20\n",
      "1/1 [==============================] - 2s 2s/step - loss: 1.1307 - accuracy: 7.5585e-07\n",
      "Epoch 2/20\n",
      "1/1 [==============================] - 2s 2s/step - loss: 1.0649 - accuracy: 7.5585e-07\n",
      "Epoch 3/20\n",
      "1/1 [==============================] - 2s 2s/step - loss: 1.0302 - accuracy: 7.5585e-07\n",
      "Epoch 4/20\n",
      "1/1 [==============================] - 2s 2s/step - loss: 1.0614 - accuracy: 7.5585e-07\n",
      "Epoch 5/20\n",
      "1/1 [==============================] - 2s 2s/step - loss: 1.0841 - accuracy: 7.5585e-07\n",
      "Epoch 6/20\n",
      "1/1 [==============================] - 2s 2s/step - loss: 1.0564 - accuracy: 7.5585e-07\n",
      "Epoch 7/20\n",
      "1/1 [==============================] - 2s 2s/step - loss: 1.0119 - accuracy: 7.5585e-07\n",
      "Epoch 8/20\n",
      "1/1 [==============================] - 2s 2s/step - loss: 1.0039 - accuracy: 7.5585e-07\n",
      "Epoch 9/20\n",
      "1/1 [==============================] - 2s 2s/step - loss: 1.0246 - accuracy: 7.5585e-07\n",
      "Epoch 10/20\n",
      "1/1 [==============================] - 2s 2s/step - loss: 1.0271 - accuracy: 7.5585e-07\n",
      "Epoch 11/20\n",
      "1/1 [==============================] - 2s 2s/step - loss: 1.0019 - accuracy: 7.5585e-07\n",
      "Epoch 12/20\n",
      "1/1 [==============================] - 2s 2s/step - loss: 0.9769 - accuracy: 7.5585e-07\n",
      "Epoch 13/20\n",
      "1/1 [==============================] - 2s 2s/step - loss: 0.9762 - accuracy: 7.5585e-07\n",
      "Epoch 14/20\n",
      "1/1 [==============================] - 2s 2s/step - loss: 0.9868 - accuracy: 7.5585e-07\n",
      "Epoch 15/20\n",
      "1/1 [==============================] - 2s 2s/step - loss: 0.9838 - accuracy: 7.5585e-07\n",
      "Epoch 16/20\n",
      "1/1 [==============================] - 2s 2s/step - loss: 0.9661 - accuracy: 7.5585e-07\n",
      "Epoch 17/20\n",
      "1/1 [==============================] - 2s 2s/step - loss: 0.9484 - accuracy: 7.5585e-07\n",
      "Epoch 18/20\n",
      "1/1 [==============================] - 2s 2s/step - loss: 0.9434 - accuracy: 7.5585e-07\n",
      "Epoch 19/20\n",
      "1/1 [==============================] - 2s 2s/step - loss: 0.9473 - accuracy: 7.5585e-07\n",
      "Epoch 20/20\n",
      "1/1 [==============================] - 2s 2s/step - loss: 0.9478 - accuracy: 7.5585e-07\n",
      "/home/fdf7gn/data/UVaVoice/ConversationalSpeech-FunctioningLarynxes/Participant 5/Electrolarynx/2021-06-23_15-05-06.wav\n",
      "Epoch 1/20\n",
      "1/1 [==============================] - 2s 2s/step - loss: 0.6741 - accuracy: 0.0000e+00\n",
      "Epoch 2/20\n",
      "1/1 [==============================] - 2s 2s/step - loss: 0.6523 - accuracy: 0.0000e+00\n",
      "Epoch 3/20\n",
      "1/1 [==============================] - 2s 2s/step - loss: 0.6285 - accuracy: 0.0000e+00\n",
      "Epoch 4/20\n",
      "1/1 [==============================] - 2s 2s/step - loss: 0.6205 - accuracy: 0.0000e+00\n",
      "Epoch 5/20\n",
      "1/1 [==============================] - 2s 2s/step - loss: 0.6047 - accuracy: 0.0000e+00\n",
      "Epoch 6/20\n",
      "1/1 [==============================] - 2s 2s/step - loss: 0.5946 - accuracy: 0.0000e+00\n",
      "Epoch 7/20\n",
      "1/1 [==============================] - 2s 2s/step - loss: 0.5826 - accuracy: 0.0000e+00\n",
      "Epoch 8/20\n",
      "1/1 [==============================] - 2s 2s/step - loss: 0.5802 - accuracy: 0.0000e+00\n",
      "Epoch 9/20\n",
      "1/1 [==============================] - 2s 2s/step - loss: 0.5687 - accuracy: 0.0000e+00\n",
      "Epoch 10/20\n",
      "1/1 [==============================] - 2s 2s/step - loss: 0.5617 - accuracy: 0.0000e+00\n",
      "Epoch 11/20\n",
      "1/1 [==============================] - 2s 2s/step - loss: 0.5562 - accuracy: 0.0000e+00\n",
      "Epoch 12/20\n",
      "1/1 [==============================] - 2s 2s/step - loss: 0.5477 - accuracy: 0.0000e+00\n",
      "Epoch 13/20\n",
      "1/1 [==============================] - 2s 2s/step - loss: 0.5456 - accuracy: 0.0000e+00\n",
      "Epoch 14/20\n",
      "1/1 [==============================] - 2s 2s/step - loss: 0.5389 - accuracy: 0.0000e+00\n",
      "Epoch 15/20\n",
      "1/1 [==============================] - 2s 2s/step - loss: 0.5329 - accuracy: 0.0000e+00\n",
      "Epoch 16/20\n",
      "1/1 [==============================] - 2s 2s/step - loss: 0.5268 - accuracy: 0.0000e+00\n",
      "Epoch 17/20\n",
      "1/1 [==============================] - 2s 2s/step - loss: 0.5193 - accuracy: 0.0000e+00\n",
      "Epoch 18/20\n",
      "1/1 [==============================] - 2s 2s/step - loss: 0.5139 - accuracy: 0.0000e+00\n",
      "Epoch 19/20\n",
      "1/1 [==============================] - 2s 2s/step - loss: 0.5097 - accuracy: 0.0000e+00\n",
      "Epoch 20/20\n",
      "1/1 [==============================] - 2s 2s/step - loss: 0.5037 - accuracy: 0.0000e+00\n",
      "Epoch 1/20\n",
      "1/1 [==============================] - 2s 2s/step - loss: 0.5198 - accuracy: 0.0000e+00\n",
      "Epoch 2/20\n",
      "1/1 [==============================] - 2s 2s/step - loss: 0.5138 - accuracy: 0.0000e+00\n",
      "Epoch 3/20\n",
      "1/1 [==============================] - 2s 2s/step - loss: 0.5094 - accuracy: 0.0000e+00\n",
      "Epoch 4/20\n",
      "1/1 [==============================] - 2s 2s/step - loss: 0.5034 - accuracy: 0.0000e+00\n",
      "Epoch 5/20\n",
      "1/1 [==============================] - 2s 2s/step - loss: 0.4989 - accuracy: 0.0000e+00\n",
      "Epoch 6/20\n",
      "1/1 [==============================] - 2s 2s/step - loss: 0.4942 - accuracy: 0.0000e+00\n",
      "Epoch 7/20\n",
      "1/1 [==============================] - 2s 2s/step - loss: 0.4904 - accuracy: 0.0000e+00\n",
      "Epoch 8/20\n",
      "1/1 [==============================] - 2s 2s/step - loss: 0.4856 - accuracy: 0.0000e+00\n",
      "Epoch 9/20\n",
      "1/1 [==============================] - 2s 2s/step - loss: 0.4819 - accuracy: 0.0000e+00\n",
      "Epoch 10/20\n",
      "1/1 [==============================] - 2s 2s/step - loss: 0.4768 - accuracy: 0.0000e+00\n",
      "Epoch 11/20\n",
      "1/1 [==============================] - 2s 2s/step - loss: 0.4727 - accuracy: 0.0000e+00\n",
      "Epoch 12/20\n",
      "1/1 [==============================] - 2s 2s/step - loss: 0.4679 - accuracy: 0.0000e+00\n",
      "Epoch 13/20\n",
      "1/1 [==============================] - 2s 2s/step - loss: 0.4647 - accuracy: 0.0000e+00\n",
      "Epoch 14/20\n",
      "1/1 [==============================] - 2s 2s/step - loss: 0.4624 - accuracy: 0.0000e+00\n",
      "Epoch 15/20\n",
      "1/1 [==============================] - 2s 2s/step - loss: 0.4614 - accuracy: 0.0000e+00\n",
      "Epoch 16/20\n",
      "1/1 [==============================] - 2s 2s/step - loss: 0.4618 - accuracy: 0.0000e+00\n",
      "Epoch 17/20\n",
      "1/1 [==============================] - 2s 2s/step - loss: 0.4619 - accuracy: 0.0000e+00\n",
      "Epoch 18/20\n",
      "1/1 [==============================] - 2s 2s/step - loss: 0.4546 - accuracy: 0.0000e+00\n",
      "Epoch 19/20\n",
      "1/1 [==============================] - 2s 2s/step - loss: 0.4476 - accuracy: 0.0000e+00\n",
      "Epoch 20/20\n",
      "1/1 [==============================] - 2s 2s/step - loss: 0.4460 - accuracy: 0.0000e+00\n",
      "/home/fdf7gn/data/UVaVoice/ConversationalSpeech-FunctioningLarynxes/Participant 5/Electrolarynx/2021-06-23_14-56-02.wav\n",
      "Epoch 1/20\n",
      "1/1 [==============================] - 2s 2s/step - loss: 0.4774 - accuracy: 7.5585e-07\n",
      "Epoch 2/20\n",
      "1/1 [==============================] - 2s 2s/step - loss: 0.4728 - accuracy: 7.5585e-07\n",
      "Epoch 3/20\n",
      "1/1 [==============================] - 2s 2s/step - loss: 0.4662 - accuracy: 7.5585e-07\n",
      "Epoch 4/20\n",
      "1/1 [==============================] - 2s 2s/step - loss: 0.4597 - accuracy: 7.5585e-07\n",
      "Epoch 5/20\n",
      "1/1 [==============================] - 2s 2s/step - loss: 0.4540 - accuracy: 7.5585e-07\n",
      "Epoch 6/20\n",
      "1/1 [==============================] - 2s 2s/step - loss: 0.4521 - accuracy: 7.5585e-07\n",
      "Epoch 7/20\n",
      "1/1 [==============================] - 2s 2s/step - loss: 0.4521 - accuracy: 7.5585e-07\n",
      "Epoch 8/20\n",
      "1/1 [==============================] - 2s 2s/step - loss: 0.4521 - accuracy: 7.5585e-07\n",
      "Epoch 9/20\n",
      "1/1 [==============================] - 2s 2s/step - loss: 0.4498 - accuracy: 7.5585e-07\n",
      "Epoch 10/20\n",
      "1/1 [==============================] - 2s 2s/step - loss: 0.4453 - accuracy: 7.5585e-07\n",
      "Epoch 11/20\n",
      "1/1 [==============================] - 2s 2s/step - loss: 0.4407 - accuracy: 7.5585e-07\n",
      "Epoch 12/20\n",
      "1/1 [==============================] - 2s 2s/step - loss: 0.4378 - accuracy: 7.5585e-07\n",
      "Epoch 13/20\n",
      "1/1 [==============================] - 2s 2s/step - loss: 0.4356 - accuracy: 7.5585e-07\n",
      "Epoch 14/20\n",
      "1/1 [==============================] - 2s 2s/step - loss: 0.4348 - accuracy: 7.5585e-07\n",
      "Epoch 15/20\n",
      "1/1 [==============================] - 2s 2s/step - loss: 0.4339 - accuracy: 7.5585e-07\n",
      "Epoch 16/20\n",
      "1/1 [==============================] - 2s 2s/step - loss: 0.4321 - accuracy: 7.5585e-07\n",
      "Epoch 17/20\n",
      "1/1 [==============================] - 2s 2s/step - loss: 0.4295 - accuracy: 7.5585e-07\n",
      "Epoch 18/20\n",
      "1/1 [==============================] - 2s 2s/step - loss: 0.4273 - accuracy: 7.5585e-07\n",
      "Epoch 19/20\n",
      "1/1 [==============================] - 2s 2s/step - loss: 0.4253 - accuracy: 7.5585e-07\n",
      "Epoch 20/20\n",
      "1/1 [==============================] - 2s 2s/step - loss: 0.4238 - accuracy: 7.5585e-07\n",
      "Epoch 1/20\n",
      "1/1 [==============================] - 2s 2s/step - loss: 0.4242 - accuracy: 7.5585e-07\n",
      "Epoch 2/20\n",
      "1/1 [==============================] - 2s 2s/step - loss: 0.4223 - accuracy: 7.5585e-07\n",
      "Epoch 3/20\n",
      "1/1 [==============================] - 2s 2s/step - loss: 0.4198 - accuracy: 7.5585e-07\n",
      "Epoch 4/20\n",
      "1/1 [==============================] - 2s 2s/step - loss: 0.4181 - accuracy: 7.5585e-07\n",
      "Epoch 5/20\n",
      "1/1 [==============================] - 2s 2s/step - loss: 0.4169 - accuracy: 7.5585e-07\n",
      "Epoch 6/20\n",
      "1/1 [==============================] - 2s 2s/step - loss: 0.4160 - accuracy: 7.5585e-07\n",
      "Epoch 7/20\n",
      "1/1 [==============================] - 2s 2s/step - loss: 0.4145 - accuracy: 7.5585e-07\n",
      "Epoch 8/20\n",
      "1/1 [==============================] - 2s 2s/step - loss: 0.4130 - accuracy: 7.5585e-07\n",
      "Epoch 9/20\n",
      "1/1 [==============================] - 2s 2s/step - loss: 0.4115 - accuracy: 7.5585e-07\n",
      "Epoch 10/20\n",
      "1/1 [==============================] - 2s 2s/step - loss: 0.4102 - accuracy: 7.5585e-07\n",
      "Epoch 11/20\n",
      "1/1 [==============================] - 2s 2s/step - loss: 0.4089 - accuracy: 7.5585e-07\n",
      "Epoch 12/20\n",
      "1/1 [==============================] - 2s 2s/step - loss: 0.4078 - accuracy: 7.5585e-07\n",
      "Epoch 13/20\n",
      "1/1 [==============================] - 2s 2s/step - loss: 0.4066 - accuracy: 7.5585e-07\n",
      "Epoch 14/20\n",
      "1/1 [==============================] - 2s 2s/step - loss: 0.4053 - accuracy: 7.5585e-07\n",
      "Epoch 15/20\n",
      "1/1 [==============================] - 2s 2s/step - loss: 0.4039 - accuracy: 7.5585e-07\n",
      "Epoch 16/20\n",
      "1/1 [==============================] - 2s 2s/step - loss: 0.4027 - accuracy: 7.5585e-07\n",
      "Epoch 17/20\n",
      "1/1 [==============================] - 2s 2s/step - loss: 0.4016 - accuracy: 7.5585e-07\n",
      "Epoch 18/20\n",
      "1/1 [==============================] - 2s 2s/step - loss: 0.4005 - accuracy: 7.5585e-07\n",
      "Epoch 19/20\n",
      "1/1 [==============================] - 2s 2s/step - loss: 0.3993 - accuracy: 7.5585e-07\n",
      "Epoch 20/20\n",
      "1/1 [==============================] - 2s 2s/step - loss: 0.3980 - accuracy: 7.5585e-07\n",
      "/home/fdf7gn/data/UVaVoice/ConversationalSpeech-FunctioningLarynxes/Participant 5/Electrolarynx/2021-06-23_14-54-08.wav\n",
      "Epoch 1/20\n",
      "1/1 [==============================] - 2s 2s/step - loss: 0.3632 - accuracy: 7.5585e-07\n",
      "Epoch 2/20\n",
      "1/1 [==============================] - 2s 2s/step - loss: 0.3621 - accuracy: 7.5585e-07\n",
      "Epoch 3/20\n",
      "1/1 [==============================] - 2s 2s/step - loss: 0.3611 - accuracy: 7.5585e-07\n",
      "Epoch 4/20\n",
      "1/1 [==============================] - 2s 2s/step - loss: 0.3602 - accuracy: 7.5585e-07\n",
      "Epoch 5/20\n",
      "1/1 [==============================] - 2s 2s/step - loss: 0.3593 - accuracy: 7.5585e-07\n",
      "Epoch 6/20\n",
      "1/1 [==============================] - 2s 2s/step - loss: 0.3582 - accuracy: 7.5585e-07\n",
      "Epoch 7/20\n",
      "1/1 [==============================] - 2s 2s/step - loss: 0.3572 - accuracy: 7.5585e-07\n",
      "Epoch 8/20\n",
      "1/1 [==============================] - 2s 2s/step - loss: 0.3562 - accuracy: 7.5585e-07\n",
      "Epoch 9/20\n",
      "1/1 [==============================] - 2s 2s/step - loss: 0.3554 - accuracy: 7.5585e-07\n",
      "Epoch 10/20\n",
      "1/1 [==============================] - 2s 2s/step - loss: 0.3545 - accuracy: 7.5585e-07\n",
      "Epoch 11/20\n",
      "1/1 [==============================] - 2s 2s/step - loss: 0.3535 - accuracy: 7.5585e-07\n",
      "Epoch 12/20\n",
      "1/1 [==============================] - 2s 2s/step - loss: 0.3526 - accuracy: 7.5585e-07\n",
      "Epoch 13/20\n",
      "1/1 [==============================] - 2s 2s/step - loss: 0.3517 - accuracy: 7.5585e-07\n",
      "Epoch 14/20\n",
      "1/1 [==============================] - 2s 2s/step - loss: 0.3508 - accuracy: 7.5585e-07\n",
      "Epoch 15/20\n",
      "1/1 [==============================] - 2s 2s/step - loss: 0.3499 - accuracy: 7.5585e-07\n",
      "Epoch 16/20\n",
      "1/1 [==============================] - 2s 2s/step - loss: 0.3491 - accuracy: 7.5585e-07\n",
      "Epoch 17/20\n",
      "1/1 [==============================] - 2s 2s/step - loss: 0.3482 - accuracy: 7.5585e-07\n",
      "Epoch 18/20\n",
      "1/1 [==============================] - 2s 2s/step - loss: 0.3474 - accuracy: 7.5585e-07\n",
      "Epoch 19/20\n",
      "1/1 [==============================] - 2s 2s/step - loss: 0.3465 - accuracy: 7.5585e-07\n",
      "Epoch 20/20\n",
      "1/1 [==============================] - 2s 2s/step - loss: 0.3457 - accuracy: 7.5585e-07\n",
      "Epoch 1/20\n",
      "1/1 [==============================] - 2s 2s/step - loss: 0.3385 - accuracy: 0.0000e+00\n",
      "Epoch 2/20\n",
      "1/1 [==============================] - 2s 2s/step - loss: 0.3377 - accuracy: 0.0000e+00\n",
      "Epoch 3/20\n",
      "1/1 [==============================] - 2s 2s/step - loss: 0.3371 - accuracy: 0.0000e+00\n",
      "Epoch 4/20\n",
      "1/1 [==============================] - 2s 2s/step - loss: 0.3367 - accuracy: 0.0000e+00\n",
      "Epoch 5/20\n",
      "1/1 [==============================] - 2s 2s/step - loss: 0.3365 - accuracy: 0.0000e+00\n",
      "Epoch 6/20\n",
      "1/1 [==============================] - 2s 2s/step - loss: 0.3368 - accuracy: 0.0000e+00\n",
      "Epoch 7/20\n",
      "1/1 [==============================] - 2s 2s/step - loss: 0.3378 - accuracy: 0.0000e+00\n",
      "Epoch 8/20\n",
      "1/1 [==============================] - 2s 2s/step - loss: 0.3397 - accuracy: 0.0000e+00\n",
      "Epoch 9/20\n",
      "1/1 [==============================] - 2s 2s/step - loss: 0.3435 - accuracy: 0.0000e+00\n",
      "Epoch 10/20\n",
      "1/1 [==============================] - 2s 2s/step - loss: 0.3494 - accuracy: 0.0000e+00\n",
      "Epoch 11/20\n",
      "1/1 [==============================] - 2s 2s/step - loss: 0.3591 - accuracy: 0.0000e+00\n",
      "Epoch 12/20\n",
      "1/1 [==============================] - 2s 2s/step - loss: 0.3706 - accuracy: 0.0000e+00\n",
      "Epoch 13/20\n",
      "1/1 [==============================] - 2s 2s/step - loss: 0.3855 - accuracy: 0.0000e+00\n",
      "Epoch 14/20\n",
      "1/1 [==============================] - 2s 2s/step - loss: 0.3936 - accuracy: 0.0000e+00\n",
      "Epoch 15/20\n",
      "1/1 [==============================] - 2s 2s/step - loss: 0.3957 - accuracy: 0.0000e+00\n",
      "Epoch 16/20\n",
      "1/1 [==============================] - 2s 2s/step - loss: 0.3814 - accuracy: 0.0000e+00\n",
      "Epoch 17/20\n",
      "1/1 [==============================] - 2s 2s/step - loss: 0.3605 - accuracy: 0.0000e+00\n",
      "Epoch 18/20\n",
      "1/1 [==============================] - 2s 2s/step - loss: 0.3385 - accuracy: 0.0000e+00\n",
      "Epoch 19/20\n",
      "1/1 [==============================] - 2s 2s/step - loss: 0.3262 - accuracy: 0.0000e+00\n",
      "Epoch 20/20\n",
      "1/1 [==============================] - 2s 2s/step - loss: 0.3263 - accuracy: 0.0000e+00\n",
      "/home/fdf7gn/data/UVaVoice/ConversationalSpeech-FunctioningLarynxes/Participant 5/Electrolarynx/2021-06-23_14-59-07.wav\n",
      "Epoch 1/20\n",
      "1/1 [==============================] - 2s 2s/step - loss: 0.3024 - accuracy: 0.0000e+00\n",
      "Epoch 2/20\n",
      "1/1 [==============================] - 2s 2s/step - loss: 0.3157 - accuracy: 0.0000e+00\n",
      "Epoch 3/20\n",
      "1/1 [==============================] - 2s 2s/step - loss: 0.3263 - accuracy: 0.0000e+00\n",
      "Epoch 4/20\n",
      "1/1 [==============================] - 2s 2s/step - loss: 0.3316 - accuracy: 0.0000e+00\n",
      "Epoch 5/20\n",
      "1/1 [==============================] - 2s 2s/step - loss: 0.3267 - accuracy: 0.0000e+00\n",
      "Epoch 6/20\n",
      "1/1 [==============================] - 2s 2s/step - loss: 0.3158 - accuracy: 0.0000e+00\n",
      "Epoch 7/20\n",
      "1/1 [==============================] - 2s 2s/step - loss: 0.3014 - accuracy: 0.0000e+00\n",
      "Epoch 8/20\n",
      "1/1 [==============================] - 2s 2s/step - loss: 0.2902 - accuracy: 0.0000e+00\n",
      "Epoch 9/20\n",
      "1/1 [==============================] - 2s 2s/step - loss: 0.2847 - accuracy: 0.0000e+00\n",
      "Epoch 10/20\n",
      "1/1 [==============================] - 2s 2s/step - loss: 0.2852 - accuracy: 0.0000e+00\n",
      "Epoch 11/20\n",
      "1/1 [==============================] - 2s 2s/step - loss: 0.2897 - accuracy: 0.0000e+00\n",
      "Epoch 12/20\n",
      "1/1 [==============================] - 2s 2s/step - loss: 0.2952 - accuracy: 0.0000e+00\n",
      "Epoch 13/20\n",
      "1/1 [==============================] - 2s 2s/step - loss: 0.2990 - accuracy: 0.0000e+00\n",
      "Epoch 14/20\n",
      "1/1 [==============================] - 2s 2s/step - loss: 0.2989 - accuracy: 0.0000e+00\n",
      "Epoch 15/20\n",
      "1/1 [==============================] - 2s 2s/step - loss: 0.2957 - accuracy: 0.0000e+00\n",
      "Epoch 16/20\n",
      "1/1 [==============================] - 2s 2s/step - loss: 0.2900 - accuracy: 0.0000e+00\n",
      "Epoch 17/20\n",
      "1/1 [==============================] - 2s 2s/step - loss: 0.2845 - accuracy: 0.0000e+00\n",
      "Epoch 18/20\n",
      "1/1 [==============================] - 2s 2s/step - loss: 0.2805 - accuracy: 0.0000e+00\n",
      "Epoch 19/20\n",
      "1/1 [==============================] - 2s 2s/step - loss: 0.2787 - accuracy: 0.0000e+00\n",
      "Epoch 20/20\n",
      "1/1 [==============================] - 2s 2s/step - loss: 0.2790 - accuracy: 0.0000e+00\n",
      "Epoch 1/20\n",
      "1/1 [==============================] - 2s 2s/step - loss: 0.3530 - accuracy: 7.5585e-07\n",
      "Epoch 2/20\n",
      "1/1 [==============================] - 2s 2s/step - loss: 0.3487 - accuracy: 7.5585e-07\n",
      "Epoch 3/20\n",
      "1/1 [==============================] - 2s 2s/step - loss: 0.3436 - accuracy: 7.5585e-07\n",
      "Epoch 4/20\n",
      "1/1 [==============================] - 2s 2s/step - loss: 0.3409 - accuracy: 7.5585e-07\n",
      "Epoch 5/20\n",
      "1/1 [==============================] - 2s 2s/step - loss: 0.3401 - accuracy: 7.5585e-07\n",
      "Epoch 6/20\n",
      "1/1 [==============================] - 2s 2s/step - loss: 0.3412 - accuracy: 7.5585e-07\n",
      "Epoch 7/20\n",
      "1/1 [==============================] - 2s 2s/step - loss: 0.3396 - accuracy: 7.5585e-07\n",
      "Epoch 8/20\n",
      "1/1 [==============================] - 2s 2s/step - loss: 0.3382 - accuracy: 7.5585e-07\n",
      "Epoch 9/20\n",
      "1/1 [==============================] - 2s 2s/step - loss: 0.3358 - accuracy: 7.5585e-07\n",
      "Epoch 10/20\n",
      "1/1 [==============================] - 2s 2s/step - loss: 0.3349 - accuracy: 7.5585e-07\n",
      "Epoch 11/20\n",
      "1/1 [==============================] - 2s 2s/step - loss: 0.3338 - accuracy: 7.5585e-07\n",
      "Epoch 12/20\n",
      "1/1 [==============================] - 2s 2s/step - loss: 0.3329 - accuracy: 7.5585e-07\n",
      "Epoch 13/20\n",
      "1/1 [==============================] - 2s 2s/step - loss: 0.3313 - accuracy: 7.5585e-07\n",
      "Epoch 14/20\n",
      "1/1 [==============================] - 2s 2s/step - loss: 0.3302 - accuracy: 7.5585e-07\n",
      "Epoch 15/20\n",
      "1/1 [==============================] - 2s 2s/step - loss: 0.3295 - accuracy: 7.5585e-07\n",
      "Epoch 16/20\n",
      "1/1 [==============================] - 2s 2s/step - loss: 0.3289 - accuracy: 7.5585e-07\n",
      "Epoch 17/20\n",
      "1/1 [==============================] - 2s 2s/step - loss: 0.3281 - accuracy: 7.5585e-07\n",
      "Epoch 18/20\n",
      "1/1 [==============================] - 2s 2s/step - loss: 0.3266 - accuracy: 7.5585e-07\n",
      "Epoch 19/20\n",
      "1/1 [==============================] - 2s 2s/step - loss: 0.3252 - accuracy: 7.5585e-07\n",
      "Epoch 20/20\n",
      "1/1 [==============================] - 2s 2s/step - loss: 0.3239 - accuracy: 7.5585e-07\n",
      "/home/fdf7gn/data/UVaVoice/ConversationalSpeech-FunctioningLarynxes/Participant 5/Electrolarynx/2021-06-23_14-40-35.wav\n",
      "Epoch 1/20\n",
      "1/1 [==============================] - 2s 2s/step - loss: 0.3304 - accuracy: 7.5585e-07\n",
      "Epoch 2/20\n",
      "1/1 [==============================] - 2s 2s/step - loss: 0.3286 - accuracy: 7.5585e-07\n",
      "Epoch 3/20\n",
      "1/1 [==============================] - 2s 2s/step - loss: 0.3270 - accuracy: 7.5585e-07\n",
      "Epoch 4/20\n",
      "1/1 [==============================] - 2s 2s/step - loss: 0.3253 - accuracy: 7.5585e-07\n",
      "Epoch 5/20\n",
      "1/1 [==============================] - 2s 2s/step - loss: 0.3242 - accuracy: 7.5585e-07\n",
      "Epoch 6/20\n",
      "1/1 [==============================] - 2s 2s/step - loss: 0.3226 - accuracy: 7.5585e-07\n",
      "Epoch 7/20\n",
      "1/1 [==============================] - 2s 2s/step - loss: 0.3216 - accuracy: 7.5585e-07\n",
      "Epoch 8/20\n",
      "1/1 [==============================] - 2s 2s/step - loss: 0.3206 - accuracy: 7.5585e-07\n",
      "Epoch 9/20\n",
      "1/1 [==============================] - 2s 2s/step - loss: 0.3199 - accuracy: 7.5585e-07\n",
      "Epoch 10/20\n",
      "1/1 [==============================] - 2s 2s/step - loss: 0.3186 - accuracy: 7.5585e-07\n",
      "Epoch 11/20\n",
      "1/1 [==============================] - 2s 2s/step - loss: 0.3175 - accuracy: 7.5585e-07\n",
      "Epoch 12/20\n",
      "1/1 [==============================] - 2s 2s/step - loss: 0.3163 - accuracy: 7.5585e-07\n",
      "Epoch 13/20\n",
      "1/1 [==============================] - 2s 2s/step - loss: 0.3155 - accuracy: 7.5585e-07\n",
      "Epoch 14/20\n",
      "1/1 [==============================] - 2s 2s/step - loss: 0.3145 - accuracy: 7.5585e-07\n",
      "Epoch 15/20\n",
      "1/1 [==============================] - 2s 2s/step - loss: 0.3137 - accuracy: 7.5585e-07\n",
      "Epoch 16/20\n",
      "1/1 [==============================] - 2s 2s/step - loss: 0.3130 - accuracy: 7.5585e-07\n",
      "Epoch 17/20\n",
      "1/1 [==============================] - 2s 2s/step - loss: 0.3122 - accuracy: 7.5585e-07\n",
      "Epoch 18/20\n",
      "1/1 [==============================] - 2s 2s/step - loss: 0.3113 - accuracy: 7.5585e-07\n",
      "Epoch 19/20\n",
      "1/1 [==============================] - 2s 2s/step - loss: 0.3103 - accuracy: 7.5585e-07\n",
      "Epoch 20/20\n",
      "1/1 [==============================] - 2s 2s/step - loss: 0.3095 - accuracy: 7.5585e-07\n",
      "Epoch 1/20\n",
      "1/1 [==============================] - 2s 2s/step - loss: 0.3605 - accuracy: 7.5585e-07\n",
      "Epoch 2/20\n",
      "1/1 [==============================] - 2s 2s/step - loss: 0.3592 - accuracy: 7.5585e-07\n",
      "Epoch 3/20\n",
      "1/1 [==============================] - 2s 2s/step - loss: 0.3577 - accuracy: 7.5585e-07\n",
      "Epoch 4/20\n",
      "1/1 [==============================] - 2s 2s/step - loss: 0.3566 - accuracy: 7.5585e-07\n",
      "Epoch 5/20\n",
      "1/1 [==============================] - 2s 2s/step - loss: 0.3553 - accuracy: 7.5585e-07\n",
      "Epoch 6/20\n",
      "1/1 [==============================] - 2s 2s/step - loss: 0.3542 - accuracy: 7.5585e-07\n",
      "Epoch 7/20\n",
      "1/1 [==============================] - 2s 2s/step - loss: 0.3529 - accuracy: 7.5585e-07\n",
      "Epoch 8/20\n",
      "1/1 [==============================] - 2s 2s/step - loss: 0.3519 - accuracy: 7.5585e-07\n",
      "Epoch 9/20\n",
      "1/1 [==============================] - 2s 2s/step - loss: 0.3509 - accuracy: 7.5585e-07\n",
      "Epoch 10/20\n",
      "1/1 [==============================] - 2s 2s/step - loss: 0.3499 - accuracy: 7.5585e-07\n",
      "Epoch 11/20\n",
      "1/1 [==============================] - 2s 2s/step - loss: 0.3487 - accuracy: 7.5585e-07\n",
      "Epoch 12/20\n",
      "1/1 [==============================] - 2s 2s/step - loss: 0.3475 - accuracy: 7.5585e-07\n",
      "Epoch 13/20\n",
      "1/1 [==============================] - 2s 2s/step - loss: 0.3464 - accuracy: 7.5585e-07\n",
      "Epoch 14/20\n",
      "1/1 [==============================] - 2s 2s/step - loss: 0.3454 - accuracy: 7.5585e-07\n",
      "Epoch 15/20\n",
      "1/1 [==============================] - 2s 2s/step - loss: 0.3445 - accuracy: 7.5585e-07\n",
      "Epoch 16/20\n",
      "1/1 [==============================] - 2s 2s/step - loss: 0.3436 - accuracy: 7.5585e-07\n",
      "Epoch 17/20\n",
      "1/1 [==============================] - 2s 2s/step - loss: 0.3425 - accuracy: 7.5585e-07\n",
      "Epoch 18/20\n",
      "1/1 [==============================] - 2s 2s/step - loss: 0.3414 - accuracy: 7.5585e-07\n",
      "Epoch 19/20\n",
      "1/1 [==============================] - 2s 2s/step - loss: 0.3404 - accuracy: 7.5585e-07\n",
      "Epoch 20/20\n",
      "1/1 [==============================] - 2s 2s/step - loss: 0.3394 - accuracy: 7.5585e-07\n",
      "/home/fdf7gn/data/UVaVoice/ConversationalSpeech-FunctioningLarynxes/Participant 5/Electrolarynx/2021-06-23_14-43-25.wav\n",
      "Epoch 1/20\n",
      "1/1 [==============================] - 2s 2s/step - loss: 0.3424 - accuracy: 7.5585e-07\n",
      "Epoch 2/20\n",
      "1/1 [==============================] - 2s 2s/step - loss: 0.3396 - accuracy: 7.5585e-07\n",
      "Epoch 3/20\n",
      "1/1 [==============================] - 2s 2s/step - loss: 0.3374 - accuracy: 7.5585e-07\n",
      "Epoch 4/20\n",
      "1/1 [==============================] - 2s 2s/step - loss: 0.3376 - accuracy: 7.5585e-07\n",
      "Epoch 5/20\n",
      "1/1 [==============================] - 2s 2s/step - loss: 0.3396 - accuracy: 7.5585e-07\n",
      "Epoch 6/20\n",
      "1/1 [==============================] - 2s 2s/step - loss: 0.3423 - accuracy: 7.5585e-07\n",
      "Epoch 7/20\n",
      "1/1 [==============================] - 2s 2s/step - loss: 0.3444 - accuracy: 7.5585e-07\n",
      "Epoch 8/20\n",
      "1/1 [==============================] - 2s 2s/step - loss: 0.3459 - accuracy: 7.5585e-07\n",
      "Epoch 9/20\n",
      "1/1 [==============================] - 2s 2s/step - loss: 0.3471 - accuracy: 7.5585e-07\n",
      "Epoch 10/20\n",
      "1/1 [==============================] - 2s 2s/step - loss: 0.3482 - accuracy: 7.5585e-07\n",
      "Epoch 11/20\n",
      "1/1 [==============================] - 2s 2s/step - loss: 0.3493 - accuracy: 7.5585e-07\n",
      "Epoch 12/20\n",
      "1/1 [==============================] - 2s 2s/step - loss: 0.3494 - accuracy: 7.5585e-07\n",
      "Epoch 13/20\n",
      "1/1 [==============================] - 2s 2s/step - loss: 0.3494 - accuracy: 7.5585e-07\n",
      "Epoch 14/20\n",
      "1/1 [==============================] - 2s 2s/step - loss: 0.3501 - accuracy: 7.5585e-07\n",
      "Epoch 15/20\n",
      "1/1 [==============================] - 2s 2s/step - loss: 0.3531 - accuracy: 7.5585e-07\n",
      "Epoch 16/20\n",
      "1/1 [==============================] - 2s 2s/step - loss: 0.3568 - accuracy: 7.5585e-07\n",
      "Epoch 17/20\n",
      "1/1 [==============================] - 2s 2s/step - loss: 0.3642 - accuracy: 7.5585e-07\n",
      "Epoch 18/20\n",
      "1/1 [==============================] - 2s 2s/step - loss: 0.3717 - accuracy: 7.5585e-07\n",
      "Epoch 19/20\n",
      "1/1 [==============================] - 2s 2s/step - loss: 0.3803 - accuracy: 7.5585e-07\n",
      "Epoch 20/20\n",
      "1/1 [==============================] - 2s 2s/step - loss: 0.3843 - accuracy: 7.5585e-07\n",
      "Epoch 1/20\n",
      "1/1 [==============================] - 2s 2s/step - loss: 0.3941 - accuracy: 0.0000e+00\n",
      "Epoch 2/20\n",
      "1/1 [==============================] - 2s 2s/step - loss: 0.3650 - accuracy: 0.0000e+00\n",
      "Epoch 3/20\n",
      "1/1 [==============================] - 2s 2s/step - loss: 0.3372 - accuracy: 0.0000e+00\n",
      "Epoch 4/20\n",
      "1/1 [==============================] - 2s 2s/step - loss: 0.3308 - accuracy: 0.0000e+00\n",
      "Epoch 5/20\n",
      "1/1 [==============================] - 2s 2s/step - loss: 0.3459 - accuracy: 0.0000e+00\n",
      "Epoch 6/20\n",
      "1/1 [==============================] - 2s 2s/step - loss: 0.3616 - accuracy: 0.0000e+00\n",
      "Epoch 7/20\n",
      "1/1 [==============================] - 2s 2s/step - loss: 0.3608 - accuracy: 0.0000e+00\n",
      "Epoch 8/20\n",
      "1/1 [==============================] - 2s 2s/step - loss: 0.3456 - accuracy: 0.0000e+00\n",
      "Epoch 9/20\n",
      "1/1 [==============================] - 2s 2s/step - loss: 0.3296 - accuracy: 0.0000e+00\n",
      "Epoch 10/20\n",
      "1/1 [==============================] - 2s 2s/step - loss: 0.3256 - accuracy: 0.0000e+00\n",
      "Epoch 11/20\n",
      "1/1 [==============================] - 2s 2s/step - loss: 0.3323 - accuracy: 0.0000e+00\n",
      "Epoch 12/20\n",
      "1/1 [==============================] - 2s 2s/step - loss: 0.3404 - accuracy: 0.0000e+00\n",
      "Epoch 13/20\n",
      "1/1 [==============================] - 2s 2s/step - loss: 0.3408 - accuracy: 0.0000e+00\n",
      "Epoch 14/20\n",
      "1/1 [==============================] - 2s 2s/step - loss: 0.3331 - accuracy: 0.0000e+00\n",
      "Epoch 15/20\n",
      "1/1 [==============================] - 2s 2s/step - loss: 0.3241 - accuracy: 0.0000e+00\n",
      "Epoch 16/20\n",
      "1/1 [==============================] - 2s 2s/step - loss: 0.3201 - accuracy: 0.0000e+00\n",
      "Epoch 17/20\n",
      "1/1 [==============================] - 2s 2s/step - loss: 0.3229 - accuracy: 0.0000e+00\n",
      "Epoch 18/20\n",
      "1/1 [==============================] - 2s 2s/step - loss: 0.3270 - accuracy: 0.0000e+00\n",
      "Epoch 19/20\n",
      "1/1 [==============================] - 2s 2s/step - loss: 0.3282 - accuracy: 0.0000e+00\n",
      "Epoch 20/20\n",
      "1/1 [==============================] - 2s 2s/step - loss: 0.3250 - accuracy: 0.0000e+00\n",
      "/home/fdf7gn/data/UVaVoice/ConversationalSpeech-FunctioningLarynxes/Participant 5/Electrolarynx/2021-06-23_14-49-26.wav\n",
      "Epoch 1/20\n",
      "1/1 [==============================] - 2s 2s/step - loss: 0.3121 - accuracy: 7.5585e-07\n",
      "Epoch 2/20\n",
      "1/1 [==============================] - 2s 2s/step - loss: 0.2927 - accuracy: 7.5585e-07\n",
      "Epoch 3/20\n",
      "1/1 [==============================] - 2s 2s/step - loss: 0.2759 - accuracy: 7.5585e-07\n",
      "Epoch 4/20\n",
      "1/1 [==============================] - 2s 2s/step - loss: 0.2730 - accuracy: 7.5585e-07\n",
      "Epoch 5/20\n",
      "1/1 [==============================] - 2s 2s/step - loss: 0.2811 - accuracy: 7.5585e-07\n",
      "Epoch 6/20\n",
      "1/1 [==============================] - 2s 2s/step - loss: 0.2877 - accuracy: 7.5585e-07\n",
      "Epoch 7/20\n",
      "1/1 [==============================] - 2s 2s/step - loss: 0.2932 - accuracy: 7.5585e-07\n",
      "Epoch 8/20\n",
      "1/1 [==============================] - 2s 2s/step - loss: 0.3040 - accuracy: 7.5585e-07\n",
      "Epoch 9/20\n",
      "1/1 [==============================] - 2s 2s/step - loss: 0.3288 - accuracy: 7.5585e-07\n",
      "Epoch 10/20\n",
      "1/1 [==============================] - 2s 2s/step - loss: 0.3811 - accuracy: 7.5585e-07\n",
      "Epoch 11/20\n",
      "1/1 [==============================] - 2s 2s/step - loss: 0.4655 - accuracy: 7.5585e-07\n",
      "Epoch 12/20\n",
      "1/1 [==============================] - 2s 2s/step - loss: 0.6234 - accuracy: 7.5585e-07\n",
      "Epoch 13/20\n",
      "1/1 [==============================] - 2s 2s/step - loss: 0.8255 - accuracy: 7.5585e-07\n",
      "Epoch 14/20\n",
      "1/1 [==============================] - 2s 2s/step - loss: 1.1119 - accuracy: 7.5585e-07\n",
      "Epoch 15/20\n",
      "1/1 [==============================] - 2s 2s/step - loss: 1.2351 - accuracy: 7.5585e-07\n",
      "Epoch 16/20\n",
      "1/1 [==============================] - 2s 2s/step - loss: 1.2284 - accuracy: 7.5585e-07\n",
      "Epoch 17/20\n",
      "1/1 [==============================] - 2s 2s/step - loss: 0.8450 - accuracy: 7.5585e-07\n",
      "Epoch 18/20\n",
      "1/1 [==============================] - 2s 2s/step - loss: 0.4443 - accuracy: 7.5585e-07\n",
      "Epoch 19/20\n",
      "1/1 [==============================] - 2s 2s/step - loss: 0.2621 - accuracy: 7.5585e-07\n",
      "Epoch 20/20\n",
      "1/1 [==============================] - 2s 2s/step - loss: 0.3943 - accuracy: 7.5585e-07\n",
      "Epoch 1/20\n",
      "1/1 [==============================] - 2s 2s/step - loss: 0.6555 - accuracy: 7.5585e-07\n",
      "Epoch 2/20\n",
      "1/1 [==============================] - 2s 2s/step - loss: 0.5075 - accuracy: 7.5585e-07\n",
      "Epoch 3/20\n",
      "1/1 [==============================] - 2s 2s/step - loss: 0.3111 - accuracy: 7.5585e-07\n",
      "Epoch 4/20\n",
      "1/1 [==============================] - 2s 2s/step - loss: 0.4045 - accuracy: 7.5585e-07\n",
      "Epoch 5/20\n",
      "1/1 [==============================] - 2s 2s/step - loss: 0.5157 - accuracy: 7.5585e-07\n",
      "Epoch 6/20\n",
      "1/1 [==============================] - 2s 2s/step - loss: 0.4023 - accuracy: 7.5585e-07\n",
      "Epoch 7/20\n",
      "1/1 [==============================] - 2s 2s/step - loss: 0.3013 - accuracy: 7.5585e-07\n",
      "Epoch 8/20\n",
      "1/1 [==============================] - 2s 2s/step - loss: 0.3942 - accuracy: 7.5585e-07\n",
      "Epoch 9/20\n",
      "1/1 [==============================] - 2s 2s/step - loss: 0.4438 - accuracy: 7.5585e-07\n",
      "Epoch 10/20\n",
      "1/1 [==============================] - 2s 2s/step - loss: 0.3395 - accuracy: 7.5585e-07\n",
      "Epoch 11/20\n",
      "1/1 [==============================] - 2s 2s/step - loss: 0.3036 - accuracy: 7.5585e-07\n",
      "Epoch 12/20\n",
      "1/1 [==============================] - 2s 2s/step - loss: 0.3744 - accuracy: 7.5585e-07\n",
      "Epoch 13/20\n",
      "1/1 [==============================] - 2s 2s/step - loss: 0.3774 - accuracy: 7.5585e-07\n",
      "Epoch 14/20\n",
      "1/1 [==============================] - 2s 2s/step - loss: 0.3077 - accuracy: 7.5585e-07\n",
      "Epoch 15/20\n",
      "1/1 [==============================] - 2s 2s/step - loss: 0.3069 - accuracy: 7.5585e-07\n",
      "Epoch 16/20\n",
      "1/1 [==============================] - 2s 2s/step - loss: 0.3518 - accuracy: 7.5585e-07\n",
      "Epoch 17/20\n",
      "1/1 [==============================] - 2s 2s/step - loss: 0.3374 - accuracy: 7.5585e-07\n",
      "Epoch 18/20\n",
      "1/1 [==============================] - 2s 2s/step - loss: 0.2935 - accuracy: 7.5585e-07\n",
      "Epoch 19/20\n",
      "1/1 [==============================] - 2s 2s/step - loss: 0.3077 - accuracy: 7.5585e-07\n",
      "Epoch 20/20\n",
      "1/1 [==============================] - 2s 2s/step - loss: 0.3331 - accuracy: 7.5585e-07\n",
      "/home/fdf7gn/data/UVaVoice/ConversationalSpeech-FunctioningLarynxes/Participant 5/Electrolarynx/2021-06-23_15-07-23.wav\n",
      "Epoch 1/20\n",
      "1/1 [==============================] - 2s 2s/step - loss: 0.2893 - accuracy: 0.0000e+00\n",
      "Epoch 2/20\n",
      "1/1 [==============================] - 2s 2s/step - loss: 0.2664 - accuracy: 0.0000e+00\n",
      "Epoch 3/20\n",
      "1/1 [==============================] - 2s 2s/step - loss: 0.2739 - accuracy: 0.0000e+00\n",
      "Epoch 4/20\n",
      "1/1 [==============================] - 2s 2s/step - loss: 0.2909 - accuracy: 0.0000e+00\n",
      "Epoch 5/20\n",
      "1/1 [==============================] - 2s 2s/step - loss: 0.2898 - accuracy: 0.0000e+00\n",
      "Epoch 6/20\n",
      "1/1 [==============================] - 2s 2s/step - loss: 0.2712 - accuracy: 0.0000e+00\n",
      "Epoch 7/20\n",
      "1/1 [==============================] - 2s 2s/step - loss: 0.2619 - accuracy: 0.0000e+00\n",
      "Epoch 8/20\n",
      "1/1 [==============================] - 2s 2s/step - loss: 0.2698 - accuracy: 0.0000e+00\n",
      "Epoch 9/20\n",
      "1/1 [==============================] - 2s 2s/step - loss: 0.2792 - accuracy: 0.0000e+00\n",
      "Epoch 10/20\n",
      "1/1 [==============================] - 2s 2s/step - loss: 0.2751 - accuracy: 0.0000e+00\n",
      "Epoch 11/20\n",
      "1/1 [==============================] - 2s 2s/step - loss: 0.2636 - accuracy: 0.0000e+00\n",
      "Epoch 12/20\n",
      "1/1 [==============================] - 2s 2s/step - loss: 0.2589 - accuracy: 0.0000e+00\n",
      "Epoch 13/20\n",
      "1/1 [==============================] - 2s 2s/step - loss: 0.2644 - accuracy: 0.0000e+00\n",
      "Epoch 14/20\n",
      "1/1 [==============================] - 2s 2s/step - loss: 0.2691 - accuracy: 0.0000e+00\n",
      "Epoch 15/20\n",
      "1/1 [==============================] - 2s 2s/step - loss: 0.2664 - accuracy: 0.0000e+00\n",
      "Epoch 16/20\n",
      "1/1 [==============================] - 2s 2s/step - loss: 0.2594 - accuracy: 0.0000e+00\n",
      "Epoch 17/20\n",
      "1/1 [==============================] - 2s 2s/step - loss: 0.2566 - accuracy: 0.0000e+00\n",
      "Epoch 18/20\n",
      "1/1 [==============================] - 2s 2s/step - loss: 0.2592 - accuracy: 0.0000e+00\n",
      "Epoch 19/20\n",
      "1/1 [==============================] - 2s 2s/step - loss: 0.2622 - accuracy: 0.0000e+00\n",
      "Epoch 20/20\n",
      "1/1 [==============================] - 2s 2s/step - loss: 0.2607 - accuracy: 0.0000e+00\n",
      "Epoch 1/20\n",
      "1/1 [==============================] - 2s 2s/step - loss: 0.2857 - accuracy: 7.5585e-07\n",
      "Epoch 2/20\n",
      "1/1 [==============================] - 2s 2s/step - loss: 0.2824 - accuracy: 7.5585e-07\n",
      "Epoch 3/20\n",
      "1/1 [==============================] - 2s 2s/step - loss: 0.2837 - accuracy: 7.5585e-07\n",
      "Epoch 4/20\n",
      "1/1 [==============================] - 2s 2s/step - loss: 0.2841 - accuracy: 7.5585e-07\n",
      "Epoch 5/20\n",
      "1/1 [==============================] - 2s 2s/step - loss: 0.2813 - accuracy: 7.5585e-07\n",
      "Epoch 6/20\n",
      "1/1 [==============================] - 2s 2s/step - loss: 0.2800 - accuracy: 7.5585e-07\n",
      "Epoch 7/20\n",
      "1/1 [==============================] - 2s 2s/step - loss: 0.2810 - accuracy: 7.5585e-07\n",
      "Epoch 8/20\n",
      "1/1 [==============================] - 2s 2s/step - loss: 0.2803 - accuracy: 7.5585e-07\n",
      "Epoch 9/20\n",
      "1/1 [==============================] - 2s 2s/step - loss: 0.2778 - accuracy: 7.5585e-07\n",
      "Epoch 10/20\n",
      "1/1 [==============================] - 2s 2s/step - loss: 0.2770 - accuracy: 7.5585e-07\n",
      "Epoch 11/20\n",
      "1/1 [==============================] - 2s 2s/step - loss: 0.2775 - accuracy: 7.5585e-07\n",
      "Epoch 12/20\n",
      "1/1 [==============================] - 2s 2s/step - loss: 0.2767 - accuracy: 7.5585e-07\n",
      "Epoch 13/20\n",
      "1/1 [==============================] - 2s 2s/step - loss: 0.2750 - accuracy: 7.5585e-07\n",
      "Epoch 14/20\n",
      "1/1 [==============================] - 2s 2s/step - loss: 0.2744 - accuracy: 7.5585e-07\n",
      "Epoch 15/20\n",
      "1/1 [==============================] - 2s 2s/step - loss: 0.2745 - accuracy: 7.5585e-07\n",
      "Epoch 16/20\n",
      "1/1 [==============================] - 2s 2s/step - loss: 0.2737 - accuracy: 7.5585e-07\n",
      "Epoch 17/20\n",
      "1/1 [==============================] - 2s 2s/step - loss: 0.2723 - accuracy: 7.5585e-07\n",
      "Epoch 18/20\n",
      "1/1 [==============================] - 2s 2s/step - loss: 0.2717 - accuracy: 7.5585e-07\n",
      "Epoch 19/20\n",
      "1/1 [==============================] - 2s 2s/step - loss: 0.2715 - accuracy: 7.5585e-07\n",
      "Epoch 20/20\n",
      "1/1 [==============================] - 2s 2s/step - loss: 0.2708 - accuracy: 7.5585e-07\n",
      "/home/fdf7gn/data/UVaVoice/ConversationalSpeech-FunctioningLarynxes/Participant 5/Electrolarynx/2021-06-23_15-01-37.wav\n",
      "Epoch 1/20\n",
      "1/1 [==============================] - 2s 2s/step - loss: 0.2422 - accuracy: 7.5585e-07\n",
      "Epoch 2/20\n",
      "1/1 [==============================] - 2s 2s/step - loss: 0.2410 - accuracy: 7.5585e-07\n",
      "Epoch 3/20\n",
      "1/1 [==============================] - 2s 2s/step - loss: 0.2399 - accuracy: 7.5585e-07\n",
      "Epoch 4/20\n",
      "1/1 [==============================] - 2s 2s/step - loss: 0.2393 - accuracy: 7.5585e-07\n",
      "Epoch 5/20\n",
      "1/1 [==============================] - 2s 2s/step - loss: 0.2389 - accuracy: 7.5585e-07\n",
      "Epoch 6/20\n",
      "1/1 [==============================] - 2s 2s/step - loss: 0.2384 - accuracy: 7.5585e-07\n",
      "Epoch 7/20\n",
      "1/1 [==============================] - 2s 2s/step - loss: 0.2379 - accuracy: 7.5585e-07\n",
      "Epoch 8/20\n",
      "1/1 [==============================] - 2s 2s/step - loss: 0.2374 - accuracy: 7.5585e-07\n",
      "Epoch 9/20\n",
      "1/1 [==============================] - 2s 2s/step - loss: 0.2368 - accuracy: 7.5585e-07\n",
      "Epoch 10/20\n",
      "1/1 [==============================] - 2s 2s/step - loss: 0.2362 - accuracy: 7.5585e-07\n",
      "Epoch 11/20\n",
      "1/1 [==============================] - 2s 2s/step - loss: 0.2356 - accuracy: 7.5585e-07\n",
      "Epoch 12/20\n",
      "1/1 [==============================] - 2s 2s/step - loss: 0.2351 - accuracy: 7.5585e-07\n",
      "Epoch 13/20\n",
      "1/1 [==============================] - 2s 2s/step - loss: 0.2347 - accuracy: 7.5585e-07\n",
      "Epoch 14/20\n",
      "1/1 [==============================] - 2s 2s/step - loss: 0.2342 - accuracy: 7.5585e-07\n",
      "Epoch 15/20\n",
      "1/1 [==============================] - 2s 2s/step - loss: 0.2336 - accuracy: 7.5585e-07\n",
      "Epoch 16/20\n",
      "1/1 [==============================] - 2s 2s/step - loss: 0.2331 - accuracy: 7.5585e-07\n",
      "Epoch 17/20\n",
      "1/1 [==============================] - 2s 2s/step - loss: 0.2328 - accuracy: 7.5585e-07\n",
      "Epoch 18/20\n",
      "1/1 [==============================] - 2s 2s/step - loss: 0.2324 - accuracy: 7.5585e-07\n",
      "Epoch 19/20\n",
      "1/1 [==============================] - 2s 2s/step - loss: 0.2319 - accuracy: 7.5585e-07\n",
      "Epoch 20/20\n",
      "1/1 [==============================] - 2s 2s/step - loss: 0.2315 - accuracy: 7.5585e-07\n",
      "Epoch 1/20\n",
      "1/1 [==============================] - 2s 2s/step - loss: 0.2157 - accuracy: 7.5585e-07\n",
      "Epoch 2/20\n",
      "1/1 [==============================] - 2s 2s/step - loss: 0.2150 - accuracy: 7.5585e-07\n",
      "Epoch 3/20\n",
      "1/1 [==============================] - 2s 2s/step - loss: 0.2143 - accuracy: 7.5585e-07\n",
      "Epoch 4/20\n",
      "1/1 [==============================] - 2s 2s/step - loss: 0.2139 - accuracy: 7.5585e-07\n",
      "Epoch 5/20\n",
      "1/1 [==============================] - 2s 2s/step - loss: 0.2136 - accuracy: 7.5585e-07\n",
      "Epoch 6/20\n",
      "1/1 [==============================] - 2s 2s/step - loss: 0.2133 - accuracy: 7.5585e-07\n",
      "Epoch 7/20\n",
      "1/1 [==============================] - 2s 2s/step - loss: 0.2129 - accuracy: 7.5585e-07\n",
      "Epoch 8/20\n",
      "1/1 [==============================] - 2s 2s/step - loss: 0.2125 - accuracy: 7.5585e-07\n",
      "Epoch 9/20\n",
      "1/1 [==============================] - 2s 2s/step - loss: 0.2121 - accuracy: 7.5585e-07\n",
      "Epoch 10/20\n",
      "1/1 [==============================] - 2s 2s/step - loss: 0.2118 - accuracy: 7.5585e-07\n",
      "Epoch 11/20\n",
      "1/1 [==============================] - 2s 2s/step - loss: 0.2115 - accuracy: 7.5585e-07\n",
      "Epoch 12/20\n",
      "1/1 [==============================] - 2s 2s/step - loss: 0.2112 - accuracy: 7.5585e-07\n",
      "Epoch 13/20\n",
      "1/1 [==============================] - 2s 2s/step - loss: 0.2109 - accuracy: 7.5585e-07\n",
      "Epoch 14/20\n",
      "1/1 [==============================] - 2s 2s/step - loss: 0.2106 - accuracy: 7.5585e-07\n",
      "Epoch 15/20\n",
      "1/1 [==============================] - 2s 2s/step - loss: 0.2102 - accuracy: 7.5585e-07\n",
      "Epoch 16/20\n",
      "1/1 [==============================] - 2s 2s/step - loss: 0.2098 - accuracy: 7.5585e-07\n",
      "Epoch 17/20\n",
      "1/1 [==============================] - 2s 2s/step - loss: 0.2095 - accuracy: 7.5585e-07\n",
      "Epoch 18/20\n",
      "1/1 [==============================] - 2s 2s/step - loss: 0.2092 - accuracy: 7.5585e-07\n",
      "Epoch 19/20\n",
      "1/1 [==============================] - 2s 2s/step - loss: 0.2090 - accuracy: 7.5585e-07\n",
      "Epoch 20/20\n",
      "1/1 [==============================] - 2s 2s/step - loss: 0.2087 - accuracy: 7.5585e-07\n",
      "/home/fdf7gn/data/UVaVoice/ConversationalSpeech-FunctioningLarynxes/Participant 5/Electrolarynx/2021-06-23_14-46-53.wav\n",
      "Epoch 1/20\n",
      "1/1 [==============================] - 2s 2s/step - loss: 0.2375 - accuracy: 7.5585e-07\n",
      "Epoch 2/20\n",
      "1/1 [==============================] - 2s 2s/step - loss: 0.2369 - accuracy: 7.5585e-07\n",
      "Epoch 3/20\n",
      "1/1 [==============================] - 2s 2s/step - loss: 0.2363 - accuracy: 7.5585e-07\n",
      "Epoch 4/20\n",
      "1/1 [==============================] - 2s 2s/step - loss: 0.2360 - accuracy: 7.5585e-07\n",
      "Epoch 5/20\n",
      "1/1 [==============================] - 2s 2s/step - loss: 0.2354 - accuracy: 7.5585e-07\n",
      "Epoch 6/20\n",
      "1/1 [==============================] - 2s 2s/step - loss: 0.2350 - accuracy: 7.5585e-07\n",
      "Epoch 7/20\n",
      "1/1 [==============================] - 2s 2s/step - loss: 0.2342 - accuracy: 7.5585e-07\n",
      "Epoch 8/20\n",
      "1/1 [==============================] - 2s 2s/step - loss: 0.2339 - accuracy: 7.5585e-07\n",
      "Epoch 9/20\n",
      "1/1 [==============================] - 2s 2s/step - loss: 0.2332 - accuracy: 7.5585e-07\n",
      "Epoch 10/20\n",
      "1/1 [==============================] - 2s 2s/step - loss: 0.2329 - accuracy: 7.5585e-07\n",
      "Epoch 11/20\n",
      "1/1 [==============================] - 2s 2s/step - loss: 0.2323 - accuracy: 7.5585e-07\n",
      "Epoch 12/20\n",
      "1/1 [==============================] - 2s 2s/step - loss: 0.2318 - accuracy: 7.5585e-07\n",
      "Epoch 13/20\n",
      "1/1 [==============================] - 2s 2s/step - loss: 0.2314 - accuracy: 7.5585e-07\n",
      "Epoch 14/20\n",
      "1/1 [==============================] - 2s 2s/step - loss: 0.2309 - accuracy: 7.5585e-07\n",
      "Epoch 15/20\n",
      "1/1 [==============================] - 2s 2s/step - loss: 0.2305 - accuracy: 7.5585e-07\n",
      "Epoch 16/20\n",
      "1/1 [==============================] - 2s 2s/step - loss: 0.2300 - accuracy: 7.5585e-07\n",
      "Epoch 17/20\n",
      "1/1 [==============================] - 2s 2s/step - loss: 0.2296 - accuracy: 7.5585e-07\n",
      "Epoch 18/20\n",
      "1/1 [==============================] - 2s 2s/step - loss: 0.2292 - accuracy: 7.5585e-07\n",
      "Epoch 19/20\n",
      "1/1 [==============================] - 2s 2s/step - loss: 0.2288 - accuracy: 7.5585e-07\n",
      "Epoch 20/20\n",
      "1/1 [==============================] - 2s 2s/step - loss: 0.2283 - accuracy: 7.5585e-07\n",
      "Epoch 1/20\n",
      "1/1 [==============================] - 2s 2s/step - loss: 0.2238 - accuracy: 7.5585e-07\n",
      "Epoch 2/20\n",
      "1/1 [==============================] - 2s 2s/step - loss: 0.2230 - accuracy: 7.5585e-07\n",
      "Epoch 3/20\n",
      "1/1 [==============================] - 2s 2s/step - loss: 0.2224 - accuracy: 7.5585e-07\n",
      "Epoch 4/20\n",
      "1/1 [==============================] - 2s 2s/step - loss: 0.2220 - accuracy: 7.5585e-07\n",
      "Epoch 5/20\n",
      "1/1 [==============================] - 2s 2s/step - loss: 0.2216 - accuracy: 7.5585e-07\n",
      "Epoch 6/20\n",
      "1/1 [==============================] - 2s 2s/step - loss: 0.2212 - accuracy: 7.5585e-07\n",
      "Epoch 7/20\n",
      "1/1 [==============================] - 2s 2s/step - loss: 0.2208 - accuracy: 7.5585e-07\n",
      "Epoch 8/20\n",
      "1/1 [==============================] - 2s 2s/step - loss: 0.2206 - accuracy: 7.5585e-07\n",
      "Epoch 9/20\n",
      "1/1 [==============================] - 2s 2s/step - loss: 0.2202 - accuracy: 7.5585e-07\n",
      "Epoch 10/20\n",
      "1/1 [==============================] - 2s 2s/step - loss: 0.2198 - accuracy: 7.5585e-07\n",
      "Epoch 11/20\n",
      "1/1 [==============================] - 2s 2s/step - loss: 0.2193 - accuracy: 7.5585e-07\n",
      "Epoch 12/20\n",
      "1/1 [==============================] - 2s 2s/step - loss: 0.2190 - accuracy: 7.5585e-07\n",
      "Epoch 13/20\n",
      "1/1 [==============================] - 2s 2s/step - loss: 0.2187 - accuracy: 7.5585e-07\n",
      "Epoch 14/20\n",
      "1/1 [==============================] - 2s 2s/step - loss: 0.2184 - accuracy: 7.5585e-07\n",
      "Epoch 15/20\n",
      "1/1 [==============================] - 2s 2s/step - loss: 0.2180 - accuracy: 7.5585e-07\n",
      "Epoch 16/20\n",
      "1/1 [==============================] - 2s 2s/step - loss: 0.2176 - accuracy: 7.5585e-07\n",
      "Epoch 17/20\n",
      "1/1 [==============================] - 2s 2s/step - loss: 0.2173 - accuracy: 7.5585e-07\n",
      "Epoch 18/20\n",
      "1/1 [==============================] - 2s 2s/step - loss: 0.2170 - accuracy: 7.5585e-07\n",
      "Epoch 19/20\n",
      "1/1 [==============================] - 2s 2s/step - loss: 0.2166 - accuracy: 7.5585e-07\n",
      "Epoch 20/20\n",
      "1/1 [==============================] - 2s 2s/step - loss: 0.2163 - accuracy: 7.5585e-07\n",
      "/home/fdf7gn/data/UVaVoice/ConversationalSpeech-FunctioningLarynxes/Participant 3/Electrolarynx/2021-12-01_16-00-12.wav\n",
      "Epoch 1/20\n",
      "1/1 [==============================] - 2s 2s/step - loss: 0.2721 - accuracy: 7.5585e-07\n",
      "Epoch 2/20\n",
      "1/1 [==============================] - 2s 2s/step - loss: 0.2698 - accuracy: 7.5585e-07\n",
      "Epoch 3/20\n",
      "1/1 [==============================] - 2s 2s/step - loss: 0.2673 - accuracy: 7.5585e-07\n",
      "Epoch 4/20\n",
      "1/1 [==============================] - 2s 2s/step - loss: 0.2659 - accuracy: 7.5585e-07\n",
      "Epoch 5/20\n",
      "1/1 [==============================] - 2s 2s/step - loss: 0.2656 - accuracy: 7.5585e-07\n",
      "Epoch 6/20\n",
      "1/1 [==============================] - 2s 2s/step - loss: 0.2653 - accuracy: 7.5585e-07\n",
      "Epoch 7/20\n",
      "1/1 [==============================] - 2s 2s/step - loss: 0.2645 - accuracy: 7.5585e-07\n",
      "Epoch 8/20\n",
      "1/1 [==============================] - 2s 2s/step - loss: 0.2634 - accuracy: 7.5585e-07\n",
      "Epoch 9/20\n",
      "1/1 [==============================] - 2s 2s/step - loss: 0.2625 - accuracy: 7.5585e-07\n",
      "Epoch 10/20\n",
      "1/1 [==============================] - 2s 2s/step - loss: 0.2615 - accuracy: 7.5585e-07\n",
      "Epoch 11/20\n",
      "1/1 [==============================] - 2s 2s/step - loss: 0.2607 - accuracy: 7.5585e-07\n",
      "Epoch 12/20\n",
      "1/1 [==============================] - 2s 2s/step - loss: 0.2601 - accuracy: 7.5585e-07\n",
      "Epoch 13/20\n",
      "1/1 [==============================] - 2s 2s/step - loss: 0.2597 - accuracy: 7.5585e-07\n",
      "Epoch 14/20\n",
      "1/1 [==============================] - 2s 2s/step - loss: 0.2587 - accuracy: 7.5585e-07\n",
      "Epoch 15/20\n",
      "1/1 [==============================] - 2s 2s/step - loss: 0.2577 - accuracy: 7.5585e-07\n",
      "Epoch 16/20\n",
      "1/1 [==============================] - 2s 2s/step - loss: 0.2570 - accuracy: 7.5585e-07\n",
      "Epoch 17/20\n",
      "1/1 [==============================] - 2s 2s/step - loss: 0.2565 - accuracy: 7.5585e-07\n",
      "Epoch 18/20\n",
      "1/1 [==============================] - 2s 2s/step - loss: 0.2558 - accuracy: 7.5585e-07\n",
      "Epoch 19/20\n",
      "1/1 [==============================] - 2s 2s/step - loss: 0.2551 - accuracy: 7.5585e-07\n",
      "Epoch 20/20\n",
      "1/1 [==============================] - 2s 2s/step - loss: 0.2544 - accuracy: 7.5585e-07\n",
      "Epoch 1/20\n",
      "1/1 [==============================] - 2s 2s/step - loss: 0.2574 - accuracy: 7.5585e-07\n",
      "Epoch 2/20\n",
      "1/1 [==============================] - 2s 2s/step - loss: 0.2568 - accuracy: 7.5585e-07\n",
      "Epoch 3/20\n",
      "1/1 [==============================] - 2s 2s/step - loss: 0.2560 - accuracy: 7.5585e-07\n",
      "Epoch 4/20\n",
      "1/1 [==============================] - 2s 2s/step - loss: 0.2555 - accuracy: 7.5585e-07\n",
      "Epoch 5/20\n",
      "1/1 [==============================] - 2s 2s/step - loss: 0.2550 - accuracy: 7.5585e-07\n",
      "Epoch 6/20\n",
      "1/1 [==============================] - 2s 2s/step - loss: 0.2543 - accuracy: 7.5585e-07\n",
      "Epoch 7/20\n",
      "1/1 [==============================] - 2s 2s/step - loss: 0.2536 - accuracy: 7.5585e-07\n",
      "Epoch 8/20\n",
      "1/1 [==============================] - 2s 2s/step - loss: 0.2529 - accuracy: 7.5585e-07\n",
      "Epoch 9/20\n",
      "1/1 [==============================] - 2s 2s/step - loss: 0.2524 - accuracy: 7.5585e-07\n",
      "Epoch 10/20\n",
      "1/1 [==============================] - 2s 2s/step - loss: 0.2520 - accuracy: 7.5585e-07\n",
      "Epoch 11/20\n",
      "1/1 [==============================] - 2s 2s/step - loss: 0.2513 - accuracy: 7.5585e-07\n",
      "Epoch 12/20\n",
      "1/1 [==============================] - 2s 2s/step - loss: 0.2507 - accuracy: 7.5585e-07\n",
      "Epoch 13/20\n",
      "1/1 [==============================] - 2s 2s/step - loss: 0.2502 - accuracy: 7.5585e-07\n",
      "Epoch 14/20\n",
      "1/1 [==============================] - 2s 2s/step - loss: 0.2497 - accuracy: 7.5585e-07\n",
      "Epoch 15/20\n",
      "1/1 [==============================] - 2s 2s/step - loss: 0.2492 - accuracy: 7.5585e-07\n",
      "Epoch 16/20\n",
      "1/1 [==============================] - 2s 2s/step - loss: 0.2489 - accuracy: 7.5585e-07\n",
      "Epoch 17/20\n",
      "1/1 [==============================] - 2s 2s/step - loss: 0.2486 - accuracy: 7.5585e-07\n",
      "Epoch 18/20\n",
      "1/1 [==============================] - 2s 2s/step - loss: 0.2485 - accuracy: 7.5585e-07\n",
      "Epoch 19/20\n",
      "1/1 [==============================] - 2s 2s/step - loss: 0.2487 - accuracy: 7.5585e-07\n",
      "Epoch 20/20\n",
      "1/1 [==============================] - 2s 2s/step - loss: 0.2493 - accuracy: 7.5585e-07\n",
      "/home/fdf7gn/data/UVaVoice/ConversationalSpeech-FunctioningLarynxes/Participant 3/Electrolarynx/2021-12-01_16-05-04.wav\n",
      "Epoch 1/20\n",
      "1/1 [==============================] - 2s 2s/step - loss: 0.2663 - accuracy: 7.5585e-07\n",
      "Epoch 2/20\n",
      "1/1 [==============================] - 2s 2s/step - loss: 0.2678 - accuracy: 7.5585e-07\n",
      "Epoch 3/20\n",
      "1/1 [==============================] - 2s 2s/step - loss: 0.2697 - accuracy: 7.5585e-07\n",
      "Epoch 4/20\n",
      "1/1 [==============================] - 2s 2s/step - loss: 0.2710 - accuracy: 7.5585e-07\n",
      "Epoch 5/20\n",
      "1/1 [==============================] - 2s 2s/step - loss: 0.2721 - accuracy: 7.5585e-07\n",
      "Epoch 6/20\n",
      "1/1 [==============================] - 2s 2s/step - loss: 0.2708 - accuracy: 7.5585e-07\n",
      "Epoch 7/20\n",
      "1/1 [==============================] - 2s 2s/step - loss: 0.2685 - accuracy: 7.5585e-07\n",
      "Epoch 8/20\n",
      "1/1 [==============================] - 2s 2s/step - loss: 0.2648 - accuracy: 7.5585e-07\n",
      "Epoch 9/20\n",
      "1/1 [==============================] - 2s 2s/step - loss: 0.2609 - accuracy: 7.5585e-07\n",
      "Epoch 10/20\n",
      "1/1 [==============================] - 2s 2s/step - loss: 0.2576 - accuracy: 7.5585e-07\n",
      "Epoch 11/20\n",
      "1/1 [==============================] - 2s 2s/step - loss: 0.2552 - accuracy: 7.5585e-07\n",
      "Epoch 12/20\n",
      "1/1 [==============================] - 2s 2s/step - loss: 0.2537 - accuracy: 7.5585e-07\n",
      "Epoch 13/20\n",
      "1/1 [==============================] - 2s 2s/step - loss: 0.2532 - accuracy: 7.5585e-07\n",
      "Epoch 14/20\n",
      "1/1 [==============================] - 2s 2s/step - loss: 0.2537 - accuracy: 7.5585e-07\n",
      "Epoch 15/20\n",
      "1/1 [==============================] - 2s 2s/step - loss: 0.2544 - accuracy: 7.5585e-07\n",
      "Epoch 16/20\n",
      "1/1 [==============================] - 2s 2s/step - loss: 0.2550 - accuracy: 7.5585e-07\n",
      "Epoch 17/20\n",
      "1/1 [==============================] - 2s 2s/step - loss: 0.2552 - accuracy: 7.5585e-07\n",
      "Epoch 18/20\n",
      "1/1 [==============================] - 2s 2s/step - loss: 0.2549 - accuracy: 7.5585e-07\n",
      "Epoch 19/20\n",
      "1/1 [==============================] - 2s 2s/step - loss: 0.2540 - accuracy: 7.5585e-07\n",
      "Epoch 20/20\n",
      "1/1 [==============================] - 2s 2s/step - loss: 0.2531 - accuracy: 7.5585e-07\n",
      "Epoch 1/20\n",
      "1/1 [==============================] - 2s 2s/step - loss: 0.2490 - accuracy: 0.0000e+00\n",
      "Epoch 2/20\n",
      "1/1 [==============================] - 2s 2s/step - loss: 0.2475 - accuracy: 0.0000e+00\n",
      "Epoch 3/20\n",
      "1/1 [==============================] - 2s 2s/step - loss: 0.2466 - accuracy: 0.0000e+00\n",
      "Epoch 4/20\n",
      "1/1 [==============================] - 2s 2s/step - loss: 0.2462 - accuracy: 0.0000e+00\n",
      "Epoch 5/20\n",
      "1/1 [==============================] - 2s 2s/step - loss: 0.2459 - accuracy: 0.0000e+00\n",
      "Epoch 6/20\n",
      "1/1 [==============================] - 2s 2s/step - loss: 0.2459 - accuracy: 0.0000e+00\n",
      "Epoch 7/20\n",
      "1/1 [==============================] - 2s 2s/step - loss: 0.2466 - accuracy: 0.0000e+00\n",
      "Epoch 8/20\n",
      "1/1 [==============================] - 2s 2s/step - loss: 0.2632 - accuracy: 0.0000e+00\n",
      "Epoch 9/20\n",
      "1/1 [==============================] - 2s 2s/step - loss: 0.3486 - accuracy: 0.0000e+00\n",
      "Epoch 10/20\n",
      "1/1 [==============================] - 2s 2s/step - loss: 0.5326 - accuracy: 0.0000e+00\n",
      "Epoch 11/20\n",
      "1/1 [==============================] - 2s 2s/step - loss: 0.8777 - accuracy: 0.0000e+00\n",
      "Epoch 12/20\n",
      "1/1 [==============================] - 2s 2s/step - loss: 1.6067 - accuracy: 0.0000e+00\n",
      "Epoch 13/20\n",
      "1/1 [==============================] - 2s 2s/step - loss: 2.3518 - accuracy: 0.0000e+00\n",
      "Epoch 14/20\n",
      "1/1 [==============================] - 2s 2s/step - loss: 3.2882 - accuracy: 0.0000e+00\n",
      "Epoch 15/20\n",
      "1/1 [==============================] - 2s 2s/step - loss: 2.6898 - accuracy: 0.0000e+00\n",
      "Epoch 16/20\n",
      "1/1 [==============================] - 2s 2s/step - loss: 1.4131 - accuracy: 0.0000e+00\n",
      "Epoch 17/20\n",
      "1/1 [==============================] - 2s 2s/step - loss: 0.3097 - accuracy: 0.0000e+00\n",
      "Epoch 18/20\n",
      "1/1 [==============================] - 2s 2s/step - loss: 0.6944 - accuracy: 0.0000e+00\n",
      "Epoch 19/20\n",
      "1/1 [==============================] - 2s 2s/step - loss: 1.6230 - accuracy: 0.0000e+00\n",
      "Epoch 20/20\n",
      "1/1 [==============================] - 2s 2s/step - loss: 1.3320 - accuracy: 0.0000e+00\n",
      "/home/fdf7gn/data/UVaVoice/ConversationalSpeech-FunctioningLarynxes/Participant 3/Electrolarynx/2021-12-01_16-02-23.wav\n",
      "Epoch 1/20\n",
      "1/1 [==============================] - 2s 2s/step - loss: 0.4778 - accuracy: 7.5585e-07\n",
      "Epoch 2/20\n",
      "1/1 [==============================] - 2s 2s/step - loss: 0.3199 - accuracy: 7.5585e-07\n",
      "Epoch 3/20\n",
      "1/1 [==============================] - 2s 2s/step - loss: 0.8814 - accuracy: 7.5585e-07\n",
      "Epoch 4/20\n",
      "1/1 [==============================] - 2s 2s/step - loss: 1.2176 - accuracy: 7.5585e-07\n",
      "Epoch 5/20\n",
      "1/1 [==============================] - 2s 2s/step - loss: 0.7143 - accuracy: 7.5585e-07\n",
      "Epoch 6/20\n",
      "1/1 [==============================] - 2s 2s/step - loss: 0.2662 - accuracy: 7.5585e-07\n",
      "Epoch 7/20\n",
      "1/1 [==============================] - 2s 2s/step - loss: 0.4543 - accuracy: 7.5585e-07\n",
      "Epoch 8/20\n",
      "1/1 [==============================] - 2s 2s/step - loss: 0.7718 - accuracy: 7.5585e-07\n",
      "Epoch 9/20\n",
      "1/1 [==============================] - 2s 2s/step - loss: 0.6401 - accuracy: 7.5585e-07\n",
      "Epoch 10/20\n",
      "1/1 [==============================] - 2s 2s/step - loss: 0.2864 - accuracy: 7.5585e-07\n",
      "Epoch 11/20\n",
      "1/1 [==============================] - 2s 2s/step - loss: 0.3344 - accuracy: 7.5585e-07\n",
      "Epoch 12/20\n",
      "1/1 [==============================] - 2s 2s/step - loss: 0.5815 - accuracy: 7.5585e-07\n",
      "Epoch 13/20\n",
      "1/1 [==============================] - 2s 2s/step - loss: 0.5070 - accuracy: 7.5585e-07\n",
      "Epoch 14/20\n",
      "1/1 [==============================] - 2s 2s/step - loss: 0.2771 - accuracy: 7.5585e-07\n",
      "Epoch 15/20\n",
      "1/1 [==============================] - 2s 2s/step - loss: 0.2890 - accuracy: 7.5585e-07\n",
      "Epoch 16/20\n",
      "1/1 [==============================] - 2s 2s/step - loss: 0.4449 - accuracy: 7.5585e-07\n",
      "Epoch 17/20\n",
      "1/1 [==============================] - 2s 2s/step - loss: 0.4214 - accuracy: 7.5585e-07\n",
      "Epoch 18/20\n",
      "1/1 [==============================] - 2s 2s/step - loss: 0.2651 - accuracy: 7.5585e-07\n",
      "Epoch 19/20\n",
      "1/1 [==============================] - 2s 2s/step - loss: 0.2694 - accuracy: 7.5585e-07\n",
      "Epoch 20/20\n",
      "1/1 [==============================] - 2s 2s/step - loss: 0.3770 - accuracy: 7.5585e-07\n",
      "Epoch 1/20\n",
      "1/1 [==============================] - 2s 2s/step - loss: 0.3471 - accuracy: 7.5585e-07\n",
      "Epoch 2/20\n",
      "1/1 [==============================] - 2s 2s/step - loss: 0.2427 - accuracy: 7.5585e-07\n",
      "Epoch 3/20\n",
      "1/1 [==============================] - 2s 2s/step - loss: 0.2695 - accuracy: 7.5585e-07\n",
      "Epoch 4/20\n",
      "1/1 [==============================] - 2s 2s/step - loss: 0.3312 - accuracy: 7.5585e-07\n",
      "Epoch 5/20\n",
      "1/1 [==============================] - 2s 2s/step - loss: 0.2813 - accuracy: 7.5585e-07\n",
      "Epoch 6/20\n",
      "1/1 [==============================] - 2s 2s/step - loss: 0.2316 - accuracy: 7.5585e-07\n",
      "Epoch 7/20\n",
      "1/1 [==============================] - 2s 2s/step - loss: 0.2766 - accuracy: 7.5585e-07\n",
      "Epoch 8/20\n",
      "1/1 [==============================] - 2s 2s/step - loss: 0.2958 - accuracy: 7.5585e-07\n",
      "Epoch 9/20\n",
      "1/1 [==============================] - 2s 2s/step - loss: 0.2446 - accuracy: 7.5585e-07\n",
      "Epoch 10/20\n",
      "1/1 [==============================] - 2s 2s/step - loss: 0.2342 - accuracy: 7.5585e-07\n",
      "Epoch 11/20\n",
      "1/1 [==============================] - 2s 2s/step - loss: 0.2712 - accuracy: 7.5585e-07\n",
      "Epoch 12/20\n",
      "1/1 [==============================] - 2s 2s/step - loss: 0.2628 - accuracy: 7.5585e-07\n",
      "Epoch 13/20\n",
      "1/1 [==============================] - 2s 2s/step - loss: 0.2297 - accuracy: 7.5585e-07\n",
      "Epoch 14/20\n",
      "1/1 [==============================] - 2s 2s/step - loss: 0.2373 - accuracy: 7.5585e-07\n",
      "Epoch 15/20\n",
      "1/1 [==============================] - 2s 2s/step - loss: 0.2577 - accuracy: 7.5585e-07\n",
      "Epoch 16/20\n",
      "1/1 [==============================] - 2s 2s/step - loss: 0.2427 - accuracy: 7.5585e-07\n",
      "Epoch 17/20\n",
      "1/1 [==============================] - 2s 2s/step - loss: 0.2249 - accuracy: 7.5585e-07\n",
      "Epoch 18/20\n",
      "1/1 [==============================] - 2s 2s/step - loss: 0.2368 - accuracy: 7.5585e-07\n",
      "Epoch 19/20\n",
      "1/1 [==============================] - 2s 2s/step - loss: 0.2460 - accuracy: 7.5585e-07\n",
      "Epoch 20/20\n",
      "1/1 [==============================] - 2s 2s/step - loss: 0.2312 - accuracy: 7.5585e-07\n",
      "/home/fdf7gn/data/UVaVoice/ConversationalSpeech-FunctioningLarynxes/Participant 3/Electrolarynx/2021-12-01_15-54-28.wav\n",
      "Epoch 1/20\n",
      "1/1 [==============================] - 2s 2s/step - loss: 0.2623 - accuracy: 7.5585e-07\n",
      "Epoch 2/20\n",
      "1/1 [==============================] - 2s 2s/step - loss: 0.2713 - accuracy: 7.5585e-07\n",
      "Epoch 3/20\n",
      "1/1 [==============================] - 2s 2s/step - loss: 0.2757 - accuracy: 7.5585e-07\n",
      "Epoch 4/20\n",
      "1/1 [==============================] - 2s 2s/step - loss: 0.2662 - accuracy: 7.5585e-07\n",
      "Epoch 5/20\n",
      "1/1 [==============================] - 2s 2s/step - loss: 0.2588 - accuracy: 7.5585e-07\n",
      "Epoch 6/20\n",
      "1/1 [==============================] - 2s 2s/step - loss: 0.2629 - accuracy: 7.5585e-07\n",
      "Epoch 7/20\n",
      "1/1 [==============================] - 2s 2s/step - loss: 0.2678 - accuracy: 7.5585e-07\n",
      "Epoch 8/20\n",
      "1/1 [==============================] - 2s 2s/step - loss: 0.2631 - accuracy: 7.5585e-07\n",
      "Epoch 9/20\n",
      "1/1 [==============================] - 2s 2s/step - loss: 0.2562 - accuracy: 7.5585e-07\n",
      "Epoch 10/20\n",
      "1/1 [==============================] - 2s 2s/step - loss: 0.2563 - accuracy: 7.5585e-07\n",
      "Epoch 11/20\n",
      "1/1 [==============================] - 2s 2s/step - loss: 0.2600 - accuracy: 7.5585e-07\n",
      "Epoch 12/20\n",
      "1/1 [==============================] - 2s 2s/step - loss: 0.2590 - accuracy: 7.5585e-07\n",
      "Epoch 13/20\n",
      "1/1 [==============================] - 2s 2s/step - loss: 0.2540 - accuracy: 7.5585e-07\n",
      "Epoch 14/20\n",
      "1/1 [==============================] - 2s 2s/step - loss: 0.2520 - accuracy: 7.5585e-07\n",
      "Epoch 15/20\n",
      "1/1 [==============================] - 2s 2s/step - loss: 0.2539 - accuracy: 7.5585e-07\n",
      "Epoch 16/20\n",
      "1/1 [==============================] - 2s 2s/step - loss: 0.2545 - accuracy: 7.5585e-07\n",
      "Epoch 17/20\n",
      "1/1 [==============================] - 2s 2s/step - loss: 0.2518 - accuracy: 7.5585e-07\n",
      "Epoch 18/20\n",
      "1/1 [==============================] - 2s 2s/step - loss: 0.2491 - accuracy: 7.5585e-07\n",
      "Epoch 19/20\n",
      "1/1 [==============================] - 2s 2s/step - loss: 0.2491 - accuracy: 7.5585e-07\n",
      "Epoch 20/20\n",
      "1/1 [==============================] - 2s 2s/step - loss: 0.2502 - accuracy: 7.5585e-07\n",
      "Epoch 1/20\n",
      "1/1 [==============================] - 2s 2s/step - loss: 0.2575 - accuracy: 7.5585e-07\n",
      "Epoch 2/20\n",
      "1/1 [==============================] - 2s 2s/step - loss: 0.2558 - accuracy: 7.5585e-07\n",
      "Epoch 3/20\n",
      "1/1 [==============================] - 2s 2s/step - loss: 0.2546 - accuracy: 7.5585e-07\n",
      "Epoch 4/20\n",
      "1/1 [==============================] - 2s 2s/step - loss: 0.2542 - accuracy: 7.5585e-07\n",
      "Epoch 5/20\n",
      "1/1 [==============================] - 2s 2s/step - loss: 0.2542 - accuracy: 7.5585e-07\n",
      "Epoch 6/20\n",
      "1/1 [==============================] - 2s 2s/step - loss: 0.2543 - accuracy: 7.5585e-07\n",
      "Epoch 7/20\n",
      "1/1 [==============================] - 2s 2s/step - loss: 0.2542 - accuracy: 7.5585e-07\n",
      "Epoch 8/20\n",
      "1/1 [==============================] - 2s 2s/step - loss: 0.2540 - accuracy: 7.5585e-07\n",
      "Epoch 9/20\n",
      "1/1 [==============================] - 2s 2s/step - loss: 0.2534 - accuracy: 7.5585e-07\n",
      "Epoch 10/20\n",
      "1/1 [==============================] - 2s 2s/step - loss: 0.2527 - accuracy: 7.5585e-07\n",
      "Epoch 11/20\n",
      "1/1 [==============================] - 2s 2s/step - loss: 0.2518 - accuracy: 7.5585e-07\n",
      "Epoch 12/20\n",
      "1/1 [==============================] - 2s 2s/step - loss: 0.2508 - accuracy: 7.5585e-07\n",
      "Epoch 13/20\n",
      "1/1 [==============================] - 2s 2s/step - loss: 0.2497 - accuracy: 7.5585e-07\n",
      "Epoch 14/20\n",
      "1/1 [==============================] - 2s 2s/step - loss: 0.2489 - accuracy: 7.5585e-07\n",
      "Epoch 15/20\n",
      "1/1 [==============================] - 2s 2s/step - loss: 0.2482 - accuracy: 7.5585e-07\n",
      "Epoch 16/20\n",
      "1/1 [==============================] - 2s 2s/step - loss: 0.2476 - accuracy: 7.5585e-07\n",
      "Epoch 17/20\n",
      "1/1 [==============================] - 2s 2s/step - loss: 0.2471 - accuracy: 7.5585e-07\n",
      "Epoch 18/20\n",
      "1/1 [==============================] - 2s 2s/step - loss: 0.2466 - accuracy: 7.5585e-07\n",
      "Epoch 19/20\n",
      "1/1 [==============================] - 2s 2s/step - loss: 0.2462 - accuracy: 7.5585e-07\n",
      "Epoch 20/20\n",
      "1/1 [==============================] - 2s 2s/step - loss: 0.2458 - accuracy: 7.5585e-07\n",
      "/home/fdf7gn/data/UVaVoice/ConversationalSpeech-FunctioningLarynxes/Participant 3/Electrolarynx/2021-12-01_15-49-27.wav\n",
      "Epoch 1/20\n",
      "1/1 [==============================] - 2s 2s/step - loss: 0.2279 - accuracy: 7.5585e-07\n",
      "Epoch 2/20\n",
      "1/1 [==============================] - 2s 2s/step - loss: 0.2271 - accuracy: 7.5585e-07\n",
      "Epoch 3/20\n",
      "1/1 [==============================] - 2s 2s/step - loss: 0.2262 - accuracy: 7.5585e-07\n",
      "Epoch 4/20\n",
      "1/1 [==============================] - 2s 2s/step - loss: 0.2253 - accuracy: 7.5585e-07\n",
      "Epoch 5/20\n",
      "1/1 [==============================] - 2s 2s/step - loss: 0.2243 - accuracy: 7.5585e-07\n",
      "Epoch 6/20\n",
      "1/1 [==============================] - 2s 2s/step - loss: 0.2234 - accuracy: 7.5585e-07\n",
      "Epoch 7/20\n",
      "1/1 [==============================] - 2s 2s/step - loss: 0.2225 - accuracy: 7.5585e-07\n",
      "Epoch 8/20\n",
      "1/1 [==============================] - 2s 2s/step - loss: 0.2219 - accuracy: 7.5585e-07\n",
      "Epoch 9/20\n",
      "1/1 [==============================] - 2s 2s/step - loss: 0.2213 - accuracy: 7.5585e-07\n",
      "Epoch 10/20\n",
      "1/1 [==============================] - 2s 2s/step - loss: 0.2209 - accuracy: 7.5585e-07\n",
      "Epoch 11/20\n",
      "1/1 [==============================] - 2s 2s/step - loss: 0.2203 - accuracy: 7.5585e-07\n",
      "Epoch 12/20\n",
      "1/1 [==============================] - 2s 2s/step - loss: 0.2199 - accuracy: 7.5585e-07\n",
      "Epoch 13/20\n",
      "1/1 [==============================] - 2s 2s/step - loss: 0.2194 - accuracy: 7.5585e-07\n",
      "Epoch 14/20\n",
      "1/1 [==============================] - 2s 2s/step - loss: 0.2189 - accuracy: 7.5585e-07\n",
      "Epoch 15/20\n",
      "1/1 [==============================] - 2s 2s/step - loss: 0.2185 - accuracy: 7.5585e-07\n",
      "Epoch 16/20\n",
      "1/1 [==============================] - 2s 2s/step - loss: 0.2179 - accuracy: 7.5585e-07\n",
      "Epoch 17/20\n",
      "1/1 [==============================] - 2s 2s/step - loss: 0.2175 - accuracy: 7.5585e-07\n",
      "Epoch 18/20\n",
      "1/1 [==============================] - 2s 2s/step - loss: 0.2171 - accuracy: 7.5585e-07\n",
      "Epoch 19/20\n",
      "1/1 [==============================] - 2s 2s/step - loss: 0.2167 - accuracy: 7.5585e-07\n",
      "Epoch 20/20\n",
      "1/1 [==============================] - 2s 2s/step - loss: 0.2163 - accuracy: 7.5585e-07\n",
      "Epoch 1/20\n",
      "1/1 [==============================] - 2s 2s/step - loss: 0.2285 - accuracy: 7.5585e-07\n",
      "Epoch 2/20\n",
      "1/1 [==============================] - 2s 2s/step - loss: 0.2282 - accuracy: 7.5585e-07\n",
      "Epoch 3/20\n",
      "1/1 [==============================] - 2s 2s/step - loss: 0.2278 - accuracy: 7.5585e-07\n",
      "Epoch 4/20\n",
      "1/1 [==============================] - 2s 2s/step - loss: 0.2274 - accuracy: 7.5585e-07\n",
      "Epoch 5/20\n",
      "1/1 [==============================] - 2s 2s/step - loss: 0.2270 - accuracy: 7.5585e-07\n",
      "Epoch 6/20\n",
      "1/1 [==============================] - 2s 2s/step - loss: 0.2266 - accuracy: 7.5585e-07\n",
      "Epoch 7/20\n",
      "1/1 [==============================] - 2s 2s/step - loss: 0.2262 - accuracy: 7.5585e-07\n",
      "Epoch 8/20\n",
      "1/1 [==============================] - 2s 2s/step - loss: 0.2259 - accuracy: 7.5585e-07\n",
      "Epoch 9/20\n",
      "1/1 [==============================] - 2s 2s/step - loss: 0.2256 - accuracy: 7.5585e-07\n",
      "Epoch 10/20\n",
      "1/1 [==============================] - 2s 2s/step - loss: 0.2252 - accuracy: 7.5585e-07\n",
      "Epoch 11/20\n",
      "1/1 [==============================] - 2s 2s/step - loss: 0.2249 - accuracy: 7.5585e-07\n",
      "Epoch 12/20\n",
      "1/1 [==============================] - 2s 2s/step - loss: 0.2245 - accuracy: 7.5585e-07\n",
      "Epoch 13/20\n",
      "1/1 [==============================] - 2s 2s/step - loss: 0.2242 - accuracy: 7.5585e-07\n",
      "Epoch 14/20\n",
      "1/1 [==============================] - 2s 2s/step - loss: 0.2239 - accuracy: 7.5585e-07\n",
      "Epoch 15/20\n",
      "1/1 [==============================] - 2s 2s/step - loss: 0.2235 - accuracy: 7.5585e-07\n",
      "Epoch 16/20\n",
      "1/1 [==============================] - 2s 2s/step - loss: 0.2232 - accuracy: 7.5585e-07\n",
      "Epoch 17/20\n",
      "1/1 [==============================] - 2s 2s/step - loss: 0.2228 - accuracy: 7.5585e-07\n",
      "Epoch 18/20\n",
      "1/1 [==============================] - 2s 2s/step - loss: 0.2225 - accuracy: 7.5585e-07\n",
      "Epoch 19/20\n",
      "1/1 [==============================] - 2s 2s/step - loss: 0.2221 - accuracy: 7.5585e-07\n",
      "Epoch 20/20\n",
      "1/1 [==============================] - 2s 2s/step - loss: 0.2218 - accuracy: 7.5585e-07\n",
      "/home/fdf7gn/data/UVaVoice/ConversationalSpeech-FunctioningLarynxes/Participant 3/Electrolarynx/2021-12-01_15-53-17.wav\n",
      "Epoch 1/20\n",
      "1/1 [==============================] - 2s 2s/step - loss: 0.2124 - accuracy: 7.5585e-07\n",
      "Epoch 2/20\n",
      "1/1 [==============================] - 2s 2s/step - loss: 0.2121 - accuracy: 7.5585e-07\n",
      "Epoch 3/20\n",
      "1/1 [==============================] - 2s 2s/step - loss: 0.2117 - accuracy: 7.5585e-07\n",
      "Epoch 4/20\n",
      "1/1 [==============================] - 2s 2s/step - loss: 0.2114 - accuracy: 7.5585e-07\n",
      "Epoch 5/20\n",
      "1/1 [==============================] - 2s 2s/step - loss: 0.2110 - accuracy: 7.5585e-07\n",
      "Epoch 6/20\n",
      "1/1 [==============================] - 2s 2s/step - loss: 0.2106 - accuracy: 7.5585e-07\n",
      "Epoch 7/20\n",
      "1/1 [==============================] - 2s 2s/step - loss: 0.2103 - accuracy: 7.5585e-07\n",
      "Epoch 8/20\n",
      "1/1 [==============================] - 2s 2s/step - loss: 0.2099 - accuracy: 7.5585e-07\n",
      "Epoch 9/20\n",
      "1/1 [==============================] - 2s 2s/step - loss: 0.2095 - accuracy: 7.5585e-07\n",
      "Epoch 10/20\n",
      "1/1 [==============================] - 2s 2s/step - loss: 0.2092 - accuracy: 7.5585e-07\n",
      "Epoch 11/20\n",
      "1/1 [==============================] - 2s 2s/step - loss: 0.2088 - accuracy: 7.5585e-07\n",
      "Epoch 12/20\n",
      "1/1 [==============================] - 2s 2s/step - loss: 0.2084 - accuracy: 7.5585e-07\n",
      "Epoch 13/20\n",
      "1/1 [==============================] - 2s 2s/step - loss: 0.2081 - accuracy: 7.5585e-07\n",
      "Epoch 14/20\n",
      "1/1 [==============================] - 2s 2s/step - loss: 0.2077 - accuracy: 7.5585e-07\n",
      "Epoch 15/20\n",
      "1/1 [==============================] - 2s 2s/step - loss: 0.2074 - accuracy: 7.5585e-07\n",
      "Epoch 16/20\n",
      "1/1 [==============================] - 2s 2s/step - loss: 0.2070 - accuracy: 7.5585e-07\n",
      "Epoch 17/20\n",
      "1/1 [==============================] - 2s 2s/step - loss: 0.2066 - accuracy: 7.5585e-07\n",
      "Epoch 18/20\n",
      "1/1 [==============================] - 2s 2s/step - loss: 0.2063 - accuracy: 7.5585e-07\n",
      "Epoch 19/20\n",
      "1/1 [==============================] - 2s 2s/step - loss: 0.2059 - accuracy: 7.5585e-07\n",
      "Epoch 20/20\n",
      "1/1 [==============================] - 2s 2s/step - loss: 0.2056 - accuracy: 7.5585e-07\n",
      "Epoch 1/20\n",
      "1/1 [==============================] - 2s 2s/step - loss: 0.2265 - accuracy: 7.5585e-07\n",
      "Epoch 2/20\n",
      "1/1 [==============================] - 2s 2s/step - loss: 0.2262 - accuracy: 7.5585e-07\n",
      "Epoch 3/20\n",
      "1/1 [==============================] - 2s 2s/step - loss: 0.2256 - accuracy: 7.5585e-07\n",
      "Epoch 4/20\n",
      "1/1 [==============================] - 2s 2s/step - loss: 0.2253 - accuracy: 7.5585e-07\n",
      "Epoch 5/20\n",
      "1/1 [==============================] - 2s 2s/step - loss: 0.2248 - accuracy: 7.5585e-07\n",
      "Epoch 6/20\n",
      "1/1 [==============================] - 2s 2s/step - loss: 0.2244 - accuracy: 7.5585e-07\n",
      "Epoch 7/20\n",
      "1/1 [==============================] - 2s 2s/step - loss: 0.2240 - accuracy: 7.5585e-07\n",
      "Epoch 8/20\n",
      "1/1 [==============================] - 2s 2s/step - loss: 0.2234 - accuracy: 7.5585e-07\n",
      "Epoch 9/20\n",
      "1/1 [==============================] - 2s 2s/step - loss: 0.2231 - accuracy: 7.5585e-07\n",
      "Epoch 10/20\n",
      "1/1 [==============================] - 2s 2s/step - loss: 0.2227 - accuracy: 7.5585e-07\n",
      "Epoch 11/20\n",
      "1/1 [==============================] - 2s 2s/step - loss: 0.2223 - accuracy: 7.5585e-07\n",
      "Epoch 12/20\n",
      "1/1 [==============================] - 2s 2s/step - loss: 0.2220 - accuracy: 7.5585e-07\n",
      "Epoch 13/20\n",
      "1/1 [==============================] - 2s 2s/step - loss: 0.2216 - accuracy: 7.5585e-07\n",
      "Epoch 14/20\n",
      "1/1 [==============================] - 2s 2s/step - loss: 0.2214 - accuracy: 7.5585e-07\n",
      "Epoch 15/20\n",
      "1/1 [==============================] - 2s 2s/step - loss: 0.2213 - accuracy: 7.5585e-07\n",
      "Epoch 16/20\n",
      "1/1 [==============================] - 2s 2s/step - loss: 0.2213 - accuracy: 7.5585e-07\n",
      "Epoch 17/20\n",
      "1/1 [==============================] - 2s 2s/step - loss: 0.2217 - accuracy: 7.5585e-07\n",
      "Epoch 18/20\n",
      "1/1 [==============================] - 2s 2s/step - loss: 0.2226 - accuracy: 7.5585e-07\n",
      "Epoch 19/20\n",
      "1/1 [==============================] - 2s 2s/step - loss: 0.2244 - accuracy: 7.5585e-07\n",
      "Epoch 20/20\n",
      "1/1 [==============================] - 2s 2s/step - loss: 0.2277 - accuracy: 7.5585e-07\n",
      "/home/fdf7gn/data/UVaVoice/ConversationalSpeech-FunctioningLarynxes/Participant 3/Electrolarynx/2021-12-01_15-50-35.wav\n",
      "Epoch 1/20\n",
      "1/1 [==============================] - 2s 2s/step - loss: 0.2240 - accuracy: 0.0000e+00\n",
      "Epoch 2/20\n",
      "1/1 [==============================] - 2s 2s/step - loss: 0.2281 - accuracy: 0.0000e+00\n",
      "Epoch 3/20\n",
      "1/1 [==============================] - 2s 2s/step - loss: 0.2281 - accuracy: 0.0000e+00\n",
      "Epoch 4/20\n",
      "1/1 [==============================] - 2s 2s/step - loss: 0.2247 - accuracy: 0.0000e+00\n",
      "Epoch 5/20\n",
      "1/1 [==============================] - 2s 2s/step - loss: 0.2187 - accuracy: 0.0000e+00\n",
      "Epoch 6/20\n",
      "1/1 [==============================] - 2s 2s/step - loss: 0.2122 - accuracy: 0.0000e+00\n",
      "Epoch 7/20\n",
      "1/1 [==============================] - 2s 2s/step - loss: 0.2068 - accuracy: 0.0000e+00\n",
      "Epoch 8/20\n",
      "1/1 [==============================] - 2s 2s/step - loss: 0.2033 - accuracy: 0.0000e+00\n",
      "Epoch 9/20\n",
      "1/1 [==============================] - 2s 2s/step - loss: 0.2020 - accuracy: 0.0000e+00\n",
      "Epoch 10/20\n",
      "1/1 [==============================] - 2s 2s/step - loss: 0.2024 - accuracy: 0.0000e+00\n",
      "Epoch 11/20\n",
      "1/1 [==============================] - 2s 2s/step - loss: 0.2038 - accuracy: 0.0000e+00\n",
      "Epoch 12/20\n",
      "1/1 [==============================] - 2s 2s/step - loss: 0.2056 - accuracy: 0.0000e+00\n",
      "Epoch 13/20\n",
      "1/1 [==============================] - 2s 2s/step - loss: 0.2072 - accuracy: 0.0000e+00\n",
      "Epoch 14/20\n",
      "1/1 [==============================] - 2s 2s/step - loss: 0.2084 - accuracy: 0.0000e+00\n",
      "Epoch 15/20\n",
      "1/1 [==============================] - 2s 2s/step - loss: 0.2090 - accuracy: 0.0000e+00\n",
      "Epoch 16/20\n",
      "1/1 [==============================] - 2s 2s/step - loss: 0.2089 - accuracy: 0.0000e+00\n",
      "Epoch 17/20\n",
      "1/1 [==============================] - 2s 2s/step - loss: 0.2085 - accuracy: 0.0000e+00\n",
      "Epoch 18/20\n",
      "1/1 [==============================] - 2s 2s/step - loss: 0.2075 - accuracy: 0.0000e+00\n",
      "Epoch 19/20\n",
      "1/1 [==============================] - 2s 2s/step - loss: 0.2064 - accuracy: 0.0000e+00\n",
      "Epoch 20/20\n",
      "1/1 [==============================] - 2s 2s/step - loss: 0.2051 - accuracy: 0.0000e+00\n",
      "Epoch 1/20\n",
      "1/1 [==============================] - 2s 2s/step - loss: 0.2169 - accuracy: 7.5585e-07\n",
      "Epoch 2/20\n",
      "1/1 [==============================] - 2s 2s/step - loss: 0.2190 - accuracy: 7.5585e-07\n",
      "Epoch 3/20\n",
      "1/1 [==============================] - 2s 2s/step - loss: 0.2244 - accuracy: 7.5585e-07\n",
      "Epoch 4/20\n",
      "1/1 [==============================] - 2s 2s/step - loss: 0.2352 - accuracy: 7.5585e-07\n",
      "Epoch 5/20\n",
      "1/1 [==============================] - 2s 2s/step - loss: 0.2572 - accuracy: 7.5585e-07\n",
      "Epoch 6/20\n",
      "1/1 [==============================] - 2s 2s/step - loss: 0.2980 - accuracy: 7.5585e-07\n",
      "Epoch 7/20\n",
      "1/1 [==============================] - 2s 2s/step - loss: 0.3768 - accuracy: 7.5585e-07\n",
      "Epoch 8/20\n",
      "1/1 [==============================] - 2s 2s/step - loss: 0.5084 - accuracy: 7.5585e-07\n",
      "Epoch 9/20\n",
      "1/1 [==============================] - 2s 2s/step - loss: 0.7439 - accuracy: 7.5585e-07\n",
      "Epoch 10/20\n",
      "1/1 [==============================] - 2s 2s/step - loss: 1.0537 - accuracy: 7.5585e-07\n",
      "Epoch 11/20\n",
      "1/1 [==============================] - 2s 2s/step - loss: 1.5223 - accuracy: 7.5585e-07\n",
      "Epoch 12/20\n",
      "1/1 [==============================] - 2s 2s/step - loss: 1.8156 - accuracy: 7.5585e-07\n",
      "Epoch 13/20\n",
      "1/1 [==============================] - 2s 2s/step - loss: 2.0288 - accuracy: 7.5585e-07\n",
      "Epoch 14/20\n",
      "1/1 [==============================] - 2s 2s/step - loss: 1.5450 - accuracy: 7.5585e-07\n",
      "Epoch 15/20\n",
      "1/1 [==============================] - 2s 2s/step - loss: 0.8854 - accuracy: 7.5585e-07\n",
      "Epoch 16/20\n",
      "1/1 [==============================] - 2s 2s/step - loss: 0.3006 - accuracy: 7.5585e-07\n",
      "Epoch 17/20\n",
      "1/1 [==============================] - 2s 2s/step - loss: 0.2494 - accuracy: 7.5585e-07\n",
      "Epoch 18/20\n",
      "1/1 [==============================] - 2s 2s/step - loss: 0.6176 - accuracy: 7.5585e-07\n",
      "Epoch 19/20\n",
      "1/1 [==============================] - 2s 2s/step - loss: 0.9174 - accuracy: 7.5585e-07\n",
      "Epoch 20/20\n",
      "1/1 [==============================] - 2s 2s/step - loss: 0.8958 - accuracy: 7.5585e-07\n",
      "/home/fdf7gn/data/UVaVoice/ConversationalSpeech-FunctioningLarynxes/Participant 3/Electrolarynx/2021-12-01_16-06-10.wav\n",
      "Epoch 1/20\n",
      "1/1 [==============================] - 2s 2s/step - loss: 0.4726 - accuracy: 7.5585e-07\n",
      "Epoch 2/20\n",
      "1/1 [==============================] - 2s 2s/step - loss: 0.1889 - accuracy: 7.5585e-07\n",
      "Epoch 3/20\n",
      "1/1 [==============================] - 2s 2s/step - loss: 0.3618 - accuracy: 7.5585e-07\n",
      "Epoch 4/20\n",
      "1/1 [==============================] - 2s 2s/step - loss: 0.5658 - accuracy: 7.5585e-07\n",
      "Epoch 5/20\n",
      "1/1 [==============================] - 2s 2s/step - loss: 0.4350 - accuracy: 7.5585e-07\n",
      "Epoch 6/20\n",
      "1/1 [==============================] - 2s 2s/step - loss: 0.2015 - accuracy: 7.5585e-07\n",
      "Epoch 7/20\n",
      "1/1 [==============================] - 2s 2s/step - loss: 0.2594 - accuracy: 7.5585e-07\n",
      "Epoch 8/20\n",
      "1/1 [==============================] - 2s 2s/step - loss: 0.4310 - accuracy: 7.5585e-07\n",
      "Epoch 9/20\n",
      "1/1 [==============================] - 2s 2s/step - loss: 0.3688 - accuracy: 7.5585e-07\n",
      "Epoch 10/20\n",
      "1/1 [==============================] - 2s 2s/step - loss: 0.2077 - accuracy: 7.5585e-07\n",
      "Epoch 11/20\n",
      "1/1 [==============================] - 2s 2s/step - loss: 0.2123 - accuracy: 7.5585e-07\n",
      "Epoch 12/20\n",
      "1/1 [==============================] - 2s 2s/step - loss: 0.3241 - accuracy: 7.5585e-07\n",
      "Epoch 13/20\n",
      "1/1 [==============================] - 2s 2s/step - loss: 0.3188 - accuracy: 7.5585e-07\n",
      "Epoch 14/20\n",
      "1/1 [==============================] - 2s 2s/step - loss: 0.2078 - accuracy: 7.5585e-07\n",
      "Epoch 15/20\n",
      "1/1 [==============================] - 2s 2s/step - loss: 0.1929 - accuracy: 7.5585e-07\n",
      "Epoch 16/20\n",
      "1/1 [==============================] - 2s 2s/step - loss: 0.2686 - accuracy: 7.5585e-07\n",
      "Epoch 17/20\n",
      "1/1 [==============================] - 2s 2s/step - loss: 0.2732 - accuracy: 7.5585e-07\n",
      "Epoch 18/20\n",
      "1/1 [==============================] - 2s 2s/step - loss: 0.2041 - accuracy: 7.5585e-07\n",
      "Epoch 19/20\n",
      "1/1 [==============================] - 2s 2s/step - loss: 0.1829 - accuracy: 7.5585e-07\n",
      "Epoch 20/20\n",
      "1/1 [==============================] - 2s 2s/step - loss: 0.2293 - accuracy: 7.5585e-07\n",
      "Epoch 1/20\n",
      "1/1 [==============================] - 2s 2s/step - loss: 0.2686 - accuracy: 7.5585e-07\n",
      "Epoch 2/20\n",
      "1/1 [==============================] - 2s 2s/step - loss: 0.2408 - accuracy: 7.5585e-07\n",
      "Epoch 3/20\n",
      "1/1 [==============================] - 2s 2s/step - loss: 0.2051 - accuracy: 7.5585e-07\n",
      "Epoch 4/20\n",
      "1/1 [==============================] - 2s 2s/step - loss: 0.1987 - accuracy: 7.5585e-07\n",
      "Epoch 5/20\n",
      "1/1 [==============================] - 2s 2s/step - loss: 0.2201 - accuracy: 7.5585e-07\n",
      "Epoch 6/20\n",
      "1/1 [==============================] - 2s 2s/step - loss: 0.2373 - accuracy: 7.5585e-07\n",
      "Epoch 7/20\n",
      "1/1 [==============================] - 2s 2s/step - loss: 0.2287 - accuracy: 7.5585e-07\n",
      "Epoch 8/20\n",
      "1/1 [==============================] - 2s 2s/step - loss: 0.2067 - accuracy: 7.5585e-07\n",
      "Epoch 9/20\n",
      "1/1 [==============================] - 2s 2s/step - loss: 0.1950 - accuracy: 7.5585e-07\n",
      "Epoch 10/20\n",
      "1/1 [==============================] - 2s 2s/step - loss: 0.2021 - accuracy: 7.5585e-07\n",
      "Epoch 11/20\n",
      "1/1 [==============================] - 2s 2s/step - loss: 0.2150 - accuracy: 7.5585e-07\n",
      "Epoch 12/20\n",
      "1/1 [==============================] - 2s 2s/step - loss: 0.2171 - accuracy: 7.5585e-07\n",
      "Epoch 13/20\n",
      "1/1 [==============================] - 2s 2s/step - loss: 0.2069 - accuracy: 7.5585e-07\n",
      "Epoch 14/20\n",
      "1/1 [==============================] - 2s 2s/step - loss: 0.1956 - accuracy: 7.5585e-07\n",
      "Epoch 15/20\n",
      "1/1 [==============================] - 2s 2s/step - loss: 0.1936 - accuracy: 7.5585e-07\n",
      "Epoch 16/20\n",
      "1/1 [==============================] - 2s 2s/step - loss: 0.1999 - accuracy: 7.5585e-07\n",
      "Epoch 17/20\n",
      "1/1 [==============================] - 2s 2s/step - loss: 0.2056 - accuracy: 7.5585e-07\n",
      "Epoch 18/20\n",
      "1/1 [==============================] - 2s 2s/step - loss: 0.2044 - accuracy: 7.5585e-07\n",
      "Epoch 19/20\n",
      "1/1 [==============================] - 2s 2s/step - loss: 0.1977 - accuracy: 7.5585e-07\n",
      "Epoch 20/20\n",
      "1/1 [==============================] - 2s 2s/step - loss: 0.1921 - accuracy: 7.5585e-07\n",
      "/home/fdf7gn/data/UVaVoice/ConversationalSpeech-FunctioningLarynxes/Participant 3/Electrolarynx/2021-12-01_16-01-18.wav\n",
      "Epoch 1/20\n",
      "1/1 [==============================] - 2s 2s/step - loss: 0.1812 - accuracy: 7.5585e-07\n",
      "Epoch 2/20\n",
      "1/1 [==============================] - 2s 2s/step - loss: 0.1814 - accuracy: 7.5585e-07\n",
      "Epoch 3/20\n",
      "1/1 [==============================] - 2s 2s/step - loss: 0.1805 - accuracy: 7.5585e-07\n",
      "Epoch 4/20\n",
      "1/1 [==============================] - 2s 2s/step - loss: 0.1794 - accuracy: 7.5585e-07\n",
      "Epoch 5/20\n",
      "1/1 [==============================] - 2s 2s/step - loss: 0.1794 - accuracy: 7.5585e-07\n",
      "Epoch 6/20\n",
      "1/1 [==============================] - 2s 2s/step - loss: 0.1792 - accuracy: 7.5585e-07\n",
      "Epoch 7/20\n",
      "1/1 [==============================] - 2s 2s/step - loss: 0.1782 - accuracy: 7.5585e-07\n",
      "Epoch 8/20\n",
      "1/1 [==============================] - 2s 2s/step - loss: 0.1776 - accuracy: 7.5585e-07\n",
      "Epoch 9/20\n",
      "1/1 [==============================] - 2s 2s/step - loss: 0.1776 - accuracy: 7.5585e-07\n",
      "Epoch 10/20\n",
      "1/1 [==============================] - 2s 2s/step - loss: 0.1772 - accuracy: 7.5585e-07\n",
      "Epoch 11/20\n",
      "1/1 [==============================] - 2s 2s/step - loss: 0.1764 - accuracy: 7.5585e-07\n",
      "Epoch 12/20\n",
      "1/1 [==============================] - 2s 2s/step - loss: 0.1762 - accuracy: 7.5585e-07\n",
      "Epoch 13/20\n",
      "1/1 [==============================] - 2s 2s/step - loss: 0.1760 - accuracy: 7.5585e-07\n",
      "Epoch 14/20\n",
      "1/1 [==============================] - 2s 2s/step - loss: 0.1755 - accuracy: 7.5585e-07\n",
      "Epoch 15/20\n",
      "1/1 [==============================] - 2s 2s/step - loss: 0.1750 - accuracy: 7.5585e-07\n",
      "Epoch 16/20\n",
      "1/1 [==============================] - 2s 2s/step - loss: 0.1748 - accuracy: 7.5585e-07\n",
      "Epoch 17/20\n",
      "1/1 [==============================] - 2s 2s/step - loss: 0.1745 - accuracy: 7.5585e-07\n",
      "Epoch 18/20\n",
      "1/1 [==============================] - 2s 2s/step - loss: 0.1741 - accuracy: 7.5585e-07\n",
      "Epoch 19/20\n",
      "1/1 [==============================] - 2s 2s/step - loss: 0.1737 - accuracy: 7.5585e-07\n",
      "Epoch 20/20\n",
      "1/1 [==============================] - 2s 2s/step - loss: 0.1735 - accuracy: 7.5585e-07\n",
      "Epoch 1/20\n",
      "1/1 [==============================] - 2s 2s/step - loss: 0.1752 - accuracy: 7.5585e-07\n",
      "Epoch 2/20\n",
      "1/1 [==============================] - 2s 2s/step - loss: 0.1749 - accuracy: 7.5585e-07\n",
      "Epoch 3/20\n",
      "1/1 [==============================] - 2s 2s/step - loss: 0.1747 - accuracy: 7.5585e-07\n",
      "Epoch 4/20\n",
      "1/1 [==============================] - 2s 2s/step - loss: 0.1745 - accuracy: 7.5585e-07\n",
      "Epoch 5/20\n",
      "1/1 [==============================] - 2s 2s/step - loss: 0.1742 - accuracy: 7.5585e-07\n",
      "Epoch 6/20\n",
      "1/1 [==============================] - 2s 2s/step - loss: 0.1738 - accuracy: 7.5585e-07\n",
      "Epoch 7/20\n",
      "1/1 [==============================] - 2s 2s/step - loss: 0.1735 - accuracy: 7.5585e-07\n",
      "Epoch 8/20\n",
      "1/1 [==============================] - 2s 2s/step - loss: 0.1733 - accuracy: 7.5585e-07\n",
      "Epoch 9/20\n",
      "1/1 [==============================] - 2s 2s/step - loss: 0.1730 - accuracy: 7.5585e-07\n",
      "Epoch 10/20\n",
      "1/1 [==============================] - 2s 2s/step - loss: 0.1726 - accuracy: 7.5585e-07\n",
      "Epoch 11/20\n",
      "1/1 [==============================] - 2s 2s/step - loss: 0.1723 - accuracy: 7.5585e-07\n",
      "Epoch 12/20\n",
      "1/1 [==============================] - 2s 2s/step - loss: 0.1720 - accuracy: 7.5585e-07\n",
      "Epoch 13/20\n",
      "1/1 [==============================] - 2s 2s/step - loss: 0.1717 - accuracy: 7.5585e-07\n",
      "Epoch 14/20\n",
      "1/1 [==============================] - 2s 2s/step - loss: 0.1715 - accuracy: 7.5585e-07\n",
      "Epoch 15/20\n",
      "1/1 [==============================] - 2s 2s/step - loss: 0.1712 - accuracy: 7.5585e-07\n",
      "Epoch 16/20\n",
      "1/1 [==============================] - 2s 2s/step - loss: 0.1709 - accuracy: 7.5585e-07\n",
      "Epoch 17/20\n",
      "1/1 [==============================] - 2s 2s/step - loss: 0.1706 - accuracy: 7.5585e-07\n",
      "Epoch 18/20\n",
      "1/1 [==============================] - 2s 2s/step - loss: 0.1704 - accuracy: 7.5585e-07\n",
      "Epoch 19/20\n",
      "1/1 [==============================] - 2s 2s/step - loss: 0.1701 - accuracy: 7.5585e-07\n",
      "Epoch 20/20\n",
      "1/1 [==============================] - 2s 2s/step - loss: 0.1699 - accuracy: 7.5585e-07\n",
      "/home/fdf7gn/data/UVaVoice/ConversationalSpeech-FunctioningLarynxes/Participant 3/Electrolarynx/2021-12-01_16-07-19.wav\n",
      "Epoch 1/20\n",
      "1/1 [==============================] - 2s 2s/step - loss: 0.1876 - accuracy: 7.5585e-07\n",
      "Epoch 2/20\n",
      "1/1 [==============================] - 2s 2s/step - loss: 0.1877 - accuracy: 7.5585e-07\n",
      "Epoch 3/20\n",
      "1/1 [==============================] - 2s 2s/step - loss: 0.1880 - accuracy: 7.5585e-07\n",
      "Epoch 4/20\n",
      "1/1 [==============================] - 2s 2s/step - loss: 0.1883 - accuracy: 7.5585e-07\n",
      "Epoch 5/20\n",
      "1/1 [==============================] - 2s 2s/step - loss: 0.1883 - accuracy: 7.5585e-07\n",
      "Epoch 6/20\n",
      "1/1 [==============================] - 2s 2s/step - loss: 0.1881 - accuracy: 7.5585e-07\n",
      "Epoch 7/20\n",
      "1/1 [==============================] - 2s 2s/step - loss: 0.1874 - accuracy: 7.5585e-07\n",
      "Epoch 8/20\n",
      "1/1 [==============================] - 2s 2s/step - loss: 0.1865 - accuracy: 7.5585e-07\n",
      "Epoch 9/20\n",
      "1/1 [==============================] - 2s 2s/step - loss: 0.1855 - accuracy: 7.5585e-07\n",
      "Epoch 10/20\n",
      "1/1 [==============================] - 2s 2s/step - loss: 0.1845 - accuracy: 7.5585e-07\n",
      "Epoch 11/20\n",
      "1/1 [==============================] - 2s 2s/step - loss: 0.1835 - accuracy: 7.5585e-07\n",
      "Epoch 12/20\n",
      "1/1 [==============================] - 2s 2s/step - loss: 0.1826 - accuracy: 7.5585e-07\n",
      "Epoch 13/20\n",
      "1/1 [==============================] - 2s 2s/step - loss: 0.1818 - accuracy: 7.5585e-07\n",
      "Epoch 14/20\n",
      "1/1 [==============================] - 2s 2s/step - loss: 0.1812 - accuracy: 7.5585e-07\n",
      "Epoch 15/20\n",
      "1/1 [==============================] - 2s 2s/step - loss: 0.1807 - accuracy: 7.5585e-07\n",
      "Epoch 16/20\n",
      "1/1 [==============================] - 2s 2s/step - loss: 0.1803 - accuracy: 7.5585e-07\n",
      "Epoch 17/20\n",
      "1/1 [==============================] - 2s 2s/step - loss: 0.1800 - accuracy: 7.5585e-07\n",
      "Epoch 18/20\n",
      "1/1 [==============================] - 2s 2s/step - loss: 0.1797 - accuracy: 7.5585e-07\n",
      "Epoch 19/20\n",
      "1/1 [==============================] - 2s 2s/step - loss: 0.1795 - accuracy: 7.5585e-07\n",
      "Epoch 20/20\n",
      "1/1 [==============================] - 2s 2s/step - loss: 0.1793 - accuracy: 7.5585e-07\n",
      "Epoch 1/20\n",
      "1/1 [==============================] - 2s 2s/step - loss: 0.1743 - accuracy: 0.0000e+00\n",
      "Epoch 2/20\n",
      "1/1 [==============================] - 2s 2s/step - loss: 0.1743 - accuracy: 0.0000e+00\n",
      "Epoch 3/20\n",
      "1/1 [==============================] - 2s 2s/step - loss: 0.1738 - accuracy: 0.0000e+00\n",
      "Epoch 4/20\n",
      "1/1 [==============================] - 2s 2s/step - loss: 0.1732 - accuracy: 0.0000e+00\n",
      "Epoch 5/20\n",
      "1/1 [==============================] - 2s 2s/step - loss: 0.1725 - accuracy: 0.0000e+00\n",
      "Epoch 6/20\n",
      "1/1 [==============================] - 2s 2s/step - loss: 0.1721 - accuracy: 0.0000e+00\n",
      "Epoch 7/20\n",
      "1/1 [==============================] - 2s 2s/step - loss: 0.1719 - accuracy: 0.0000e+00\n",
      "Epoch 8/20\n",
      "1/1 [==============================] - 2s 2s/step - loss: 0.1718 - accuracy: 0.0000e+00\n",
      "Epoch 9/20\n",
      "1/1 [==============================] - 2s 2s/step - loss: 0.1717 - accuracy: 0.0000e+00\n",
      "Epoch 10/20\n",
      "1/1 [==============================] - 2s 2s/step - loss: 0.1713 - accuracy: 0.0000e+00\n",
      "Epoch 11/20\n",
      "1/1 [==============================] - 2s 2s/step - loss: 0.1708 - accuracy: 0.0000e+00\n",
      "Epoch 12/20\n",
      "1/1 [==============================] - 2s 2s/step - loss: 0.1703 - accuracy: 0.0000e+00\n",
      "Epoch 13/20\n",
      "1/1 [==============================] - 2s 2s/step - loss: 0.1698 - accuracy: 0.0000e+00\n",
      "Epoch 14/20\n",
      "1/1 [==============================] - 2s 2s/step - loss: 0.1695 - accuracy: 0.0000e+00\n",
      "Epoch 15/20\n",
      "1/1 [==============================] - 2s 2s/step - loss: 0.1693 - accuracy: 0.0000e+00\n",
      "Epoch 16/20\n",
      "1/1 [==============================] - 2s 2s/step - loss: 0.1691 - accuracy: 0.0000e+00\n",
      "Epoch 17/20\n",
      "1/1 [==============================] - 2s 2s/step - loss: 0.1689 - accuracy: 0.0000e+00\n",
      "Epoch 18/20\n",
      "1/1 [==============================] - 2s 2s/step - loss: 0.1686 - accuracy: 0.0000e+00\n",
      "Epoch 19/20\n",
      "1/1 [==============================] - 2s 2s/step - loss: 0.1683 - accuracy: 0.0000e+00\n",
      "Epoch 20/20\n",
      "1/1 [==============================] - 2s 2s/step - loss: 0.1679 - accuracy: 0.0000e+00\n",
      "/home/fdf7gn/data/UVaVoice/ConversationalSpeech-FunctioningLarynxes/Participant 1/Electrolarynx/2021-06-23_16-00-07.wav\n",
      "Epoch 1/20\n",
      "1/1 [==============================] - 2s 2s/step - loss: 0.1567 - accuracy: 0.0000e+00\n",
      "Epoch 2/20\n",
      "1/1 [==============================] - 2s 2s/step - loss: 0.1562 - accuracy: 0.0000e+00\n",
      "Epoch 3/20\n",
      "1/1 [==============================] - 2s 2s/step - loss: 0.1555 - accuracy: 0.0000e+00\n",
      "Epoch 4/20\n",
      "1/1 [==============================] - 2s 2s/step - loss: 0.1547 - accuracy: 0.0000e+00\n",
      "Epoch 5/20\n",
      "1/1 [==============================] - 2s 2s/step - loss: 0.1538 - accuracy: 0.0000e+00\n",
      "Epoch 6/20\n",
      "1/1 [==============================] - 2s 2s/step - loss: 0.1527 - accuracy: 0.0000e+00\n",
      "Epoch 7/20\n",
      "1/1 [==============================] - 2s 2s/step - loss: 0.1518 - accuracy: 0.0000e+00\n",
      "Epoch 8/20\n",
      "1/1 [==============================] - 2s 2s/step - loss: 0.1512 - accuracy: 0.0000e+00\n",
      "Epoch 9/20\n",
      "1/1 [==============================] - 2s 2s/step - loss: 0.1507 - accuracy: 0.0000e+00\n",
      "Epoch 10/20\n",
      "1/1 [==============================] - 2s 2s/step - loss: 0.1503 - accuracy: 0.0000e+00\n",
      "Epoch 11/20\n",
      "1/1 [==============================] - 2s 2s/step - loss: 0.1500 - accuracy: 0.0000e+00\n",
      "Epoch 12/20\n",
      "1/1 [==============================] - 2s 2s/step - loss: 0.1497 - accuracy: 0.0000e+00\n",
      "Epoch 13/20\n",
      "1/1 [==============================] - 2s 2s/step - loss: 0.1494 - accuracy: 0.0000e+00\n",
      "Epoch 14/20\n",
      "1/1 [==============================] - 2s 2s/step - loss: 0.1490 - accuracy: 0.0000e+00\n",
      "Epoch 15/20\n",
      "1/1 [==============================] - 2s 2s/step - loss: 0.1486 - accuracy: 0.0000e+00\n",
      "Epoch 16/20\n",
      "1/1 [==============================] - 2s 2s/step - loss: 0.1483 - accuracy: 0.0000e+00\n",
      "Epoch 17/20\n",
      "1/1 [==============================] - 2s 2s/step - loss: 0.1480 - accuracy: 0.0000e+00\n",
      "Epoch 18/20\n",
      "1/1 [==============================] - 2s 2s/step - loss: 0.1477 - accuracy: 0.0000e+00\n",
      "Epoch 19/20\n"
     ]
    },
    {
     "ename": "KeyboardInterrupt",
     "evalue": "",
     "output_type": "error",
     "traceback": [
      "\u001b[0;31m---------------------------------------------------------------------------\u001b[0m",
      "\u001b[0;31mKeyboardInterrupt\u001b[0m                         Traceback (most recent call last)",
      "\u001b[0;32m<ipython-input-10-9f95842d1025>\u001b[0m in \u001b[0;36m<module>\u001b[0;34m\u001b[0m\n\u001b[1;32m     65\u001b[0m     \u001b[0;32mfor\u001b[0m \u001b[0mspec_db\u001b[0m \u001b[0;32min\u001b[0m \u001b[0mspecs\u001b[0m\u001b[0;34m:\u001b[0m\u001b[0;34m\u001b[0m\u001b[0;34m\u001b[0m\u001b[0m\n\u001b[1;32m     66\u001b[0m         \u001b[0mnoisy_spec_db\u001b[0m \u001b[0;34m=\u001b[0m \u001b[0madd_noise\u001b[0m\u001b[0;34m(\u001b[0m\u001b[0mspec_db\u001b[0m\u001b[0;34m)\u001b[0m\u001b[0;34m\u001b[0m\u001b[0;34m\u001b[0m\u001b[0m\n\u001b[0;32m---> 67\u001b[0;31m         \u001b[0mmodel\u001b[0m\u001b[0;34m.\u001b[0m\u001b[0mfit\u001b[0m\u001b[0;34m(\u001b[0m\u001b[0mx\u001b[0m\u001b[0;34m=\u001b[0m\u001b[0mnp\u001b[0m\u001b[0;34m.\u001b[0m\u001b[0marray\u001b[0m\u001b[0;34m(\u001b[0m\u001b[0;34m[\u001b[0m\u001b[0mnoisy_spec_db\u001b[0m\u001b[0;34m]\u001b[0m\u001b[0;34m)\u001b[0m\u001b[0;34m,\u001b[0m \u001b[0my\u001b[0m\u001b[0;34m=\u001b[0m\u001b[0mnp\u001b[0m\u001b[0;34m.\u001b[0m\u001b[0marray\u001b[0m\u001b[0;34m(\u001b[0m\u001b[0;34m[\u001b[0m\u001b[0mspec_db\u001b[0m\u001b[0;34m]\u001b[0m\u001b[0;34m)\u001b[0m\u001b[0;34m,\u001b[0m \u001b[0mepochs\u001b[0m\u001b[0;34m=\u001b[0m\u001b[0;36m20\u001b[0m\u001b[0;34m,\u001b[0m \u001b[0mbatch_size\u001b[0m\u001b[0;34m=\u001b[0m\u001b[0;36m32\u001b[0m\u001b[0;34m)\u001b[0m\u001b[0;34m\u001b[0m\u001b[0;34m\u001b[0m\u001b[0m\n\u001b[0m\u001b[1;32m     68\u001b[0m \u001b[0;34m\u001b[0m\u001b[0m\n\u001b[1;32m     69\u001b[0m \u001b[0;31m# Save the model\u001b[0m\u001b[0;34m\u001b[0m\u001b[0;34m\u001b[0m\u001b[0;34m\u001b[0m\u001b[0m\n",
      "\u001b[0;32m~/.local/lib/python3.8/site-packages/keras/utils/traceback_utils.py\u001b[0m in \u001b[0;36merror_handler\u001b[0;34m(*args, **kwargs)\u001b[0m\n\u001b[1;32m     63\u001b[0m         \u001b[0mfiltered_tb\u001b[0m \u001b[0;34m=\u001b[0m \u001b[0;32mNone\u001b[0m\u001b[0;34m\u001b[0m\u001b[0;34m\u001b[0m\u001b[0m\n\u001b[1;32m     64\u001b[0m         \u001b[0;32mtry\u001b[0m\u001b[0;34m:\u001b[0m\u001b[0;34m\u001b[0m\u001b[0;34m\u001b[0m\u001b[0m\n\u001b[0;32m---> 65\u001b[0;31m             \u001b[0;32mreturn\u001b[0m \u001b[0mfn\u001b[0m\u001b[0;34m(\u001b[0m\u001b[0;34m*\u001b[0m\u001b[0margs\u001b[0m\u001b[0;34m,\u001b[0m \u001b[0;34m**\u001b[0m\u001b[0mkwargs\u001b[0m\u001b[0;34m)\u001b[0m\u001b[0;34m\u001b[0m\u001b[0;34m\u001b[0m\u001b[0m\n\u001b[0m\u001b[1;32m     66\u001b[0m         \u001b[0;32mexcept\u001b[0m \u001b[0mException\u001b[0m \u001b[0;32mas\u001b[0m \u001b[0me\u001b[0m\u001b[0;34m:\u001b[0m\u001b[0;34m\u001b[0m\u001b[0;34m\u001b[0m\u001b[0m\n\u001b[1;32m     67\u001b[0m             \u001b[0mfiltered_tb\u001b[0m \u001b[0;34m=\u001b[0m \u001b[0m_process_traceback_frames\u001b[0m\u001b[0;34m(\u001b[0m\u001b[0me\u001b[0m\u001b[0;34m.\u001b[0m\u001b[0m__traceback__\u001b[0m\u001b[0;34m)\u001b[0m\u001b[0;34m\u001b[0m\u001b[0;34m\u001b[0m\u001b[0m\n",
      "\u001b[0;32m~/.local/lib/python3.8/site-packages/keras/engine/training.py\u001b[0m in \u001b[0;36mfit\u001b[0;34m(self, x, y, batch_size, epochs, verbose, callbacks, validation_split, validation_data, shuffle, class_weight, sample_weight, initial_epoch, steps_per_epoch, validation_steps, validation_batch_size, validation_freq, max_queue_size, workers, use_multiprocessing)\u001b[0m\n\u001b[1;32m   1648\u001b[0m                         ):\n\u001b[1;32m   1649\u001b[0m                             \u001b[0mcallbacks\u001b[0m\u001b[0;34m.\u001b[0m\u001b[0mon_train_batch_begin\u001b[0m\u001b[0;34m(\u001b[0m\u001b[0mstep\u001b[0m\u001b[0;34m)\u001b[0m\u001b[0;34m\u001b[0m\u001b[0;34m\u001b[0m\u001b[0m\n\u001b[0;32m-> 1650\u001b[0;31m                             \u001b[0mtmp_logs\u001b[0m \u001b[0;34m=\u001b[0m \u001b[0mself\u001b[0m\u001b[0;34m.\u001b[0m\u001b[0mtrain_function\u001b[0m\u001b[0;34m(\u001b[0m\u001b[0miterator\u001b[0m\u001b[0;34m)\u001b[0m\u001b[0;34m\u001b[0m\u001b[0;34m\u001b[0m\u001b[0m\n\u001b[0m\u001b[1;32m   1651\u001b[0m                             \u001b[0;32mif\u001b[0m \u001b[0mdata_handler\u001b[0m\u001b[0;34m.\u001b[0m\u001b[0mshould_sync\u001b[0m\u001b[0;34m:\u001b[0m\u001b[0;34m\u001b[0m\u001b[0;34m\u001b[0m\u001b[0m\n\u001b[1;32m   1652\u001b[0m                                 \u001b[0mcontext\u001b[0m\u001b[0;34m.\u001b[0m\u001b[0masync_wait\u001b[0m\u001b[0;34m(\u001b[0m\u001b[0;34m)\u001b[0m\u001b[0;34m\u001b[0m\u001b[0;34m\u001b[0m\u001b[0m\n",
      "\u001b[0;32m~/.local/lib/python3.8/site-packages/tensorflow/python/util/traceback_utils.py\u001b[0m in \u001b[0;36merror_handler\u001b[0;34m(*args, **kwargs)\u001b[0m\n\u001b[1;32m    148\u001b[0m     \u001b[0mfiltered_tb\u001b[0m \u001b[0;34m=\u001b[0m \u001b[0;32mNone\u001b[0m\u001b[0;34m\u001b[0m\u001b[0;34m\u001b[0m\u001b[0m\n\u001b[1;32m    149\u001b[0m     \u001b[0;32mtry\u001b[0m\u001b[0;34m:\u001b[0m\u001b[0;34m\u001b[0m\u001b[0;34m\u001b[0m\u001b[0m\n\u001b[0;32m--> 150\u001b[0;31m       \u001b[0;32mreturn\u001b[0m \u001b[0mfn\u001b[0m\u001b[0;34m(\u001b[0m\u001b[0;34m*\u001b[0m\u001b[0margs\u001b[0m\u001b[0;34m,\u001b[0m \u001b[0;34m**\u001b[0m\u001b[0mkwargs\u001b[0m\u001b[0;34m)\u001b[0m\u001b[0;34m\u001b[0m\u001b[0;34m\u001b[0m\u001b[0m\n\u001b[0m\u001b[1;32m    151\u001b[0m     \u001b[0;32mexcept\u001b[0m \u001b[0mException\u001b[0m \u001b[0;32mas\u001b[0m \u001b[0me\u001b[0m\u001b[0;34m:\u001b[0m\u001b[0;34m\u001b[0m\u001b[0;34m\u001b[0m\u001b[0m\n\u001b[1;32m    152\u001b[0m       \u001b[0mfiltered_tb\u001b[0m \u001b[0;34m=\u001b[0m \u001b[0m_process_traceback_frames\u001b[0m\u001b[0;34m(\u001b[0m\u001b[0me\u001b[0m\u001b[0;34m.\u001b[0m\u001b[0m__traceback__\u001b[0m\u001b[0;34m)\u001b[0m\u001b[0;34m\u001b[0m\u001b[0;34m\u001b[0m\u001b[0m\n",
      "\u001b[0;32m~/.local/lib/python3.8/site-packages/tensorflow/python/eager/polymorphic_function/polymorphic_function.py\u001b[0m in \u001b[0;36m__call__\u001b[0;34m(self, *args, **kwds)\u001b[0m\n\u001b[1;32m    878\u001b[0m \u001b[0;34m\u001b[0m\u001b[0m\n\u001b[1;32m    879\u001b[0m       \u001b[0;32mwith\u001b[0m \u001b[0mOptionalXlaContext\u001b[0m\u001b[0;34m(\u001b[0m\u001b[0mself\u001b[0m\u001b[0;34m.\u001b[0m\u001b[0m_jit_compile\u001b[0m\u001b[0;34m)\u001b[0m\u001b[0;34m:\u001b[0m\u001b[0;34m\u001b[0m\u001b[0;34m\u001b[0m\u001b[0m\n\u001b[0;32m--> 880\u001b[0;31m         \u001b[0mresult\u001b[0m \u001b[0;34m=\u001b[0m \u001b[0mself\u001b[0m\u001b[0;34m.\u001b[0m\u001b[0m_call\u001b[0m\u001b[0;34m(\u001b[0m\u001b[0;34m*\u001b[0m\u001b[0margs\u001b[0m\u001b[0;34m,\u001b[0m \u001b[0;34m**\u001b[0m\u001b[0mkwds\u001b[0m\u001b[0;34m)\u001b[0m\u001b[0;34m\u001b[0m\u001b[0;34m\u001b[0m\u001b[0m\n\u001b[0m\u001b[1;32m    881\u001b[0m \u001b[0;34m\u001b[0m\u001b[0m\n\u001b[1;32m    882\u001b[0m       \u001b[0mnew_tracing_count\u001b[0m \u001b[0;34m=\u001b[0m \u001b[0mself\u001b[0m\u001b[0;34m.\u001b[0m\u001b[0mexperimental_get_tracing_count\u001b[0m\u001b[0;34m(\u001b[0m\u001b[0;34m)\u001b[0m\u001b[0;34m\u001b[0m\u001b[0;34m\u001b[0m\u001b[0m\n",
      "\u001b[0;32m~/.local/lib/python3.8/site-packages/tensorflow/python/eager/polymorphic_function/polymorphic_function.py\u001b[0m in \u001b[0;36m_call\u001b[0;34m(self, *args, **kwds)\u001b[0m\n\u001b[1;32m    910\u001b[0m       \u001b[0;31m# In this case we have created variables on the first call, so we run the\u001b[0m\u001b[0;34m\u001b[0m\u001b[0;34m\u001b[0m\u001b[0;34m\u001b[0m\u001b[0m\n\u001b[1;32m    911\u001b[0m       \u001b[0;31m# defunned version which is guaranteed to never create variables.\u001b[0m\u001b[0;34m\u001b[0m\u001b[0;34m\u001b[0m\u001b[0;34m\u001b[0m\u001b[0m\n\u001b[0;32m--> 912\u001b[0;31m       \u001b[0;32mreturn\u001b[0m \u001b[0mself\u001b[0m\u001b[0;34m.\u001b[0m\u001b[0m_no_variable_creation_fn\u001b[0m\u001b[0;34m(\u001b[0m\u001b[0;34m*\u001b[0m\u001b[0margs\u001b[0m\u001b[0;34m,\u001b[0m \u001b[0;34m**\u001b[0m\u001b[0mkwds\u001b[0m\u001b[0;34m)\u001b[0m  \u001b[0;31m# pylint: disable=not-callable\u001b[0m\u001b[0;34m\u001b[0m\u001b[0;34m\u001b[0m\u001b[0m\n\u001b[0m\u001b[1;32m    913\u001b[0m     \u001b[0;32melif\u001b[0m \u001b[0mself\u001b[0m\u001b[0;34m.\u001b[0m\u001b[0m_variable_creation_fn\u001b[0m \u001b[0;32mis\u001b[0m \u001b[0;32mnot\u001b[0m \u001b[0;32mNone\u001b[0m\u001b[0;34m:\u001b[0m\u001b[0;34m\u001b[0m\u001b[0;34m\u001b[0m\u001b[0m\n\u001b[1;32m    914\u001b[0m       \u001b[0;31m# Release the lock early so that multiple threads can perform the call\u001b[0m\u001b[0;34m\u001b[0m\u001b[0;34m\u001b[0m\u001b[0;34m\u001b[0m\u001b[0m\n",
      "\u001b[0;32m~/.local/lib/python3.8/site-packages/tensorflow/python/eager/polymorphic_function/tracing_compiler.py\u001b[0m in \u001b[0;36m__call__\u001b[0;34m(self, *args, **kwargs)\u001b[0m\n\u001b[1;32m    132\u001b[0m       (concrete_function,\n\u001b[1;32m    133\u001b[0m        filtered_flat_args) = self._maybe_define_function(args, kwargs)\n\u001b[0;32m--> 134\u001b[0;31m     return concrete_function._call_flat(\n\u001b[0m\u001b[1;32m    135\u001b[0m         filtered_flat_args, captured_inputs=concrete_function.captured_inputs)  # pylint: disable=protected-access\n\u001b[1;32m    136\u001b[0m \u001b[0;34m\u001b[0m\u001b[0m\n",
      "\u001b[0;32m~/.local/lib/python3.8/site-packages/tensorflow/python/eager/polymorphic_function/monomorphic_function.py\u001b[0m in \u001b[0;36m_call_flat\u001b[0;34m(self, args, captured_inputs, cancellation_manager)\u001b[0m\n\u001b[1;32m   1743\u001b[0m         and executing_eagerly):\n\u001b[1;32m   1744\u001b[0m       \u001b[0;31m# No tape is watching; skip to running the function.\u001b[0m\u001b[0;34m\u001b[0m\u001b[0;34m\u001b[0m\u001b[0;34m\u001b[0m\u001b[0m\n\u001b[0;32m-> 1745\u001b[0;31m       return self._build_call_outputs(self._inference_function.call(\n\u001b[0m\u001b[1;32m   1746\u001b[0m           ctx, args, cancellation_manager=cancellation_manager))\n\u001b[1;32m   1747\u001b[0m     forward_backward = self._select_forward_and_backward_functions(\n",
      "\u001b[0;32m~/.local/lib/python3.8/site-packages/tensorflow/python/eager/polymorphic_function/monomorphic_function.py\u001b[0m in \u001b[0;36mcall\u001b[0;34m(self, ctx, args, cancellation_manager)\u001b[0m\n\u001b[1;32m    376\u001b[0m       \u001b[0;32mwith\u001b[0m \u001b[0m_InterpolateFunctionError\u001b[0m\u001b[0;34m(\u001b[0m\u001b[0mself\u001b[0m\u001b[0;34m)\u001b[0m\u001b[0;34m:\u001b[0m\u001b[0;34m\u001b[0m\u001b[0;34m\u001b[0m\u001b[0m\n\u001b[1;32m    377\u001b[0m         \u001b[0;32mif\u001b[0m \u001b[0mcancellation_manager\u001b[0m \u001b[0;32mis\u001b[0m \u001b[0;32mNone\u001b[0m\u001b[0;34m:\u001b[0m\u001b[0;34m\u001b[0m\u001b[0;34m\u001b[0m\u001b[0m\n\u001b[0;32m--> 378\u001b[0;31m           outputs = execute.execute(\n\u001b[0m\u001b[1;32m    379\u001b[0m               \u001b[0mstr\u001b[0m\u001b[0;34m(\u001b[0m\u001b[0mself\u001b[0m\u001b[0;34m.\u001b[0m\u001b[0msignature\u001b[0m\u001b[0;34m.\u001b[0m\u001b[0mname\u001b[0m\u001b[0;34m)\u001b[0m\u001b[0;34m,\u001b[0m\u001b[0;34m\u001b[0m\u001b[0;34m\u001b[0m\u001b[0m\n\u001b[1;32m    380\u001b[0m               \u001b[0mnum_outputs\u001b[0m\u001b[0;34m=\u001b[0m\u001b[0mself\u001b[0m\u001b[0;34m.\u001b[0m\u001b[0m_num_outputs\u001b[0m\u001b[0;34m,\u001b[0m\u001b[0;34m\u001b[0m\u001b[0;34m\u001b[0m\u001b[0m\n",
      "\u001b[0;32m~/.local/lib/python3.8/site-packages/tensorflow/python/eager/execute.py\u001b[0m in \u001b[0;36mquick_execute\u001b[0;34m(op_name, num_outputs, inputs, attrs, ctx, name)\u001b[0m\n\u001b[1;32m     50\u001b[0m   \u001b[0;32mtry\u001b[0m\u001b[0;34m:\u001b[0m\u001b[0;34m\u001b[0m\u001b[0;34m\u001b[0m\u001b[0m\n\u001b[1;32m     51\u001b[0m     \u001b[0mctx\u001b[0m\u001b[0;34m.\u001b[0m\u001b[0mensure_initialized\u001b[0m\u001b[0;34m(\u001b[0m\u001b[0;34m)\u001b[0m\u001b[0;34m\u001b[0m\u001b[0;34m\u001b[0m\u001b[0m\n\u001b[0;32m---> 52\u001b[0;31m     tensors = pywrap_tfe.TFE_Py_Execute(ctx._handle, device_name, op_name,\n\u001b[0m\u001b[1;32m     53\u001b[0m                                         inputs, attrs, num_outputs)\n\u001b[1;32m     54\u001b[0m   \u001b[0;32mexcept\u001b[0m \u001b[0mcore\u001b[0m\u001b[0;34m.\u001b[0m\u001b[0m_NotOkStatusException\u001b[0m \u001b[0;32mas\u001b[0m \u001b[0me\u001b[0m\u001b[0;34m:\u001b[0m\u001b[0;34m\u001b[0m\u001b[0;34m\u001b[0m\u001b[0m\n",
      "\u001b[0;31mKeyboardInterrupt\u001b[0m: "
     ]
    }
   ],
   "source": [
    "import os\n",
    "import numpy as np\n",
    "import librosa\n",
    "import tensorflow as tf\n",
    "from tensorflow.keras.layers import Input, Conv2D, Conv2DTranspose\n",
    "from tensorflow.keras.models import Model\n",
    "\n",
    "def preprocess_audio(audio_file):\n",
    "    # Load the audio file\n",
    "    print(audio_file)\n",
    "    audio, sr = librosa.load(audio_file)\n",
    "\n",
    "    # Split the audio into 30-second chunks\n",
    "    chunk_size = 30 * sr\n",
    "    num_chunks = max(len(audio) // chunk_size, 1)\n",
    "    audio_chunks = np.array_split(audio[:num_chunks*chunk_size], num_chunks)\n",
    "\n",
    "    # Preprocess each chunk\n",
    "    specs = []\n",
    "    for chunk in audio_chunks:\n",
    "        spec = librosa.feature.melspectrogram(y=chunk, sr=sr, n_fft=512, hop_length=128, n_mels=256)\n",
    "        spec_db = librosa.power_to_db(spec, ref=np.max)\n",
    "        spec_db = np.expand_dims(spec_db, axis=-1)\n",
    "        specs.append(spec_db)\n",
    "    return specs\n",
    "\n",
    "def add_noise(spec_db):\n",
    "    # Add noise to the spectrogram\n",
    "    noise = np.random.normal(0, 1, size=spec_db.shape)\n",
    "    noisy_spec_db = spec_db + 0.05 * noise\n",
    "    return noisy_spec_db\n",
    "\n",
    "def create_model(spec_shape):\n",
    "    # Define the denoising autoencoder model\n",
    "    input_layer = Input(shape=spec_shape)\n",
    "    x = Conv2D(64, (3, 3), activation='relu', padding='same')(input_layer)\n",
    "    x = Conv2D(32, (3, 3), activation='relu', padding='same')(x)\n",
    "    encoded = Conv2D(1, (3, 3), activation=None, padding='same')(x)\n",
    "    x = Conv2DTranspose(32, (3, 3), strides=(1, 1), activation='relu', padding='same')(encoded)\n",
    "    x = Conv2DTranspose(64, (3, 3), strides=(1, 1), activation='relu', padding='same')(x)\n",
    "    decoded = Conv2DTranspose(1, (3, 3), activation=None, padding='same')(x)\n",
    "    model = Model(input_layer, decoded)\n",
    "\n",
    "    # Compile the model\n",
    "    model.compile(optimizer='adam', loss='mse', metrics='accuracy')\n",
    "\n",
    "    return model\n",
    "\n",
    "# Set the root directory for audio files\n",
    "root_dir = '/home/fdf7gn/data'\n",
    "\n",
    "# Recursively find all audio files in the directory\n",
    "audio_files = []\n",
    "for dirpath, dirnames, filenames in os.walk(root_dir):\n",
    "    if \"Larynx\" in dirnames:\n",
    "        dirnames.remove(\"Larynx\")\n",
    "    for filename in filenames:\n",
    "        if filename.endswith('.wav') or filename.endswith('.mp3'):\n",
    "            audio_files.append(os.path.join(dirpath, filename))\n",
    "\n",
    "# Preprocess and denoise each audio chunk\n",
    "model = create_model((256, None, 1))\n",
    "for audio_file in audio_files:\n",
    "    specs = preprocess_audio(audio_file)\n",
    "    for spec_db in specs:\n",
    "        noisy_spec_db = add_noise(spec_db)\n",
    "        model.fit(x=np.array([noisy_spec_db]), y=np.array([spec_db]), epochs=20, batch_size=32)\n",
    "\n",
    "# Save the model\n",
    "model.save('denoising_autoencoder.h5')\n"
   ]
  },
  {
   "cell_type": "code",
   "execution_count": 4,
   "metadata": {},
   "outputs": [
    {
     "name": "stdout",
     "output_type": "stream",
     "text": [
      "1/1 [==============================] - 1s 1s/step\n"
     ]
    },
    {
     "name": "stderr",
     "output_type": "stream",
     "text": [
      "/home/fdf7gn/.local/lib/python3.8/site-packages/librosa/feature/inverse.py:102: UserWarning: Empty filters detected in mel frequency basis. Some channels will produce empty responses. Try increasing your sampling rate (and fmax) or reducing n_mels.\n",
      "  mel_basis = filters.mel(\n"
     ]
    },
    {
     "name": "stdout",
     "output_type": "stream",
     "text": [
      "SNR: 59.62 dB\n"
     ]
    }
   ],
   "source": [
    "# Load the denoising autoencoder model\n",
    "#odel = load_model('denoising_autoencoder.h5')\n",
    "\n",
    "import os\n",
    "import numpy as np\n",
    "import librosa\n",
    "import tensorflow as tf\n",
    "\n",
    "# Load the model\n",
    "model = tf.keras.models.load_model('denoising_autoencoder.h5')\n",
    "\n",
    "# Load the new audio file\n",
    "audio_file = '/home/fdf7gn/Rainbowpassage/BobAL.wav'\n",
    "audio, sr = librosa.load(audio_file)\n",
    "\n",
    "# Preprocess the audio\n",
    "n_fft = 512\n",
    "hop_length = 128\n",
    "n_mels = 256\n",
    "\n",
    "spec = librosa.feature.melspectrogram(y=audio, sr=sr, n_fft=n_fft, hop_length=hop_length, n_mels=n_mels)\n",
    "spec_db = librosa.power_to_db(spec, ref=np.max)\n",
    "spec_db = np.expand_dims(spec_db, axis=-1)\n",
    "\n",
    "# Predict the denoised spectrogram\n",
    "noisy_spec_db = spec_db.copy() # Replace with the actual noisy spectrogram\n",
    "denoised_spec_db = model.predict(np.array([noisy_spec_db]))\n",
    "\n",
    "# Convert the denoised spectrogram back to audio\n",
    "denoised_spec = denoised_spec_db[0, :, :, 0]\n",
    "max_spec = np.max(denoised_spec)\n",
    "denoised_spec = librosa.db_to_power(denoised_spec, ref=max_spec)\n",
    "denoised_audio = librosa.feature.inverse.mel_to_audio(denoised_spec, sr=sr, n_fft=n_fft, hop_length=hop_length)\n",
    "\n",
    "# Evaluate the denoised audio against the original audio\n",
    "audio_len = min(len(audio), len(denoised_audio))\n",
    "mse = np.mean(np.square(audio[:audio_len] - denoised_audio[:audio_len]))\n",
    "snr = 10 * np.log10(np.sum(np.square(audio[:audio_len])) / mse)\n",
    "print(f'SNR: {snr:.2f} dB')\n"
   ]
  },
  {
   "cell_type": "code",
   "execution_count": 2,
   "metadata": {},
   "outputs": [
    {
     "name": "stdout",
     "output_type": "stream",
     "text": [
      "1/1 [==============================] - 1s 773ms/step\n"
     ]
    }
   ],
   "source": [
    "import numpy as np\n",
    "import librosa\n",
    "import tensorflow as tf\n",
    "from tensorflow.keras.models import load_model\n",
    "import os\n",
    "import soundfile as sf\n",
    "\n",
    "# Load the denoising autoencoder model\n",
    "model = load_model('denoising_autoencoder.h5')\n",
    "\n",
    "# Load the new audio file\n",
    "audio_file = '/home/fdf7gn/Rainbowpassage/BobAL.wav'\n",
    "audio, sr = librosa.load(audio_file)\n",
    "\n",
    "# Preprocess the audio\n",
    "n_fft = 512\n",
    "hop_length = 128\n",
    "n_mels = 128\n",
    "\n",
    "spec = librosa.feature.melspectrogram(y=audio, sr=sr, n_fft=n_fft, hop_length=hop_length, n_mels=n_mels)\n",
    "spec_db = librosa.power_to_db(spec, ref=np.max)\n",
    "spec_db = np.expand_dims(spec_db, axis=-1)\n",
    "\n",
    "# Predict the denoised spectrogram\n",
    "noisy_spec_db = spec_db.copy() # Replace with the actual noisy spectrogram\n",
    "denoised_spec_db = model.predict(np.array([noisy_spec_db]))\n",
    "\n",
    "# Convert the denoised spectrogram back to audio\n",
    "denoised_spec = denoised_spec_db[0, :, :, 0]\n",
    "max_spec = np.max(denoised_spec)\n",
    "denoised_spec = librosa.db_to_power(denoised_spec, ref=max_spec)\n",
    "denoised_audio = librosa.feature.inverse.mel_to_audio(denoised_spec, sr=sr, n_fft=n_fft, hop_length=hop_length)\n",
    "\n",
    "# Evaluate the denoised audio against the original audio\n",
    "denoised_file = os.path.splitext(audio_file)[0] + '_denoised.wav'\n",
    "sf.write(denoised_file, denoised_audio, sr)\n"
   ]
  },
  {
   "cell_type": "code",
   "execution_count": 1,
   "metadata": {},
   "outputs": [
    {
     "name": "stderr",
     "output_type": "stream",
     "text": [
      "/home/fdf7gn/.local/lib/python3.8/site-packages/librosa/feature/spectral.py:2157: UserWarning: Empty filters detected in mel frequency basis. Some channels will produce empty responses. Try increasing your sampling rate (and fmax) or reducing n_mels.\n",
      "  mel_basis = filters.mel(sr=sr, n_fft=n_fft, **kwargs)\n"
     ]
    },
    {
     "name": "stdout",
     "output_type": "stream",
     "text": [
      "1/1 [==============================] - 1s 998ms/step\n"
     ]
    },
    {
     "name": "stderr",
     "output_type": "stream",
     "text": [
      "/home/fdf7gn/.local/lib/python3.8/site-packages/librosa/feature/inverse.py:102: UserWarning: Empty filters detected in mel frequency basis. Some channels will produce empty responses. Try increasing your sampling rate (and fmax) or reducing n_mels.\n",
      "  mel_basis = filters.mel(\n"
     ]
    }
   ],
   "source": [
    "import numpy as np\n",
    "import librosa\n",
    "import tensorflow as tf\n",
    "from tensorflow.keras.models import load_model\n",
    "import os\n",
    "import soundfile as sf\n",
    "\n",
    "autoencoder = load_model('denoising_autoencoder.h5')\n",
    "# Load the new audio file\n",
    "audio_file = '/home/fdf7gn/Rainbowpassage/BobAL.wav'\n",
    "audio, sr = librosa.load(audio_file)\n",
    "\n",
    "# Preprocess the audio\n",
    "n_fft = 512\n",
    "hop_length = 256\n",
    "n_mels = 256\n",
    "\n",
    "spec = librosa.feature.melspectrogram(y=audio, sr=sr, n_fft=n_fft, hop_length=hop_length, n_mels=n_mels)\n",
    "spec_db = librosa.power_to_db(spec, ref=np.max)\n",
    "spec_db = np.expand_dims(spec_db, axis=-1)\n",
    "\n",
    "# Predict the denoised spectrogram\n",
    "noisy_spec_db = spec_db.copy() # Replace with the actual noisy spectrogram\n",
    "denoised_spec_db = autoencoder.predict(np.array([noisy_spec_db]))\n",
    "\n",
    "# Convert the denoised spectrogram back to audio\n",
    "denoised_spec = denoised_spec_db[0, :, :, 0]\n",
    "max_spec = np.max(denoised_spec)\n",
    "denoised_spec = librosa.db_to_power(denoised_spec, ref=max_spec)\n",
    "denoised_audio = librosa.feature.inverse.mel_to_audio(denoised_spec, sr=sr, n_fft=n_fft, hop_length=hop_length)\n",
    "\n",
    "# Evaluate the denoised audio against the original audio\n",
    "denoised_file = 'test_denoised_basic.wav'\n",
    "sf.write(denoised_file, denoised_audio, sr)"
   ]
  },
  {
   "cell_type": "code",
   "execution_count": 5,
   "metadata": {},
   "outputs": [],
   "source": [
    "autoencoder = tf.keras.models.load_model('denoising_autoencoder_complex.h5')"
   ]
  },
  {
   "cell_type": "code",
   "execution_count": 2,
   "metadata": {},
   "outputs": [
    {
     "name": "stdout",
     "output_type": "stream",
     "text": [
      "22050\n",
      "1/1 [==============================] - 1s 1s/step\n"
     ]
    },
    {
     "name": "stderr",
     "output_type": "stream",
     "text": [
      "/home/fdf7gn/.local/lib/python3.8/site-packages/librosa/feature/inverse.py:102: UserWarning: Empty filters detected in mel frequency basis. Some channels will produce empty responses. Try increasing your sampling rate (and fmax) or reducing n_mels.\n",
      "  mel_basis = filters.mel(\n"
     ]
    }
   ],
   "source": [
    "import numpy as np\n",
    "import librosa\n",
    "import tensorflow as tf\n",
    "import soundfile as sf\n",
    "\n",
    "# Load the saved denoising autoencoder model\n",
    "model = tf.keras.models.load_model('denoising_autoencoder_complex.h5')\n",
    "\n",
    "# Load the audio file\n",
    "audio_file = '/home/fdf7gn/Rainbowpassage/BobAL.wav'\n",
    "audio, sr = librosa.load(audio_file)\n",
    "print(sr)\n",
    "\n",
    "# Split the audio into 30-second chunks\n",
    "chunk_size = 30 * sr\n",
    "num_chunks = len(audio) // chunk_size\n",
    "audio_chunks = np.array_split(audio[:num_chunks*chunk_size], num_chunks)\n",
    "\n",
    "# Preprocess each chunk\n",
    "specs = []\n",
    "for chunk in audio_chunks:\n",
    "    spec = librosa.feature.melspectrogram(y=chunk, sr=sr, n_fft=512, hop_length=128, n_mels=128)\n",
    "    spec_db = librosa.power_to_db(spec, ref=np.max)\n",
    "    spec_db = np.expand_dims(spec_db, axis=-1)\n",
    "    specs.append(spec_db)\n",
    "\n",
    "# Denoise each chunk\n",
    "denoised_specs = []\n",
    "for spec_db in specs:\n",
    "    denoised_spec_db = model.predict(np.array([spec_db]))\n",
    "    denoised_specs.append(denoised_spec_db)\n",
    "\n",
    "# Invert the mel spectrograms to audio\n",
    "denoised_audio = []\n",
    "for spec_db in denoised_specs:\n",
    "    spec = librosa.db_to_power(spec_db[0, :, :, 0], ref=1.0)\n",
    "    mel_basis = librosa.filters.mel(sr=sr, n_fft=512, n_mels=128)\n",
    "    inv_mel_basis = np.linalg.pinv(mel_basis)\n",
    "    spec_mel = np.dot(inv_mel_basis, spec)\n",
    "    audio = librosa.feature.inverse.mel_to_audio(spec_mel, sr=sr, n_fft=512, hop_length=128)\n",
    "    denoised_audio.append(audio)\n",
    "\n",
    "# Concatenate the denoised audio chunks\n",
    "denoised_audio = np.concatenate(denoised_audio)\n",
    "\n",
    "# Save the denoised audio\n",
    "denoised_audio_file = 'denoised_audio_complex.wav'\n",
    "sf.write(denoised_audio_file, denoised_audio, sr)\n"
   ]
  },
  {
   "cell_type": "code",
   "execution_count": 3,
   "metadata": {},
   "outputs": [
    {
     "name": "stderr",
     "output_type": "stream",
     "text": [
      "WARNING:absl:`lr` is deprecated, please use `learning_rate` instead, or use the legacy optimizer, e.g.,tf.keras.optimizers.legacy.Adam.\n"
     ]
    },
    {
     "name": "stdout",
     "output_type": "stream",
     "text": [
      "/home/fdf7gn/data/UVaVoice/ConversationalSpeech-FunctioningLarynxes/2021-12-17_11-32-38.wav\n",
      "Epoch 1/10\n",
      "1/1 [==============================] - 12s 12s/step - loss: 3175.9043 - accuracy: 0.0000e+00\n",
      "Epoch 2/10\n",
      "1/1 [==============================] - 7s 7s/step - loss: 3166.4751 - accuracy: 0.0000e+00\n",
      "Epoch 3/10\n",
      "1/1 [==============================] - 7s 7s/step - loss: 3154.7180 - accuracy: 0.0000e+00\n",
      "Epoch 4/10\n",
      "1/1 [==============================] - 7s 7s/step - loss: 3148.1455 - accuracy: 0.0000e+00\n",
      "Epoch 5/10\n",
      "1/1 [==============================] - 7s 7s/step - loss: 3142.9043 - accuracy: 0.0000e+00\n",
      "Epoch 6/10\n",
      "1/1 [==============================] - 7s 7s/step - loss: 3139.8528 - accuracy: 0.0000e+00\n",
      "Epoch 7/10\n",
      "1/1 [==============================] - 7s 7s/step - loss: 3138.0388 - accuracy: 0.0000e+00\n",
      "Epoch 8/10\n",
      "1/1 [==============================] - 7s 7s/step - loss: 3136.5901 - accuracy: 0.0000e+00\n",
      "Epoch 9/10\n",
      "1/1 [==============================] - 7s 7s/step - loss: 3135.7932 - accuracy: 0.0000e+00\n",
      "Epoch 10/10\n",
      "1/1 [==============================] - 7s 7s/step - loss: 3134.7610 - accuracy: 0.0000e+00\n",
      "Epoch 1/10\n",
      "1/1 [==============================] - 7s 7s/step - loss: 2975.4902 - accuracy: 0.0000e+00\n",
      "Epoch 2/10\n",
      "1/1 [==============================] - 7s 7s/step - loss: 2974.8774 - accuracy: 0.0000e+00\n",
      "Epoch 3/10\n",
      "1/1 [==============================] - 7s 7s/step - loss: 2974.2090 - accuracy: 0.0000e+00\n",
      "Epoch 4/10\n",
      "1/1 [==============================] - 7s 7s/step - loss: 2973.6445 - accuracy: 0.0000e+00\n",
      "Epoch 5/10\n",
      "1/1 [==============================] - 7s 7s/step - loss: 2973.1504 - accuracy: 0.0000e+00\n",
      "Epoch 6/10\n",
      "1/1 [==============================] - 6s 6s/step - loss: 2972.7061 - accuracy: 0.0000e+00\n",
      "Epoch 7/10\n",
      "1/1 [==============================] - 5s 5s/step - loss: 2972.3223 - accuracy: 0.0000e+00\n",
      "Epoch 8/10\n",
      "1/1 [==============================] - 5s 5s/step - loss: 2971.9587 - accuracy: 0.0000e+00\n",
      "Epoch 9/10\n",
      "1/1 [==============================] - 5s 5s/step - loss: 2971.6067 - accuracy: 0.0000e+00\n",
      "Epoch 10/10\n",
      "1/1 [==============================] - 5s 5s/step - loss: 2971.2820 - accuracy: 0.0000e+00\n",
      "/home/fdf7gn/data/UVaVoice/ConversationalSpeech-FunctioningLarynxes/2021-12-17_11-25-03.wav\n",
      "Epoch 1/10\n",
      "1/1 [==============================] - 5s 5s/step - loss: 2930.5771 - accuracy: 0.0000e+00\n",
      "Epoch 2/10\n",
      "1/1 [==============================] - 5s 5s/step - loss: 2930.3083 - accuracy: 0.0000e+00\n",
      "Epoch 3/10\n",
      "1/1 [==============================] - 5s 5s/step - loss: 2930.0654 - accuracy: 0.0000e+00\n",
      "Epoch 4/10\n",
      "1/1 [==============================] - 5s 5s/step - loss: 2929.8386 - accuracy: 0.0000e+00\n",
      "Epoch 5/10\n",
      "1/1 [==============================] - 5s 5s/step - loss: 2929.6260 - accuracy: 0.0000e+00\n",
      "Epoch 6/10\n",
      "1/1 [==============================] - 5s 5s/step - loss: 2929.4263 - accuracy: 0.0000e+00\n",
      "Epoch 7/10\n",
      "1/1 [==============================] - 5s 5s/step - loss: 2929.2395 - accuracy: 0.0000e+00\n",
      "Epoch 8/10\n",
      "1/1 [==============================] - 5s 5s/step - loss: 2929.0647 - accuracy: 0.0000e+00\n",
      "Epoch 9/10\n",
      "1/1 [==============================] - 5s 5s/step - loss: 2928.8926 - accuracy: 0.0000e+00\n",
      "Epoch 10/10\n",
      "1/1 [==============================] - 5s 5s/step - loss: 2928.7319 - accuracy: 0.0000e+00\n",
      "Epoch 1/10\n",
      "1/1 [==============================] - 5s 5s/step - loss: 2955.5308 - accuracy: 0.0000e+00\n",
      "Epoch 2/10\n",
      "1/1 [==============================] - 5s 5s/step - loss: 2955.3787 - accuracy: 0.0000e+00\n",
      "Epoch 3/10\n",
      "1/1 [==============================] - 5s 5s/step - loss: 2955.2454 - accuracy: 0.0000e+00\n",
      "Epoch 4/10\n",
      "1/1 [==============================] - 5s 5s/step - loss: 2955.1255 - accuracy: 0.0000e+00\n",
      "Epoch 5/10\n",
      "1/1 [==============================] - 5s 5s/step - loss: 2955.0137 - accuracy: 0.0000e+00\n",
      "Epoch 6/10\n",
      "1/1 [==============================] - 5s 5s/step - loss: 2954.9023 - accuracy: 0.0000e+00\n",
      "Epoch 7/10\n",
      "1/1 [==============================] - 5s 5s/step - loss: 2954.7888 - accuracy: 0.0000e+00\n",
      "Epoch 8/10\n",
      "1/1 [==============================] - 5s 5s/step - loss: 2954.6882 - accuracy: 0.0000e+00\n",
      "Epoch 9/10\n",
      "1/1 [==============================] - 5s 5s/step - loss: 2954.5940 - accuracy: 0.0000e+00\n",
      "Epoch 10/10\n",
      "1/1 [==============================] - 5s 5s/step - loss: 2954.5078 - accuracy: 0.0000e+00\n",
      "/home/fdf7gn/data/UVaVoice/ConversationalSpeech-FunctioningLarynxes/2021-12-17_11-33-43.wav\n",
      "Epoch 1/10\n",
      "1/1 [==============================] - 5s 5s/step - loss: 3156.2490 - accuracy: 0.0000e+00\n",
      "Epoch 2/10\n",
      "1/1 [==============================] - 5s 5s/step - loss: 3156.1611 - accuracy: 0.0000e+00\n",
      "Epoch 3/10\n",
      "1/1 [==============================] - 5s 5s/step - loss: 3156.1218 - accuracy: 0.0000e+00\n",
      "Epoch 4/10\n",
      "1/1 [==============================] - 5s 5s/step - loss: 3156.0403 - accuracy: 0.0000e+00\n",
      "Epoch 5/10\n",
      "1/1 [==============================] - 5s 5s/step - loss: 3155.9473 - accuracy: 0.0000e+00\n",
      "Epoch 6/10\n",
      "1/1 [==============================] - 5s 5s/step - loss: 3155.8857 - accuracy: 0.0000e+00\n",
      "Epoch 7/10\n",
      "1/1 [==============================] - 5s 5s/step - loss: 3155.7881 - accuracy: 0.0000e+00\n",
      "Epoch 8/10\n",
      "1/1 [==============================] - 5s 5s/step - loss: 3155.7324 - accuracy: 0.0000e+00\n",
      "Epoch 9/10\n",
      "1/1 [==============================] - 5s 5s/step - loss: 3155.6514 - accuracy: 0.0000e+00\n",
      "Epoch 10/10\n",
      "1/1 [==============================] - 5s 5s/step - loss: 3155.5911 - accuracy: 0.0000e+00\n",
      "Epoch 1/10\n",
      "1/1 [==============================] - 5s 5s/step - loss: 3127.3784 - accuracy: 0.0000e+00\n",
      "Epoch 2/10\n",
      "1/1 [==============================] - 5s 5s/step - loss: 3127.3315 - accuracy: 0.0000e+00\n",
      "Epoch 3/10\n",
      "1/1 [==============================] - 5s 5s/step - loss: 3127.2600 - accuracy: 0.0000e+00\n",
      "Epoch 4/10\n",
      "1/1 [==============================] - 5s 5s/step - loss: 3127.2068 - accuracy: 0.0000e+00\n",
      "Epoch 5/10\n",
      "1/1 [==============================] - 5s 5s/step - loss: 3127.1399 - accuracy: 0.0000e+00\n",
      "Epoch 6/10\n",
      "1/1 [==============================] - 5s 5s/step - loss: 3127.0918 - accuracy: 0.0000e+00\n",
      "Epoch 7/10\n",
      "1/1 [==============================] - 5s 5s/step - loss: 3127.0293 - accuracy: 0.0000e+00\n",
      "Epoch 8/10\n",
      "1/1 [==============================] - 5s 5s/step - loss: 3126.9788 - accuracy: 0.0000e+00\n",
      "Epoch 9/10\n",
      "1/1 [==============================] - 5s 5s/step - loss: 3126.9268 - accuracy: 0.0000e+00\n",
      "Epoch 10/10\n",
      "1/1 [==============================] - 5s 5s/step - loss: 3126.8811 - accuracy: 0.0000e+00\n",
      "/home/fdf7gn/data/UVaVoice/ConversationalSpeech-FunctioningLarynxes/2021-12-17_11-35-28.wav\n",
      "Epoch 1/10\n",
      "1/1 [==============================] - 5s 5s/step - loss: 2978.6785 - accuracy: 0.0000e+00\n",
      "Epoch 2/10\n",
      "1/1 [==============================] - 5s 5s/step - loss: 2978.6482 - accuracy: 0.0000e+00\n",
      "Epoch 3/10\n",
      "1/1 [==============================] - 5s 5s/step - loss: 2978.5940 - accuracy: 0.0000e+00\n",
      "Epoch 4/10\n",
      "1/1 [==============================] - 5s 5s/step - loss: 2978.5635 - accuracy: 0.0000e+00\n",
      "Epoch 5/10\n",
      "1/1 [==============================] - 5s 5s/step - loss: 2978.5300 - accuracy: 0.0000e+00\n",
      "Epoch 6/10\n",
      "1/1 [==============================] - 5s 5s/step - loss: 2978.4846 - accuracy: 0.0000e+00\n",
      "Epoch 7/10\n",
      "1/1 [==============================] - 5s 5s/step - loss: 2978.4412 - accuracy: 0.0000e+00\n",
      "Epoch 8/10\n",
      "1/1 [==============================] - 5s 5s/step - loss: 2978.4226 - accuracy: 0.0000e+00\n",
      "Epoch 9/10\n",
      "1/1 [==============================] - 5s 5s/step - loss: 2978.3765 - accuracy: 0.0000e+00\n",
      "Epoch 10/10\n",
      "1/1 [==============================] - 5s 5s/step - loss: 2978.3418 - accuracy: 0.0000e+00\n",
      "Epoch 1/10\n",
      "1/1 [==============================] - 5s 5s/step - loss: 2980.8794 - accuracy: 0.0000e+00\n",
      "Epoch 2/10\n",
      "1/1 [==============================] - 5s 5s/step - loss: 2980.8367 - accuracy: 0.0000e+00\n",
      "Epoch 3/10\n",
      "1/1 [==============================] - 5s 5s/step - loss: 2980.7969 - accuracy: 0.0000e+00\n",
      "Epoch 4/10\n",
      "1/1 [==============================] - 5s 5s/step - loss: 2980.7754 - accuracy: 0.0000e+00\n",
      "Epoch 5/10\n",
      "1/1 [==============================] - 5s 5s/step - loss: 2980.7263 - accuracy: 0.0000e+00\n",
      "Epoch 6/10\n",
      "1/1 [==============================] - 5s 5s/step - loss: 2980.7017 - accuracy: 0.0000e+00\n",
      "Epoch 7/10\n",
      "1/1 [==============================] - 5s 5s/step - loss: 2980.6746 - accuracy: 0.0000e+00\n",
      "Epoch 8/10\n",
      "1/1 [==============================] - 5s 5s/step - loss: 2980.6392 - accuracy: 0.0000e+00\n",
      "Epoch 9/10\n",
      "1/1 [==============================] - 5s 5s/step - loss: 2980.6086 - accuracy: 0.0000e+00\n",
      "Epoch 10/10\n",
      "1/1 [==============================] - 5s 5s/step - loss: 2980.5835 - accuracy: 0.0000e+00\n",
      "/home/fdf7gn/data/UVaVoice/ConversationalSpeech-FunctioningLarynxes/2021-12-17_11-23-57.wav\n",
      "Epoch 1/10\n",
      "1/1 [==============================] - 5s 5s/step - loss: 2751.9553 - accuracy: 0.0000e+00\n",
      "Epoch 2/10\n",
      "1/1 [==============================] - 5s 5s/step - loss: 2751.9177 - accuracy: 0.0000e+00\n",
      "Epoch 3/10\n",
      "1/1 [==============================] - 5s 5s/step - loss: 2751.8887 - accuracy: 0.0000e+00\n",
      "Epoch 4/10\n",
      "1/1 [==============================] - 5s 5s/step - loss: 2751.8767 - accuracy: 0.0000e+00\n",
      "Epoch 5/10\n",
      "1/1 [==============================] - 5s 5s/step - loss: 2751.8601 - accuracy: 0.0000e+00\n",
      "Epoch 6/10\n",
      "1/1 [==============================] - 5s 5s/step - loss: 2751.8523 - accuracy: 0.0000e+00\n",
      "Epoch 7/10\n",
      "1/1 [==============================] - 5s 5s/step - loss: 2751.8298 - accuracy: 0.0000e+00\n",
      "Epoch 8/10\n",
      "1/1 [==============================] - 5s 5s/step - loss: 2751.8325 - accuracy: 0.0000e+00\n",
      "Epoch 9/10\n",
      "1/1 [==============================] - 5s 5s/step - loss: 2751.8213 - accuracy: 0.0000e+00\n",
      "Epoch 10/10\n",
      "1/1 [==============================] - 5s 5s/step - loss: 2751.7969 - accuracy: 0.0000e+00\n",
      "Epoch 1/10\n",
      "1/1 [==============================] - 5s 5s/step - loss: 2943.7234 - accuracy: 0.0000e+00\n",
      "Epoch 2/10\n",
      "1/1 [==============================] - 5s 5s/step - loss: 2943.7380 - accuracy: 0.0000e+00\n",
      "Epoch 3/10\n",
      "1/1 [==============================] - 5s 5s/step - loss: 2943.6997 - accuracy: 0.0000e+00\n",
      "Epoch 4/10\n",
      "1/1 [==============================] - 5s 5s/step - loss: 2943.7104 - accuracy: 0.0000e+00\n",
      "Epoch 5/10\n",
      "1/1 [==============================] - 5s 5s/step - loss: 2943.6768 - accuracy: 0.0000e+00\n",
      "Epoch 6/10\n",
      "1/1 [==============================] - 5s 5s/step - loss: 2943.6250 - accuracy: 0.0000e+00\n",
      "Epoch 7/10\n",
      "1/1 [==============================] - 5s 5s/step - loss: 2943.6460 - accuracy: 0.0000e+00\n",
      "Epoch 8/10\n",
      "1/1 [==============================] - 5s 5s/step - loss: 2943.6040 - accuracy: 0.0000e+00\n",
      "Epoch 9/10\n",
      "1/1 [==============================] - 5s 5s/step - loss: 2943.5964 - accuracy: 0.0000e+00\n",
      "Epoch 10/10\n",
      "1/1 [==============================] - 5s 5s/step - loss: 2943.5564 - accuracy: 0.0000e+00\n",
      "/home/fdf7gn/data/UVaVoice/ConversationalSpeech-FunctioningLarynxes/2021-12-17_11-27-18.wav\n",
      "Epoch 1/10\n",
      "1/1 [==============================] - 5s 5s/step - loss: 2807.4004 - accuracy: 1.5117e-06\n",
      "Epoch 2/10\n",
      "1/1 [==============================] - 5s 5s/step - loss: 2807.3682 - accuracy: 1.5117e-06\n",
      "Epoch 3/10\n",
      "1/1 [==============================] - 5s 5s/step - loss: 2807.3940 - accuracy: 1.5117e-06\n",
      "Epoch 4/10\n",
      "1/1 [==============================] - 5s 5s/step - loss: 2807.3291 - accuracy: 1.5117e-06\n",
      "Epoch 5/10\n",
      "1/1 [==============================] - 5s 5s/step - loss: 2807.3181 - accuracy: 1.5117e-06\n",
      "Epoch 6/10\n",
      "1/1 [==============================] - 5s 5s/step - loss: 2807.2646 - accuracy: 1.5117e-06\n",
      "Epoch 7/10\n",
      "1/1 [==============================] - 5s 5s/step - loss: 2807.2568 - accuracy: 1.5117e-06\n",
      "Epoch 8/10\n",
      "1/1 [==============================] - 5s 5s/step - loss: 2807.2261 - accuracy: 1.5117e-06\n",
      "Epoch 9/10\n",
      "1/1 [==============================] - 5s 5s/step - loss: 2807.2275 - accuracy: 1.5117e-06\n",
      "Epoch 10/10\n",
      "1/1 [==============================] - 5s 5s/step - loss: 2807.2014 - accuracy: 1.5117e-06\n",
      "Epoch 1/10\n",
      "1/1 [==============================] - 5s 5s/step - loss: 3134.6755 - accuracy: 0.0000e+00\n",
      "Epoch 2/10\n",
      "1/1 [==============================] - 5s 5s/step - loss: 3134.6570 - accuracy: 0.0000e+00\n",
      "Epoch 3/10\n",
      "1/1 [==============================] - 5s 5s/step - loss: 3134.6475 - accuracy: 0.0000e+00\n",
      "Epoch 4/10\n",
      "1/1 [==============================] - 5s 5s/step - loss: 3134.6199 - accuracy: 0.0000e+00\n",
      "Epoch 5/10\n",
      "1/1 [==============================] - 5s 5s/step - loss: 3134.5928 - accuracy: 0.0000e+00\n",
      "Epoch 6/10\n",
      "1/1 [==============================] - 5s 5s/step - loss: 3134.5723 - accuracy: 0.0000e+00\n",
      "Epoch 7/10\n",
      "1/1 [==============================] - 5s 5s/step - loss: 3134.5508 - accuracy: 0.0000e+00\n",
      "Epoch 8/10\n",
      "1/1 [==============================] - 5s 5s/step - loss: 3134.5322 - accuracy: 0.0000e+00\n",
      "Epoch 9/10\n",
      "1/1 [==============================] - 5s 5s/step - loss: 3134.5073 - accuracy: 0.0000e+00\n",
      "Epoch 10/10\n",
      "1/1 [==============================] - 5s 5s/step - loss: 3134.4990 - accuracy: 0.0000e+00\n",
      "/home/fdf7gn/data/UVaVoice/ConversationalSpeech-FunctioningLarynxes/2021-12-17_11-30-22.wav\n",
      "Epoch 1/10\n",
      "1/1 [==============================] - 5s 5s/step - loss: 3154.4915 - accuracy: 0.0000e+00\n",
      "Epoch 2/10\n",
      "1/1 [==============================] - 5s 5s/step - loss: 3154.4751 - accuracy: 0.0000e+00\n",
      "Epoch 3/10\n",
      "1/1 [==============================] - 5s 5s/step - loss: 3154.4561 - accuracy: 0.0000e+00\n",
      "Epoch 4/10\n",
      "1/1 [==============================] - 5s 5s/step - loss: 3154.4355 - accuracy: 0.0000e+00\n",
      "Epoch 5/10\n",
      "1/1 [==============================] - 5s 5s/step - loss: 3154.4216 - accuracy: 0.0000e+00\n",
      "Epoch 6/10\n",
      "1/1 [==============================] - 5s 5s/step - loss: 3154.4172 - accuracy: 0.0000e+00\n",
      "Epoch 7/10\n",
      "1/1 [==============================] - 5s 5s/step - loss: 3154.4014 - accuracy: 0.0000e+00\n",
      "Epoch 8/10\n",
      "1/1 [==============================] - 5s 5s/step - loss: 3154.3870 - accuracy: 0.0000e+00\n",
      "Epoch 9/10\n",
      "1/1 [==============================] - 5s 5s/step - loss: 3154.3992 - accuracy: 0.0000e+00\n",
      "Epoch 10/10\n",
      "1/1 [==============================] - 5s 5s/step - loss: 3154.3645 - accuracy: 0.0000e+00\n",
      "Epoch 1/10\n",
      "1/1 [==============================] - 5s 5s/step - loss: 3108.4800 - accuracy: 0.0000e+00\n",
      "Epoch 2/10\n",
      "1/1 [==============================] - 5s 5s/step - loss: 3108.4724 - accuracy: 0.0000e+00\n",
      "Epoch 3/10\n",
      "1/1 [==============================] - 5s 5s/step - loss: 3108.4487 - accuracy: 0.0000e+00\n",
      "Epoch 4/10\n",
      "1/1 [==============================] - 5s 5s/step - loss: 3108.4404 - accuracy: 0.0000e+00\n",
      "Epoch 5/10\n",
      "1/1 [==============================] - 5s 5s/step - loss: 3108.4119 - accuracy: 0.0000e+00\n",
      "Epoch 6/10\n",
      "1/1 [==============================] - 5s 5s/step - loss: 3108.3999 - accuracy: 0.0000e+00\n",
      "Epoch 7/10\n",
      "1/1 [==============================] - 5s 5s/step - loss: 3108.3877 - accuracy: 0.0000e+00\n",
      "Epoch 8/10\n",
      "1/1 [==============================] - 5s 5s/step - loss: 3108.3640 - accuracy: 0.0000e+00\n",
      "Epoch 9/10\n",
      "1/1 [==============================] - 5s 5s/step - loss: 3108.3447 - accuracy: 0.0000e+00\n",
      "Epoch 10/10\n",
      "1/1 [==============================] - 5s 5s/step - loss: 3108.3372 - accuracy: 0.0000e+00\n",
      "/home/fdf7gn/data/UVaVoice/ConversationalSpeech-FunctioningLarynxes/2021-12-17_11-29-13.wav\n",
      "Epoch 1/10\n",
      "1/1 [==============================] - 5s 5s/step - loss: 3029.5000 - accuracy: 0.0000e+00\n",
      "Epoch 2/10\n",
      "1/1 [==============================] - 5s 5s/step - loss: 3029.5049 - accuracy: 0.0000e+00\n",
      "Epoch 3/10\n",
      "1/1 [==============================] - 5s 5s/step - loss: 3029.4727 - accuracy: 0.0000e+00\n",
      "Epoch 4/10\n",
      "1/1 [==============================] - 5s 5s/step - loss: 3029.4736 - accuracy: 0.0000e+00\n",
      "Epoch 5/10\n",
      "1/1 [==============================] - 5s 5s/step - loss: 3029.4548 - accuracy: 0.0000e+00\n",
      "Epoch 6/10\n",
      "1/1 [==============================] - 5s 5s/step - loss: 3029.4551 - accuracy: 0.0000e+00\n",
      "Epoch 7/10\n",
      "1/1 [==============================] - 5s 5s/step - loss: 3029.4429 - accuracy: 0.0000e+00\n",
      "Epoch 8/10\n",
      "1/1 [==============================] - 5s 5s/step - loss: 3029.4299 - accuracy: 0.0000e+00\n",
      "Epoch 9/10\n",
      "1/1 [==============================] - 5s 5s/step - loss: 3029.4202 - accuracy: 0.0000e+00\n",
      "Epoch 10/10\n",
      "1/1 [==============================] - 5s 5s/step - loss: 3029.4187 - accuracy: 0.0000e+00\n",
      "Epoch 1/10\n",
      "1/1 [==============================] - 5s 5s/step - loss: 3173.9705 - accuracy: 0.0000e+00\n",
      "Epoch 2/10\n",
      "1/1 [==============================] - 5s 5s/step - loss: 3174.0337 - accuracy: 0.0000e+00\n",
      "Epoch 3/10\n",
      "1/1 [==============================] - 5s 5s/step - loss: 3173.9734 - accuracy: 0.0000e+00\n",
      "Epoch 4/10\n",
      "1/1 [==============================] - 5s 5s/step - loss: 3174.0544 - accuracy: 0.0000e+00\n",
      "Epoch 5/10\n",
      "1/1 [==============================] - 5s 5s/step - loss: 3174.0686 - accuracy: 0.0000e+00\n",
      "Epoch 6/10\n",
      "1/1 [==============================] - 5s 5s/step - loss: 3174.1365 - accuracy: 0.0000e+00\n",
      "Epoch 7/10\n",
      "1/1 [==============================] - 5s 5s/step - loss: 3174.0005 - accuracy: 0.0000e+00\n",
      "Epoch 8/10\n",
      "1/1 [==============================] - 5s 5s/step - loss: 3174.2393 - accuracy: 0.0000e+00\n",
      "Epoch 9/10\n",
      "1/1 [==============================] - 5s 5s/step - loss: 3174.4211 - accuracy: 0.0000e+00\n",
      "Epoch 10/10\n",
      "1/1 [==============================] - 5s 5s/step - loss: 3174.6323 - accuracy: 0.0000e+00\n",
      "/home/fdf7gn/data/UVaVoice/ConversationalSpeech-FunctioningLarynxes/2021-12-17_11-31-32.wav\n",
      "Epoch 1/10\n",
      "1/1 [==============================] - 5s 5s/step - loss: 3225.8459 - accuracy: 0.0000e+00\n",
      "Epoch 2/10\n",
      "1/1 [==============================] - 5s 5s/step - loss: 3225.8477 - accuracy: 0.0000e+00\n",
      "Epoch 3/10\n",
      "1/1 [==============================] - 5s 5s/step - loss: 3225.7825 - accuracy: 0.0000e+00\n",
      "Epoch 4/10\n",
      "1/1 [==============================] - 5s 5s/step - loss: 3225.6514 - accuracy: 0.0000e+00\n",
      "Epoch 5/10\n",
      "1/1 [==============================] - 5s 5s/step - loss: 3225.6235 - accuracy: 0.0000e+00\n",
      "Epoch 6/10\n",
      "1/1 [==============================] - 5s 5s/step - loss: 3225.5684 - accuracy: 0.0000e+00\n",
      "Epoch 7/10\n",
      "1/1 [==============================] - 5s 5s/step - loss: 3225.4895 - accuracy: 0.0000e+00\n",
      "Epoch 8/10\n",
      "1/1 [==============================] - 5s 5s/step - loss: 3225.3870 - accuracy: 0.0000e+00\n",
      "Epoch 9/10\n",
      "1/1 [==============================] - 5s 5s/step - loss: 3225.2859 - accuracy: 0.0000e+00\n",
      "Epoch 10/10\n",
      "1/1 [==============================] - 5s 5s/step - loss: 3225.2090 - accuracy: 0.0000e+00\n",
      "Epoch 1/10\n",
      "1/1 [==============================] - 5s 5s/step - loss: 3139.8823 - accuracy: 0.0000e+00\n",
      "Epoch 2/10\n",
      "1/1 [==============================] - 5s 5s/step - loss: 3139.8008 - accuracy: 0.0000e+00\n",
      "Epoch 3/10\n",
      "1/1 [==============================] - 5s 5s/step - loss: 3139.7981 - accuracy: 0.0000e+00\n",
      "Epoch 4/10\n",
      "1/1 [==============================] - 5s 5s/step - loss: 3139.7681 - accuracy: 0.0000e+00\n",
      "Epoch 5/10\n",
      "1/1 [==============================] - 5s 5s/step - loss: 3139.7058 - accuracy: 0.0000e+00\n",
      "Epoch 6/10\n",
      "1/1 [==============================] - 5s 5s/step - loss: 3139.6726 - accuracy: 0.0000e+00\n",
      "Epoch 7/10\n",
      "1/1 [==============================] - 5s 5s/step - loss: 3139.6428 - accuracy: 0.0000e+00\n",
      "Epoch 8/10\n",
      "1/1 [==============================] - 5s 5s/step - loss: 3139.6133 - accuracy: 0.0000e+00\n",
      "Epoch 9/10\n",
      "1/1 [==============================] - 5s 5s/step - loss: 3139.5894 - accuracy: 0.0000e+00\n",
      "Epoch 10/10\n",
      "1/1 [==============================] - 5s 5s/step - loss: 3139.5796 - accuracy: 0.0000e+00\n",
      "/home/fdf7gn/data/UVaVoice/ConversationalSpeech-FunctioningLarynxes/2021-12-17_11-26-11.wav\n",
      "Epoch 1/10\n",
      "1/1 [==============================] - 5s 5s/step - loss: 2994.8325 - accuracy: 0.0000e+00\n",
      "Epoch 2/10\n",
      "1/1 [==============================] - 5s 5s/step - loss: 2994.8220 - accuracy: 0.0000e+00\n",
      "Epoch 3/10\n",
      "1/1 [==============================] - 5s 5s/step - loss: 2994.8083 - accuracy: 0.0000e+00\n",
      "Epoch 4/10\n",
      "1/1 [==============================] - 5s 5s/step - loss: 2994.7915 - accuracy: 0.0000e+00\n",
      "Epoch 5/10\n",
      "1/1 [==============================] - 5s 5s/step - loss: 2994.7737 - accuracy: 0.0000e+00\n",
      "Epoch 6/10\n",
      "1/1 [==============================] - 5s 5s/step - loss: 2994.7583 - accuracy: 0.0000e+00\n",
      "Epoch 7/10\n",
      "1/1 [==============================] - 5s 5s/step - loss: 2994.7432 - accuracy: 0.0000e+00\n",
      "Epoch 8/10\n",
      "1/1 [==============================] - 5s 5s/step - loss: 2994.7300 - accuracy: 0.0000e+00\n",
      "Epoch 9/10\n",
      "1/1 [==============================] - 5s 5s/step - loss: 2994.7136 - accuracy: 0.0000e+00\n",
      "Epoch 10/10\n",
      "1/1 [==============================] - 5s 5s/step - loss: 2994.6992 - accuracy: 0.0000e+00\n",
      "Epoch 1/10\n",
      "1/1 [==============================] - 5s 5s/step - loss: 2811.0669 - accuracy: 1.5117e-06\n",
      "Epoch 2/10\n",
      "1/1 [==============================] - 5s 5s/step - loss: 2811.0542 - accuracy: 1.5117e-06\n",
      "Epoch 3/10\n",
      "1/1 [==============================] - 5s 5s/step - loss: 2811.0461 - accuracy: 1.5117e-06\n",
      "Epoch 4/10\n",
      "1/1 [==============================] - 5s 5s/step - loss: 2811.0403 - accuracy: 1.5117e-06\n",
      "Epoch 5/10\n",
      "1/1 [==============================] - 5s 5s/step - loss: 2811.0276 - accuracy: 1.5117e-06\n",
      "Epoch 6/10\n",
      "1/1 [==============================] - 5s 5s/step - loss: 2811.0198 - accuracy: 1.5117e-06\n",
      "Epoch 7/10\n",
      "1/1 [==============================] - 5s 5s/step - loss: 2811.0071 - accuracy: 1.5117e-06\n",
      "Epoch 8/10\n",
      "1/1 [==============================] - 5s 5s/step - loss: 2810.9944 - accuracy: 1.5117e-06\n",
      "Epoch 9/10\n",
      "1/1 [==============================] - 5s 5s/step - loss: 2810.9827 - accuracy: 1.5117e-06\n",
      "Epoch 10/10\n",
      "1/1 [==============================] - 5s 5s/step - loss: 2810.9700 - accuracy: 1.5117e-06\n",
      "/home/fdf7gn/data/UVaVoice/ConversationalSpeech-FunctioningLarynxes/Participant 5/Electrolarynx/2021-06-23_15-05-06.wav\n",
      "Epoch 1/10\n",
      "1/1 [==============================] - 5s 5s/step - loss: 1666.7053 - accuracy: 0.0000e+00\n",
      "Epoch 2/10\n",
      "1/1 [==============================] - 5s 5s/step - loss: 1666.6869 - accuracy: 0.0000e+00\n",
      "Epoch 3/10\n",
      "1/1 [==============================] - 5s 5s/step - loss: 1666.6842 - accuracy: 0.0000e+00\n",
      "Epoch 4/10\n",
      "1/1 [==============================] - 5s 5s/step - loss: 1666.6772 - accuracy: 0.0000e+00\n",
      "Epoch 5/10\n",
      "1/1 [==============================] - 5s 5s/step - loss: 1666.6736 - accuracy: 0.0000e+00\n",
      "Epoch 6/10\n",
      "1/1 [==============================] - 5s 5s/step - loss: 1666.6658 - accuracy: 0.0000e+00\n",
      "Epoch 7/10\n",
      "1/1 [==============================] - 5s 5s/step - loss: 1666.6584 - accuracy: 0.0000e+00\n",
      "Epoch 8/10\n",
      "1/1 [==============================] - 5s 5s/step - loss: 1666.6494 - accuracy: 0.0000e+00\n",
      "Epoch 9/10\n",
      "1/1 [==============================] - 5s 5s/step - loss: 1666.6439 - accuracy: 0.0000e+00\n",
      "Epoch 10/10\n",
      "1/1 [==============================] - 5s 5s/step - loss: 1666.6392 - accuracy: 0.0000e+00\n",
      "Epoch 1/10\n",
      "1/1 [==============================] - 5s 5s/step - loss: 1644.9153 - accuracy: 0.0000e+00\n",
      "Epoch 2/10\n",
      "1/1 [==============================] - 5s 5s/step - loss: 1644.9098 - accuracy: 0.0000e+00\n",
      "Epoch 3/10\n",
      "1/1 [==============================] - 5s 5s/step - loss: 1644.9048 - accuracy: 0.0000e+00\n",
      "Epoch 4/10\n",
      "1/1 [==============================] - 5s 5s/step - loss: 1644.9001 - accuracy: 0.0000e+00\n",
      "Epoch 5/10\n",
      "1/1 [==============================] - 5s 5s/step - loss: 1644.8959 - accuracy: 0.0000e+00\n",
      "Epoch 6/10\n",
      "1/1 [==============================] - 5s 5s/step - loss: 1644.8920 - accuracy: 0.0000e+00\n",
      "Epoch 7/10\n",
      "1/1 [==============================] - 5s 5s/step - loss: 1644.8882 - accuracy: 0.0000e+00\n",
      "Epoch 8/10\n",
      "1/1 [==============================] - 5s 5s/step - loss: 1644.8853 - accuracy: 0.0000e+00\n",
      "Epoch 9/10\n",
      "1/1 [==============================] - 5s 5s/step - loss: 1644.8810 - accuracy: 0.0000e+00\n",
      "Epoch 10/10\n",
      "1/1 [==============================] - 5s 5s/step - loss: 1644.8767 - accuracy: 0.0000e+00\n",
      "/home/fdf7gn/data/UVaVoice/ConversationalSpeech-FunctioningLarynxes/Participant 5/Electrolarynx/2021-06-23_14-56-02.wav\n",
      "Epoch 1/10\n",
      "1/1 [==============================] - 5s 5s/step - loss: 2227.5254 - accuracy: 0.0000e+00\n",
      "Epoch 2/10\n",
      "1/1 [==============================] - 5s 5s/step - loss: 2227.5208 - accuracy: 0.0000e+00\n",
      "Epoch 3/10\n",
      "1/1 [==============================] - 5s 5s/step - loss: 2227.5154 - accuracy: 0.0000e+00\n",
      "Epoch 4/10\n",
      "1/1 [==============================] - 5s 5s/step - loss: 2227.5098 - accuracy: 0.0000e+00\n",
      "Epoch 5/10\n",
      "1/1 [==============================] - 5s 5s/step - loss: 2227.5061 - accuracy: 0.0000e+00\n",
      "Epoch 6/10\n",
      "1/1 [==============================] - 5s 5s/step - loss: 2227.5000 - accuracy: 0.0000e+00\n",
      "Epoch 7/10\n",
      "1/1 [==============================] - 5s 5s/step - loss: 2227.4958 - accuracy: 0.0000e+00\n",
      "Epoch 8/10\n",
      "1/1 [==============================] - 5s 5s/step - loss: 2227.4915 - accuracy: 0.0000e+00\n",
      "Epoch 9/10\n",
      "1/1 [==============================] - 5s 5s/step - loss: 2227.4873 - accuracy: 0.0000e+00\n",
      "Epoch 10/10\n",
      "1/1 [==============================] - 5s 5s/step - loss: 2227.4832 - accuracy: 0.0000e+00\n",
      "Epoch 1/10\n",
      "1/1 [==============================] - 5s 5s/step - loss: 2084.1719 - accuracy: 0.0000e+00\n",
      "Epoch 2/10\n",
      "1/1 [==============================] - 5s 5s/step - loss: 2084.1660 - accuracy: 0.0000e+00\n",
      "Epoch 3/10\n",
      "1/1 [==============================] - 5s 5s/step - loss: 2084.1626 - accuracy: 0.0000e+00\n",
      "Epoch 4/10\n",
      "1/1 [==============================] - 5s 5s/step - loss: 2084.1560 - accuracy: 0.0000e+00\n",
      "Epoch 5/10\n",
      "1/1 [==============================] - 5s 5s/step - loss: 2084.1511 - accuracy: 0.0000e+00\n",
      "Epoch 6/10\n",
      "1/1 [==============================] - 5s 5s/step - loss: 2084.1479 - accuracy: 0.0000e+00\n",
      "Epoch 7/10\n",
      "1/1 [==============================] - 5s 5s/step - loss: 2084.1440 - accuracy: 0.0000e+00\n",
      "Epoch 8/10\n",
      "1/1 [==============================] - 5s 5s/step - loss: 2084.1414 - accuracy: 0.0000e+00\n",
      "Epoch 9/10\n",
      "1/1 [==============================] - 5s 5s/step - loss: 2084.1375 - accuracy: 0.0000e+00\n",
      "Epoch 10/10\n",
      "1/1 [==============================] - 5s 5s/step - loss: 2084.1338 - accuracy: 0.0000e+00\n",
      "/home/fdf7gn/data/UVaVoice/ConversationalSpeech-FunctioningLarynxes/Participant 5/Electrolarynx/2021-06-23_14-54-08.wav\n",
      "Epoch 1/10\n",
      "1/1 [==============================] - 5s 5s/step - loss: 2038.2877 - accuracy: 0.0000e+00\n",
      "Epoch 2/10\n",
      "1/1 [==============================] - 5s 5s/step - loss: 2038.2749 - accuracy: 0.0000e+00\n",
      "Epoch 3/10\n",
      "1/1 [==============================] - 5s 5s/step - loss: 2038.2820 - accuracy: 0.0000e+00\n",
      "Epoch 4/10\n",
      "1/1 [==============================] - 5s 5s/step - loss: 2038.2701 - accuracy: 0.0000e+00\n",
      "Epoch 5/10\n",
      "1/1 [==============================] - 5s 5s/step - loss: 2038.2745 - accuracy: 0.0000e+00\n",
      "Epoch 6/10\n",
      "1/1 [==============================] - 5s 5s/step - loss: 2038.2740 - accuracy: 0.0000e+00\n",
      "Epoch 7/10\n",
      "1/1 [==============================] - 5s 5s/step - loss: 2038.2699 - accuracy: 0.0000e+00\n",
      "Epoch 8/10\n",
      "1/1 [==============================] - 5s 5s/step - loss: 2038.2670 - accuracy: 0.0000e+00\n",
      "Epoch 9/10\n",
      "1/1 [==============================] - 5s 5s/step - loss: 2038.2672 - accuracy: 0.0000e+00\n",
      "Epoch 10/10\n",
      "1/1 [==============================] - 5s 5s/step - loss: 2038.2656 - accuracy: 0.0000e+00\n",
      "Epoch 1/10\n",
      "1/1 [==============================] - 5s 5s/step - loss: 2103.3008 - accuracy: 0.0000e+00\n",
      "Epoch 2/10\n",
      "1/1 [==============================] - 5s 5s/step - loss: 2103.2585 - accuracy: 0.0000e+00\n",
      "Epoch 3/10\n",
      "1/1 [==============================] - 5s 5s/step - loss: 2103.2454 - accuracy: 0.0000e+00\n",
      "Epoch 4/10\n",
      "1/1 [==============================] - 5s 5s/step - loss: 2103.2537 - accuracy: 0.0000e+00\n",
      "Epoch 5/10\n",
      "1/1 [==============================] - 5s 5s/step - loss: 2103.2422 - accuracy: 0.0000e+00\n",
      "Epoch 6/10\n",
      "1/1 [==============================] - 5s 5s/step - loss: 2103.2341 - accuracy: 0.0000e+00\n",
      "Epoch 7/10\n",
      "1/1 [==============================] - 5s 5s/step - loss: 2103.2400 - accuracy: 0.0000e+00\n",
      "Epoch 8/10\n",
      "1/1 [==============================] - 5s 5s/step - loss: 2103.2256 - accuracy: 0.0000e+00\n",
      "Epoch 9/10\n",
      "1/1 [==============================] - 5s 5s/step - loss: 2103.2280 - accuracy: 0.0000e+00\n",
      "Epoch 10/10\n",
      "1/1 [==============================] - 5s 5s/step - loss: 2103.2283 - accuracy: 0.0000e+00\n",
      "/home/fdf7gn/data/UVaVoice/ConversationalSpeech-FunctioningLarynxes/Participant 5/Electrolarynx/2021-06-23_14-59-07.wav\n",
      "Epoch 1/10\n",
      "1/1 [==============================] - 5s 5s/step - loss: 2178.0923 - accuracy: 0.0000e+00\n",
      "Epoch 2/10\n",
      "1/1 [==============================] - 5s 5s/step - loss: 2178.0815 - accuracy: 0.0000e+00\n",
      "Epoch 3/10\n",
      "1/1 [==============================] - 5s 5s/step - loss: 2178.0759 - accuracy: 0.0000e+00\n",
      "Epoch 4/10\n",
      "1/1 [==============================] - 5s 5s/step - loss: 2178.0708 - accuracy: 0.0000e+00\n",
      "Epoch 5/10\n",
      "1/1 [==============================] - 5s 5s/step - loss: 2178.0669 - accuracy: 0.0000e+00\n",
      "Epoch 6/10\n",
      "1/1 [==============================] - 5s 5s/step - loss: 2178.0610 - accuracy: 0.0000e+00\n",
      "Epoch 7/10\n",
      "1/1 [==============================] - 5s 5s/step - loss: 2178.0554 - accuracy: 0.0000e+00\n",
      "Epoch 8/10\n",
      "1/1 [==============================] - 5s 5s/step - loss: 2178.0525 - accuracy: 0.0000e+00\n",
      "Epoch 9/10\n",
      "1/1 [==============================] - 5s 5s/step - loss: 2178.0500 - accuracy: 0.0000e+00\n",
      "Epoch 10/10\n",
      "1/1 [==============================] - 5s 5s/step - loss: 2178.0471 - accuracy: 0.0000e+00\n",
      "Epoch 1/10\n",
      "1/1 [==============================] - 5s 5s/step - loss: 1751.6821 - accuracy: 0.0000e+00\n",
      "Epoch 2/10\n",
      "1/1 [==============================] - 5s 5s/step - loss: 1751.6769 - accuracy: 0.0000e+00\n",
      "Epoch 3/10\n",
      "1/1 [==============================] - 5s 5s/step - loss: 1751.6740 - accuracy: 0.0000e+00\n",
      "Epoch 4/10\n",
      "1/1 [==============================] - 5s 5s/step - loss: 1751.6710 - accuracy: 0.0000e+00\n",
      "Epoch 5/10\n",
      "1/1 [==============================] - 5s 5s/step - loss: 1751.6683 - accuracy: 0.0000e+00\n",
      "Epoch 6/10\n",
      "1/1 [==============================] - 5s 5s/step - loss: 1751.6658 - accuracy: 0.0000e+00\n",
      "Epoch 7/10\n",
      "1/1 [==============================] - 5s 5s/step - loss: 1751.6649 - accuracy: 0.0000e+00\n",
      "Epoch 8/10\n",
      "1/1 [==============================] - 5s 5s/step - loss: 1751.6630 - accuracy: 0.0000e+00\n",
      "Epoch 9/10\n",
      "1/1 [==============================] - 5s 5s/step - loss: 1751.6614 - accuracy: 0.0000e+00\n",
      "Epoch 10/10\n",
      "1/1 [==============================] - 5s 5s/step - loss: 1751.6606 - accuracy: 0.0000e+00\n",
      "/home/fdf7gn/data/UVaVoice/ConversationalSpeech-FunctioningLarynxes/Participant 5/Electrolarynx/2021-06-23_14-40-35.wav\n",
      "Epoch 1/10\n",
      "1/1 [==============================] - 5s 5s/step - loss: 1764.7405 - accuracy: 0.0000e+00\n",
      "Epoch 2/10\n",
      "1/1 [==============================] - 5s 5s/step - loss: 1764.7382 - accuracy: 0.0000e+00\n",
      "Epoch 3/10\n",
      "1/1 [==============================] - 5s 5s/step - loss: 1764.7371 - accuracy: 0.0000e+00\n",
      "Epoch 4/10\n",
      "1/1 [==============================] - 5s 5s/step - loss: 1764.7355 - accuracy: 0.0000e+00\n",
      "Epoch 5/10\n",
      "1/1 [==============================] - 5s 5s/step - loss: 1764.7332 - accuracy: 0.0000e+00\n",
      "Epoch 6/10\n",
      "1/1 [==============================] - 5s 5s/step - loss: 1764.7314 - accuracy: 0.0000e+00\n",
      "Epoch 7/10\n",
      "1/1 [==============================] - 5s 5s/step - loss: 1764.7311 - accuracy: 0.0000e+00\n",
      "Epoch 8/10\n",
      "1/1 [==============================] - 5s 5s/step - loss: 1764.7297 - accuracy: 0.0000e+00\n",
      "Epoch 9/10\n",
      "1/1 [==============================] - 5s 5s/step - loss: 1764.7283 - accuracy: 0.0000e+00\n",
      "Epoch 10/10\n",
      "1/1 [==============================] - 5s 5s/step - loss: 1764.7275 - accuracy: 0.0000e+00\n",
      "Epoch 1/10\n",
      "1/1 [==============================] - 5s 5s/step - loss: 1726.8053 - accuracy: 0.0000e+00\n",
      "Epoch 2/10\n",
      "1/1 [==============================] - 5s 5s/step - loss: 1726.7805 - accuracy: 0.0000e+00\n",
      "Epoch 3/10\n",
      "1/1 [==============================] - 5s 5s/step - loss: 1726.7908 - accuracy: 0.0000e+00\n",
      "Epoch 4/10\n",
      "1/1 [==============================] - 5s 5s/step - loss: 1726.7788 - accuracy: 0.0000e+00\n",
      "Epoch 5/10\n",
      "1/1 [==============================] - 5s 5s/step - loss: 1726.7860 - accuracy: 0.0000e+00\n",
      "Epoch 6/10\n",
      "1/1 [==============================] - 5s 5s/step - loss: 1726.7831 - accuracy: 0.0000e+00\n",
      "Epoch 7/10\n",
      "1/1 [==============================] - 5s 5s/step - loss: 1726.7802 - accuracy: 0.0000e+00\n",
      "Epoch 8/10\n",
      "1/1 [==============================] - 5s 5s/step - loss: 1726.7791 - accuracy: 0.0000e+00\n",
      "Epoch 9/10\n",
      "1/1 [==============================] - 5s 5s/step - loss: 1726.7709 - accuracy: 0.0000e+00\n",
      "Epoch 10/10\n",
      "1/1 [==============================] - 5s 5s/step - loss: 1726.7675 - accuracy: 0.0000e+00\n",
      "/home/fdf7gn/data/UVaVoice/ConversationalSpeech-FunctioningLarynxes/Participant 5/Electrolarynx/2021-06-23_14-43-25.wav\n",
      "Epoch 1/10\n",
      "1/1 [==============================] - 5s 5s/step - loss: 1812.2407 - accuracy: 1.5117e-06\n",
      "Epoch 2/10\n",
      "1/1 [==============================] - 5s 5s/step - loss: 1812.2297 - accuracy: 1.5117e-06\n",
      "Epoch 3/10\n",
      "1/1 [==============================] - 5s 5s/step - loss: 1812.2434 - accuracy: 1.5117e-06\n",
      "Epoch 4/10\n",
      "1/1 [==============================] - 5s 5s/step - loss: 1812.2502 - accuracy: 1.5117e-06\n",
      "Epoch 5/10\n",
      "1/1 [==============================] - 5s 5s/step - loss: 1812.2507 - accuracy: 1.5117e-06\n",
      "Epoch 6/10\n",
      "1/1 [==============================] - 5s 5s/step - loss: 1812.2415 - accuracy: 1.5117e-06\n",
      "Epoch 7/10\n",
      "1/1 [==============================] - 5s 5s/step - loss: 1812.2312 - accuracy: 1.5117e-06\n",
      "Epoch 8/10\n",
      "1/1 [==============================] - 5s 5s/step - loss: 1812.2258 - accuracy: 1.5117e-06\n",
      "Epoch 9/10\n",
      "1/1 [==============================] - 5s 5s/step - loss: 1812.2251 - accuracy: 1.5117e-06\n",
      "Epoch 10/10\n",
      "1/1 [==============================] - 5s 5s/step - loss: 1812.2229 - accuracy: 1.5117e-06\n",
      "Epoch 1/10\n",
      "1/1 [==============================] - 5s 5s/step - loss: 1612.7322 - accuracy: 1.5117e-06\n",
      "Epoch 2/10\n",
      "1/1 [==============================] - 5s 5s/step - loss: 1612.7255 - accuracy: 1.5117e-06\n",
      "Epoch 3/10\n",
      "1/1 [==============================] - 5s 5s/step - loss: 1612.7231 - accuracy: 1.5117e-06\n",
      "Epoch 4/10\n",
      "1/1 [==============================] - 5s 5s/step - loss: 1612.7216 - accuracy: 1.5117e-06\n",
      "Epoch 5/10\n",
      "1/1 [==============================] - 5s 5s/step - loss: 1612.7200 - accuracy: 1.5117e-06\n",
      "Epoch 6/10\n",
      "1/1 [==============================] - 5s 5s/step - loss: 1612.7200 - accuracy: 1.5117e-06\n",
      "Epoch 7/10\n",
      "1/1 [==============================] - 5s 5s/step - loss: 1612.7201 - accuracy: 1.5117e-06\n",
      "Epoch 8/10\n",
      "1/1 [==============================] - 5s 5s/step - loss: 1612.7198 - accuracy: 1.5117e-06\n",
      "Epoch 9/10\n",
      "1/1 [==============================] - 5s 5s/step - loss: 1612.7168 - accuracy: 1.5117e-06\n",
      "Epoch 10/10\n",
      "1/1 [==============================] - 5s 5s/step - loss: 1612.7151 - accuracy: 1.5117e-06\n",
      "/home/fdf7gn/data/UVaVoice/ConversationalSpeech-FunctioningLarynxes/Participant 5/Electrolarynx/2021-06-23_14-49-26.wav\n",
      "Epoch 1/10\n",
      "1/1 [==============================] - 5s 5s/step - loss: 1915.0784 - accuracy: 1.5117e-06\n",
      "Epoch 2/10\n",
      "1/1 [==============================] - 5s 5s/step - loss: 1915.0763 - accuracy: 1.5117e-06\n",
      "Epoch 3/10\n",
      "1/1 [==============================] - 5s 5s/step - loss: 1915.0747 - accuracy: 1.5117e-06\n",
      "Epoch 4/10\n",
      "1/1 [==============================] - 5s 5s/step - loss: 1915.0724 - accuracy: 1.5117e-06\n",
      "Epoch 5/10\n",
      "1/1 [==============================] - 5s 5s/step - loss: 1915.0708 - accuracy: 1.5117e-06\n",
      "Epoch 6/10\n",
      "1/1 [==============================] - 5s 5s/step - loss: 1915.0702 - accuracy: 1.5117e-06\n",
      "Epoch 7/10\n",
      "1/1 [==============================] - 5s 5s/step - loss: 1915.0687 - accuracy: 1.5117e-06\n",
      "Epoch 8/10\n",
      "1/1 [==============================] - 5s 5s/step - loss: 1915.0674 - accuracy: 1.5117e-06\n",
      "Epoch 9/10\n",
      "1/1 [==============================] - 5s 5s/step - loss: 1915.0665 - accuracy: 1.5117e-06\n",
      "Epoch 10/10\n",
      "1/1 [==============================] - 5s 5s/step - loss: 1915.0654 - accuracy: 1.5117e-06\n",
      "Epoch 1/10\n",
      "1/1 [==============================] - 5s 5s/step - loss: 1645.7169 - accuracy: 0.0000e+00\n",
      "Epoch 2/10\n",
      "1/1 [==============================] - 5s 5s/step - loss: 1645.7156 - accuracy: 0.0000e+00\n",
      "Epoch 3/10\n",
      "1/1 [==============================] - 5s 5s/step - loss: 1645.7144 - accuracy: 1.5117e-06\n",
      "Epoch 4/10\n",
      "1/1 [==============================] - 5s 5s/step - loss: 1645.7139 - accuracy: 1.5117e-06\n",
      "Epoch 5/10\n",
      "1/1 [==============================] - 5s 5s/step - loss: 1645.7129 - accuracy: 1.5117e-06\n",
      "Epoch 6/10\n",
      "1/1 [==============================] - 5s 5s/step - loss: 1645.7120 - accuracy: 1.5117e-06\n",
      "Epoch 7/10\n",
      "1/1 [==============================] - 5s 5s/step - loss: 1645.7115 - accuracy: 1.5117e-06\n",
      "Epoch 8/10\n",
      "1/1 [==============================] - 5s 5s/step - loss: 1645.7087 - accuracy: 1.5117e-06\n",
      "Epoch 9/10\n",
      "1/1 [==============================] - 5s 5s/step - loss: 1645.7074 - accuracy: 1.5117e-06\n",
      "Epoch 10/10\n",
      "1/1 [==============================] - 5s 5s/step - loss: 1645.7067 - accuracy: 1.5117e-06\n",
      "/home/fdf7gn/data/UVaVoice/ConversationalSpeech-FunctioningLarynxes/Participant 5/Electrolarynx/2021-06-23_15-07-23.wav\n",
      "Epoch 1/10\n",
      "1/1 [==============================] - 5s 5s/step - loss: 1809.9536 - accuracy: 1.5117e-06\n",
      "Epoch 2/10\n",
      "1/1 [==============================] - 5s 5s/step - loss: 1809.9524 - accuracy: 1.5117e-06\n",
      "Epoch 3/10\n",
      "1/1 [==============================] - 5s 5s/step - loss: 1809.9520 - accuracy: 1.5117e-06\n",
      "Epoch 4/10\n",
      "1/1 [==============================] - 5s 5s/step - loss: 1809.9507 - accuracy: 1.5117e-06\n",
      "Epoch 5/10\n",
      "1/1 [==============================] - 5s 5s/step - loss: 1809.9491 - accuracy: 1.5117e-06\n",
      "Epoch 6/10\n",
      "1/1 [==============================] - 5s 5s/step - loss: 1809.9480 - accuracy: 1.5117e-06\n",
      "Epoch 7/10\n",
      "1/1 [==============================] - 5s 5s/step - loss: 1809.9470 - accuracy: 1.5117e-06\n",
      "Epoch 8/10\n",
      "1/1 [==============================] - 5s 5s/step - loss: 1809.9460 - accuracy: 1.5117e-06\n",
      "Epoch 9/10\n",
      "1/1 [==============================] - 5s 5s/step - loss: 1809.9452 - accuracy: 1.5117e-06\n",
      "Epoch 10/10\n",
      "1/1 [==============================] - 5s 5s/step - loss: 1809.9447 - accuracy: 1.5117e-06\n",
      "Epoch 1/10\n",
      "1/1 [==============================] - 5s 5s/step - loss: 1558.3662 - accuracy: 0.0000e+00\n",
      "Epoch 2/10\n",
      "1/1 [==============================] - 5s 5s/step - loss: 1558.3657 - accuracy: 0.0000e+00\n",
      "Epoch 3/10\n",
      "1/1 [==============================] - 5s 5s/step - loss: 1558.3652 - accuracy: 0.0000e+00\n",
      "Epoch 4/10\n",
      "1/1 [==============================] - 5s 5s/step - loss: 1558.3654 - accuracy: 0.0000e+00\n",
      "Epoch 5/10\n",
      "1/1 [==============================] - 5s 5s/step - loss: 1558.3650 - accuracy: 0.0000e+00\n",
      "Epoch 6/10\n",
      "1/1 [==============================] - 5s 5s/step - loss: 1558.3650 - accuracy: 0.0000e+00\n",
      "Epoch 7/10\n",
      "1/1 [==============================] - 5s 5s/step - loss: 1558.3650 - accuracy: 0.0000e+00\n",
      "Epoch 8/10\n",
      "1/1 [==============================] - 5s 5s/step - loss: 1558.3650 - accuracy: 0.0000e+00\n",
      "Epoch 9/10\n",
      "1/1 [==============================] - 5s 5s/step - loss: 1558.3645 - accuracy: 0.0000e+00\n",
      "Epoch 10/10\n",
      "1/1 [==============================] - 5s 5s/step - loss: 1558.3635 - accuracy: 0.0000e+00\n",
      "/home/fdf7gn/data/UVaVoice/ConversationalSpeech-FunctioningLarynxes/Participant 5/Electrolarynx/2021-06-23_15-01-37.wav\n",
      "Epoch 1/10\n",
      "1/1 [==============================] - 5s 5s/step - loss: 1813.7910 - accuracy: 1.5117e-06\n",
      "Epoch 2/10\n",
      "1/1 [==============================] - 5s 5s/step - loss: 1813.7903 - accuracy: 1.5117e-06\n",
      "Epoch 3/10\n",
      "1/1 [==============================] - 5s 5s/step - loss: 1813.7897 - accuracy: 1.5117e-06\n",
      "Epoch 4/10\n",
      "1/1 [==============================] - 5s 5s/step - loss: 1813.7891 - accuracy: 1.5117e-06\n",
      "Epoch 5/10\n",
      "1/1 [==============================] - 5s 5s/step - loss: 1813.7883 - accuracy: 1.5117e-06\n",
      "Epoch 6/10\n",
      "1/1 [==============================] - 5s 5s/step - loss: 1813.7874 - accuracy: 1.5117e-06\n",
      "Epoch 7/10\n",
      "1/1 [==============================] - 5s 5s/step - loss: 1813.7871 - accuracy: 1.5117e-06\n",
      "Epoch 8/10\n",
      "1/1 [==============================] - 5s 5s/step - loss: 1813.7867 - accuracy: 1.5117e-06\n",
      "Epoch 9/10\n",
      "1/1 [==============================] - 5s 5s/step - loss: 1813.7861 - accuracy: 1.5117e-06\n",
      "Epoch 10/10\n",
      "1/1 [==============================] - 5s 5s/step - loss: 1813.7860 - accuracy: 1.5117e-06\n",
      "Epoch 1/10\n",
      "1/1 [==============================] - 5s 5s/step - loss: 1690.2510 - accuracy: 0.0000e+00\n",
      "Epoch 2/10\n",
      "1/1 [==============================] - 5s 5s/step - loss: 1690.2483 - accuracy: 0.0000e+00\n",
      "Epoch 3/10\n",
      "1/1 [==============================] - 5s 5s/step - loss: 1690.2450 - accuracy: 0.0000e+00\n",
      "Epoch 4/10\n",
      "1/1 [==============================] - 5s 5s/step - loss: 1690.2440 - accuracy: 0.0000e+00\n",
      "Epoch 5/10\n",
      "1/1 [==============================] - 5s 5s/step - loss: 1690.2434 - accuracy: 0.0000e+00\n",
      "Epoch 6/10\n",
      "1/1 [==============================] - 5s 5s/step - loss: 1690.2427 - accuracy: 0.0000e+00\n",
      "Epoch 7/10\n",
      "1/1 [==============================] - 5s 5s/step - loss: 1690.2418 - accuracy: 0.0000e+00\n",
      "Epoch 8/10\n",
      "1/1 [==============================] - 5s 5s/step - loss: 1690.2413 - accuracy: 0.0000e+00\n",
      "Epoch 9/10\n",
      "1/1 [==============================] - 5s 5s/step - loss: 1690.2400 - accuracy: 0.0000e+00\n",
      "Epoch 10/10\n",
      "1/1 [==============================] - 5s 5s/step - loss: 1690.2395 - accuracy: 0.0000e+00\n",
      "/home/fdf7gn/data/UVaVoice/ConversationalSpeech-FunctioningLarynxes/Participant 5/Electrolarynx/2021-06-23_14-46-53.wav\n",
      "Epoch 1/10\n",
      "1/1 [==============================] - 5s 5s/step - loss: 1585.4009 - accuracy: 1.5117e-06\n",
      "Epoch 2/10\n",
      "1/1 [==============================] - 5s 5s/step - loss: 1585.4008 - accuracy: 1.5117e-06\n",
      "Epoch 3/10\n",
      "1/1 [==============================] - 5s 5s/step - loss: 1585.4001 - accuracy: 1.5117e-06\n",
      "Epoch 4/10\n",
      "1/1 [==============================] - 5s 5s/step - loss: 1585.3995 - accuracy: 1.5117e-06\n",
      "Epoch 5/10\n",
      "1/1 [==============================] - 5s 5s/step - loss: 1585.3993 - accuracy: 1.5117e-06\n",
      "Epoch 6/10\n",
      "1/1 [==============================] - 5s 5s/step - loss: 1585.3989 - accuracy: 1.5117e-06\n",
      "Epoch 7/10\n",
      "1/1 [==============================] - 5s 5s/step - loss: 1585.3990 - accuracy: 1.5117e-06\n",
      "Epoch 8/10\n",
      "1/1 [==============================] - 5s 5s/step - loss: 1585.3987 - accuracy: 1.5117e-06\n",
      "Epoch 9/10\n",
      "1/1 [==============================] - 5s 5s/step - loss: 1585.3988 - accuracy: 1.5117e-06\n",
      "Epoch 10/10\n",
      "1/1 [==============================] - 5s 5s/step - loss: 1585.3982 - accuracy: 1.5117e-06\n",
      "Epoch 1/10\n",
      "1/1 [==============================] - 5s 5s/step - loss: 1794.0861 - accuracy: 0.0000e+00\n",
      "Epoch 2/10\n",
      "1/1 [==============================] - 5s 5s/step - loss: 1794.0859 - accuracy: 0.0000e+00\n",
      "Epoch 3/10\n",
      "1/1 [==============================] - 5s 5s/step - loss: 1794.0842 - accuracy: 1.5117e-06\n",
      "Epoch 4/10\n",
      "1/1 [==============================] - 5s 5s/step - loss: 1794.0844 - accuracy: 1.5117e-06\n",
      "Epoch 5/10\n",
      "1/1 [==============================] - 5s 5s/step - loss: 1794.0840 - accuracy: 1.5117e-06\n",
      "Epoch 6/10\n",
      "1/1 [==============================] - 5s 5s/step - loss: 1794.0830 - accuracy: 1.5117e-06\n",
      "Epoch 7/10\n",
      "1/1 [==============================] - 5s 5s/step - loss: 1794.0828 - accuracy: 1.5117e-06\n",
      "Epoch 8/10\n",
      "1/1 [==============================] - 5s 5s/step - loss: 1794.0826 - accuracy: 1.5117e-06\n",
      "Epoch 9/10\n",
      "1/1 [==============================] - 5s 5s/step - loss: 1794.0824 - accuracy: 1.5117e-06\n",
      "Epoch 10/10\n",
      "1/1 [==============================] - 5s 5s/step - loss: 1794.0820 - accuracy: 1.5117e-06\n",
      "/home/fdf7gn/data/UVaVoice/ConversationalSpeech-FunctioningLarynxes/Participant 3/Electrolarynx/2021-12-01_16-00-12.wav\n",
      "Epoch 1/10\n",
      "1/1 [==============================] - 5s 5s/step - loss: 1678.8135 - accuracy: 0.0000e+00\n",
      "Epoch 2/10\n",
      "1/1 [==============================] - 5s 5s/step - loss: 1678.8131 - accuracy: 0.0000e+00\n",
      "Epoch 3/10\n",
      "1/1 [==============================] - 5s 5s/step - loss: 1678.8131 - accuracy: 0.0000e+00\n",
      "Epoch 4/10\n",
      "1/1 [==============================] - 5s 5s/step - loss: 1678.8129 - accuracy: 0.0000e+00\n",
      "Epoch 5/10\n",
      "1/1 [==============================] - 5s 5s/step - loss: 1678.8127 - accuracy: 0.0000e+00\n",
      "Epoch 6/10\n",
      "1/1 [==============================] - 5s 5s/step - loss: 1678.8121 - accuracy: 0.0000e+00\n",
      "Epoch 7/10\n",
      "1/1 [==============================] - 5s 5s/step - loss: 1678.8118 - accuracy: 0.0000e+00\n",
      "Epoch 8/10\n",
      "1/1 [==============================] - 5s 5s/step - loss: 1678.8115 - accuracy: 0.0000e+00\n",
      "Epoch 9/10\n",
      "1/1 [==============================] - 5s 5s/step - loss: 1678.8113 - accuracy: 0.0000e+00\n",
      "Epoch 10/10\n",
      "1/1 [==============================] - 5s 5s/step - loss: 1678.8109 - accuracy: 0.0000e+00\n",
      "Epoch 1/10\n",
      "1/1 [==============================] - 5s 5s/step - loss: 1622.1190 - accuracy: 0.0000e+00\n",
      "Epoch 2/10\n",
      "1/1 [==============================] - 5s 5s/step - loss: 1622.1143 - accuracy: 0.0000e+00\n",
      "Epoch 3/10\n",
      "1/1 [==============================] - 5s 5s/step - loss: 1622.1124 - accuracy: 0.0000e+00\n",
      "Epoch 4/10\n",
      "1/1 [==============================] - 5s 5s/step - loss: 1622.1084 - accuracy: 0.0000e+00\n",
      "Epoch 5/10\n",
      "1/1 [==============================] - 5s 5s/step - loss: 1622.1061 - accuracy: 0.0000e+00\n",
      "Epoch 6/10\n",
      "1/1 [==============================] - 5s 5s/step - loss: 1622.1042 - accuracy: 0.0000e+00\n",
      "Epoch 7/10\n",
      "1/1 [==============================] - 5s 5s/step - loss: 1622.1024 - accuracy: 0.0000e+00\n",
      "Epoch 8/10\n",
      "1/1 [==============================] - 5s 5s/step - loss: 1622.1023 - accuracy: 0.0000e+00\n",
      "Epoch 9/10\n",
      "1/1 [==============================] - 5s 5s/step - loss: 1622.1011 - accuracy: 0.0000e+00\n",
      "Epoch 10/10\n",
      "1/1 [==============================] - 5s 5s/step - loss: 1622.1005 - accuracy: 0.0000e+00\n",
      "/home/fdf7gn/data/UVaVoice/ConversationalSpeech-FunctioningLarynxes/Participant 3/Electrolarynx/2021-12-01_16-05-04.wav\n",
      "Epoch 1/10\n",
      "1/1 [==============================] - 5s 5s/step - loss: 1488.3215 - accuracy: 0.0000e+00\n",
      "Epoch 2/10\n",
      "1/1 [==============================] - 5s 5s/step - loss: 1488.3132 - accuracy: 0.0000e+00\n",
      "Epoch 3/10\n",
      "1/1 [==============================] - 5s 5s/step - loss: 1488.3142 - accuracy: 0.0000e+00\n",
      "Epoch 4/10\n",
      "1/1 [==============================] - 5s 5s/step - loss: 1488.3151 - accuracy: 0.0000e+00\n",
      "Epoch 5/10\n",
      "1/1 [==============================] - 5s 5s/step - loss: 1488.3162 - accuracy: 0.0000e+00\n",
      "Epoch 6/10\n",
      "1/1 [==============================] - 5s 5s/step - loss: 1488.3158 - accuracy: 0.0000e+00\n",
      "Epoch 7/10\n",
      "1/1 [==============================] - 5s 5s/step - loss: 1488.3143 - accuracy: 0.0000e+00\n",
      "Epoch 8/10\n",
      "1/1 [==============================] - 5s 5s/step - loss: 1488.3138 - accuracy: 0.0000e+00\n",
      "Epoch 9/10\n",
      "1/1 [==============================] - 5s 5s/step - loss: 1488.3137 - accuracy: 0.0000e+00\n",
      "Epoch 10/10\n",
      "1/1 [==============================] - 5s 5s/step - loss: 1488.3134 - accuracy: 0.0000e+00\n",
      "Epoch 1/10\n",
      "1/1 [==============================] - 5s 5s/step - loss: 1602.0791 - accuracy: 1.5117e-06\n",
      "Epoch 2/10\n",
      "1/1 [==============================] - 5s 5s/step - loss: 1602.0776 - accuracy: 1.5117e-06\n",
      "Epoch 3/10\n",
      "1/1 [==============================] - 5s 5s/step - loss: 1602.0771 - accuracy: 0.0000e+00\n",
      "Epoch 4/10\n",
      "1/1 [==============================] - 5s 5s/step - loss: 1602.0768 - accuracy: 0.0000e+00\n",
      "Epoch 5/10\n",
      "1/1 [==============================] - 5s 5s/step - loss: 1602.0758 - accuracy: 0.0000e+00\n",
      "Epoch 6/10\n",
      "1/1 [==============================] - 5s 5s/step - loss: 1602.0754 - accuracy: 0.0000e+00\n",
      "Epoch 7/10\n",
      "1/1 [==============================] - 5s 5s/step - loss: 1602.0747 - accuracy: 0.0000e+00\n",
      "Epoch 8/10\n",
      "1/1 [==============================] - 5s 5s/step - loss: 1602.0740 - accuracy: 0.0000e+00\n",
      "Epoch 9/10\n",
      "1/1 [==============================] - 5s 5s/step - loss: 1602.0735 - accuracy: 0.0000e+00\n",
      "Epoch 10/10\n",
      "1/1 [==============================] - 5s 5s/step - loss: 1602.0739 - accuracy: 0.0000e+00\n",
      "/home/fdf7gn/data/UVaVoice/ConversationalSpeech-FunctioningLarynxes/Participant 3/Electrolarynx/2021-12-01_16-02-23.wav\n",
      "Epoch 1/10\n",
      "1/1 [==============================] - 5s 5s/step - loss: 1707.8885 - accuracy: 0.0000e+00\n",
      "Epoch 2/10\n",
      "1/1 [==============================] - 5s 5s/step - loss: 1707.8882 - accuracy: 0.0000e+00\n",
      "Epoch 3/10\n",
      "1/1 [==============================] - 5s 5s/step - loss: 1707.8882 - accuracy: 1.5117e-06\n",
      "Epoch 4/10\n",
      "1/1 [==============================] - 5s 5s/step - loss: 1707.8873 - accuracy: 1.5117e-06\n",
      "Epoch 5/10\n",
      "1/1 [==============================] - 5s 5s/step - loss: 1707.8872 - accuracy: 1.5117e-06\n",
      "Epoch 6/10\n",
      "1/1 [==============================] - 5s 5s/step - loss: 1707.8870 - accuracy: 1.5117e-06\n",
      "Epoch 7/10\n",
      "1/1 [==============================] - 5s 5s/step - loss: 1707.8868 - accuracy: 1.5117e-06\n",
      "Epoch 8/10\n",
      "1/1 [==============================] - 5s 5s/step - loss: 1707.8866 - accuracy: 1.5117e-06\n",
      "Epoch 9/10\n",
      "1/1 [==============================] - 5s 5s/step - loss: 1707.8865 - accuracy: 1.5117e-06\n",
      "Epoch 10/10\n",
      "1/1 [==============================] - 5s 5s/step - loss: 1707.8865 - accuracy: 1.5117e-06\n",
      "Epoch 1/10\n",
      "1/1 [==============================] - 5s 5s/step - loss: 1626.3740 - accuracy: 0.0000e+00\n",
      "Epoch 2/10\n",
      "1/1 [==============================] - 5s 5s/step - loss: 1626.3744 - accuracy: 0.0000e+00\n",
      "Epoch 3/10\n",
      "1/1 [==============================] - 5s 5s/step - loss: 1626.3744 - accuracy: 0.0000e+00\n",
      "Epoch 4/10\n",
      "1/1 [==============================] - 5s 5s/step - loss: 1626.3743 - accuracy: 0.0000e+00\n",
      "Epoch 5/10\n",
      "1/1 [==============================] - 5s 5s/step - loss: 1626.3740 - accuracy: 0.0000e+00\n",
      "Epoch 6/10\n",
      "1/1 [==============================] - 5s 5s/step - loss: 1626.3740 - accuracy: 0.0000e+00\n",
      "Epoch 7/10\n",
      "1/1 [==============================] - 5s 5s/step - loss: 1626.3734 - accuracy: 0.0000e+00\n",
      "Epoch 8/10\n",
      "1/1 [==============================] - 5s 5s/step - loss: 1626.3730 - accuracy: 0.0000e+00\n",
      "Epoch 9/10\n",
      "1/1 [==============================] - 5s 5s/step - loss: 1626.3724 - accuracy: 0.0000e+00\n",
      "Epoch 10/10\n",
      "1/1 [==============================] - 5s 5s/step - loss: 1626.3723 - accuracy: 0.0000e+00\n",
      "/home/fdf7gn/data/UVaVoice/ConversationalSpeech-FunctioningLarynxes/Participant 3/Electrolarynx/2021-12-01_15-54-28.wav\n",
      "Epoch 1/10\n",
      "1/1 [==============================] - 5s 5s/step - loss: 1698.1273 - accuracy: 1.5117e-06\n",
      "Epoch 2/10\n",
      "1/1 [==============================] - 5s 5s/step - loss: 1698.1266 - accuracy: 1.5117e-06\n",
      "Epoch 3/10\n",
      "1/1 [==============================] - 5s 5s/step - loss: 1698.1260 - accuracy: 1.5117e-06\n",
      "Epoch 4/10\n",
      "1/1 [==============================] - 5s 5s/step - loss: 1698.1256 - accuracy: 1.5117e-06\n",
      "Epoch 5/10\n",
      "1/1 [==============================] - 5s 5s/step - loss: 1698.1250 - accuracy: 1.5117e-06\n",
      "Epoch 6/10\n",
      "1/1 [==============================] - 5s 5s/step - loss: 1698.1246 - accuracy: 1.5117e-06\n",
      "Epoch 7/10\n",
      "1/1 [==============================] - 5s 5s/step - loss: 1698.1246 - accuracy: 1.5117e-06\n",
      "Epoch 8/10\n",
      "1/1 [==============================] - 5s 5s/step - loss: 1698.1240 - accuracy: 1.5117e-06\n",
      "Epoch 9/10\n",
      "1/1 [==============================] - 5s 5s/step - loss: 1698.1229 - accuracy: 1.5117e-06\n",
      "Epoch 10/10\n",
      "1/1 [==============================] - 5s 5s/step - loss: 1698.1207 - accuracy: 1.5117e-06\n",
      "Epoch 1/10\n",
      "1/1 [==============================] - 5s 5s/step - loss: 1946.6598 - accuracy: 0.0000e+00\n",
      "Epoch 2/10\n",
      "1/1 [==============================] - 5s 5s/step - loss: 1946.6594 - accuracy: 0.0000e+00\n",
      "Epoch 3/10\n",
      "1/1 [==============================] - 5s 5s/step - loss: 1946.6581 - accuracy: 0.0000e+00\n",
      "Epoch 4/10\n",
      "1/1 [==============================] - 5s 5s/step - loss: 1946.6575 - accuracy: 0.0000e+00\n",
      "Epoch 5/10\n",
      "1/1 [==============================] - 5s 5s/step - loss: 1946.6571 - accuracy: 0.0000e+00\n",
      "Epoch 6/10\n",
      "1/1 [==============================] - 5s 5s/step - loss: 1946.6578 - accuracy: 0.0000e+00\n",
      "Epoch 7/10\n",
      "1/1 [==============================] - 5s 5s/step - loss: 1946.6564 - accuracy: 0.0000e+00\n",
      "Epoch 8/10\n",
      "1/1 [==============================] - 5s 5s/step - loss: 1946.6561 - accuracy: 0.0000e+00\n",
      "Epoch 9/10\n",
      "1/1 [==============================] - 5s 5s/step - loss: 1946.6560 - accuracy: 0.0000e+00\n",
      "Epoch 10/10\n",
      "1/1 [==============================] - 5s 5s/step - loss: 1946.6560 - accuracy: 0.0000e+00\n",
      "/home/fdf7gn/data/UVaVoice/ConversationalSpeech-FunctioningLarynxes/Participant 3/Electrolarynx/2021-12-01_15-49-27.wav\n",
      "Epoch 1/10\n",
      "1/1 [==============================] - 5s 5s/step - loss: 1882.4838 - accuracy: 0.0000e+00\n",
      "Epoch 2/10\n",
      "1/1 [==============================] - 5s 5s/step - loss: 1882.4835 - accuracy: 0.0000e+00\n",
      "Epoch 3/10\n",
      "1/1 [==============================] - 5s 5s/step - loss: 1882.4828 - accuracy: 0.0000e+00\n",
      "Epoch 4/10\n",
      "1/1 [==============================] - 5s 5s/step - loss: 1882.4832 - accuracy: 0.0000e+00\n",
      "Epoch 5/10\n",
      "1/1 [==============================] - 5s 5s/step - loss: 1882.4832 - accuracy: 0.0000e+00\n",
      "Epoch 6/10\n",
      "1/1 [==============================] - 5s 5s/step - loss: 1882.4825 - accuracy: 0.0000e+00\n",
      "Epoch 7/10\n",
      "1/1 [==============================] - 5s 5s/step - loss: 1882.4824 - accuracy: 0.0000e+00\n",
      "Epoch 8/10\n",
      "1/1 [==============================] - 5s 5s/step - loss: 1882.4825 - accuracy: 0.0000e+00\n",
      "Epoch 9/10\n",
      "1/1 [==============================] - 5s 5s/step - loss: 1882.4825 - accuracy: 0.0000e+00\n",
      "Epoch 10/10\n",
      "1/1 [==============================] - 5s 5s/step - loss: 1882.4828 - accuracy: 0.0000e+00\n",
      "Epoch 1/10\n",
      "1/1 [==============================] - 5s 5s/step - loss: 1679.5867 - accuracy: 0.0000e+00\n",
      "Epoch 2/10\n",
      "1/1 [==============================] - 5s 5s/step - loss: 1679.6246 - accuracy: 0.0000e+00\n",
      "Epoch 3/10\n",
      "1/1 [==============================] - 5s 5s/step - loss: 1679.5946 - accuracy: 0.0000e+00\n",
      "Epoch 4/10\n",
      "1/1 [==============================] - 5s 5s/step - loss: 1680.0002 - accuracy: 0.0000e+00\n",
      "Epoch 5/10\n",
      "1/1 [==============================] - 5s 5s/step - loss: 1684.3267 - accuracy: 0.0000e+00\n",
      "Epoch 6/10\n",
      "1/1 [==============================] - 5s 5s/step - loss: 1683.0176 - accuracy: 0.0000e+00\n",
      "Epoch 7/10\n",
      "1/1 [==============================] - 5s 5s/step - loss: 1682.0331 - accuracy: 0.0000e+00\n",
      "Epoch 8/10\n",
      "1/1 [==============================] - 5s 5s/step - loss: 1685.4524 - accuracy: 0.0000e+00\n",
      "Epoch 9/10\n",
      "1/1 [==============================] - 5s 5s/step - loss: 1681.1993 - accuracy: 0.0000e+00\n",
      "Epoch 10/10\n",
      "1/1 [==============================] - 5s 5s/step - loss: 1681.8230 - accuracy: 0.0000e+00\n",
      "/home/fdf7gn/data/UVaVoice/ConversationalSpeech-FunctioningLarynxes/Participant 3/Electrolarynx/2021-12-01_15-53-17.wav\n",
      "Epoch 1/10\n",
      "1/1 [==============================] - 5s 5s/step - loss: 1803.8951 - accuracy: 0.0000e+00\n",
      "Epoch 2/10\n",
      "1/1 [==============================] - 5s 5s/step - loss: 1803.2734 - accuracy: 0.0000e+00\n",
      "Epoch 3/10\n",
      "1/1 [==============================] - 5s 5s/step - loss: 1803.0836 - accuracy: 0.0000e+00\n",
      "Epoch 4/10\n",
      "1/1 [==============================] - 5s 5s/step - loss: 1802.9990 - accuracy: 0.0000e+00\n",
      "Epoch 5/10\n",
      "1/1 [==============================] - 5s 5s/step - loss: 1802.9127 - accuracy: 0.0000e+00\n",
      "Epoch 6/10\n",
      "1/1 [==============================] - 5s 5s/step - loss: 1803.7719 - accuracy: 0.0000e+00\n",
      "Epoch 7/10\n",
      "1/1 [==============================] - 5s 5s/step - loss: 1802.8920 - accuracy: 0.0000e+00\n",
      "Epoch 8/10\n",
      "1/1 [==============================] - 5s 5s/step - loss: 1802.8036 - accuracy: 0.0000e+00\n",
      "Epoch 9/10\n",
      "1/1 [==============================] - 5s 5s/step - loss: 1802.8127 - accuracy: 0.0000e+00\n",
      "Epoch 10/10\n",
      "1/1 [==============================] - 5s 5s/step - loss: 1802.6869 - accuracy: 0.0000e+00\n",
      "Epoch 1/10\n",
      "1/1 [==============================] - 5s 5s/step - loss: 1751.4703 - accuracy: 0.0000e+00\n",
      "Epoch 2/10\n",
      "1/1 [==============================] - 5s 5s/step - loss: 1751.4288 - accuracy: 0.0000e+00\n",
      "Epoch 3/10\n",
      "1/1 [==============================] - 5s 5s/step - loss: 1751.3856 - accuracy: 0.0000e+00\n",
      "Epoch 4/10\n",
      "1/1 [==============================] - 5s 5s/step - loss: 1751.3429 - accuracy: 0.0000e+00\n",
      "Epoch 5/10\n",
      "1/1 [==============================] - 6s 6s/step - loss: 1751.3036 - accuracy: 0.0000e+00\n",
      "Epoch 6/10\n",
      "1/1 [==============================] - 5s 5s/step - loss: 1751.2500 - accuracy: 0.0000e+00\n",
      "Epoch 7/10\n",
      "1/1 [==============================] - 5s 5s/step - loss: 1751.1948 - accuracy: 0.0000e+00\n",
      "Epoch 8/10\n",
      "1/1 [==============================] - 5s 5s/step - loss: 1751.1379 - accuracy: 0.0000e+00\n",
      "Epoch 9/10\n",
      "1/1 [==============================] - 5s 5s/step - loss: 1751.0771 - accuracy: 0.0000e+00\n",
      "Epoch 10/10\n",
      "1/1 [==============================] - 5s 5s/step - loss: 1751.0161 - accuracy: 0.0000e+00\n",
      "/home/fdf7gn/data/UVaVoice/ConversationalSpeech-FunctioningLarynxes/Participant 3/Electrolarynx/2021-12-01_15-50-35.wav\n",
      "Epoch 1/10\n",
      "1/1 [==============================] - 5s 5s/step - loss: 1614.9656 - accuracy: 0.0000e+00\n",
      "Epoch 2/10\n",
      "1/1 [==============================] - 5s 5s/step - loss: 1614.9437 - accuracy: 0.0000e+00\n",
      "Epoch 3/10\n",
      "1/1 [==============================] - 5s 5s/step - loss: 1614.9270 - accuracy: 0.0000e+00\n",
      "Epoch 4/10\n",
      "1/1 [==============================] - 5s 5s/step - loss: 1614.9073 - accuracy: 0.0000e+00\n",
      "Epoch 5/10\n",
      "1/1 [==============================] - 5s 5s/step - loss: 1614.8790 - accuracy: 0.0000e+00\n",
      "Epoch 6/10\n",
      "1/1 [==============================] - 5s 5s/step - loss: 1614.8445 - accuracy: 0.0000e+00\n",
      "Epoch 7/10\n",
      "1/1 [==============================] - 5s 5s/step - loss: 1614.8276 - accuracy: 0.0000e+00\n",
      "Epoch 8/10\n",
      "1/1 [==============================] - 5s 5s/step - loss: 1614.8101 - accuracy: 0.0000e+00\n",
      "Epoch 9/10\n",
      "1/1 [==============================] - 5s 5s/step - loss: 1614.7966 - accuracy: 0.0000e+00\n",
      "Epoch 10/10\n",
      "1/1 [==============================] - 5s 5s/step - loss: 1614.7844 - accuracy: 0.0000e+00\n",
      "Epoch 1/10\n",
      "1/1 [==============================] - 5s 5s/step - loss: 1704.5397 - accuracy: 0.0000e+00\n",
      "Epoch 2/10\n",
      "1/1 [==============================] - 5s 5s/step - loss: 1704.5234 - accuracy: 0.0000e+00\n",
      "Epoch 3/10\n",
      "1/1 [==============================] - 5s 5s/step - loss: 1704.5089 - accuracy: 0.0000e+00\n",
      "Epoch 4/10\n",
      "1/1 [==============================] - 5s 5s/step - loss: 1704.4933 - accuracy: 0.0000e+00\n",
      "Epoch 5/10\n",
      "1/1 [==============================] - 5s 5s/step - loss: 1704.4769 - accuracy: 0.0000e+00\n",
      "Epoch 6/10\n",
      "1/1 [==============================] - 5s 5s/step - loss: 1704.4629 - accuracy: 0.0000e+00\n",
      "Epoch 7/10\n",
      "1/1 [==============================] - 6s 6s/step - loss: 1704.4467 - accuracy: 0.0000e+00\n",
      "Epoch 8/10\n",
      "1/1 [==============================] - 5s 5s/step - loss: 1704.4316 - accuracy: 0.0000e+00\n",
      "Epoch 9/10\n",
      "1/1 [==============================] - 5s 5s/step - loss: 1704.4191 - accuracy: 0.0000e+00\n",
      "Epoch 10/10\n",
      "1/1 [==============================] - 5s 5s/step - loss: 1704.4091 - accuracy: 0.0000e+00\n",
      "/home/fdf7gn/data/UVaVoice/ConversationalSpeech-FunctioningLarynxes/Participant 3/Electrolarynx/2021-12-01_16-06-10.wav\n",
      "Epoch 1/10\n",
      "1/1 [==============================] - 5s 5s/step - loss: 1579.2484 - accuracy: 0.0000e+00\n",
      "Epoch 2/10\n",
      "1/1 [==============================] - 5s 5s/step - loss: 1579.2404 - accuracy: 0.0000e+00\n",
      "Epoch 3/10\n",
      "1/1 [==============================] - 5s 5s/step - loss: 1579.2327 - accuracy: 0.0000e+00\n",
      "Epoch 4/10\n",
      "1/1 [==============================] - 5s 5s/step - loss: 1579.2247 - accuracy: 0.0000e+00\n",
      "Epoch 5/10\n",
      "1/1 [==============================] - 5s 5s/step - loss: 1579.2177 - accuracy: 0.0000e+00\n",
      "Epoch 6/10\n",
      "1/1 [==============================] - 5s 5s/step - loss: 1579.2097 - accuracy: 0.0000e+00\n",
      "Epoch 7/10\n",
      "1/1 [==============================] - 5s 5s/step - loss: 1579.2012 - accuracy: 0.0000e+00\n",
      "Epoch 8/10\n",
      "1/1 [==============================] - 5s 5s/step - loss: 1579.1919 - accuracy: 0.0000e+00\n",
      "Epoch 9/10\n",
      "1/1 [==============================] - 5s 5s/step - loss: 1579.1823 - accuracy: 0.0000e+00\n",
      "Epoch 10/10\n",
      "1/1 [==============================] - 5s 5s/step - loss: 1579.1721 - accuracy: 0.0000e+00\n",
      "Epoch 1/10\n",
      "1/1 [==============================] - 5s 5s/step - loss: 1718.7947 - accuracy: 0.0000e+00\n",
      "Epoch 2/10\n",
      "1/1 [==============================] - 5s 5s/step - loss: 1718.7833 - accuracy: 0.0000e+00\n",
      "Epoch 3/10\n",
      "1/1 [==============================] - 5s 5s/step - loss: 1718.7742 - accuracy: 0.0000e+00\n",
      "Epoch 4/10\n",
      "1/1 [==============================] - 5s 5s/step - loss: 1718.7665 - accuracy: 0.0000e+00\n",
      "Epoch 5/10\n",
      "1/1 [==============================] - 5s 5s/step - loss: 1718.7573 - accuracy: 0.0000e+00\n",
      "Epoch 6/10\n",
      "1/1 [==============================] - 5s 5s/step - loss: 1718.7493 - accuracy: 0.0000e+00\n",
      "Epoch 7/10\n",
      "1/1 [==============================] - 5s 5s/step - loss: 1718.7438 - accuracy: 0.0000e+00\n",
      "Epoch 8/10\n",
      "1/1 [==============================] - 5s 5s/step - loss: 1718.7384 - accuracy: 0.0000e+00\n",
      "Epoch 9/10\n",
      "1/1 [==============================] - 5s 5s/step - loss: 1718.7325 - accuracy: 0.0000e+00\n",
      "Epoch 10/10\n",
      "1/1 [==============================] - 5s 5s/step - loss: 1718.7275 - accuracy: 0.0000e+00\n",
      "/home/fdf7gn/data/UVaVoice/ConversationalSpeech-FunctioningLarynxes/Participant 3/Electrolarynx/2021-12-01_16-01-18.wav\n",
      "Epoch 1/10\n",
      "1/1 [==============================] - 5s 5s/step - loss: 1381.7100 - accuracy: 1.5117e-06\n",
      "Epoch 2/10\n",
      "1/1 [==============================] - 5s 5s/step - loss: 1381.7026 - accuracy: 1.5117e-06\n",
      "Epoch 3/10\n",
      "1/1 [==============================] - 5s 5s/step - loss: 1381.6925 - accuracy: 1.5117e-06\n",
      "Epoch 4/10\n",
      "1/1 [==============================] - 5s 5s/step - loss: 1381.6783 - accuracy: 1.5117e-06\n",
      "Epoch 5/10\n",
      "1/1 [==============================] - 5s 5s/step - loss: 1381.6637 - accuracy: 1.5117e-06\n",
      "Epoch 6/10\n",
      "1/1 [==============================] - 5s 5s/step - loss: 1381.6488 - accuracy: 1.5117e-06\n",
      "Epoch 7/10\n",
      "1/1 [==============================] - 5s 5s/step - loss: 1381.6365 - accuracy: 1.5117e-06\n",
      "Epoch 8/10\n",
      "1/1 [==============================] - 5s 5s/step - loss: 1381.6206 - accuracy: 1.5117e-06\n",
      "Epoch 9/10\n",
      "1/1 [==============================] - 5s 5s/step - loss: 1381.6016 - accuracy: 1.5117e-06\n",
      "Epoch 10/10\n",
      "1/1 [==============================] - 5s 5s/step - loss: 1381.5879 - accuracy: 1.5117e-06\n",
      "Epoch 1/10\n",
      "1/1 [==============================] - 5s 5s/step - loss: 1562.4513 - accuracy: 0.0000e+00\n",
      "Epoch 2/10\n",
      "1/1 [==============================] - 5s 5s/step - loss: 1562.4402 - accuracy: 0.0000e+00\n",
      "Epoch 3/10\n",
      "1/1 [==============================] - 5s 5s/step - loss: 1562.4305 - accuracy: 0.0000e+00\n",
      "Epoch 4/10\n",
      "1/1 [==============================] - 5s 5s/step - loss: 1562.4220 - accuracy: 0.0000e+00\n",
      "Epoch 5/10\n",
      "1/1 [==============================] - 5s 5s/step - loss: 1562.4150 - accuracy: 0.0000e+00\n",
      "Epoch 6/10\n",
      "1/1 [==============================] - 5s 5s/step - loss: 1562.4087 - accuracy: 0.0000e+00\n",
      "Epoch 7/10\n",
      "1/1 [==============================] - 5s 5s/step - loss: 1562.4036 - accuracy: 0.0000e+00\n",
      "Epoch 8/10\n",
      "1/1 [==============================] - 5s 5s/step - loss: 1562.3990 - accuracy: 0.0000e+00\n",
      "Epoch 9/10\n",
      "1/1 [==============================] - 5s 5s/step - loss: 1562.3944 - accuracy: 0.0000e+00\n",
      "Epoch 10/10\n",
      "1/1 [==============================] - 5s 5s/step - loss: 1562.3895 - accuracy: 0.0000e+00\n",
      "/home/fdf7gn/data/UVaVoice/ConversationalSpeech-FunctioningLarynxes/Participant 3/Electrolarynx/2021-12-01_16-07-19.wav\n",
      "Epoch 1/10\n",
      "1/1 [==============================] - 5s 5s/step - loss: 1724.6509 - accuracy: 0.0000e+00\n",
      "Epoch 2/10\n",
      "1/1 [==============================] - 6s 6s/step - loss: 1724.6458 - accuracy: 0.0000e+00\n",
      "Epoch 3/10\n",
      "1/1 [==============================] - 5s 5s/step - loss: 1724.6395 - accuracy: 0.0000e+00\n",
      "Epoch 4/10\n",
      "1/1 [==============================] - 5s 5s/step - loss: 1724.6349 - accuracy: 0.0000e+00\n",
      "Epoch 5/10\n",
      "1/1 [==============================] - 5s 5s/step - loss: 1724.6312 - accuracy: 0.0000e+00\n",
      "Epoch 6/10\n",
      "1/1 [==============================] - 5s 5s/step - loss: 1724.6273 - accuracy: 0.0000e+00\n",
      "Epoch 7/10\n",
      "1/1 [==============================] - 5s 5s/step - loss: 1724.6237 - accuracy: 0.0000e+00\n",
      "Epoch 8/10\n",
      "1/1 [==============================] - 5s 5s/step - loss: 1724.6194 - accuracy: 0.0000e+00\n",
      "Epoch 9/10\n",
      "1/1 [==============================] - 5s 5s/step - loss: 1724.6145 - accuracy: 0.0000e+00\n",
      "Epoch 10/10\n",
      "1/1 [==============================] - 5s 5s/step - loss: 1724.6101 - accuracy: 0.0000e+00\n",
      "Epoch 1/10\n",
      "1/1 [==============================] - 5s 5s/step - loss: 1582.3259 - accuracy: 0.0000e+00\n",
      "Epoch 2/10\n",
      "1/1 [==============================] - 5s 5s/step - loss: 1582.3226 - accuracy: 0.0000e+00\n",
      "Epoch 3/10\n",
      "1/1 [==============================] - 5s 5s/step - loss: 1582.3177 - accuracy: 0.0000e+00\n",
      "Epoch 4/10\n",
      "1/1 [==============================] - 5s 5s/step - loss: 1582.3167 - accuracy: 0.0000e+00\n",
      "Epoch 5/10\n",
      "1/1 [==============================] - 5s 5s/step - loss: 1582.3145 - accuracy: 0.0000e+00\n",
      "Epoch 6/10\n",
      "1/1 [==============================] - 5s 5s/step - loss: 1582.3099 - accuracy: 0.0000e+00\n",
      "Epoch 7/10\n",
      "1/1 [==============================] - 5s 5s/step - loss: 1582.3038 - accuracy: 0.0000e+00\n",
      "Epoch 8/10\n",
      "1/1 [==============================] - 5s 5s/step - loss: 1582.2965 - accuracy: 0.0000e+00\n",
      "Epoch 9/10\n",
      "1/1 [==============================] - 5s 5s/step - loss: 1582.2922 - accuracy: 0.0000e+00\n",
      "Epoch 10/10\n",
      "1/1 [==============================] - 5s 5s/step - loss: 1582.2885 - accuracy: 0.0000e+00\n",
      "/home/fdf7gn/data/UVaVoice/ConversationalSpeech-FunctioningLarynxes/Participant 1/Electrolarynx/2021-06-23_16-00-07.wav\n",
      "Epoch 1/10\n",
      "1/1 [==============================] - 5s 5s/step - loss: 1560.5543 - accuracy: 0.0000e+00\n",
      "Epoch 2/10\n",
      "1/1 [==============================] - 5s 5s/step - loss: 1560.5530 - accuracy: 0.0000e+00\n",
      "Epoch 3/10\n",
      "1/1 [==============================] - 5s 5s/step - loss: 1560.5507 - accuracy: 0.0000e+00\n",
      "Epoch 4/10\n",
      "1/1 [==============================] - 5s 5s/step - loss: 1560.5485 - accuracy: 0.0000e+00\n",
      "Epoch 5/10\n",
      "1/1 [==============================] - 5s 5s/step - loss: 1560.5466 - accuracy: 0.0000e+00\n",
      "Epoch 6/10\n",
      "1/1 [==============================] - 5s 5s/step - loss: 1560.5455 - accuracy: 0.0000e+00\n",
      "Epoch 7/10\n",
      "1/1 [==============================] - 5s 5s/step - loss: 1560.5446 - accuracy: 0.0000e+00\n",
      "Epoch 8/10\n",
      "1/1 [==============================] - 5s 5s/step - loss: 1560.5433 - accuracy: 0.0000e+00\n",
      "Epoch 9/10\n",
      "1/1 [==============================] - 5s 5s/step - loss: 1560.5420 - accuracy: 0.0000e+00\n",
      "Epoch 10/10\n",
      "1/1 [==============================] - 5s 5s/step - loss: 1560.5413 - accuracy: 0.0000e+00\n",
      "Epoch 1/10\n",
      "1/1 [==============================] - 5s 5s/step - loss: 1404.6473 - accuracy: 0.0000e+00\n",
      "Epoch 2/10\n",
      "1/1 [==============================] - 5s 5s/step - loss: 1404.6360 - accuracy: 0.0000e+00\n",
      "Epoch 3/10\n",
      "1/1 [==============================] - 5s 5s/step - loss: 1404.6289 - accuracy: 0.0000e+00\n",
      "Epoch 4/10\n",
      "1/1 [==============================] - 5s 5s/step - loss: 1404.6261 - accuracy: 0.0000e+00\n",
      "Epoch 5/10\n",
      "1/1 [==============================] - 5s 5s/step - loss: 1404.6248 - accuracy: 0.0000e+00\n",
      "Epoch 6/10\n",
      "1/1 [==============================] - 5s 5s/step - loss: 1404.6238 - accuracy: 0.0000e+00\n",
      "Epoch 7/10\n",
      "1/1 [==============================] - 5s 5s/step - loss: 1404.6233 - accuracy: 0.0000e+00\n",
      "Epoch 8/10\n",
      "1/1 [==============================] - 5s 5s/step - loss: 1404.6227 - accuracy: 0.0000e+00\n",
      "Epoch 9/10\n",
      "1/1 [==============================] - 5s 5s/step - loss: 1404.6212 - accuracy: 0.0000e+00\n",
      "Epoch 10/10\n",
      "1/1 [==============================] - 5s 5s/step - loss: 1404.6207 - accuracy: 0.0000e+00\n",
      "/home/fdf7gn/data/UVaVoice/ConversationalSpeech-FunctioningLarynxes/Participant 1/Electrolarynx/2021-06-23_16-07-45.wav\n",
      "Epoch 1/10\n",
      "1/1 [==============================] - 5s 5s/step - loss: 1860.9904 - accuracy: 0.0000e+00\n",
      "Epoch 2/10\n",
      "1/1 [==============================] - 5s 5s/step - loss: 1860.7539 - accuracy: 0.0000e+00\n",
      "Epoch 3/10\n",
      "1/1 [==============================] - 5s 5s/step - loss: 1860.7805 - accuracy: 0.0000e+00\n",
      "Epoch 4/10\n",
      "1/1 [==============================] - 5s 5s/step - loss: 1860.7987 - accuracy: 0.0000e+00\n",
      "Epoch 5/10\n",
      "1/1 [==============================] - 5s 5s/step - loss: 1860.7871 - accuracy: 0.0000e+00\n",
      "Epoch 6/10\n",
      "1/1 [==============================] - 5s 5s/step - loss: 1860.7874 - accuracy: 0.0000e+00\n",
      "Epoch 7/10\n",
      "1/1 [==============================] - 5s 5s/step - loss: 1860.7903 - accuracy: 0.0000e+00\n",
      "Epoch 8/10\n",
      "1/1 [==============================] - 5s 5s/step - loss: 1860.7950 - accuracy: 0.0000e+00\n",
      "Epoch 9/10\n",
      "1/1 [==============================] - 5s 5s/step - loss: 1860.8003 - accuracy: 0.0000e+00\n",
      "Epoch 10/10\n",
      "1/1 [==============================] - 5s 5s/step - loss: 1860.8032 - accuracy: 0.0000e+00\n",
      "Epoch 1/10\n",
      "1/1 [==============================] - 5s 5s/step - loss: 1773.1630 - accuracy: 1.5117e-06\n",
      "Epoch 2/10\n",
      "1/1 [==============================] - 5s 5s/step - loss: 1773.1575 - accuracy: 1.5117e-06\n",
      "Epoch 3/10\n",
      "1/1 [==============================] - 5s 5s/step - loss: 1773.1532 - accuracy: 1.5117e-06\n",
      "Epoch 4/10\n",
      "1/1 [==============================] - 5s 5s/step - loss: 1773.1462 - accuracy: 1.5117e-06\n",
      "Epoch 5/10\n",
      "1/1 [==============================] - 5s 5s/step - loss: 1773.1392 - accuracy: 1.5117e-06\n",
      "Epoch 6/10\n",
      "1/1 [==============================] - 5s 5s/step - loss: 1773.1327 - accuracy: 0.0000e+00\n",
      "Epoch 7/10\n",
      "1/1 [==============================] - 5s 5s/step - loss: 1773.1283 - accuracy: 0.0000e+00\n",
      "Epoch 8/10\n",
      "1/1 [==============================] - 5s 5s/step - loss: 1773.1240 - accuracy: 0.0000e+00\n",
      "Epoch 9/10\n",
      "1/1 [==============================] - 5s 5s/step - loss: 1773.1206 - accuracy: 0.0000e+00\n",
      "Epoch 10/10\n",
      "1/1 [==============================] - 5s 5s/step - loss: 1773.1163 - accuracy: 0.0000e+00\n",
      "/home/fdf7gn/data/UVaVoice/ConversationalSpeech-FunctioningLarynxes/Participant 1/Electrolarynx/2021-06-23_16-09-14.wav\n",
      "Epoch 1/10\n",
      "1/1 [==============================] - 5s 5s/step - loss: 1855.1542 - accuracy: 0.0000e+00\n",
      "Epoch 2/10\n",
      "1/1 [==============================] - 5s 5s/step - loss: 1855.1531 - accuracy: 0.0000e+00\n",
      "Epoch 3/10\n",
      "1/1 [==============================] - 5s 5s/step - loss: 1855.1509 - accuracy: 0.0000e+00\n",
      "Epoch 4/10\n",
      "1/1 [==============================] - 5s 5s/step - loss: 1855.1475 - accuracy: 0.0000e+00\n",
      "Epoch 5/10\n",
      "1/1 [==============================] - 5s 5s/step - loss: 1855.1432 - accuracy: 1.5117e-06\n",
      "Epoch 6/10\n",
      "1/1 [==============================] - 5s 5s/step - loss: 1855.1385 - accuracy: 1.5117e-06\n",
      "Epoch 7/10\n",
      "1/1 [==============================] - 5s 5s/step - loss: 1855.1339 - accuracy: 1.5117e-06\n",
      "Epoch 8/10\n",
      "1/1 [==============================] - 5s 5s/step - loss: 1855.1285 - accuracy: 1.5117e-06\n",
      "Epoch 9/10\n",
      "1/1 [==============================] - 5s 5s/step - loss: 1855.1230 - accuracy: 1.5117e-06\n",
      "Epoch 10/10\n",
      "1/1 [==============================] - 5s 5s/step - loss: 1855.1184 - accuracy: 1.5117e-06\n",
      "Epoch 1/10\n",
      "1/1 [==============================] - 5s 5s/step - loss: 1872.8723 - accuracy: 1.5117e-06\n",
      "Epoch 2/10\n",
      "1/1 [==============================] - 5s 5s/step - loss: 1872.8696 - accuracy: 1.5117e-06\n",
      "Epoch 3/10\n",
      "1/1 [==============================] - 5s 5s/step - loss: 1872.8667 - accuracy: 1.5117e-06\n",
      "Epoch 4/10\n",
      "1/1 [==============================] - 5s 5s/step - loss: 1872.8638 - accuracy: 1.5117e-06\n",
      "Epoch 5/10\n",
      "1/1 [==============================] - 5s 5s/step - loss: 1872.8605 - accuracy: 1.5117e-06\n",
      "Epoch 6/10\n",
      "1/1 [==============================] - 5s 5s/step - loss: 1872.8574 - accuracy: 1.5117e-06\n",
      "Epoch 7/10\n",
      "1/1 [==============================] - 5s 5s/step - loss: 1872.8538 - accuracy: 1.5117e-06\n",
      "Epoch 8/10\n",
      "1/1 [==============================] - 5s 5s/step - loss: 1872.8483 - accuracy: 1.5117e-06\n",
      "Epoch 9/10\n",
      "1/1 [==============================] - 5s 5s/step - loss: 1872.8429 - accuracy: 1.5117e-06\n",
      "Epoch 10/10\n",
      "1/1 [==============================] - 5s 5s/step - loss: 1872.8380 - accuracy: 1.5117e-06\n",
      "/home/fdf7gn/data/UVaVoice/ConversationalSpeech-FunctioningLarynxes/Participant 1/Electrolarynx/2021-06-23_15-51-43.wav\n",
      "Epoch 1/10\n",
      "1/1 [==============================] - 5s 5s/step - loss: 1508.7758 - accuracy: 0.0000e+00\n",
      "Epoch 2/10\n",
      "1/1 [==============================] - 5s 5s/step - loss: 1508.7725 - accuracy: 0.0000e+00\n",
      "Epoch 3/10\n",
      "1/1 [==============================] - 5s 5s/step - loss: 1508.7676 - accuracy: 0.0000e+00\n",
      "Epoch 4/10\n",
      "1/1 [==============================] - 5s 5s/step - loss: 1508.7638 - accuracy: 0.0000e+00\n",
      "Epoch 5/10\n",
      "1/1 [==============================] - 5s 5s/step - loss: 1508.7620 - accuracy: 0.0000e+00\n",
      "Epoch 6/10\n",
      "1/1 [==============================] - 5s 5s/step - loss: 1508.7616 - accuracy: 0.0000e+00\n",
      "Epoch 7/10\n",
      "1/1 [==============================] - 5s 5s/step - loss: 1508.7618 - accuracy: 0.0000e+00\n",
      "Epoch 8/10\n",
      "1/1 [==============================] - 5s 5s/step - loss: 1508.7617 - accuracy: 0.0000e+00\n",
      "Epoch 9/10\n",
      "1/1 [==============================] - 5s 5s/step - loss: 1508.7600 - accuracy: 0.0000e+00\n",
      "Epoch 10/10\n",
      "1/1 [==============================] - 5s 5s/step - loss: 1508.7579 - accuracy: 0.0000e+00\n",
      "Epoch 1/10\n",
      "1/1 [==============================] - 5s 5s/step - loss: 1497.4410 - accuracy: 0.0000e+00\n",
      "Epoch 2/10\n",
      "1/1 [==============================] - 5s 5s/step - loss: 1497.4396 - accuracy: 0.0000e+00\n",
      "Epoch 3/10\n",
      "1/1 [==============================] - 5s 5s/step - loss: 1497.4382 - accuracy: 0.0000e+00\n",
      "Epoch 4/10\n",
      "1/1 [==============================] - 5s 5s/step - loss: 1497.4366 - accuracy: 0.0000e+00\n",
      "Epoch 5/10\n",
      "1/1 [==============================] - 5s 5s/step - loss: 1497.4349 - accuracy: 0.0000e+00\n",
      "Epoch 6/10\n",
      "1/1 [==============================] - 5s 5s/step - loss: 1497.4330 - accuracy: 0.0000e+00\n",
      "Epoch 7/10\n",
      "1/1 [==============================] - 5s 5s/step - loss: 1497.4308 - accuracy: 0.0000e+00\n",
      "Epoch 8/10\n",
      "1/1 [==============================] - 5s 5s/step - loss: 1497.4288 - accuracy: 0.0000e+00\n",
      "Epoch 9/10\n",
      "1/1 [==============================] - 5s 5s/step - loss: 1497.4269 - accuracy: 0.0000e+00\n",
      "Epoch 10/10\n",
      "1/1 [==============================] - 5s 5s/step - loss: 1497.4255 - accuracy: 0.0000e+00\n",
      "/home/fdf7gn/data/UVaVoice/ConversationalSpeech-FunctioningLarynxes/Participant 1/Electrolarynx/2021-06-23_15-49-18.wav\n",
      "Epoch 1/10\n",
      "1/1 [==============================] - 5s 5s/step - loss: 1467.4954 - accuracy: 0.0000e+00\n",
      "Epoch 2/10\n",
      "1/1 [==============================] - 5s 5s/step - loss: 1467.4941 - accuracy: 0.0000e+00\n",
      "Epoch 3/10\n",
      "1/1 [==============================] - 5s 5s/step - loss: 1467.4929 - accuracy: 0.0000e+00\n",
      "Epoch 4/10\n",
      "1/1 [==============================] - 5s 5s/step - loss: 1467.4918 - accuracy: 0.0000e+00\n",
      "Epoch 5/10\n",
      "1/1 [==============================] - 5s 5s/step - loss: 1467.4901 - accuracy: 0.0000e+00\n",
      "Epoch 6/10\n",
      "1/1 [==============================] - 5s 5s/step - loss: 1467.4885 - accuracy: 0.0000e+00\n",
      "Epoch 7/10\n",
      "1/1 [==============================] - 5s 5s/step - loss: 1467.4867 - accuracy: 0.0000e+00\n",
      "Epoch 8/10\n",
      "1/1 [==============================] - 5s 5s/step - loss: 1467.4850 - accuracy: 0.0000e+00\n",
      "Epoch 9/10\n",
      "1/1 [==============================] - 5s 5s/step - loss: 1467.4835 - accuracy: 0.0000e+00\n",
      "Epoch 10/10\n",
      "1/1 [==============================] - 5s 5s/step - loss: 1467.4821 - accuracy: 0.0000e+00\n",
      "Epoch 1/10\n",
      "1/1 [==============================] - 5s 5s/step - loss: 1404.0109 - accuracy: 0.0000e+00\n",
      "Epoch 2/10\n",
      "1/1 [==============================] - 5s 5s/step - loss: 1404.0099 - accuracy: 0.0000e+00\n",
      "Epoch 3/10\n",
      "1/1 [==============================] - 5s 5s/step - loss: 1404.0089 - accuracy: 0.0000e+00\n",
      "Epoch 4/10\n",
      "1/1 [==============================] - 5s 5s/step - loss: 1404.0074 - accuracy: 0.0000e+00\n",
      "Epoch 5/10\n",
      "1/1 [==============================] - 5s 5s/step - loss: 1404.0063 - accuracy: 0.0000e+00\n",
      "Epoch 6/10\n",
      "1/1 [==============================] - 5s 5s/step - loss: 1404.0054 - accuracy: 0.0000e+00\n",
      "Epoch 7/10\n",
      "1/1 [==============================] - 5s 5s/step - loss: 1404.0049 - accuracy: 0.0000e+00\n",
      "Epoch 8/10\n",
      "1/1 [==============================] - 5s 5s/step - loss: 1404.0044 - accuracy: 0.0000e+00\n",
      "Epoch 9/10\n",
      "1/1 [==============================] - 5s 5s/step - loss: 1404.0038 - accuracy: 0.0000e+00\n",
      "Epoch 10/10\n",
      "1/1 [==============================] - 5s 5s/step - loss: 1404.0031 - accuracy: 0.0000e+00\n",
      "/home/fdf7gn/data/UVaVoice/ConversationalSpeech-FunctioningLarynxes/Participant 1/Electrolarynx/2021-06-23_16-02-05.wav\n",
      "Epoch 1/10\n",
      "1/1 [==============================] - 5s 5s/step - loss: 1997.2175 - accuracy: 1.5117e-06\n",
      "Epoch 2/10\n",
      "1/1 [==============================] - 5s 5s/step - loss: 1997.2163 - accuracy: 1.5117e-06\n",
      "Epoch 3/10\n",
      "1/1 [==============================] - 5s 5s/step - loss: 1997.2153 - accuracy: 1.5117e-06\n",
      "Epoch 4/10\n",
      "1/1 [==============================] - 5s 5s/step - loss: 1997.2146 - accuracy: 1.5117e-06\n",
      "Epoch 5/10\n",
      "1/1 [==============================] - 5s 5s/step - loss: 1997.2133 - accuracy: 1.5117e-06\n",
      "Epoch 6/10\n",
      "1/1 [==============================] - 5s 5s/step - loss: 1997.2124 - accuracy: 1.5117e-06\n",
      "Epoch 7/10\n",
      "1/1 [==============================] - 5s 5s/step - loss: 1997.2113 - accuracy: 1.5117e-06\n",
      "Epoch 8/10\n",
      "1/1 [==============================] - 5s 5s/step - loss: 1997.2103 - accuracy: 1.5117e-06\n",
      "Epoch 9/10\n",
      "1/1 [==============================] - 5s 5s/step - loss: 1997.2100 - accuracy: 1.5117e-06\n",
      "Epoch 10/10\n",
      "1/1 [==============================] - 5s 5s/step - loss: 1997.2096 - accuracy: 1.5117e-06\n",
      "Epoch 1/10\n",
      "1/1 [==============================] - 5s 5s/step - loss: 1793.6122 - accuracy: 1.5117e-06\n",
      "Epoch 2/10\n",
      "1/1 [==============================] - 5s 5s/step - loss: 1793.6111 - accuracy: 1.5117e-06\n",
      "Epoch 3/10\n",
      "1/1 [==============================] - 5s 5s/step - loss: 1793.6105 - accuracy: 1.5117e-06\n",
      "Epoch 4/10\n",
      "1/1 [==============================] - 5s 5s/step - loss: 1793.6101 - accuracy: 1.5117e-06\n",
      "Epoch 5/10\n",
      "1/1 [==============================] - 5s 5s/step - loss: 1793.6094 - accuracy: 1.5117e-06\n",
      "Epoch 6/10\n",
      "1/1 [==============================] - 5s 5s/step - loss: 1793.6089 - accuracy: 1.5117e-06\n",
      "Epoch 7/10\n",
      "1/1 [==============================] - 5s 5s/step - loss: 1793.6082 - accuracy: 1.5117e-06\n",
      "Epoch 8/10\n",
      "1/1 [==============================] - 5s 5s/step - loss: 1793.6075 - accuracy: 1.5117e-06\n",
      "Epoch 9/10\n",
      "1/1 [==============================] - 5s 5s/step - loss: 1793.6068 - accuracy: 1.5117e-06\n",
      "Epoch 10/10\n",
      "1/1 [==============================] - 5s 5s/step - loss: 1793.6064 - accuracy: 1.5117e-06\n",
      "/home/fdf7gn/data/UVaVoice/ConversationalSpeech-FunctioningLarynxes/Participant 1/Electrolarynx/2021-06-23_16-03-16.wav\n",
      "Epoch 1/10\n",
      "1/1 [==============================] - 5s 5s/step - loss: 1679.6995 - accuracy: 1.5117e-06\n",
      "Epoch 2/10\n",
      "1/1 [==============================] - 5s 5s/step - loss: 1679.6984 - accuracy: 1.5117e-06\n",
      "Epoch 3/10\n",
      "1/1 [==============================] - 5s 5s/step - loss: 1679.6967 - accuracy: 1.5117e-06\n",
      "Epoch 4/10\n",
      "1/1 [==============================] - 5s 5s/step - loss: 1679.6938 - accuracy: 1.5117e-06\n",
      "Epoch 5/10\n",
      "1/1 [==============================] - 5s 5s/step - loss: 1679.6908 - accuracy: 1.5117e-06\n",
      "Epoch 6/10\n",
      "1/1 [==============================] - 5s 5s/step - loss: 1679.6869 - accuracy: 1.5117e-06\n",
      "Epoch 7/10\n",
      "1/1 [==============================] - 5s 5s/step - loss: 1679.6848 - accuracy: 1.5117e-06\n",
      "Epoch 8/10\n",
      "1/1 [==============================] - 5s 5s/step - loss: 1679.6825 - accuracy: 1.5117e-06\n",
      "Epoch 9/10\n",
      "1/1 [==============================] - 5s 5s/step - loss: 1679.6796 - accuracy: 1.5117e-06\n",
      "Epoch 10/10\n",
      "1/1 [==============================] - 5s 5s/step - loss: 1679.6780 - accuracy: 1.5117e-06\n",
      "Epoch 1/10\n",
      "1/1 [==============================] - 5s 5s/step - loss: 1859.0116 - accuracy: 0.0000e+00\n",
      "Epoch 2/10\n",
      "1/1 [==============================] - 5s 5s/step - loss: 1859.0109 - accuracy: 0.0000e+00\n",
      "Epoch 3/10\n",
      "1/1 [==============================] - 5s 5s/step - loss: 1859.0105 - accuracy: 0.0000e+00\n",
      "Epoch 4/10\n",
      "1/1 [==============================] - 5s 5s/step - loss: 1859.0099 - accuracy: 0.0000e+00\n",
      "Epoch 5/10\n",
      "1/1 [==============================] - 5s 5s/step - loss: 1859.0092 - accuracy: 0.0000e+00\n",
      "Epoch 6/10\n",
      "1/1 [==============================] - 5s 5s/step - loss: 1859.0089 - accuracy: 0.0000e+00\n",
      "Epoch 7/10\n",
      "1/1 [==============================] - 5s 5s/step - loss: 1859.0079 - accuracy: 0.0000e+00\n",
      "Epoch 8/10\n",
      "1/1 [==============================] - 5s 5s/step - loss: 1859.0072 - accuracy: 0.0000e+00\n",
      "Epoch 9/10\n",
      "1/1 [==============================] - 5s 5s/step - loss: 1859.0067 - accuracy: 0.0000e+00\n",
      "Epoch 10/10\n",
      "1/1 [==============================] - 5s 5s/step - loss: 1859.0059 - accuracy: 0.0000e+00\n",
      "/home/fdf7gn/data/UVaVoice/ConversationalSpeech-FunctioningLarynxes/Participant 1/Electrolarynx/2021-06-23_15-43-40.wav\n",
      "Epoch 1/10\n",
      "1/1 [==============================] - 5s 5s/step - loss: 1416.0616 - accuracy: 0.0000e+00\n",
      "Epoch 2/10\n",
      "1/1 [==============================] - 5s 5s/step - loss: 1416.0610 - accuracy: 0.0000e+00\n",
      "Epoch 3/10\n",
      "1/1 [==============================] - 5s 5s/step - loss: 1416.0605 - accuracy: 0.0000e+00\n",
      "Epoch 4/10\n",
      "1/1 [==============================] - 5s 5s/step - loss: 1416.0599 - accuracy: 0.0000e+00\n",
      "Epoch 5/10\n",
      "1/1 [==============================] - 5s 5s/step - loss: 1416.0591 - accuracy: 0.0000e+00\n",
      "Epoch 6/10\n",
      "1/1 [==============================] - 5s 5s/step - loss: 1416.0585 - accuracy: 0.0000e+00\n",
      "Epoch 7/10\n",
      "1/1 [==============================] - 5s 5s/step - loss: 1416.0579 - accuracy: 0.0000e+00\n",
      "Epoch 8/10\n",
      "1/1 [==============================] - 5s 5s/step - loss: 1416.0573 - accuracy: 0.0000e+00\n",
      "Epoch 9/10\n",
      "1/1 [==============================] - 5s 5s/step - loss: 1416.0566 - accuracy: 0.0000e+00\n",
      "Epoch 10/10\n",
      "1/1 [==============================] - 5s 5s/step - loss: 1416.0558 - accuracy: 0.0000e+00\n",
      "Epoch 1/10\n",
      "1/1 [==============================] - 5s 5s/step - loss: 1705.2365 - accuracy: 0.0000e+00\n",
      "Epoch 2/10\n",
      "1/1 [==============================] - 5s 5s/step - loss: 1705.2358 - accuracy: 0.0000e+00\n",
      "Epoch 3/10\n",
      "1/1 [==============================] - 5s 5s/step - loss: 1705.2355 - accuracy: 0.0000e+00\n",
      "Epoch 4/10\n",
      "1/1 [==============================] - 5s 5s/step - loss: 1705.2347 - accuracy: 0.0000e+00\n",
      "Epoch 5/10\n",
      "1/1 [==============================] - 5s 5s/step - loss: 1705.2344 - accuracy: 0.0000e+00\n",
      "Epoch 6/10\n",
      "1/1 [==============================] - 5s 5s/step - loss: 1705.2339 - accuracy: 0.0000e+00\n",
      "Epoch 7/10\n",
      "1/1 [==============================] - 5s 5s/step - loss: 1705.2335 - accuracy: 0.0000e+00\n",
      "Epoch 8/10\n",
      "1/1 [==============================] - 5s 5s/step - loss: 1705.2332 - accuracy: 0.0000e+00\n",
      "Epoch 9/10\n",
      "1/1 [==============================] - 6s 6s/step - loss: 1705.2328 - accuracy: 0.0000e+00\n",
      "Epoch 10/10\n",
      "1/1 [==============================] - 5s 5s/step - loss: 1705.2324 - accuracy: 0.0000e+00\n",
      "/home/fdf7gn/data/UVaVoice/ConversationalSpeech-FunctioningLarynxes/Participant 1/Electrolarynx/2021-06-23_15-58-59.wav\n",
      "Epoch 1/10\n",
      "1/1 [==============================] - 5s 5s/step - loss: 1602.2186 - accuracy: 1.5117e-06\n",
      "Epoch 2/10\n",
      "1/1 [==============================] - 5s 5s/step - loss: 1602.2180 - accuracy: 1.5117e-06\n",
      "Epoch 3/10\n",
      "1/1 [==============================] - 5s 5s/step - loss: 1602.2175 - accuracy: 1.5117e-06\n",
      "Epoch 4/10\n",
      "1/1 [==============================] - 5s 5s/step - loss: 1602.2169 - accuracy: 1.5117e-06\n",
      "Epoch 5/10\n",
      "1/1 [==============================] - 5s 5s/step - loss: 1602.2167 - accuracy: 1.5117e-06\n",
      "Epoch 6/10\n",
      "1/1 [==============================] - 5s 5s/step - loss: 1602.2158 - accuracy: 1.5117e-06\n",
      "Epoch 7/10\n",
      "1/1 [==============================] - 5s 5s/step - loss: 1602.2152 - accuracy: 1.5117e-06\n",
      "Epoch 8/10\n",
      "1/1 [==============================] - 5s 5s/step - loss: 1602.2146 - accuracy: 1.5117e-06\n",
      "Epoch 9/10\n",
      "1/1 [==============================] - 5s 5s/step - loss: 1602.2140 - accuracy: 1.5117e-06\n",
      "Epoch 10/10\n",
      "1/1 [==============================] - 5s 5s/step - loss: 1602.2131 - accuracy: 1.5117e-06\n",
      "Epoch 1/10\n",
      "1/1 [==============================] - 5s 5s/step - loss: 1482.4540 - accuracy: 1.5117e-06\n",
      "Epoch 2/10\n",
      "1/1 [==============================] - 5s 5s/step - loss: 1482.4532 - accuracy: 1.5117e-06\n",
      "Epoch 3/10\n",
      "1/1 [==============================] - 5s 5s/step - loss: 1482.4531 - accuracy: 1.5117e-06\n",
      "Epoch 4/10\n",
      "1/1 [==============================] - 5s 5s/step - loss: 1482.4525 - accuracy: 1.5117e-06\n",
      "Epoch 5/10\n",
      "1/1 [==============================] - 5s 5s/step - loss: 1482.4518 - accuracy: 1.5117e-06\n",
      "Epoch 6/10\n",
      "1/1 [==============================] - 5s 5s/step - loss: 1482.4508 - accuracy: 1.5117e-06\n",
      "Epoch 7/10\n",
      "1/1 [==============================] - 5s 5s/step - loss: 1482.4503 - accuracy: 1.5117e-06\n",
      "Epoch 8/10\n",
      "1/1 [==============================] - 5s 5s/step - loss: 1482.4495 - accuracy: 1.5117e-06\n",
      "Epoch 9/10\n",
      "1/1 [==============================] - 5s 5s/step - loss: 1482.4490 - accuracy: 1.5117e-06\n",
      "Epoch 10/10\n",
      "1/1 [==============================] - 5s 5s/step - loss: 1482.4484 - accuracy: 1.5117e-06\n",
      "/home/fdf7gn/data/UVaVoice/ConversationalSpeech-FunctioningLarynxes/Participant 1/Electrolarynx/2021-06-23_16-06-34.wav\n",
      "Epoch 1/10\n",
      "1/1 [==============================] - 5s 5s/step - loss: 1974.6451 - accuracy: 1.5117e-06\n",
      "Epoch 2/10\n",
      "1/1 [==============================] - 5s 5s/step - loss: 1974.6453 - accuracy: 1.5117e-06\n",
      "Epoch 3/10\n",
      "1/1 [==============================] - 5s 5s/step - loss: 1974.6462 - accuracy: 1.5117e-06\n",
      "Epoch 4/10\n",
      "1/1 [==============================] - 5s 5s/step - loss: 1974.6439 - accuracy: 1.5117e-06\n",
      "Epoch 5/10\n",
      "1/1 [==============================] - 5s 5s/step - loss: 1974.6425 - accuracy: 1.5117e-06\n",
      "Epoch 6/10\n",
      "1/1 [==============================] - 5s 5s/step - loss: 1974.6406 - accuracy: 1.5117e-06\n",
      "Epoch 7/10\n",
      "1/1 [==============================] - 5s 5s/step - loss: 1974.6399 - accuracy: 1.5117e-06\n",
      "Epoch 8/10\n",
      "1/1 [==============================] - 5s 5s/step - loss: 1974.6395 - accuracy: 1.5117e-06\n",
      "Epoch 9/10\n",
      "1/1 [==============================] - 5s 5s/step - loss: 1974.6389 - accuracy: 1.5117e-06\n",
      "Epoch 10/10\n",
      "1/1 [==============================] - 5s 5s/step - loss: 1974.6383 - accuracy: 1.5117e-06\n",
      "Epoch 1/10\n",
      "1/1 [==============================] - 5s 5s/step - loss: 1881.8752 - accuracy: 1.5117e-06\n",
      "Epoch 2/10\n",
      "1/1 [==============================] - 5s 5s/step - loss: 1881.8752 - accuracy: 1.5117e-06\n",
      "Epoch 3/10\n",
      "1/1 [==============================] - 5s 5s/step - loss: 1881.8752 - accuracy: 1.5117e-06\n",
      "Epoch 4/10\n",
      "1/1 [==============================] - 5s 5s/step - loss: 1881.8750 - accuracy: 1.5117e-06\n",
      "Epoch 5/10\n",
      "1/1 [==============================] - 5s 5s/step - loss: 1881.8750 - accuracy: 1.5117e-06\n",
      "Epoch 6/10\n",
      "1/1 [==============================] - 5s 5s/step - loss: 1881.8750 - accuracy: 1.5117e-06\n",
      "Epoch 7/10\n",
      "1/1 [==============================] - 5s 5s/step - loss: 1881.8750 - accuracy: 1.5117e-06\n",
      "Epoch 8/10\n",
      "1/1 [==============================] - 5s 5s/step - loss: 1881.8746 - accuracy: 1.5117e-06\n",
      "Epoch 9/10\n",
      "1/1 [==============================] - 5s 5s/step - loss: 1881.8746 - accuracy: 1.5117e-06\n",
      "Epoch 10/10\n",
      "1/1 [==============================] - 5s 5s/step - loss: 1881.8746 - accuracy: 1.5117e-06\n",
      "/home/fdf7gn/data/UVaVoice/ConversationalSpeech-FunctioningLarynxes/Participant 4/Electrolarynx/2021-10-06_15-37-17.wav\n",
      "Epoch 1/10\n",
      "1/1 [==============================] - 5s 5s/step - loss: 1529.3319 - accuracy: 1.5117e-06\n",
      "Epoch 2/10\n",
      "1/1 [==============================] - 5s 5s/step - loss: 1529.3315 - accuracy: 1.5117e-06\n",
      "Epoch 3/10\n",
      "1/1 [==============================] - 5s 5s/step - loss: 1529.3312 - accuracy: 1.5117e-06\n",
      "Epoch 4/10\n",
      "1/1 [==============================] - 5s 5s/step - loss: 1529.3309 - accuracy: 1.5117e-06\n",
      "Epoch 5/10\n",
      "1/1 [==============================] - 5s 5s/step - loss: 1529.3308 - accuracy: 1.5117e-06\n",
      "Epoch 6/10\n",
      "1/1 [==============================] - 5s 5s/step - loss: 1529.3307 - accuracy: 1.5117e-06\n",
      "Epoch 7/10\n",
      "1/1 [==============================] - 5s 5s/step - loss: 1529.3304 - accuracy: 1.5117e-06\n",
      "Epoch 8/10\n",
      "1/1 [==============================] - 5s 5s/step - loss: 1529.3303 - accuracy: 1.5117e-06\n",
      "Epoch 9/10\n",
      "1/1 [==============================] - 5s 5s/step - loss: 1529.3303 - accuracy: 1.5117e-06\n",
      "Epoch 10/10\n",
      "1/1 [==============================] - 5s 5s/step - loss: 1529.3302 - accuracy: 1.5117e-06\n",
      "Epoch 1/10\n",
      "1/1 [==============================] - 5s 5s/step - loss: 1548.2505 - accuracy: 0.0000e+00\n",
      "Epoch 2/10\n",
      "1/1 [==============================] - 5s 5s/step - loss: 1548.2502 - accuracy: 0.0000e+00\n",
      "Epoch 3/10\n",
      "1/1 [==============================] - 5s 5s/step - loss: 1548.2498 - accuracy: 0.0000e+00\n",
      "Epoch 4/10\n",
      "1/1 [==============================] - 5s 5s/step - loss: 1548.2493 - accuracy: 0.0000e+00\n",
      "Epoch 5/10\n",
      "1/1 [==============================] - 5s 5s/step - loss: 1548.2488 - accuracy: 0.0000e+00\n",
      "Epoch 6/10\n",
      "1/1 [==============================] - 5s 5s/step - loss: 1548.2484 - accuracy: 0.0000e+00\n",
      "Epoch 7/10\n",
      "1/1 [==============================] - 5s 5s/step - loss: 1548.2482 - accuracy: 0.0000e+00\n",
      "Epoch 8/10\n",
      "1/1 [==============================] - 5s 5s/step - loss: 1548.2479 - accuracy: 0.0000e+00\n",
      "Epoch 9/10\n",
      "1/1 [==============================] - 5s 5s/step - loss: 1548.2477 - accuracy: 0.0000e+00\n",
      "Epoch 10/10\n",
      "1/1 [==============================] - 5s 5s/step - loss: 1548.2474 - accuracy: 0.0000e+00\n",
      "/home/fdf7gn/data/UVaVoice/ConversationalSpeech-FunctioningLarynxes/Participant 4/Electrolarynx/2021-10-06_15-33-12.wav\n",
      "Epoch 1/10\n",
      "1/1 [==============================] - 5s 5s/step - loss: 1458.9569 - accuracy: 0.0000e+00\n",
      "Epoch 2/10\n",
      "1/1 [==============================] - 5s 5s/step - loss: 1458.9510 - accuracy: 0.0000e+00\n",
      "Epoch 3/10\n",
      "1/1 [==============================] - 5s 5s/step - loss: 1458.9468 - accuracy: 0.0000e+00\n",
      "Epoch 4/10\n",
      "1/1 [==============================] - 5s 5s/step - loss: 1458.9434 - accuracy: 0.0000e+00\n",
      "Epoch 5/10\n",
      "1/1 [==============================] - 5s 5s/step - loss: 1458.9402 - accuracy: 0.0000e+00\n",
      "Epoch 6/10\n",
      "1/1 [==============================] - 5s 5s/step - loss: 1458.9376 - accuracy: 0.0000e+00\n",
      "Epoch 7/10\n",
      "1/1 [==============================] - 5s 5s/step - loss: 1458.9349 - accuracy: 0.0000e+00\n",
      "Epoch 8/10\n",
      "1/1 [==============================] - 5s 5s/step - loss: 1458.9323 - accuracy: 0.0000e+00\n",
      "Epoch 9/10\n",
      "1/1 [==============================] - 5s 5s/step - loss: 1458.9290 - accuracy: 0.0000e+00\n",
      "Epoch 10/10\n",
      "1/1 [==============================] - 5s 5s/step - loss: 1458.9259 - accuracy: 0.0000e+00\n",
      "Epoch 1/10\n",
      "1/1 [==============================] - 5s 5s/step - loss: 1620.6243 - accuracy: 0.0000e+00\n",
      "Epoch 2/10\n",
      "1/1 [==============================] - 5s 5s/step - loss: 1620.6238 - accuracy: 0.0000e+00\n",
      "Epoch 3/10\n",
      "1/1 [==============================] - 5s 5s/step - loss: 1620.6234 - accuracy: 0.0000e+00\n",
      "Epoch 4/10\n",
      "1/1 [==============================] - 5s 5s/step - loss: 1620.6223 - accuracy: 0.0000e+00\n",
      "Epoch 5/10\n",
      "1/1 [==============================] - 5s 5s/step - loss: 1620.6205 - accuracy: 0.0000e+00\n",
      "Epoch 6/10\n",
      "1/1 [==============================] - 5s 5s/step - loss: 1620.6180 - accuracy: 0.0000e+00\n",
      "Epoch 7/10\n",
      "1/1 [==============================] - 5s 5s/step - loss: 1620.6167 - accuracy: 1.5117e-06\n",
      "Epoch 8/10\n",
      "1/1 [==============================] - 5s 5s/step - loss: 1620.6160 - accuracy: 1.5117e-06\n",
      "Epoch 9/10\n",
      "1/1 [==============================] - 5s 5s/step - loss: 1620.6158 - accuracy: 1.5117e-06\n",
      "Epoch 10/10\n",
      "1/1 [==============================] - 5s 5s/step - loss: 1620.6157 - accuracy: 1.5117e-06\n",
      "/home/fdf7gn/data/UVaVoice/ConversationalSpeech-FunctioningLarynxes/Participant 4/Electrolarynx/2021-10-06_15-57-49.wav\n",
      "Epoch 1/10\n",
      "1/1 [==============================] - 5s 5s/step - loss: 1614.5247 - accuracy: 0.0000e+00\n",
      "Epoch 2/10\n",
      "1/1 [==============================] - 5s 5s/step - loss: 1614.5245 - accuracy: 0.0000e+00\n",
      "Epoch 3/10\n",
      "1/1 [==============================] - 5s 5s/step - loss: 1614.5245 - accuracy: 0.0000e+00\n",
      "Epoch 4/10\n",
      "1/1 [==============================] - 5s 5s/step - loss: 1614.5245 - accuracy: 0.0000e+00\n",
      "Epoch 5/10\n",
      "1/1 [==============================] - 5s 5s/step - loss: 1614.5245 - accuracy: 0.0000e+00\n",
      "Epoch 6/10\n",
      "1/1 [==============================] - 5s 5s/step - loss: 1614.5244 - accuracy: 0.0000e+00\n",
      "Epoch 7/10\n",
      "1/1 [==============================] - 5s 5s/step - loss: 1614.5244 - accuracy: 0.0000e+00\n",
      "Epoch 8/10\n",
      "1/1 [==============================] - 5s 5s/step - loss: 1614.5244 - accuracy: 0.0000e+00\n",
      "Epoch 9/10\n",
      "1/1 [==============================] - 5s 5s/step - loss: 1614.5244 - accuracy: 0.0000e+00\n",
      "Epoch 10/10\n",
      "1/1 [==============================] - 5s 5s/step - loss: 1614.5244 - accuracy: 0.0000e+00\n",
      "Epoch 1/10\n",
      "1/1 [==============================] - 5s 5s/step - loss: 1858.0790 - accuracy: 0.0000e+00\n",
      "Epoch 2/10\n",
      "1/1 [==============================] - 5s 5s/step - loss: 1858.0787 - accuracy: 0.0000e+00\n",
      "Epoch 3/10\n",
      "1/1 [==============================] - 5s 5s/step - loss: 1858.0787 - accuracy: 0.0000e+00\n",
      "Epoch 4/10\n",
      "1/1 [==============================] - 5s 5s/step - loss: 1858.0787 - accuracy: 0.0000e+00\n",
      "Epoch 5/10\n",
      "1/1 [==============================] - 5s 5s/step - loss: 1858.0786 - accuracy: 0.0000e+00\n",
      "Epoch 6/10\n",
      "1/1 [==============================] - 5s 5s/step - loss: 1858.0786 - accuracy: 0.0000e+00\n",
      "Epoch 7/10\n",
      "1/1 [==============================] - 5s 5s/step - loss: 1858.0786 - accuracy: 0.0000e+00\n",
      "Epoch 8/10\n",
      "1/1 [==============================] - 5s 5s/step - loss: 1858.0786 - accuracy: 0.0000e+00\n",
      "Epoch 9/10\n",
      "1/1 [==============================] - 5s 5s/step - loss: 1858.0786 - accuracy: 0.0000e+00\n",
      "Epoch 10/10\n",
      "1/1 [==============================] - 5s 5s/step - loss: 1858.0786 - accuracy: 0.0000e+00\n",
      "/home/fdf7gn/data/UVaVoice/ConversationalSpeech-FunctioningLarynxes/Participant 4/Electrolarynx/2021-10-06_15-40-10.wav\n",
      "Epoch 1/10\n",
      "1/1 [==============================] - 5s 5s/step - loss: 1697.2223 - accuracy: 1.5117e-06\n",
      "Epoch 2/10\n",
      "1/1 [==============================] - 5s 5s/step - loss: 1697.2223 - accuracy: 1.5117e-06\n",
      "Epoch 3/10\n",
      "1/1 [==============================] - 5s 5s/step - loss: 1697.2222 - accuracy: 1.5117e-06\n",
      "Epoch 4/10\n",
      "1/1 [==============================] - 5s 5s/step - loss: 1697.2222 - accuracy: 1.5117e-06\n",
      "Epoch 5/10\n",
      "1/1 [==============================] - 5s 5s/step - loss: 1697.2222 - accuracy: 1.5117e-06\n",
      "Epoch 6/10\n",
      "1/1 [==============================] - 5s 5s/step - loss: 1697.2222 - accuracy: 1.5117e-06\n",
      "Epoch 7/10\n",
      "1/1 [==============================] - 5s 5s/step - loss: 1697.2222 - accuracy: 1.5117e-06\n",
      "Epoch 8/10\n",
      "1/1 [==============================] - 5s 5s/step - loss: 1697.2222 - accuracy: 1.5117e-06\n",
      "Epoch 9/10\n",
      "1/1 [==============================] - 5s 5s/step - loss: 1697.2222 - accuracy: 1.5117e-06\n",
      "Epoch 10/10\n",
      "1/1 [==============================] - 5s 5s/step - loss: 1697.2219 - accuracy: 1.5117e-06\n",
      "/home/fdf7gn/data/UVaVoice/ConversationalSpeech-FunctioningLarynxes/Participant 4/Electrolarynx/2021-10-06_15-43-11.wav\n",
      "Epoch 1/10\n",
      "1/1 [==============================] - 5s 5s/step - loss: 1696.3240 - accuracy: 1.5117e-06\n",
      "Epoch 2/10\n",
      "1/1 [==============================] - 5s 5s/step - loss: 1696.3240 - accuracy: 1.5117e-06\n",
      "Epoch 3/10\n",
      "1/1 [==============================] - 5s 5s/step - loss: 1696.3240 - accuracy: 1.5117e-06\n",
      "Epoch 4/10\n",
      "1/1 [==============================] - 5s 5s/step - loss: 1696.3240 - accuracy: 1.5117e-06\n",
      "Epoch 5/10\n",
      "1/1 [==============================] - 5s 5s/step - loss: 1696.3240 - accuracy: 1.5117e-06\n",
      "Epoch 6/10\n",
      "1/1 [==============================] - 5s 5s/step - loss: 1696.3240 - accuracy: 1.5117e-06\n",
      "Epoch 7/10\n",
      "1/1 [==============================] - 5s 5s/step - loss: 1696.3240 - accuracy: 1.5117e-06\n",
      "Epoch 8/10\n",
      "1/1 [==============================] - 5s 5s/step - loss: 1696.3240 - accuracy: 1.5117e-06\n",
      "Epoch 9/10\n",
      "1/1 [==============================] - 5s 5s/step - loss: 1696.3240 - accuracy: 1.5117e-06\n",
      "Epoch 10/10\n",
      "1/1 [==============================] - 5s 5s/step - loss: 1696.3240 - accuracy: 1.5117e-06\n",
      "Epoch 1/10\n",
      "1/1 [==============================] - 5s 5s/step - loss: 1570.4247 - accuracy: 0.0000e+00\n",
      "Epoch 2/10\n",
      "1/1 [==============================] - 5s 5s/step - loss: 1570.4247 - accuracy: 0.0000e+00\n",
      "Epoch 3/10\n",
      "1/1 [==============================] - 5s 5s/step - loss: 1570.4247 - accuracy: 0.0000e+00\n",
      "Epoch 4/10\n",
      "1/1 [==============================] - 5s 5s/step - loss: 1570.4247 - accuracy: 0.0000e+00\n",
      "Epoch 5/10\n",
      "1/1 [==============================] - 5s 5s/step - loss: 1570.4247 - accuracy: 0.0000e+00\n",
      "Epoch 6/10\n",
      "1/1 [==============================] - 5s 5s/step - loss: 1570.4247 - accuracy: 0.0000e+00\n",
      "Epoch 7/10\n",
      "1/1 [==============================] - 5s 5s/step - loss: 1570.4247 - accuracy: 0.0000e+00\n",
      "Epoch 8/10\n",
      "1/1 [==============================] - 5s 5s/step - loss: 1570.4247 - accuracy: 0.0000e+00\n",
      "Epoch 9/10\n",
      "1/1 [==============================] - 5s 5s/step - loss: 1570.4247 - accuracy: 0.0000e+00\n",
      "Epoch 10/10\n",
      "1/1 [==============================] - 5s 5s/step - loss: 1570.4247 - accuracy: 0.0000e+00\n",
      "/home/fdf7gn/data/UVaVoice/ConversationalSpeech-FunctioningLarynxes/Participant 4/Electrolarynx/2021-10-06_15-52-57.wav\n",
      "Epoch 1/10\n",
      "1/1 [==============================] - 5s 5s/step - loss: 1733.3286 - accuracy: 1.5117e-06\n",
      "Epoch 2/10\n",
      "1/1 [==============================] - 5s 5s/step - loss: 1733.3286 - accuracy: 1.5117e-06\n",
      "Epoch 3/10\n",
      "1/1 [==============================] - 5s 5s/step - loss: 1733.3286 - accuracy: 1.5117e-06\n",
      "Epoch 4/10\n",
      "1/1 [==============================] - 5s 5s/step - loss: 1733.3286 - accuracy: 1.5117e-06\n",
      "Epoch 5/10\n",
      "1/1 [==============================] - 5s 5s/step - loss: 1733.3286 - accuracy: 1.5117e-06\n",
      "Epoch 6/10\n",
      "1/1 [==============================] - 5s 5s/step - loss: 1733.3286 - accuracy: 1.5117e-06\n",
      "Epoch 7/10\n",
      "1/1 [==============================] - 5s 5s/step - loss: 1733.3286 - accuracy: 1.5117e-06\n",
      "Epoch 8/10\n",
      "1/1 [==============================] - 5s 5s/step - loss: 1733.3286 - accuracy: 1.5117e-06\n",
      "Epoch 9/10\n",
      "1/1 [==============================] - 5s 5s/step - loss: 1733.3286 - accuracy: 1.5117e-06\n",
      "Epoch 10/10\n",
      "1/1 [==============================] - 5s 5s/step - loss: 1733.3281 - accuracy: 1.5117e-06\n",
      "Epoch 1/10\n",
      "1/1 [==============================] - 5s 5s/step - loss: 1558.9956 - accuracy: 1.5117e-06\n",
      "Epoch 2/10\n",
      "1/1 [==============================] - 5s 5s/step - loss: 1558.9954 - accuracy: 1.5117e-06\n",
      "Epoch 3/10\n",
      "1/1 [==============================] - 5s 5s/step - loss: 1558.9954 - accuracy: 1.5117e-06\n",
      "Epoch 4/10\n",
      "1/1 [==============================] - 5s 5s/step - loss: 1558.9951 - accuracy: 1.5117e-06\n",
      "Epoch 5/10\n",
      "1/1 [==============================] - 5s 5s/step - loss: 1558.9951 - accuracy: 1.5117e-06\n",
      "Epoch 6/10\n",
      "1/1 [==============================] - 5s 5s/step - loss: 1558.9951 - accuracy: 1.5117e-06\n",
      "Epoch 7/10\n",
      "1/1 [==============================] - 5s 5s/step - loss: 1558.9950 - accuracy: 1.5117e-06\n",
      "Epoch 8/10\n",
      "1/1 [==============================] - 5s 5s/step - loss: 1558.9950 - accuracy: 1.5117e-06\n",
      "Epoch 9/10\n",
      "1/1 [==============================] - 5s 5s/step - loss: 1558.9950 - accuracy: 1.5117e-06\n",
      "Epoch 10/10\n",
      "1/1 [==============================] - 5s 5s/step - loss: 1558.9950 - accuracy: 1.5117e-06\n",
      "/home/fdf7gn/data/UVaVoice/ConversationalSpeech-FunctioningLarynxes/Participant 4/Electrolarynx/2021-10-06_15-47-00.wav\n",
      "Epoch 1/10\n",
      "1/1 [==============================] - 5s 5s/step - loss: 1672.7454 - accuracy: 1.5117e-06\n",
      "Epoch 2/10\n",
      "1/1 [==============================] - 5s 5s/step - loss: 1672.7454 - accuracy: 1.5117e-06\n",
      "Epoch 3/10\n",
      "1/1 [==============================] - 5s 5s/step - loss: 1672.7454 - accuracy: 1.5117e-06\n",
      "Epoch 4/10\n",
      "1/1 [==============================] - 5s 5s/step - loss: 1672.7451 - accuracy: 1.5117e-06\n",
      "Epoch 5/10\n",
      "1/1 [==============================] - 5s 5s/step - loss: 1672.7451 - accuracy: 1.5117e-06\n",
      "Epoch 6/10\n",
      "1/1 [==============================] - 5s 5s/step - loss: 1672.7450 - accuracy: 1.5117e-06\n",
      "Epoch 7/10\n",
      "1/1 [==============================] - 5s 5s/step - loss: 1672.7451 - accuracy: 1.5117e-06\n",
      "Epoch 8/10\n",
      "1/1 [==============================] - 5s 5s/step - loss: 1672.7450 - accuracy: 1.5117e-06\n",
      "Epoch 9/10\n",
      "1/1 [==============================] - 5s 5s/step - loss: 1672.7450 - accuracy: 1.5117e-06\n",
      "Epoch 10/10\n",
      "1/1 [==============================] - 5s 5s/step - loss: 1672.7448 - accuracy: 1.5117e-06\n",
      "Epoch 1/10\n",
      "1/1 [==============================] - 5s 5s/step - loss: 1717.6667 - accuracy: 1.5117e-06\n",
      "Epoch 2/10\n",
      "1/1 [==============================] - 5s 5s/step - loss: 1717.6667 - accuracy: 1.5117e-06\n",
      "Epoch 3/10\n",
      "1/1 [==============================] - 5s 5s/step - loss: 1717.6667 - accuracy: 1.5117e-06\n",
      "Epoch 4/10\n",
      "1/1 [==============================] - 5s 5s/step - loss: 1717.6667 - accuracy: 1.5117e-06\n",
      "Epoch 5/10\n",
      "1/1 [==============================] - 5s 5s/step - loss: 1717.6667 - accuracy: 1.5117e-06\n",
      "Epoch 6/10\n",
      "1/1 [==============================] - 5s 5s/step - loss: 1717.6667 - accuracy: 1.5117e-06\n",
      "Epoch 7/10\n",
      "1/1 [==============================] - 5s 5s/step - loss: 1717.6667 - accuracy: 1.5117e-06\n",
      "Epoch 8/10\n",
      "1/1 [==============================] - 5s 5s/step - loss: 1717.6667 - accuracy: 1.5117e-06\n",
      "Epoch 9/10\n",
      "1/1 [==============================] - 5s 5s/step - loss: 1717.6667 - accuracy: 1.5117e-06\n",
      "Epoch 10/10\n",
      "1/1 [==============================] - 5s 5s/step - loss: 1717.6666 - accuracy: 1.5117e-06\n",
      "/home/fdf7gn/data/UVaVoice/ConversationalSpeech-FunctioningLarynxes/Participant 4/Electrolarynx/2021-10-06_16-05-49.wav\n",
      "Epoch 1/10\n",
      "1/1 [==============================] - 5s 5s/step - loss: 1811.5333 - accuracy: 1.5117e-06\n",
      "Epoch 2/10\n",
      "1/1 [==============================] - 5s 5s/step - loss: 1811.5333 - accuracy: 1.5117e-06\n",
      "Epoch 3/10\n",
      "1/1 [==============================] - 5s 5s/step - loss: 1811.5333 - accuracy: 1.5117e-06\n",
      "Epoch 4/10\n",
      "1/1 [==============================] - 5s 5s/step - loss: 1811.5333 - accuracy: 1.5117e-06\n",
      "Epoch 5/10\n",
      "1/1 [==============================] - 5s 5s/step - loss: 1811.5333 - accuracy: 1.5117e-06\n",
      "Epoch 6/10\n",
      "1/1 [==============================] - 5s 5s/step - loss: 1811.5333 - accuracy: 1.5117e-06\n",
      "Epoch 7/10\n",
      "1/1 [==============================] - 5s 5s/step - loss: 1811.5333 - accuracy: 1.5117e-06\n",
      "Epoch 8/10\n",
      "1/1 [==============================] - 5s 5s/step - loss: 1811.5331 - accuracy: 1.5117e-06\n",
      "Epoch 9/10\n",
      "1/1 [==============================] - 5s 5s/step - loss: 1811.5331 - accuracy: 1.5117e-06\n",
      "Epoch 10/10\n",
      "1/1 [==============================] - 5s 5s/step - loss: 1811.5331 - accuracy: 1.5117e-06\n",
      "Epoch 1/10\n",
      "1/1 [==============================] - 5s 5s/step - loss: 1696.4683 - accuracy: 0.0000e+00\n",
      "Epoch 2/10\n",
      "1/1 [==============================] - 5s 5s/step - loss: 1696.4683 - accuracy: 0.0000e+00\n",
      "Epoch 3/10\n",
      "1/1 [==============================] - 5s 5s/step - loss: 1696.4683 - accuracy: 0.0000e+00\n",
      "Epoch 4/10\n",
      "1/1 [==============================] - 5s 5s/step - loss: 1696.4683 - accuracy: 0.0000e+00\n",
      "Epoch 5/10\n",
      "1/1 [==============================] - 5s 5s/step - loss: 1696.4683 - accuracy: 0.0000e+00\n",
      "Epoch 6/10\n",
      "1/1 [==============================] - 5s 5s/step - loss: 1696.4683 - accuracy: 0.0000e+00\n",
      "Epoch 7/10\n",
      "1/1 [==============================] - 5s 5s/step - loss: 1696.4683 - accuracy: 0.0000e+00\n",
      "Epoch 8/10\n",
      "1/1 [==============================] - 5s 5s/step - loss: 1696.4683 - accuracy: 0.0000e+00\n",
      "Epoch 9/10\n",
      "1/1 [==============================] - 5s 5s/step - loss: 1696.4683 - accuracy: 0.0000e+00\n",
      "Epoch 10/10\n",
      "1/1 [==============================] - 5s 5s/step - loss: 1696.4680 - accuracy: 0.0000e+00\n",
      "/home/fdf7gn/data/UVaVoice/ConversationalSpeech-FunctioningLarynxes/Participant 4/Electrolarynx/2021-10-06_15-44-58.wav\n",
      "Epoch 1/10\n",
      "1/1 [==============================] - 5s 5s/step - loss: 1772.5712 - accuracy: 1.5117e-06\n",
      "Epoch 2/10\n",
      "1/1 [==============================] - 5s 5s/step - loss: 1772.5712 - accuracy: 1.5117e-06\n",
      "Epoch 3/10\n",
      "1/1 [==============================] - 5s 5s/step - loss: 1772.5712 - accuracy: 1.5117e-06\n",
      "Epoch 4/10\n",
      "1/1 [==============================] - 5s 5s/step - loss: 1772.5712 - accuracy: 1.5117e-06\n",
      "Epoch 5/10\n",
      "1/1 [==============================] - 5s 5s/step - loss: 1772.5712 - accuracy: 1.5117e-06\n",
      "Epoch 6/10\n",
      "1/1 [==============================] - 5s 5s/step - loss: 1772.5712 - accuracy: 1.5117e-06\n",
      "Epoch 7/10\n",
      "1/1 [==============================] - 5s 5s/step - loss: 1772.5712 - accuracy: 1.5117e-06\n",
      "Epoch 8/10\n",
      "1/1 [==============================] - 5s 5s/step - loss: 1772.5712 - accuracy: 1.5117e-06\n",
      "Epoch 9/10\n",
      "1/1 [==============================] - 5s 5s/step - loss: 1772.5712 - accuracy: 1.5117e-06\n",
      "Epoch 10/10\n",
      "1/1 [==============================] - 5s 5s/step - loss: 1772.5712 - accuracy: 1.5117e-06\n",
      "Epoch 1/10\n",
      "1/1 [==============================] - 5s 5s/step - loss: 1466.1105 - accuracy: 1.5117e-06\n",
      "Epoch 2/10\n",
      "1/1 [==============================] - 5s 5s/step - loss: 1466.1105 - accuracy: 1.5117e-06\n",
      "Epoch 3/10\n",
      "1/1 [==============================] - 5s 5s/step - loss: 1466.1105 - accuracy: 1.5117e-06\n",
      "Epoch 4/10\n",
      "1/1 [==============================] - 5s 5s/step - loss: 1466.1105 - accuracy: 1.5117e-06\n",
      "Epoch 5/10\n",
      "1/1 [==============================] - 5s 5s/step - loss: 1466.1105 - accuracy: 1.5117e-06\n",
      "Epoch 6/10\n",
      "1/1 [==============================] - 5s 5s/step - loss: 1466.1105 - accuracy: 1.5117e-06\n",
      "Epoch 7/10\n",
      "1/1 [==============================] - 5s 5s/step - loss: 1466.1105 - accuracy: 1.5117e-06\n",
      "Epoch 8/10\n",
      "1/1 [==============================] - 5s 5s/step - loss: 1466.1105 - accuracy: 1.5117e-06\n",
      "Epoch 9/10\n",
      "1/1 [==============================] - 5s 5s/step - loss: 1466.1104 - accuracy: 1.5117e-06\n",
      "Epoch 10/10\n",
      "1/1 [==============================] - 5s 5s/step - loss: 1466.1104 - accuracy: 1.5117e-06\n",
      "/home/fdf7gn/data/UVaVoice/ConversationalSpeech-FunctioningLarynxes/Participant 4/Electrolarynx/2021-10-06_15-35-25.wav\n",
      "Epoch 1/10\n",
      "1/1 [==============================] - 5s 5s/step - loss: 1589.3929 - accuracy: 0.0000e+00\n",
      "Epoch 2/10\n",
      "1/1 [==============================] - 5s 5s/step - loss: 1589.3926 - accuracy: 0.0000e+00\n",
      "Epoch 3/10\n",
      "1/1 [==============================] - 5s 5s/step - loss: 1589.3925 - accuracy: 0.0000e+00\n",
      "Epoch 4/10\n",
      "1/1 [==============================] - 5s 5s/step - loss: 1589.3920 - accuracy: 0.0000e+00\n",
      "Epoch 5/10\n",
      "1/1 [==============================] - 5s 5s/step - loss: 1589.3916 - accuracy: 0.0000e+00\n",
      "Epoch 6/10\n",
      "1/1 [==============================] - 5s 5s/step - loss: 1589.3912 - accuracy: 0.0000e+00\n",
      "Epoch 7/10\n",
      "1/1 [==============================] - 5s 5s/step - loss: 1589.3911 - accuracy: 0.0000e+00\n",
      "Epoch 8/10\n",
      "1/1 [==============================] - 5s 5s/step - loss: 1589.3906 - accuracy: 0.0000e+00\n",
      "Epoch 9/10\n",
      "1/1 [==============================] - 5s 5s/step - loss: 1589.3903 - accuracy: 0.0000e+00\n",
      "Epoch 10/10\n",
      "1/1 [==============================] - 5s 5s/step - loss: 1589.3899 - accuracy: 0.0000e+00\n",
      "Epoch 1/10\n",
      "1/1 [==============================] - 5s 5s/step - loss: 1635.8151 - accuracy: 1.5117e-06\n",
      "Epoch 2/10\n",
      "1/1 [==============================] - 5s 5s/step - loss: 1635.8151 - accuracy: 1.5117e-06\n",
      "Epoch 3/10\n",
      "1/1 [==============================] - 5s 5s/step - loss: 1635.8148 - accuracy: 1.5117e-06\n",
      "Epoch 4/10\n",
      "1/1 [==============================] - 5s 5s/step - loss: 1635.8148 - accuracy: 1.5117e-06\n",
      "Epoch 5/10\n",
      "1/1 [==============================] - 5s 5s/step - loss: 1635.8148 - accuracy: 1.5117e-06\n",
      "Epoch 6/10\n",
      "1/1 [==============================] - 5s 5s/step - loss: 1635.8146 - accuracy: 1.5117e-06\n",
      "Epoch 7/10\n",
      "1/1 [==============================] - 5s 5s/step - loss: 1635.8146 - accuracy: 1.5117e-06\n",
      "Epoch 8/10\n",
      "1/1 [==============================] - 5s 5s/step - loss: 1635.8146 - accuracy: 1.5117e-06\n",
      "Epoch 9/10\n",
      "1/1 [==============================] - 5s 5s/step - loss: 1635.8146 - accuracy: 1.5117e-06\n",
      "Epoch 10/10\n",
      "1/1 [==============================] - 5s 5s/step - loss: 1635.8146 - accuracy: 1.5117e-06\n",
      "/home/fdf7gn/data/UVaVoice/ConversationalSpeech-FunctioningLarynxes/Participant 2/Electrolarynx/2021-12-15_14-56-21.wav\n",
      "Epoch 1/10\n",
      "1/1 [==============================] - 5s 5s/step - loss: 1874.1127 - accuracy: 1.5117e-06\n",
      "Epoch 2/10\n",
      "1/1 [==============================] - 5s 5s/step - loss: 1874.1127 - accuracy: 1.5117e-06\n",
      "Epoch 3/10\n",
      "1/1 [==============================] - 5s 5s/step - loss: 1874.1124 - accuracy: 1.5117e-06\n",
      "Epoch 4/10\n",
      "1/1 [==============================] - 5s 5s/step - loss: 1874.1122 - accuracy: 1.5117e-06\n",
      "Epoch 5/10\n",
      "1/1 [==============================] - 5s 5s/step - loss: 1874.1122 - accuracy: 1.5117e-06\n",
      "Epoch 6/10\n",
      "1/1 [==============================] - 5s 5s/step - loss: 1874.1122 - accuracy: 1.5117e-06\n",
      "Epoch 7/10\n",
      "1/1 [==============================] - 5s 5s/step - loss: 1874.1122 - accuracy: 1.5117e-06\n",
      "Epoch 8/10\n",
      "1/1 [==============================] - 5s 5s/step - loss: 1874.1122 - accuracy: 1.5117e-06\n",
      "Epoch 9/10\n",
      "1/1 [==============================] - 5s 5s/step - loss: 1874.1122 - accuracy: 1.5117e-06\n",
      "Epoch 10/10\n",
      "1/1 [==============================] - 5s 5s/step - loss: 1874.1122 - accuracy: 1.5117e-06\n",
      "Epoch 1/10\n",
      "1/1 [==============================] - 5s 5s/step - loss: 1819.0665 - accuracy: 1.5117e-06\n",
      "Epoch 2/10\n",
      "1/1 [==============================] - 5s 5s/step - loss: 1819.0665 - accuracy: 1.5117e-06\n",
      "Epoch 3/10\n",
      "1/1 [==============================] - 5s 5s/step - loss: 1819.0664 - accuracy: 1.5117e-06\n",
      "Epoch 4/10\n",
      "1/1 [==============================] - 5s 5s/step - loss: 1819.0664 - accuracy: 1.5117e-06\n",
      "Epoch 5/10\n",
      "1/1 [==============================] - 5s 5s/step - loss: 1819.0664 - accuracy: 1.5117e-06\n",
      "Epoch 6/10\n",
      "1/1 [==============================] - 5s 5s/step - loss: 1819.0664 - accuracy: 1.5117e-06\n",
      "Epoch 7/10\n",
      "1/1 [==============================] - 5s 5s/step - loss: 1819.0664 - accuracy: 1.5117e-06\n",
      "Epoch 8/10\n",
      "1/1 [==============================] - 5s 5s/step - loss: 1819.0664 - accuracy: 1.5117e-06\n",
      "Epoch 9/10\n",
      "1/1 [==============================] - 5s 5s/step - loss: 1819.0664 - accuracy: 1.5117e-06\n",
      "Epoch 10/10\n",
      "1/1 [==============================] - 5s 5s/step - loss: 1819.0664 - accuracy: 1.5117e-06\n",
      "/home/fdf7gn/data/UVaVoice/ConversationalSpeech-FunctioningLarynxes/Participant 2/Electrolarynx/2021-12-15_14-55-16.wav\n",
      "Epoch 1/10\n",
      "1/1 [==============================] - 5s 5s/step - loss: 2118.1377 - accuracy: 0.0000e+00\n",
      "Epoch 2/10\n",
      "1/1 [==============================] - 5s 5s/step - loss: 2118.1377 - accuracy: 0.0000e+00\n",
      "Epoch 3/10\n",
      "1/1 [==============================] - 5s 5s/step - loss: 2118.1377 - accuracy: 0.0000e+00\n",
      "Epoch 4/10\n",
      "1/1 [==============================] - 5s 5s/step - loss: 2118.1377 - accuracy: 0.0000e+00\n",
      "Epoch 5/10\n",
      "1/1 [==============================] - 5s 5s/step - loss: 2118.1377 - accuracy: 0.0000e+00\n",
      "Epoch 6/10\n",
      "1/1 [==============================] - 5s 5s/step - loss: 2118.1377 - accuracy: 0.0000e+00\n",
      "Epoch 7/10\n",
      "1/1 [==============================] - 5s 5s/step - loss: 2118.1377 - accuracy: 0.0000e+00\n",
      "Epoch 8/10\n",
      "1/1 [==============================] - 5s 5s/step - loss: 2118.1377 - accuracy: 0.0000e+00\n",
      "Epoch 9/10\n",
      "1/1 [==============================] - 5s 5s/step - loss: 2118.1377 - accuracy: 0.0000e+00\n",
      "Epoch 10/10\n",
      "1/1 [==============================] - 5s 5s/step - loss: 2118.1377 - accuracy: 0.0000e+00\n",
      "Epoch 1/10\n",
      "1/1 [==============================] - 5s 5s/step - loss: 1959.8109 - accuracy: 0.0000e+00\n",
      "Epoch 2/10\n",
      "1/1 [==============================] - 5s 5s/step - loss: 1959.8109 - accuracy: 0.0000e+00\n",
      "Epoch 3/10\n",
      "1/1 [==============================] - 5s 5s/step - loss: 1959.8109 - accuracy: 0.0000e+00\n",
      "Epoch 4/10\n",
      "1/1 [==============================] - 5s 5s/step - loss: 1959.8108 - accuracy: 0.0000e+00\n",
      "Epoch 5/10\n",
      "1/1 [==============================] - 5s 5s/step - loss: 1959.8108 - accuracy: 0.0000e+00\n",
      "Epoch 6/10\n",
      "1/1 [==============================] - 5s 5s/step - loss: 1959.8108 - accuracy: 0.0000e+00\n",
      "Epoch 7/10\n",
      "1/1 [==============================] - 5s 5s/step - loss: 1959.8108 - accuracy: 0.0000e+00\n",
      "Epoch 8/10\n",
      "1/1 [==============================] - 5s 5s/step - loss: 1959.8108 - accuracy: 0.0000e+00\n",
      "Epoch 9/10\n",
      "1/1 [==============================] - 5s 5s/step - loss: 1959.8108 - accuracy: 0.0000e+00\n",
      "Epoch 10/10\n",
      "1/1 [==============================] - 5s 5s/step - loss: 1959.8108 - accuracy: 0.0000e+00\n",
      "/home/fdf7gn/data/UVaVoice/ConversationalSpeech-FunctioningLarynxes/Participant 2/Electrolarynx/2021-12-15_15-06-58.wav\n",
      "Epoch 1/10\n",
      "1/1 [==============================] - 5s 5s/step - loss: 1978.2177 - accuracy: 1.5117e-06\n",
      "Epoch 2/10\n",
      "1/1 [==============================] - 5s 5s/step - loss: 1978.2177 - accuracy: 1.5117e-06\n",
      "Epoch 3/10\n",
      "1/1 [==============================] - 5s 5s/step - loss: 1978.2177 - accuracy: 1.5117e-06\n",
      "Epoch 4/10\n",
      "1/1 [==============================] - 5s 5s/step - loss: 1978.2177 - accuracy: 1.5117e-06\n",
      "Epoch 5/10\n",
      "1/1 [==============================] - 5s 5s/step - loss: 1978.2177 - accuracy: 1.5117e-06\n",
      "Epoch 6/10\n",
      "1/1 [==============================] - 5s 5s/step - loss: 1978.2177 - accuracy: 1.5117e-06\n",
      "Epoch 7/10\n",
      "1/1 [==============================] - 5s 5s/step - loss: 1978.2177 - accuracy: 1.5117e-06\n",
      "Epoch 8/10\n",
      "1/1 [==============================] - 5s 5s/step - loss: 1978.2177 - accuracy: 1.5117e-06\n",
      "Epoch 9/10\n",
      "1/1 [==============================] - 5s 5s/step - loss: 1978.2177 - accuracy: 1.5117e-06\n",
      "Epoch 10/10\n",
      "1/1 [==============================] - 5s 5s/step - loss: 1978.2177 - accuracy: 1.5117e-06\n",
      "Epoch 1/10\n",
      "1/1 [==============================] - 5s 5s/step - loss: 1742.4700 - accuracy: 0.0000e+00\n",
      "Epoch 2/10\n",
      "1/1 [==============================] - 5s 5s/step - loss: 1742.4700 - accuracy: 0.0000e+00\n",
      "Epoch 3/10\n",
      "1/1 [==============================] - 5s 5s/step - loss: 1742.4700 - accuracy: 0.0000e+00\n",
      "Epoch 4/10\n",
      "1/1 [==============================] - 5s 5s/step - loss: 1742.4698 - accuracy: 0.0000e+00\n",
      "Epoch 5/10\n",
      "1/1 [==============================] - 5s 5s/step - loss: 1742.4698 - accuracy: 0.0000e+00\n",
      "Epoch 6/10\n",
      "1/1 [==============================] - 5s 5s/step - loss: 1742.4698 - accuracy: 0.0000e+00\n",
      "Epoch 7/10\n",
      "1/1 [==============================] - 5s 5s/step - loss: 1742.4698 - accuracy: 0.0000e+00\n",
      "Epoch 8/10\n",
      "1/1 [==============================] - 5s 5s/step - loss: 1742.4698 - accuracy: 0.0000e+00\n",
      "Epoch 9/10\n",
      "1/1 [==============================] - 5s 5s/step - loss: 1742.4698 - accuracy: 0.0000e+00\n",
      "Epoch 10/10\n",
      "1/1 [==============================] - 5s 5s/step - loss: 1742.4698 - accuracy: 0.0000e+00\n",
      "/home/fdf7gn/data/UVaVoice/ConversationalSpeech-FunctioningLarynxes/Participant 2/Electrolarynx/2021-12-15_14-51-10.wav\n",
      "Epoch 1/10\n",
      "1/1 [==============================] - 5s 5s/step - loss: 1772.3390 - accuracy: 0.0000e+00\n",
      "Epoch 2/10\n",
      "1/1 [==============================] - 5s 5s/step - loss: 1772.3390 - accuracy: 0.0000e+00\n",
      "Epoch 3/10\n",
      "1/1 [==============================] - 5s 5s/step - loss: 1772.3390 - accuracy: 0.0000e+00\n",
      "Epoch 4/10\n",
      "1/1 [==============================] - 5s 5s/step - loss: 1772.3390 - accuracy: 0.0000e+00\n",
      "Epoch 5/10\n",
      "1/1 [==============================] - 5s 5s/step - loss: 1772.3390 - accuracy: 0.0000e+00\n",
      "Epoch 6/10\n",
      "1/1 [==============================] - 5s 5s/step - loss: 1772.3390 - accuracy: 0.0000e+00\n",
      "Epoch 7/10\n",
      "1/1 [==============================] - 5s 5s/step - loss: 1772.3390 - accuracy: 0.0000e+00\n",
      "Epoch 8/10\n",
      "1/1 [==============================] - 5s 5s/step - loss: 1772.3390 - accuracy: 0.0000e+00\n",
      "Epoch 9/10\n",
      "1/1 [==============================] - 5s 5s/step - loss: 1772.3390 - accuracy: 0.0000e+00\n",
      "Epoch 10/10\n",
      "1/1 [==============================] - 5s 5s/step - loss: 1772.3389 - accuracy: 0.0000e+00\n",
      "Epoch 1/10\n",
      "1/1 [==============================] - 5s 5s/step - loss: 1841.7969 - accuracy: 1.5117e-06\n",
      "Epoch 2/10\n",
      "1/1 [==============================] - 5s 5s/step - loss: 1841.7969 - accuracy: 1.5117e-06\n",
      "Epoch 3/10\n",
      "1/1 [==============================] - 5s 5s/step - loss: 1841.7969 - accuracy: 1.5117e-06\n",
      "Epoch 4/10\n",
      "1/1 [==============================] - 5s 5s/step - loss: 1841.7969 - accuracy: 1.5117e-06\n",
      "Epoch 5/10\n",
      "1/1 [==============================] - 5s 5s/step - loss: 1841.7969 - accuracy: 1.5117e-06\n",
      "Epoch 6/10\n",
      "1/1 [==============================] - 5s 5s/step - loss: 1841.7969 - accuracy: 1.5117e-06\n",
      "Epoch 7/10\n",
      "1/1 [==============================] - 5s 5s/step - loss: 1841.7969 - accuracy: 1.5117e-06\n",
      "Epoch 8/10\n",
      "1/1 [==============================] - 5s 5s/step - loss: 1841.7969 - accuracy: 1.5117e-06\n",
      "Epoch 9/10\n",
      "1/1 [==============================] - 5s 5s/step - loss: 1841.7969 - accuracy: 1.5117e-06\n",
      "Epoch 10/10\n",
      "1/1 [==============================] - 5s 5s/step - loss: 1841.7969 - accuracy: 1.5117e-06\n",
      "/home/fdf7gn/data/UVaVoice/ConversationalSpeech-FunctioningLarynxes/Participant 2/Electrolarynx/2021-12-15_15-05-50.wav\n",
      "Epoch 1/10\n",
      "1/1 [==============================] - 5s 5s/step - loss: 1669.3185 - accuracy: 0.0000e+00\n",
      "Epoch 2/10\n",
      "1/1 [==============================] - 5s 5s/step - loss: 1669.3184 - accuracy: 0.0000e+00\n",
      "Epoch 3/10\n",
      "1/1 [==============================] - 5s 5s/step - loss: 1669.3184 - accuracy: 0.0000e+00\n",
      "Epoch 4/10\n",
      "1/1 [==============================] - 5s 5s/step - loss: 1669.3184 - accuracy: 0.0000e+00\n",
      "Epoch 5/10\n",
      "1/1 [==============================] - 5s 5s/step - loss: 1669.3184 - accuracy: 0.0000e+00\n",
      "Epoch 6/10\n",
      "1/1 [==============================] - 5s 5s/step - loss: 1669.3184 - accuracy: 0.0000e+00\n",
      "Epoch 7/10\n",
      "1/1 [==============================] - 5s 5s/step - loss: 1669.3184 - accuracy: 0.0000e+00\n",
      "Epoch 8/10\n",
      "1/1 [==============================] - 5s 5s/step - loss: 1669.3184 - accuracy: 0.0000e+00\n",
      "Epoch 9/10\n",
      "1/1 [==============================] - 5s 5s/step - loss: 1669.3184 - accuracy: 0.0000e+00\n",
      "Epoch 10/10\n",
      "1/1 [==============================] - 5s 5s/step - loss: 1669.3184 - accuracy: 0.0000e+00\n",
      "Epoch 1/10\n",
      "1/1 [==============================] - 5s 5s/step - loss: 1832.7854 - accuracy: 1.5117e-06\n",
      "Epoch 2/10\n",
      "1/1 [==============================] - 5s 5s/step - loss: 1832.7856 - accuracy: 1.5117e-06\n",
      "Epoch 3/10\n",
      "1/1 [==============================] - 5s 5s/step - loss: 1832.7856 - accuracy: 1.5117e-06\n",
      "Epoch 4/10\n",
      "1/1 [==============================] - 5s 5s/step - loss: 1832.7856 - accuracy: 1.5117e-06\n",
      "Epoch 5/10\n",
      "1/1 [==============================] - 5s 5s/step - loss: 1832.7856 - accuracy: 1.5117e-06\n",
      "Epoch 6/10\n",
      "1/1 [==============================] - 5s 5s/step - loss: 1832.7856 - accuracy: 1.5117e-06\n",
      "Epoch 7/10\n",
      "1/1 [==============================] - 5s 5s/step - loss: 1832.7856 - accuracy: 1.5117e-06\n",
      "Epoch 8/10\n",
      "1/1 [==============================] - 5s 5s/step - loss: 1832.7856 - accuracy: 1.5117e-06\n",
      "Epoch 9/10\n",
      "1/1 [==============================] - 5s 5s/step - loss: 1832.7856 - accuracy: 1.5117e-06\n",
      "Epoch 10/10\n",
      "1/1 [==============================] - 5s 5s/step - loss: 1832.7854 - accuracy: 1.5117e-06\n",
      "/home/fdf7gn/data/UVaVoice/ConversationalSpeech-FunctioningLarynxes/Participant 2/Electrolarynx/2021-12-15_14-48-57.wav\n",
      "Epoch 1/10\n",
      "1/1 [==============================] - 5s 5s/step - loss: 1894.1594 - accuracy: 0.0000e+00\n",
      "Epoch 2/10\n",
      "1/1 [==============================] - 5s 5s/step - loss: 1894.1594 - accuracy: 0.0000e+00\n",
      "Epoch 3/10\n",
      "1/1 [==============================] - 5s 5s/step - loss: 1894.1594 - accuracy: 0.0000e+00\n",
      "Epoch 4/10\n",
      "1/1 [==============================] - 5s 5s/step - loss: 1894.1594 - accuracy: 0.0000e+00\n",
      "Epoch 5/10\n",
      "1/1 [==============================] - 6s 6s/step - loss: 1894.1594 - accuracy: 0.0000e+00\n",
      "Epoch 6/10\n",
      "1/1 [==============================] - 5s 5s/step - loss: 1894.1594 - accuracy: 0.0000e+00\n",
      "Epoch 7/10\n",
      "1/1 [==============================] - 5s 5s/step - loss: 1894.1594 - accuracy: 0.0000e+00\n",
      "Epoch 8/10\n",
      "1/1 [==============================] - 5s 5s/step - loss: 1894.1594 - accuracy: 0.0000e+00\n",
      "Epoch 9/10\n",
      "1/1 [==============================] - 5s 5s/step - loss: 1894.1594 - accuracy: 0.0000e+00\n",
      "Epoch 10/10\n",
      "1/1 [==============================] - 5s 5s/step - loss: 1894.1594 - accuracy: 0.0000e+00\n",
      "Epoch 1/10\n",
      "1/1 [==============================] - 5s 5s/step - loss: 2046.9927 - accuracy: 1.5117e-06\n",
      "Epoch 2/10\n",
      "1/1 [==============================] - 5s 5s/step - loss: 2046.9927 - accuracy: 1.5117e-06\n",
      "Epoch 3/10\n",
      "1/1 [==============================] - 5s 5s/step - loss: 2046.9927 - accuracy: 1.5117e-06\n",
      "Epoch 4/10\n",
      "1/1 [==============================] - 5s 5s/step - loss: 2046.9927 - accuracy: 1.5117e-06\n",
      "Epoch 5/10\n",
      "1/1 [==============================] - 6s 6s/step - loss: 2046.9927 - accuracy: 1.5117e-06\n",
      "Epoch 6/10\n",
      "1/1 [==============================] - 5s 5s/step - loss: 2046.9927 - accuracy: 1.5117e-06\n",
      "Epoch 7/10\n",
      "1/1 [==============================] - 5s 5s/step - loss: 2046.9927 - accuracy: 1.5117e-06\n",
      "Epoch 8/10\n",
      "1/1 [==============================] - 5s 5s/step - loss: 2046.9927 - accuracy: 1.5117e-06\n",
      "Epoch 9/10\n",
      "1/1 [==============================] - 5s 5s/step - loss: 2046.9927 - accuracy: 1.5117e-06\n",
      "Epoch 10/10\n",
      "1/1 [==============================] - 5s 5s/step - loss: 2046.9927 - accuracy: 1.5117e-06\n",
      "/home/fdf7gn/data/UVaVoice/ConversationalSpeech-FunctioningLarynxes/Participant 2/Electrolarynx/2021-12-15_14-58-33.wav\n",
      "Epoch 1/10\n",
      "1/1 [==============================] - 5s 5s/step - loss: 1665.4998 - accuracy: 1.5117e-06\n",
      "Epoch 2/10\n",
      "1/1 [==============================] - 5s 5s/step - loss: 1665.4998 - accuracy: 1.5117e-06\n",
      "Epoch 3/10\n",
      "1/1 [==============================] - 5s 5s/step - loss: 1665.4996 - accuracy: 1.5117e-06\n",
      "Epoch 4/10\n",
      "1/1 [==============================] - 5s 5s/step - loss: 1665.4996 - accuracy: 1.5117e-06\n",
      "Epoch 5/10\n",
      "1/1 [==============================] - 5s 5s/step - loss: 1665.4996 - accuracy: 1.5117e-06\n",
      "Epoch 6/10\n",
      "1/1 [==============================] - 5s 5s/step - loss: 1665.4996 - accuracy: 1.5117e-06\n",
      "Epoch 7/10\n",
      "1/1 [==============================] - 5s 5s/step - loss: 1665.4996 - accuracy: 1.5117e-06\n",
      "Epoch 8/10\n",
      "1/1 [==============================] - 5s 5s/step - loss: 1665.4996 - accuracy: 1.5117e-06\n",
      "Epoch 9/10\n",
      "1/1 [==============================] - 5s 5s/step - loss: 1665.4996 - accuracy: 1.5117e-06\n",
      "Epoch 10/10\n",
      "1/1 [==============================] - 5s 5s/step - loss: 1665.4996 - accuracy: 1.5117e-06\n",
      "Epoch 1/10\n",
      "1/1 [==============================] - 5s 5s/step - loss: 1681.8787 - accuracy: 1.5117e-06\n",
      "Epoch 2/10\n",
      "1/1 [==============================] - 5s 5s/step - loss: 1681.8787 - accuracy: 1.5117e-06\n",
      "Epoch 3/10\n",
      "1/1 [==============================] - 5s 5s/step - loss: 1681.8787 - accuracy: 1.5117e-06\n",
      "Epoch 4/10\n",
      "1/1 [==============================] - 5s 5s/step - loss: 1681.8787 - accuracy: 1.5117e-06\n",
      "Epoch 5/10\n",
      "1/1 [==============================] - 5s 5s/step - loss: 1681.8785 - accuracy: 1.5117e-06\n",
      "Epoch 6/10\n",
      "1/1 [==============================] - 5s 5s/step - loss: 1681.8787 - accuracy: 1.5117e-06\n",
      "Epoch 7/10\n",
      "1/1 [==============================] - 5s 5s/step - loss: 1681.8787 - accuracy: 1.5117e-06\n",
      "Epoch 8/10\n",
      "1/1 [==============================] - 5s 5s/step - loss: 1681.8785 - accuracy: 1.5117e-06\n",
      "Epoch 9/10\n",
      "1/1 [==============================] - 5s 5s/step - loss: 1681.8785 - accuracy: 1.5117e-06\n",
      "Epoch 10/10\n",
      "1/1 [==============================] - 5s 5s/step - loss: 1681.8785 - accuracy: 1.5117e-06\n",
      "/home/fdf7gn/data/UVaVoice/ConversationalSpeech-FunctioningLarynxes/Participant 2/Electrolarynx/2021-12-15_14-57-26.wav\n",
      "Epoch 1/10\n",
      "1/1 [==============================] - 5s 5s/step - loss: 1862.9685 - accuracy: 1.5117e-06\n",
      "Epoch 2/10\n",
      "1/1 [==============================] - 5s 5s/step - loss: 1862.9685 - accuracy: 1.5117e-06\n",
      "Epoch 3/10\n",
      "1/1 [==============================] - 5s 5s/step - loss: 1862.9685 - accuracy: 1.5117e-06\n",
      "Epoch 4/10\n",
      "1/1 [==============================] - 5s 5s/step - loss: 1862.9685 - accuracy: 1.5117e-06\n",
      "Epoch 5/10\n",
      "1/1 [==============================] - 5s 5s/step - loss: 1862.9685 - accuracy: 1.5117e-06\n",
      "Epoch 6/10\n",
      "1/1 [==============================] - 5s 5s/step - loss: 1862.9685 - accuracy: 1.5117e-06\n",
      "Epoch 7/10\n",
      "1/1 [==============================] - 5s 5s/step - loss: 1862.9685 - accuracy: 1.5117e-06\n",
      "Epoch 8/10\n",
      "1/1 [==============================] - 5s 5s/step - loss: 1862.9685 - accuracy: 1.5117e-06\n",
      "Epoch 9/10\n",
      "1/1 [==============================] - 5s 5s/step - loss: 1862.9685 - accuracy: 1.5117e-06\n",
      "Epoch 10/10\n",
      "1/1 [==============================] - 5s 5s/step - loss: 1862.9685 - accuracy: 1.5117e-06\n",
      "Epoch 1/10\n",
      "1/1 [==============================] - 5s 5s/step - loss: 1762.5520 - accuracy: 1.5117e-06\n",
      "Epoch 2/10\n",
      "1/1 [==============================] - 5s 5s/step - loss: 1762.5520 - accuracy: 1.5117e-06\n",
      "Epoch 3/10\n",
      "1/1 [==============================] - 5s 5s/step - loss: 1762.5520 - accuracy: 1.5117e-06\n",
      "Epoch 4/10\n",
      "1/1 [==============================] - 5s 5s/step - loss: 1762.5520 - accuracy: 1.5117e-06\n",
      "Epoch 5/10\n",
      "1/1 [==============================] - 5s 5s/step - loss: 1762.5520 - accuracy: 1.5117e-06\n",
      "Epoch 6/10\n",
      "1/1 [==============================] - 5s 5s/step - loss: 1762.5520 - accuracy: 1.5117e-06\n",
      "Epoch 7/10\n",
      "1/1 [==============================] - 5s 5s/step - loss: 1762.5520 - accuracy: 1.5117e-06\n",
      "Epoch 8/10\n",
      "1/1 [==============================] - 5s 5s/step - loss: 1762.5520 - accuracy: 1.5117e-06\n",
      "Epoch 9/10\n",
      "1/1 [==============================] - 5s 5s/step - loss: 1762.5520 - accuracy: 1.5117e-06\n",
      "Epoch 10/10\n",
      "1/1 [==============================] - 5s 5s/step - loss: 1762.5520 - accuracy: 1.5117e-06\n",
      "/home/fdf7gn/data/UVaVoice/ConversationalSpeech-FunctioningLarynxes/Participant 2/Electrolarynx/2021-12-15_14-50-04.wav\n",
      "Epoch 1/10\n",
      "1/1 [==============================] - 5s 5s/step - loss: 1909.3175 - accuracy: 1.5117e-06\n",
      "Epoch 2/10\n",
      "1/1 [==============================] - 5s 5s/step - loss: 1909.3175 - accuracy: 1.5117e-06\n",
      "Epoch 3/10\n",
      "1/1 [==============================] - 5s 5s/step - loss: 1909.3175 - accuracy: 1.5117e-06\n",
      "Epoch 4/10\n",
      "1/1 [==============================] - 5s 5s/step - loss: 1909.3175 - accuracy: 1.5117e-06\n",
      "Epoch 5/10\n",
      "1/1 [==============================] - 5s 5s/step - loss: 1909.3175 - accuracy: 1.5117e-06\n",
      "Epoch 6/10\n",
      "1/1 [==============================] - 5s 5s/step - loss: 1909.3175 - accuracy: 1.5117e-06\n",
      "Epoch 7/10\n",
      "1/1 [==============================] - 5s 5s/step - loss: 1909.3175 - accuracy: 1.5117e-06\n",
      "Epoch 8/10\n",
      "1/1 [==============================] - 5s 5s/step - loss: 1909.3175 - accuracy: 1.5117e-06\n",
      "Epoch 9/10\n",
      "1/1 [==============================] - 5s 5s/step - loss: 1909.3175 - accuracy: 1.5117e-06\n",
      "Epoch 10/10\n",
      "1/1 [==============================] - 5s 5s/step - loss: 1909.3175 - accuracy: 1.5117e-06\n",
      "Epoch 1/10\n",
      "1/1 [==============================] - 5s 5s/step - loss: 1817.8442 - accuracy: 1.5117e-06\n",
      "Epoch 2/10\n",
      "1/1 [==============================] - 5s 5s/step - loss: 1817.8440 - accuracy: 1.5117e-06\n",
      "Epoch 3/10\n",
      "1/1 [==============================] - 5s 5s/step - loss: 1817.8440 - accuracy: 1.5117e-06\n",
      "Epoch 4/10\n",
      "1/1 [==============================] - 5s 5s/step - loss: 1817.8440 - accuracy: 1.5117e-06\n",
      "Epoch 5/10\n",
      "1/1 [==============================] - 5s 5s/step - loss: 1817.8440 - accuracy: 1.5117e-06\n",
      "Epoch 6/10\n",
      "1/1 [==============================] - 5s 5s/step - loss: 1817.8440 - accuracy: 1.5117e-06\n",
      "Epoch 7/10\n",
      "1/1 [==============================] - 5s 5s/step - loss: 1817.8440 - accuracy: 1.5117e-06\n",
      "Epoch 8/10\n",
      "1/1 [==============================] - 5s 5s/step - loss: 1817.8440 - accuracy: 1.5117e-06\n",
      "Epoch 9/10\n",
      "1/1 [==============================] - 5s 5s/step - loss: 1817.8440 - accuracy: 1.5117e-06\n",
      "Epoch 10/10\n",
      "1/1 [==============================] - 5s 5s/step - loss: 1817.8440 - accuracy: 1.5117e-06\n",
      "/home/fdf7gn/data/UVaVoice/ConversationalSpeech-FunctioningLarynxes/Participant 2/Electrolarynx/2021-12-15_15-04-45.wav\n",
      "Epoch 1/10\n",
      "1/1 [==============================] - 5s 5s/step - loss: 1744.1621 - accuracy: 0.0000e+00\n",
      "Epoch 2/10\n",
      "1/1 [==============================] - 5s 5s/step - loss: 1744.1621 - accuracy: 0.0000e+00\n",
      "Epoch 3/10\n",
      "1/1 [==============================] - 5s 5s/step - loss: 1744.1621 - accuracy: 0.0000e+00\n",
      "Epoch 4/10\n",
      "1/1 [==============================] - 5s 5s/step - loss: 1744.1621 - accuracy: 0.0000e+00\n",
      "Epoch 5/10\n",
      "1/1 [==============================] - 5s 5s/step - loss: 1744.1621 - accuracy: 0.0000e+00\n",
      "Epoch 6/10\n",
      "1/1 [==============================] - 5s 5s/step - loss: 1744.1621 - accuracy: 0.0000e+00\n",
      "Epoch 7/10\n",
      "1/1 [==============================] - 5s 5s/step - loss: 1744.1621 - accuracy: 0.0000e+00\n",
      "Epoch 8/10\n",
      "1/1 [==============================] - 5s 5s/step - loss: 1744.1621 - accuracy: 0.0000e+00\n",
      "Epoch 9/10\n",
      "1/1 [==============================] - 5s 5s/step - loss: 1744.1621 - accuracy: 0.0000e+00\n",
      "Epoch 10/10\n",
      "1/1 [==============================] - 5s 5s/step - loss: 1744.1621 - accuracy: 0.0000e+00\n",
      "Epoch 1/10\n",
      "1/1 [==============================] - 5s 5s/step - loss: 1682.3951 - accuracy: 1.5117e-06\n",
      "Epoch 2/10\n",
      "1/1 [==============================] - 5s 5s/step - loss: 1682.3951 - accuracy: 1.5117e-06\n",
      "Epoch 3/10\n",
      "1/1 [==============================] - 5s 5s/step - loss: 1682.3951 - accuracy: 1.5117e-06\n",
      "Epoch 4/10\n",
      "1/1 [==============================] - 5s 5s/step - loss: 1682.3951 - accuracy: 1.5117e-06\n",
      "Epoch 5/10\n",
      "1/1 [==============================] - 5s 5s/step - loss: 1682.3951 - accuracy: 1.5117e-06\n",
      "Epoch 6/10\n",
      "1/1 [==============================] - 5s 5s/step - loss: 1682.3951 - accuracy: 1.5117e-06\n",
      "Epoch 7/10\n",
      "1/1 [==============================] - 5s 5s/step - loss: 1682.3951 - accuracy: 1.5117e-06\n",
      "Epoch 8/10\n",
      "1/1 [==============================] - 5s 5s/step - loss: 1682.3951 - accuracy: 1.5117e-06\n",
      "Epoch 9/10\n",
      "1/1 [==============================] - 5s 5s/step - loss: 1682.3951 - accuracy: 1.5117e-06\n",
      "Epoch 10/10\n",
      "1/1 [==============================] - 5s 5s/step - loss: 1682.3951 - accuracy: 1.5117e-06\n",
      "/home/fdf7gn/data/UVaVoice/ConversationalSpeech-FunctioningLarynxes/Participant 6/2022-05-18_14-37-16.wav\n",
      "Epoch 1/10\n",
      "1/1 [==============================] - 5s 5s/step - loss: 3427.7600 - accuracy: 1.5117e-06\n",
      "Epoch 2/10\n",
      "1/1 [==============================] - 5s 5s/step - loss: 3427.7600 - accuracy: 1.5117e-06\n",
      "Epoch 3/10\n",
      "1/1 [==============================] - 5s 5s/step - loss: 3427.7600 - accuracy: 1.5117e-06\n",
      "Epoch 4/10\n",
      "1/1 [==============================] - 5s 5s/step - loss: 3427.7600 - accuracy: 1.5117e-06\n",
      "Epoch 5/10\n",
      "1/1 [==============================] - 5s 5s/step - loss: 3427.7600 - accuracy: 1.5117e-06\n",
      "Epoch 6/10\n",
      "1/1 [==============================] - 5s 5s/step - loss: 3427.7600 - accuracy: 1.5117e-06\n",
      "Epoch 7/10\n",
      "1/1 [==============================] - 5s 5s/step - loss: 3427.7600 - accuracy: 1.5117e-06\n",
      "Epoch 8/10\n",
      "1/1 [==============================] - 5s 5s/step - loss: 3427.7600 - accuracy: 1.5117e-06\n",
      "Epoch 9/10\n",
      "1/1 [==============================] - 5s 5s/step - loss: 3427.7600 - accuracy: 1.5117e-06\n",
      "Epoch 10/10\n",
      "1/1 [==============================] - 5s 5s/step - loss: 3427.7600 - accuracy: 1.5117e-06\n",
      "Epoch 1/10\n",
      "1/1 [==============================] - 5s 5s/step - loss: 3596.6370 - accuracy: 1.5117e-06\n",
      "Epoch 2/10\n",
      "1/1 [==============================] - 5s 5s/step - loss: 3596.6370 - accuracy: 1.5117e-06\n",
      "Epoch 3/10\n",
      "1/1 [==============================] - 5s 5s/step - loss: 3596.6370 - accuracy: 1.5117e-06\n",
      "Epoch 4/10\n",
      "1/1 [==============================] - 5s 5s/step - loss: 3596.6370 - accuracy: 1.5117e-06\n",
      "Epoch 5/10\n",
      "1/1 [==============================] - 5s 5s/step - loss: 3596.6370 - accuracy: 1.5117e-06\n",
      "Epoch 6/10\n",
      "1/1 [==============================] - 5s 5s/step - loss: 3596.6370 - accuracy: 1.5117e-06\n",
      "Epoch 7/10\n",
      "1/1 [==============================] - 5s 5s/step - loss: 3596.6370 - accuracy: 1.5117e-06\n",
      "Epoch 8/10\n",
      "1/1 [==============================] - 5s 5s/step - loss: 3596.6370 - accuracy: 1.5117e-06\n",
      "Epoch 9/10\n",
      "1/1 [==============================] - 5s 5s/step - loss: 3596.6367 - accuracy: 1.5117e-06\n",
      "Epoch 10/10\n",
      "1/1 [==============================] - 5s 5s/step - loss: 3596.6367 - accuracy: 1.5117e-06\n",
      "/home/fdf7gn/data/UVaVoice/ConversationalSpeech-FunctioningLarynxes/Participant 6/2022-05-18_14-34-28.wav\n",
      "Epoch 1/10\n",
      "1/1 [==============================] - 5s 5s/step - loss: 3144.9814 - accuracy: 0.0000e+00\n",
      "Epoch 2/10\n",
      "1/1 [==============================] - 5s 5s/step - loss: 3144.9812 - accuracy: 0.0000e+00\n",
      "Epoch 3/10\n",
      "1/1 [==============================] - 5s 5s/step - loss: 3144.9812 - accuracy: 0.0000e+00\n",
      "Epoch 4/10\n",
      "1/1 [==============================] - 5s 5s/step - loss: 3144.9812 - accuracy: 0.0000e+00\n",
      "Epoch 5/10\n",
      "1/1 [==============================] - 5s 5s/step - loss: 3144.9812 - accuracy: 0.0000e+00\n",
      "Epoch 6/10\n",
      "1/1 [==============================] - 5s 5s/step - loss: 3144.9812 - accuracy: 0.0000e+00\n",
      "Epoch 7/10\n",
      "1/1 [==============================] - 5s 5s/step - loss: 3144.9812 - accuracy: 0.0000e+00\n",
      "Epoch 8/10\n",
      "1/1 [==============================] - 5s 5s/step - loss: 3144.9812 - accuracy: 0.0000e+00\n",
      "Epoch 9/10\n",
      "1/1 [==============================] - 5s 5s/step - loss: 3144.9812 - accuracy: 0.0000e+00\n",
      "Epoch 10/10\n",
      "1/1 [==============================] - 5s 5s/step - loss: 3144.9812 - accuracy: 0.0000e+00\n",
      "Epoch 1/10\n",
      "1/1 [==============================] - 5s 5s/step - loss: 3374.1250 - accuracy: 1.5117e-06\n",
      "Epoch 2/10\n",
      "1/1 [==============================] - 5s 5s/step - loss: 3374.1250 - accuracy: 1.5117e-06\n",
      "Epoch 3/10\n",
      "1/1 [==============================] - 5s 5s/step - loss: 3374.1250 - accuracy: 1.5117e-06\n",
      "Epoch 4/10\n",
      "1/1 [==============================] - 5s 5s/step - loss: 3374.1250 - accuracy: 1.5117e-06\n",
      "Epoch 5/10\n",
      "1/1 [==============================] - 5s 5s/step - loss: 3374.1250 - accuracy: 1.5117e-06\n",
      "Epoch 6/10\n",
      "1/1 [==============================] - 5s 5s/step - loss: 3374.1250 - accuracy: 1.5117e-06\n",
      "Epoch 7/10\n",
      "1/1 [==============================] - 5s 5s/step - loss: 3374.1250 - accuracy: 1.5117e-06\n",
      "Epoch 8/10\n",
      "1/1 [==============================] - 5s 5s/step - loss: 3374.1250 - accuracy: 1.5117e-06\n",
      "Epoch 9/10\n",
      "1/1 [==============================] - 5s 5s/step - loss: 3374.1250 - accuracy: 1.5117e-06\n",
      "Epoch 10/10\n",
      "1/1 [==============================] - 5s 5s/step - loss: 3374.1250 - accuracy: 1.5117e-06\n",
      "/home/fdf7gn/data/UVaVoice/ConversationalSpeech-FunctioningLarynxes/Participant 6/2022-05-18_14-45-25.wav\n",
      "Epoch 1/10\n",
      "1/1 [==============================] - 5s 5s/step - loss: 3225.6968 - accuracy: 1.5117e-06\n",
      "Epoch 2/10\n",
      "1/1 [==============================] - 5s 5s/step - loss: 3225.6968 - accuracy: 1.5117e-06\n",
      "Epoch 3/10\n",
      "1/1 [==============================] - 5s 5s/step - loss: 3225.6968 - accuracy: 1.5117e-06\n",
      "Epoch 4/10\n",
      "1/1 [==============================] - 5s 5s/step - loss: 3225.6968 - accuracy: 1.5117e-06\n",
      "Epoch 5/10\n",
      "1/1 [==============================] - 5s 5s/step - loss: 3225.6968 - accuracy: 1.5117e-06\n",
      "Epoch 6/10\n",
      "1/1 [==============================] - 5s 5s/step - loss: 3225.6968 - accuracy: 1.5117e-06\n",
      "Epoch 7/10\n",
      "1/1 [==============================] - 5s 5s/step - loss: 3225.6968 - accuracy: 1.5117e-06\n",
      "Epoch 8/10\n",
      "1/1 [==============================] - 5s 5s/step - loss: 3225.6968 - accuracy: 1.5117e-06\n",
      "Epoch 9/10\n",
      "1/1 [==============================] - 5s 5s/step - loss: 3225.6968 - accuracy: 1.5117e-06\n",
      "Epoch 10/10\n",
      "1/1 [==============================] - 5s 5s/step - loss: 3225.6968 - accuracy: 1.5117e-06\n",
      "Epoch 1/10\n",
      "1/1 [==============================] - 5s 5s/step - loss: 3159.7539 - accuracy: 0.0000e+00\n",
      "Epoch 2/10\n",
      "1/1 [==============================] - 5s 5s/step - loss: 3159.7539 - accuracy: 0.0000e+00\n",
      "Epoch 3/10\n",
      "1/1 [==============================] - 5s 5s/step - loss: 3159.7539 - accuracy: 0.0000e+00\n",
      "Epoch 4/10\n",
      "1/1 [==============================] - 5s 5s/step - loss: 3159.7539 - accuracy: 0.0000e+00\n",
      "Epoch 5/10\n",
      "1/1 [==============================] - 5s 5s/step - loss: 3159.7539 - accuracy: 0.0000e+00\n",
      "Epoch 6/10\n",
      "1/1 [==============================] - 5s 5s/step - loss: 3159.7539 - accuracy: 0.0000e+00\n",
      "Epoch 7/10\n",
      "1/1 [==============================] - 5s 5s/step - loss: 3159.7539 - accuracy: 0.0000e+00\n",
      "Epoch 8/10\n",
      "1/1 [==============================] - 5s 5s/step - loss: 3159.7539 - accuracy: 0.0000e+00\n",
      "Epoch 9/10\n",
      "1/1 [==============================] - 5s 5s/step - loss: 3159.7539 - accuracy: 0.0000e+00\n",
      "Epoch 10/10\n",
      "1/1 [==============================] - 5s 5s/step - loss: 3159.7539 - accuracy: 0.0000e+00\n",
      "/home/fdf7gn/data/UVaVoice/ConversationalSpeech-FunctioningLarynxes/Participant 6/2022-05-18_14-35-51.wav\n",
      "Epoch 1/10\n",
      "1/1 [==============================] - 6s 6s/step - loss: 3059.9565 - accuracy: 1.5117e-06\n",
      "Epoch 2/10\n",
      "1/1 [==============================] - 5s 5s/step - loss: 3059.9565 - accuracy: 1.5117e-06\n",
      "Epoch 3/10\n",
      "1/1 [==============================] - 5s 5s/step - loss: 3059.9565 - accuracy: 1.5117e-06\n",
      "Epoch 4/10\n",
      "1/1 [==============================] - 5s 5s/step - loss: 3059.9565 - accuracy: 1.5117e-06\n",
      "Epoch 5/10\n",
      "1/1 [==============================] - 5s 5s/step - loss: 3059.9565 - accuracy: 1.5117e-06\n",
      "Epoch 6/10\n",
      "1/1 [==============================] - 5s 5s/step - loss: 3059.9565 - accuracy: 1.5117e-06\n",
      "Epoch 7/10\n",
      "1/1 [==============================] - 5s 5s/step - loss: 3059.9565 - accuracy: 1.5117e-06\n",
      "Epoch 8/10\n",
      "1/1 [==============================] - 5s 5s/step - loss: 3059.9565 - accuracy: 1.5117e-06\n",
      "Epoch 9/10\n",
      "1/1 [==============================] - 5s 5s/step - loss: 3059.9565 - accuracy: 1.5117e-06\n",
      "Epoch 10/10\n",
      "1/1 [==============================] - 5s 5s/step - loss: 3059.9565 - accuracy: 1.5117e-06\n",
      "Epoch 1/10\n",
      "1/1 [==============================] - 5s 5s/step - loss: 3416.7612 - accuracy: 1.5117e-06\n",
      "Epoch 2/10\n",
      "1/1 [==============================] - 5s 5s/step - loss: 3416.7612 - accuracy: 1.5117e-06\n",
      "Epoch 3/10\n",
      "1/1 [==============================] - 5s 5s/step - loss: 3416.7612 - accuracy: 1.5117e-06\n",
      "Epoch 4/10\n",
      "1/1 [==============================] - 5s 5s/step - loss: 3416.7612 - accuracy: 1.5117e-06\n",
      "Epoch 5/10\n",
      "1/1 [==============================] - 5s 5s/step - loss: 3416.7612 - accuracy: 1.5117e-06\n",
      "Epoch 6/10\n",
      "1/1 [==============================] - 5s 5s/step - loss: 3416.7612 - accuracy: 1.5117e-06\n",
      "Epoch 7/10\n",
      "1/1 [==============================] - 5s 5s/step - loss: 3416.7612 - accuracy: 1.5117e-06\n",
      "Epoch 8/10\n",
      "1/1 [==============================] - 5s 5s/step - loss: 3416.7612 - accuracy: 1.5117e-06\n",
      "Epoch 9/10\n",
      "1/1 [==============================] - 5s 5s/step - loss: 3416.7612 - accuracy: 1.5117e-06\n",
      "Epoch 10/10\n",
      "1/1 [==============================] - 5s 5s/step - loss: 3416.7612 - accuracy: 1.5117e-06\n",
      "/home/fdf7gn/data/UVaVoice/ConversationalSpeech-FunctioningLarynxes/Participant 6/2022-05-18_14-38-51.wav\n",
      "Epoch 1/10\n",
      "1/1 [==============================] - 5s 5s/step - loss: 3186.8062 - accuracy: 1.5117e-06\n",
      "Epoch 2/10\n",
      "1/1 [==============================] - 5s 5s/step - loss: 3186.8062 - accuracy: 1.5117e-06\n",
      "Epoch 3/10\n",
      "1/1 [==============================] - 5s 5s/step - loss: 3186.8062 - accuracy: 1.5117e-06\n",
      "Epoch 4/10\n",
      "1/1 [==============================] - 5s 5s/step - loss: 3186.8062 - accuracy: 1.5117e-06\n",
      "Epoch 5/10\n",
      "1/1 [==============================] - 5s 5s/step - loss: 3186.8062 - accuracy: 1.5117e-06\n",
      "Epoch 6/10\n",
      "1/1 [==============================] - 5s 5s/step - loss: 3186.8062 - accuracy: 1.5117e-06\n",
      "Epoch 7/10\n",
      "1/1 [==============================] - 5s 5s/step - loss: 3186.8062 - accuracy: 1.5117e-06\n",
      "Epoch 8/10\n",
      "1/1 [==============================] - 5s 5s/step - loss: 3186.8062 - accuracy: 1.5117e-06\n",
      "Epoch 9/10\n",
      "1/1 [==============================] - 5s 5s/step - loss: 3186.8062 - accuracy: 1.5117e-06\n",
      "Epoch 10/10\n",
      "1/1 [==============================] - 5s 5s/step - loss: 3186.8062 - accuracy: 1.5117e-06\n",
      "Epoch 1/10\n",
      "1/1 [==============================] - 5s 5s/step - loss: 3602.8464 - accuracy: 1.5117e-06\n",
      "Epoch 2/10\n",
      "1/1 [==============================] - 5s 5s/step - loss: 3602.8464 - accuracy: 1.5117e-06\n",
      "Epoch 3/10\n",
      "1/1 [==============================] - 5s 5s/step - loss: 3602.8464 - accuracy: 1.5117e-06\n",
      "Epoch 4/10\n",
      "1/1 [==============================] - 5s 5s/step - loss: 3602.8464 - accuracy: 1.5117e-06\n",
      "Epoch 5/10\n",
      "1/1 [==============================] - 5s 5s/step - loss: 3602.8464 - accuracy: 1.5117e-06\n",
      "Epoch 6/10\n",
      "1/1 [==============================] - 5s 5s/step - loss: 3602.8459 - accuracy: 1.5117e-06\n",
      "Epoch 7/10\n",
      "1/1 [==============================] - 5s 5s/step - loss: 3602.8459 - accuracy: 1.5117e-06\n",
      "Epoch 8/10\n",
      "1/1 [==============================] - 5s 5s/step - loss: 3602.8459 - accuracy: 1.5117e-06\n",
      "Epoch 9/10\n",
      "1/1 [==============================] - 5s 5s/step - loss: 3602.8459 - accuracy: 1.5117e-06\n",
      "Epoch 10/10\n",
      "1/1 [==============================] - 5s 5s/step - loss: 3602.8459 - accuracy: 1.5117e-06\n",
      "/home/fdf7gn/data/UVaVoice/ConversationalSpeech-FunctioningLarynxes/Participant 6/2022-05-18_14-40-02.wav\n",
      "Epoch 1/10\n",
      "1/1 [==============================] - 5s 5s/step - loss: 3495.2571 - accuracy: 1.5117e-06\n",
      "Epoch 2/10\n",
      "1/1 [==============================] - 5s 5s/step - loss: 3495.2571 - accuracy: 1.5117e-06\n",
      "Epoch 3/10\n",
      "1/1 [==============================] - 5s 5s/step - loss: 3495.2571 - accuracy: 1.5117e-06\n",
      "Epoch 4/10\n",
      "1/1 [==============================] - 5s 5s/step - loss: 3495.2571 - accuracy: 1.5117e-06\n",
      "Epoch 5/10\n",
      "1/1 [==============================] - 5s 5s/step - loss: 3495.2571 - accuracy: 1.5117e-06\n",
      "Epoch 6/10\n",
      "1/1 [==============================] - 5s 5s/step - loss: 3495.2571 - accuracy: 1.5117e-06\n",
      "Epoch 7/10\n",
      "1/1 [==============================] - 5s 5s/step - loss: 3495.2571 - accuracy: 1.5117e-06\n",
      "Epoch 8/10\n",
      "1/1 [==============================] - 5s 5s/step - loss: 3495.2571 - accuracy: 1.5117e-06\n",
      "Epoch 9/10\n",
      "1/1 [==============================] - 5s 5s/step - loss: 3495.2571 - accuracy: 1.5117e-06\n",
      "Epoch 10/10\n",
      "1/1 [==============================] - 5s 5s/step - loss: 3495.2571 - accuracy: 1.5117e-06\n",
      "Epoch 1/10\n",
      "1/1 [==============================] - 5s 5s/step - loss: 3225.8999 - accuracy: 0.0000e+00\n",
      "Epoch 2/10\n",
      "1/1 [==============================] - 5s 5s/step - loss: 3225.8999 - accuracy: 0.0000e+00\n",
      "Epoch 3/10\n",
      "1/1 [==============================] - 5s 5s/step - loss: 3225.8999 - accuracy: 0.0000e+00\n",
      "Epoch 4/10\n",
      "1/1 [==============================] - 5s 5s/step - loss: 3225.8999 - accuracy: 0.0000e+00\n",
      "Epoch 5/10\n",
      "1/1 [==============================] - 5s 5s/step - loss: 3225.8999 - accuracy: 0.0000e+00\n",
      "Epoch 6/10\n",
      "1/1 [==============================] - 5s 5s/step - loss: 3225.8999 - accuracy: 0.0000e+00\n",
      "Epoch 7/10\n",
      "1/1 [==============================] - 5s 5s/step - loss: 3225.8999 - accuracy: 0.0000e+00\n",
      "Epoch 8/10\n",
      "1/1 [==============================] - 5s 5s/step - loss: 3225.8999 - accuracy: 0.0000e+00\n",
      "Epoch 9/10\n",
      "1/1 [==============================] - 5s 5s/step - loss: 3225.8997 - accuracy: 0.0000e+00\n",
      "Epoch 10/10\n",
      "1/1 [==============================] - 5s 5s/step - loss: 3225.8999 - accuracy: 0.0000e+00\n",
      "/home/fdf7gn/data/UVaVoice/ConversationalSpeech-FunctioningLarynxes/Participant 6/2022-05-18_14-31-09.wav\n",
      "Epoch 1/10\n",
      "1/1 [==============================] - 5s 5s/step - loss: 3414.1917 - accuracy: 0.0000e+00\n",
      "Epoch 2/10\n",
      "1/1 [==============================] - 5s 5s/step - loss: 3414.1917 - accuracy: 0.0000e+00\n",
      "Epoch 3/10\n",
      "1/1 [==============================] - 5s 5s/step - loss: 3414.1917 - accuracy: 0.0000e+00\n",
      "Epoch 4/10\n",
      "1/1 [==============================] - 5s 5s/step - loss: 3414.1917 - accuracy: 0.0000e+00\n",
      "Epoch 5/10\n",
      "1/1 [==============================] - 5s 5s/step - loss: 3414.1917 - accuracy: 0.0000e+00\n",
      "Epoch 6/10\n",
      "1/1 [==============================] - 5s 5s/step - loss: 3414.1917 - accuracy: 0.0000e+00\n",
      "Epoch 7/10\n",
      "1/1 [==============================] - 5s 5s/step - loss: 3414.1917 - accuracy: 0.0000e+00\n",
      "Epoch 8/10\n",
      "1/1 [==============================] - 5s 5s/step - loss: 3414.1917 - accuracy: 0.0000e+00\n",
      "Epoch 9/10\n",
      "1/1 [==============================] - 5s 5s/step - loss: 3414.1917 - accuracy: 0.0000e+00\n",
      "Epoch 10/10\n",
      "1/1 [==============================] - 5s 5s/step - loss: 3414.1917 - accuracy: 0.0000e+00\n",
      "Epoch 1/10\n",
      "1/1 [==============================] - 5s 5s/step - loss: 3244.7437 - accuracy: 0.0000e+00\n",
      "Epoch 2/10\n",
      "1/1 [==============================] - 5s 5s/step - loss: 3244.7437 - accuracy: 0.0000e+00\n",
      "Epoch 3/10\n",
      "1/1 [==============================] - 5s 5s/step - loss: 3244.7437 - accuracy: 0.0000e+00\n",
      "Epoch 4/10\n",
      "1/1 [==============================] - 5s 5s/step - loss: 3244.7437 - accuracy: 0.0000e+00\n",
      "Epoch 5/10\n",
      "1/1 [==============================] - 5s 5s/step - loss: 3244.7437 - accuracy: 0.0000e+00\n",
      "Epoch 6/10\n",
      "1/1 [==============================] - 5s 5s/step - loss: 3244.7437 - accuracy: 0.0000e+00\n",
      "Epoch 7/10\n",
      "1/1 [==============================] - 5s 5s/step - loss: 3244.7437 - accuracy: 0.0000e+00\n",
      "Epoch 8/10\n",
      "1/1 [==============================] - 5s 5s/step - loss: 3244.7437 - accuracy: 0.0000e+00\n",
      "Epoch 9/10\n",
      "1/1 [==============================] - 5s 5s/step - loss: 3244.7434 - accuracy: 0.0000e+00\n",
      "Epoch 10/10\n",
      "1/1 [==============================] - 5s 5s/step - loss: 3244.7432 - accuracy: 0.0000e+00\n",
      "/home/fdf7gn/data/UVaVoice/ConversationalSpeech-FunctioningLarynxes/Participant 6/2022-05-18_14-32-59.wav\n",
      "Epoch 1/10\n",
      "1/1 [==============================] - 5s 5s/step - loss: 3200.0330 - accuracy: 1.5117e-06\n",
      "Epoch 2/10\n",
      "1/1 [==============================] - 5s 5s/step - loss: 3200.0330 - accuracy: 1.5117e-06\n",
      "Epoch 3/10\n",
      "1/1 [==============================] - 5s 5s/step - loss: 3200.0330 - accuracy: 1.5117e-06\n",
      "Epoch 4/10\n",
      "1/1 [==============================] - 5s 5s/step - loss: 3200.0330 - accuracy: 1.5117e-06\n",
      "Epoch 5/10\n",
      "1/1 [==============================] - 5s 5s/step - loss: 3200.0330 - accuracy: 1.5117e-06\n",
      "Epoch 6/10\n",
      "1/1 [==============================] - 5s 5s/step - loss: 3200.0330 - accuracy: 1.5117e-06\n",
      "Epoch 7/10\n",
      "1/1 [==============================] - 5s 5s/step - loss: 3200.0330 - accuracy: 1.5117e-06\n",
      "Epoch 8/10\n",
      "1/1 [==============================] - 5s 5s/step - loss: 3200.0330 - accuracy: 1.5117e-06\n",
      "Epoch 9/10\n",
      "1/1 [==============================] - 5s 5s/step - loss: 3200.0330 - accuracy: 1.5117e-06\n",
      "Epoch 10/10\n",
      "1/1 [==============================] - 5s 5s/step - loss: 3200.0330 - accuracy: 1.5117e-06\n",
      "Epoch 1/10\n",
      "1/1 [==============================] - 5s 5s/step - loss: 3356.7817 - accuracy: 1.5117e-06\n",
      "Epoch 2/10\n",
      "1/1 [==============================] - 5s 5s/step - loss: 3356.7817 - accuracy: 1.5117e-06\n",
      "Epoch 3/10\n",
      "1/1 [==============================] - 5s 5s/step - loss: 3356.7817 - accuracy: 1.5117e-06\n",
      "Epoch 4/10\n",
      "1/1 [==============================] - 5s 5s/step - loss: 3356.7817 - accuracy: 1.5117e-06\n",
      "Epoch 5/10\n",
      "1/1 [==============================] - 5s 5s/step - loss: 3356.7817 - accuracy: 1.5117e-06\n",
      "Epoch 6/10\n",
      "1/1 [==============================] - 5s 5s/step - loss: 3356.7817 - accuracy: 1.5117e-06\n",
      "Epoch 7/10\n",
      "1/1 [==============================] - 5s 5s/step - loss: 3356.7817 - accuracy: 1.5117e-06\n",
      "Epoch 8/10\n",
      "1/1 [==============================] - 5s 5s/step - loss: 3356.7817 - accuracy: 1.5117e-06\n",
      "Epoch 9/10\n",
      "1/1 [==============================] - 5s 5s/step - loss: 3356.7817 - accuracy: 1.5117e-06\n",
      "Epoch 10/10\n",
      "1/1 [==============================] - 5s 5s/step - loss: 3356.7817 - accuracy: 1.5117e-06\n",
      "/home/fdf7gn/data/UVaVoice/ConversationalSpeech-FunctioningLarynxes/Participant 6/2022-05-18_14-44-06.wav\n",
      "Epoch 1/10\n",
      "1/1 [==============================] - 5s 5s/step - loss: 3168.3870 - accuracy: 1.5117e-06\n",
      "Epoch 2/10\n",
      "1/1 [==============================] - 5s 5s/step - loss: 3168.3870 - accuracy: 1.5117e-06\n",
      "Epoch 3/10\n",
      "1/1 [==============================] - 5s 5s/step - loss: 3168.3870 - accuracy: 1.5117e-06\n",
      "Epoch 4/10\n",
      "1/1 [==============================] - 5s 5s/step - loss: 3168.3870 - accuracy: 1.5117e-06\n",
      "Epoch 5/10\n",
      "1/1 [==============================] - 5s 5s/step - loss: 3168.3870 - accuracy: 1.5117e-06\n",
      "Epoch 6/10\n",
      "1/1 [==============================] - 5s 5s/step - loss: 3168.3870 - accuracy: 1.5117e-06\n",
      "Epoch 7/10\n",
      "1/1 [==============================] - 5s 5s/step - loss: 3168.3870 - accuracy: 1.5117e-06\n",
      "Epoch 8/10\n",
      "1/1 [==============================] - 6s 6s/step - loss: 3168.3870 - accuracy: 1.5117e-06\n",
      "Epoch 9/10\n",
      "1/1 [==============================] - 5s 5s/step - loss: 3168.3870 - accuracy: 1.5117e-06\n",
      "Epoch 10/10\n",
      "1/1 [==============================] - 5s 5s/step - loss: 3168.3870 - accuracy: 1.5117e-06\n",
      "Epoch 1/10\n",
      "1/1 [==============================] - 5s 5s/step - loss: 3109.8452 - accuracy: 1.5117e-06\n",
      "Epoch 2/10\n",
      "1/1 [==============================] - 5s 5s/step - loss: 3109.8452 - accuracy: 1.5117e-06\n",
      "Epoch 3/10\n",
      "1/1 [==============================] - 5s 5s/step - loss: 3109.8452 - accuracy: 1.5117e-06\n",
      "Epoch 4/10\n",
      "1/1 [==============================] - 5s 5s/step - loss: 3109.8452 - accuracy: 1.5117e-06\n",
      "Epoch 5/10\n",
      "1/1 [==============================] - 5s 5s/step - loss: 3109.8452 - accuracy: 1.5117e-06\n",
      "Epoch 6/10\n",
      "1/1 [==============================] - 5s 5s/step - loss: 3109.8452 - accuracy: 1.5117e-06\n",
      "Epoch 7/10\n",
      "1/1 [==============================] - 5s 5s/step - loss: 3109.8452 - accuracy: 1.5117e-06\n",
      "Epoch 8/10\n",
      "1/1 [==============================] - 5s 5s/step - loss: 3109.8452 - accuracy: 1.5117e-06\n",
      "Epoch 9/10\n",
      "1/1 [==============================] - 5s 5s/step - loss: 3109.8452 - accuracy: 1.5117e-06\n",
      "Epoch 10/10\n",
      "1/1 [==============================] - 5s 5s/step - loss: 3109.8452 - accuracy: 1.5117e-06\n",
      "/home/fdf7gn/data/UVaVoice/ConversationalSpeech-FunctioningLarynxes/Participant 6/2022-05-18_14-42-45.wav\n",
      "Epoch 1/10\n",
      "1/1 [==============================] - 5s 5s/step - loss: 3055.9712 - accuracy: 0.0000e+00\n",
      "Epoch 2/10\n",
      "1/1 [==============================] - 5s 5s/step - loss: 3055.9712 - accuracy: 0.0000e+00\n",
      "Epoch 3/10\n",
      "1/1 [==============================] - 5s 5s/step - loss: 3055.9712 - accuracy: 0.0000e+00\n",
      "Epoch 4/10\n",
      "1/1 [==============================] - 5s 5s/step - loss: 3055.9712 - accuracy: 0.0000e+00\n",
      "Epoch 5/10\n",
      "1/1 [==============================] - 5s 5s/step - loss: 3055.9712 - accuracy: 0.0000e+00\n",
      "Epoch 6/10\n",
      "1/1 [==============================] - 5s 5s/step - loss: 3055.9712 - accuracy: 0.0000e+00\n",
      "Epoch 7/10\n",
      "1/1 [==============================] - 5s 5s/step - loss: 3055.9712 - accuracy: 0.0000e+00\n",
      "Epoch 8/10\n",
      "1/1 [==============================] - 5s 5s/step - loss: 3055.9712 - accuracy: 0.0000e+00\n",
      "Epoch 9/10\n",
      "1/1 [==============================] - 5s 5s/step - loss: 3055.9712 - accuracy: 0.0000e+00\n",
      "Epoch 10/10\n",
      "1/1 [==============================] - 5s 5s/step - loss: 3055.9712 - accuracy: 0.0000e+00\n",
      "Epoch 1/10\n",
      "1/1 [==============================] - 5s 5s/step - loss: 3136.2097 - accuracy: 1.5117e-06\n",
      "Epoch 2/10\n",
      "1/1 [==============================] - 5s 5s/step - loss: 3136.2097 - accuracy: 1.5117e-06\n",
      "Epoch 3/10\n",
      "1/1 [==============================] - 5s 5s/step - loss: 3136.2097 - accuracy: 1.5117e-06\n",
      "Epoch 4/10\n",
      "1/1 [==============================] - 5s 5s/step - loss: 3136.2097 - accuracy: 1.5117e-06\n",
      "Epoch 5/10\n",
      "1/1 [==============================] - 5s 5s/step - loss: 3136.2097 - accuracy: 1.5117e-06\n",
      "Epoch 6/10\n",
      "1/1 [==============================] - 5s 5s/step - loss: 3136.2097 - accuracy: 1.5117e-06\n",
      "Epoch 7/10\n",
      "1/1 [==============================] - 6s 6s/step - loss: 3136.2097 - accuracy: 1.5117e-06\n",
      "Epoch 8/10\n",
      "1/1 [==============================] - 5s 5s/step - loss: 3136.2097 - accuracy: 1.5117e-06\n",
      "Epoch 9/10\n",
      "1/1 [==============================] - 5s 5s/step - loss: 3136.2097 - accuracy: 1.5117e-06\n",
      "Epoch 10/10\n",
      "1/1 [==============================] - 5s 5s/step - loss: 3136.2097 - accuracy: 1.5117e-06\n",
      "/home/fdf7gn/data/UVaVoice/Participant1/Electrolarynx/2.wav\n",
      "Epoch 1/10\n",
      "1/1 [==============================] - 5s 5s/step - loss: 2620.3474 - accuracy: 1.5117e-06\n",
      "Epoch 2/10\n",
      "1/1 [==============================] - 5s 5s/step - loss: 2620.3474 - accuracy: 1.5117e-06\n",
      "Epoch 3/10\n",
      "1/1 [==============================] - 5s 5s/step - loss: 2620.3474 - accuracy: 1.5117e-06\n",
      "Epoch 4/10\n",
      "1/1 [==============================] - 5s 5s/step - loss: 2620.3474 - accuracy: 1.5117e-06\n",
      "Epoch 5/10\n",
      "1/1 [==============================] - 5s 5s/step - loss: 2620.3474 - accuracy: 1.5117e-06\n",
      "Epoch 6/10\n",
      "1/1 [==============================] - 5s 5s/step - loss: 2620.3472 - accuracy: 1.5117e-06\n",
      "Epoch 7/10\n",
      "1/1 [==============================] - 5s 5s/step - loss: 2620.3472 - accuracy: 1.5117e-06\n",
      "Epoch 8/10\n",
      "1/1 [==============================] - 5s 5s/step - loss: 2620.3472 - accuracy: 1.5117e-06\n",
      "Epoch 9/10\n",
      "1/1 [==============================] - 5s 5s/step - loss: 2620.3472 - accuracy: 1.5117e-06\n",
      "Epoch 10/10\n",
      "1/1 [==============================] - 5s 5s/step - loss: 2620.3472 - accuracy: 1.5117e-06\n",
      "/home/fdf7gn/data/UVaVoice/Participant1/Electrolarynx/7.wav\n",
      "Epoch 1/10\n",
      "1/1 [==============================] - 5s 5s/step - loss: 2448.1255 - accuracy: 1.5117e-06\n",
      "Epoch 2/10\n",
      "1/1 [==============================] - 5s 5s/step - loss: 2448.1248 - accuracy: 1.5117e-06\n",
      "Epoch 3/10\n",
      "1/1 [==============================] - 5s 5s/step - loss: 2448.1235 - accuracy: 1.5117e-06\n",
      "Epoch 4/10\n",
      "1/1 [==============================] - 5s 5s/step - loss: 2448.1226 - accuracy: 1.5117e-06\n",
      "Epoch 5/10\n",
      "1/1 [==============================] - 6s 6s/step - loss: 2448.1226 - accuracy: 1.5117e-06\n",
      "Epoch 6/10\n",
      "1/1 [==============================] - 5s 5s/step - loss: 2448.1226 - accuracy: 1.5117e-06\n",
      "Epoch 7/10\n",
      "1/1 [==============================] - 5s 5s/step - loss: 2448.1226 - accuracy: 1.5117e-06\n",
      "Epoch 8/10\n",
      "1/1 [==============================] - 5s 5s/step - loss: 2448.1226 - accuracy: 1.5117e-06\n",
      "Epoch 9/10\n",
      "1/1 [==============================] - 5s 5s/step - loss: 2448.1226 - accuracy: 1.5117e-06\n",
      "Epoch 10/10\n",
      "1/1 [==============================] - 5s 5s/step - loss: 2448.1226 - accuracy: 1.5117e-06\n",
      "/home/fdf7gn/data/UVaVoice/Participant1/Electrolarynx/4.wav\n",
      "Epoch 1/10\n",
      "1/1 [==============================] - 5s 5s/step - loss: 2346.9856 - accuracy: 1.5117e-06\n",
      "Epoch 2/10\n",
      "1/1 [==============================] - 5s 5s/step - loss: 2346.9856 - accuracy: 1.5117e-06\n",
      "Epoch 3/10\n",
      "1/1 [==============================] - 5s 5s/step - loss: 2346.9856 - accuracy: 1.5117e-06\n",
      "Epoch 4/10\n",
      "1/1 [==============================] - 5s 5s/step - loss: 2346.9856 - accuracy: 1.5117e-06\n",
      "Epoch 5/10\n",
      "1/1 [==============================] - 5s 5s/step - loss: 2346.9856 - accuracy: 1.5117e-06\n",
      "Epoch 6/10\n",
      "1/1 [==============================] - 5s 5s/step - loss: 2346.9856 - accuracy: 1.5117e-06\n",
      "Epoch 7/10\n",
      "1/1 [==============================] - 5s 5s/step - loss: 2346.9856 - accuracy: 1.5117e-06\n",
      "Epoch 8/10\n",
      "1/1 [==============================] - 5s 5s/step - loss: 2346.9856 - accuracy: 1.5117e-06\n",
      "Epoch 9/10\n",
      "1/1 [==============================] - 5s 5s/step - loss: 2346.9856 - accuracy: 1.5117e-06\n",
      "Epoch 10/10\n",
      "1/1 [==============================] - 5s 5s/step - loss: 2346.9854 - accuracy: 1.5117e-06\n",
      "/home/fdf7gn/data/UVaVoice/Participant1/Electrolarynx/12.wav\n",
      "Epoch 1/10\n",
      "1/1 [==============================] - 5s 5s/step - loss: 2360.0327 - accuracy: 1.5117e-06\n",
      "Epoch 2/10\n",
      "1/1 [==============================] - 5s 5s/step - loss: 2360.0327 - accuracy: 1.5117e-06\n",
      "Epoch 3/10\n",
      "1/1 [==============================] - 5s 5s/step - loss: 2360.0327 - accuracy: 1.5117e-06\n",
      "Epoch 4/10\n",
      "1/1 [==============================] - 5s 5s/step - loss: 2360.0327 - accuracy: 1.5117e-06\n",
      "Epoch 5/10\n",
      "1/1 [==============================] - 5s 5s/step - loss: 2360.0327 - accuracy: 1.5117e-06\n",
      "Epoch 6/10\n",
      "1/1 [==============================] - 5s 5s/step - loss: 2360.0325 - accuracy: 1.5117e-06\n",
      "Epoch 7/10\n",
      "1/1 [==============================] - 5s 5s/step - loss: 2360.0325 - accuracy: 1.5117e-06\n",
      "Epoch 8/10\n",
      "1/1 [==============================] - 5s 5s/step - loss: 2360.0322 - accuracy: 1.5117e-06\n",
      "Epoch 9/10\n",
      "1/1 [==============================] - 5s 5s/step - loss: 2360.0322 - accuracy: 1.5117e-06\n",
      "Epoch 10/10\n",
      "1/1 [==============================] - 5s 5s/step - loss: 2360.0322 - accuracy: 1.5117e-06\n",
      "/home/fdf7gn/data/UVaVoice/Participant1/Electrolarynx/10.wav\n",
      "Epoch 1/10\n",
      "1/1 [==============================] - 5s 5s/step - loss: 2336.8782 - accuracy: 1.5117e-06\n",
      "Epoch 2/10\n",
      "1/1 [==============================] - 5s 5s/step - loss: 2336.8782 - accuracy: 1.5117e-06\n",
      "Epoch 3/10\n",
      "1/1 [==============================] - 5s 5s/step - loss: 2336.8782 - accuracy: 1.5117e-06\n",
      "Epoch 4/10\n",
      "1/1 [==============================] - 6s 6s/step - loss: 2336.8782 - accuracy: 1.5117e-06\n",
      "Epoch 5/10\n",
      "1/1 [==============================] - 5s 5s/step - loss: 2336.8782 - accuracy: 1.5117e-06\n",
      "Epoch 6/10\n",
      "1/1 [==============================] - 5s 5s/step - loss: 2336.8782 - accuracy: 1.5117e-06\n",
      "Epoch 7/10\n",
      "1/1 [==============================] - 5s 5s/step - loss: 2336.8782 - accuracy: 1.5117e-06\n",
      "Epoch 8/10\n",
      "1/1 [==============================] - 5s 5s/step - loss: 2336.8782 - accuracy: 1.5117e-06\n",
      "Epoch 9/10\n",
      "1/1 [==============================] - 5s 5s/step - loss: 2336.8782 - accuracy: 1.5117e-06\n",
      "Epoch 10/10\n",
      "1/1 [==============================] - 5s 5s/step - loss: 2336.8782 - accuracy: 1.5117e-06\n",
      "/home/fdf7gn/data/UVaVoice/Participant1/Electrolarynx/5.wav\n",
      "Epoch 1/10\n",
      "1/1 [==============================] - 5s 5s/step - loss: 2358.4915 - accuracy: 0.0000e+00\n",
      "Epoch 2/10\n",
      "1/1 [==============================] - 5s 5s/step - loss: 2358.4915 - accuracy: 0.0000e+00\n",
      "Epoch 3/10\n",
      "1/1 [==============================] - 5s 5s/step - loss: 2358.4915 - accuracy: 0.0000e+00\n",
      "Epoch 4/10\n",
      "1/1 [==============================] - 5s 5s/step - loss: 2358.4915 - accuracy: 0.0000e+00\n",
      "Epoch 5/10\n",
      "1/1 [==============================] - 5s 5s/step - loss: 2358.4915 - accuracy: 0.0000e+00\n",
      "Epoch 6/10\n",
      "1/1 [==============================] - 5s 5s/step - loss: 2358.4915 - accuracy: 0.0000e+00\n",
      "Epoch 7/10\n",
      "1/1 [==============================] - 5s 5s/step - loss: 2358.4915 - accuracy: 0.0000e+00\n",
      "Epoch 8/10\n",
      "1/1 [==============================] - 5s 5s/step - loss: 2358.4915 - accuracy: 0.0000e+00\n",
      "Epoch 9/10\n",
      "1/1 [==============================] - 5s 5s/step - loss: 2358.4915 - accuracy: 0.0000e+00\n",
      "Epoch 10/10\n",
      "1/1 [==============================] - 5s 5s/step - loss: 2358.4915 - accuracy: 0.0000e+00\n",
      "/home/fdf7gn/data/UVaVoice/Participant1/Electrolarynx/8.wav\n",
      "Epoch 1/10\n",
      "1/1 [==============================] - 5s 5s/step - loss: 2317.6814 - accuracy: 1.5117e-06\n",
      "Epoch 2/10\n",
      "1/1 [==============================] - 5s 5s/step - loss: 2317.6814 - accuracy: 1.5117e-06\n",
      "Epoch 3/10\n",
      "1/1 [==============================] - 5s 5s/step - loss: 2317.6814 - accuracy: 1.5117e-06\n",
      "Epoch 4/10\n",
      "1/1 [==============================] - 5s 5s/step - loss: 2317.6812 - accuracy: 1.5117e-06\n",
      "Epoch 5/10\n",
      "1/1 [==============================] - 5s 5s/step - loss: 2317.6812 - accuracy: 1.5117e-06\n",
      "Epoch 6/10\n",
      "1/1 [==============================] - 5s 5s/step - loss: 2317.6812 - accuracy: 1.5117e-06\n",
      "Epoch 7/10\n",
      "1/1 [==============================] - 5s 5s/step - loss: 2317.6812 - accuracy: 1.5117e-06\n",
      "Epoch 8/10\n",
      "1/1 [==============================] - 5s 5s/step - loss: 2317.6809 - accuracy: 1.5117e-06\n",
      "Epoch 9/10\n",
      "1/1 [==============================] - 5s 5s/step - loss: 2317.6809 - accuracy: 1.5117e-06\n",
      "Epoch 10/10\n",
      "1/1 [==============================] - 5s 5s/step - loss: 2317.6809 - accuracy: 1.5117e-06\n",
      "/home/fdf7gn/data/UVaVoice/Participant1/Electrolarynx/9.wav\n",
      "Epoch 1/10\n",
      "1/1 [==============================] - 5s 5s/step - loss: 2481.1758 - accuracy: 1.5117e-06\n",
      "Epoch 2/10\n",
      "1/1 [==============================] - 5s 5s/step - loss: 2481.1758 - accuracy: 1.5117e-06\n",
      "Epoch 3/10\n",
      "1/1 [==============================] - 5s 5s/step - loss: 2481.1758 - accuracy: 1.5117e-06\n",
      "Epoch 4/10\n",
      "1/1 [==============================] - 5s 5s/step - loss: 2481.1758 - accuracy: 1.5117e-06\n",
      "Epoch 5/10\n",
      "1/1 [==============================] - 5s 5s/step - loss: 2481.1758 - accuracy: 1.5117e-06\n",
      "Epoch 6/10\n",
      "1/1 [==============================] - 5s 5s/step - loss: 2481.1758 - accuracy: 1.5117e-06\n",
      "Epoch 7/10\n",
      "1/1 [==============================] - 5s 5s/step - loss: 2481.1758 - accuracy: 1.5117e-06\n",
      "Epoch 8/10\n",
      "1/1 [==============================] - 5s 5s/step - loss: 2481.1758 - accuracy: 1.5117e-06\n",
      "Epoch 9/10\n",
      "1/1 [==============================] - 5s 5s/step - loss: 2481.1758 - accuracy: 1.5117e-06\n",
      "Epoch 10/10\n",
      "1/1 [==============================] - 5s 5s/step - loss: 2481.1758 - accuracy: 1.5117e-06\n",
      "/home/fdf7gn/data/UVaVoice/Participant1/Electrolarynx/11.wav\n",
      "Epoch 1/10\n",
      "1/1 [==============================] - 5s 5s/step - loss: 2487.2148 - accuracy: 1.5117e-06\n",
      "Epoch 2/10\n",
      "1/1 [==============================] - 5s 5s/step - loss: 2487.2148 - accuracy: 1.5117e-06\n",
      "Epoch 3/10\n",
      "1/1 [==============================] - 5s 5s/step - loss: 2487.2148 - accuracy: 1.5117e-06\n",
      "Epoch 4/10\n",
      "1/1 [==============================] - 5s 5s/step - loss: 2487.2148 - accuracy: 1.5117e-06\n",
      "Epoch 5/10\n",
      "1/1 [==============================] - 5s 5s/step - loss: 2487.2148 - accuracy: 1.5117e-06\n",
      "Epoch 6/10\n",
      "1/1 [==============================] - 5s 5s/step - loss: 2487.2148 - accuracy: 1.5117e-06\n",
      "Epoch 7/10\n",
      "1/1 [==============================] - 5s 5s/step - loss: 2487.2148 - accuracy: 1.5117e-06\n",
      "Epoch 8/10\n",
      "1/1 [==============================] - 5s 5s/step - loss: 2487.2148 - accuracy: 1.5117e-06\n",
      "Epoch 9/10\n",
      "1/1 [==============================] - 5s 5s/step - loss: 2487.2148 - accuracy: 1.5117e-06\n",
      "Epoch 10/10\n",
      "1/1 [==============================] - 5s 5s/step - loss: 2487.2148 - accuracy: 1.5117e-06\n",
      "/home/fdf7gn/data/UVaVoice/Participant1/Electrolarynx/3.wav\n",
      "Epoch 1/10\n",
      "1/1 [==============================] - 5s 5s/step - loss: 2462.3235 - accuracy: 1.5117e-06\n",
      "Epoch 2/10\n",
      "1/1 [==============================] - 5s 5s/step - loss: 2462.3235 - accuracy: 1.5117e-06\n",
      "Epoch 3/10\n",
      "1/1 [==============================] - 5s 5s/step - loss: 2462.3235 - accuracy: 1.5117e-06\n",
      "Epoch 4/10\n",
      "1/1 [==============================] - 5s 5s/step - loss: 2462.3235 - accuracy: 1.5117e-06\n",
      "Epoch 5/10\n",
      "1/1 [==============================] - 5s 5s/step - loss: 2462.3235 - accuracy: 1.5117e-06\n",
      "Epoch 6/10\n",
      "1/1 [==============================] - 5s 5s/step - loss: 2462.3235 - accuracy: 1.5117e-06\n",
      "Epoch 7/10\n",
      "1/1 [==============================] - 5s 5s/step - loss: 2462.3235 - accuracy: 1.5117e-06\n",
      "Epoch 8/10\n",
      "1/1 [==============================] - 5s 5s/step - loss: 2462.3235 - accuracy: 1.5117e-06\n",
      "Epoch 9/10\n",
      "1/1 [==============================] - 5s 5s/step - loss: 2462.3235 - accuracy: 1.5117e-06\n",
      "Epoch 10/10\n",
      "1/1 [==============================] - 5s 5s/step - loss: 2462.3235 - accuracy: 1.5117e-06\n",
      "/home/fdf7gn/data/UVaVoice/Participant3/Electrolarynx/54.wav\n",
      "Epoch 1/10\n",
      "1/1 [==============================] - 5s 5s/step - loss: 1999.9569 - accuracy: 0.0000e+00\n",
      "Epoch 2/10\n",
      "1/1 [==============================] - 5s 5s/step - loss: 1999.9567 - accuracy: 0.0000e+00\n",
      "Epoch 3/10\n",
      "1/1 [==============================] - 5s 5s/step - loss: 1999.9567 - accuracy: 0.0000e+00\n",
      "Epoch 4/10\n",
      "1/1 [==============================] - 5s 5s/step - loss: 1999.9567 - accuracy: 0.0000e+00\n",
      "Epoch 5/10\n",
      "1/1 [==============================] - 5s 5s/step - loss: 1999.9567 - accuracy: 0.0000e+00\n",
      "Epoch 6/10\n",
      "1/1 [==============================] - 5s 5s/step - loss: 1999.9567 - accuracy: 0.0000e+00\n",
      "Epoch 7/10\n",
      "1/1 [==============================] - 5s 5s/step - loss: 1999.9567 - accuracy: 0.0000e+00\n",
      "Epoch 8/10\n",
      "1/1 [==============================] - 5s 5s/step - loss: 1999.9567 - accuracy: 0.0000e+00\n",
      "Epoch 9/10\n",
      "1/1 [==============================] - 5s 5s/step - loss: 1999.9567 - accuracy: 0.0000e+00\n",
      "Epoch 10/10\n",
      "1/1 [==============================] - 5s 5s/step - loss: 1999.9567 - accuracy: 0.0000e+00\n",
      "Epoch 1/10\n",
      "1/1 [==============================] - 5s 5s/step - loss: 1750.4381 - accuracy: 1.5117e-06\n",
      "Epoch 2/10\n",
      "1/1 [==============================] - 5s 5s/step - loss: 1750.4381 - accuracy: 1.5117e-06\n",
      "Epoch 3/10\n",
      "1/1 [==============================] - 5s 5s/step - loss: 1750.4381 - accuracy: 1.5117e-06\n",
      "Epoch 4/10\n",
      "1/1 [==============================] - 5s 5s/step - loss: 1750.4379 - accuracy: 1.5117e-06\n",
      "Epoch 5/10\n",
      "1/1 [==============================] - 5s 5s/step - loss: 1750.4379 - accuracy: 1.5117e-06\n",
      "Epoch 6/10\n",
      "1/1 [==============================] - 5s 5s/step - loss: 1750.4379 - accuracy: 1.5117e-06\n",
      "Epoch 7/10\n",
      "1/1 [==============================] - 5s 5s/step - loss: 1750.4379 - accuracy: 1.5117e-06\n",
      "Epoch 8/10\n",
      "1/1 [==============================] - 5s 5s/step - loss: 1750.4379 - accuracy: 1.5117e-06\n",
      "Epoch 9/10\n",
      "1/1 [==============================] - 5s 5s/step - loss: 1750.4379 - accuracy: 1.5117e-06\n",
      "Epoch 10/10\n",
      "1/1 [==============================] - 5s 5s/step - loss: 1750.4379 - accuracy: 1.5117e-06\n",
      "/home/fdf7gn/data/UVaVoice/Participant3/Electrolarynx/51.wav\n",
      "Epoch 1/10\n",
      "1/1 [==============================] - 5s 5s/step - loss: 1745.3496 - accuracy: 1.5117e-06\n",
      "Epoch 2/10\n",
      "1/1 [==============================] - 5s 5s/step - loss: 1745.3496 - accuracy: 1.5117e-06\n",
      "Epoch 3/10\n",
      "1/1 [==============================] - 5s 5s/step - loss: 1745.3496 - accuracy: 1.5117e-06\n",
      "Epoch 4/10\n",
      "1/1 [==============================] - 5s 5s/step - loss: 1745.3496 - accuracy: 1.5117e-06\n",
      "Epoch 5/10\n",
      "1/1 [==============================] - 5s 5s/step - loss: 1745.3496 - accuracy: 1.5117e-06\n",
      "Epoch 6/10\n",
      "1/1 [==============================] - 5s 5s/step - loss: 1745.3496 - accuracy: 1.5117e-06\n",
      "Epoch 7/10\n",
      "1/1 [==============================] - 5s 5s/step - loss: 1745.3496 - accuracy: 1.5117e-06\n",
      "Epoch 8/10\n",
      "1/1 [==============================] - 5s 5s/step - loss: 1745.3496 - accuracy: 1.5117e-06\n",
      "Epoch 9/10\n",
      "1/1 [==============================] - 5s 5s/step - loss: 1745.3496 - accuracy: 1.5117e-06\n",
      "Epoch 10/10\n",
      "1/1 [==============================] - 5s 5s/step - loss: 1745.3496 - accuracy: 1.5117e-06\n",
      "Epoch 1/10\n",
      "1/1 [==============================] - 5s 5s/step - loss: 1779.5890 - accuracy: 1.5117e-06\n",
      "Epoch 2/10\n",
      "1/1 [==============================] - 5s 5s/step - loss: 1779.5890 - accuracy: 1.5117e-06\n",
      "Epoch 3/10\n",
      "1/1 [==============================] - 5s 5s/step - loss: 1779.5890 - accuracy: 1.5117e-06\n",
      "Epoch 4/10\n",
      "1/1 [==============================] - 5s 5s/step - loss: 1779.5890 - accuracy: 1.5117e-06\n",
      "Epoch 5/10\n",
      "1/1 [==============================] - 5s 5s/step - loss: 1779.5890 - accuracy: 1.5117e-06\n",
      "Epoch 6/10\n",
      "1/1 [==============================] - 5s 5s/step - loss: 1779.5890 - accuracy: 1.5117e-06\n",
      "Epoch 7/10\n",
      "1/1 [==============================] - 5s 5s/step - loss: 1779.5890 - accuracy: 1.5117e-06\n",
      "Epoch 8/10\n",
      "1/1 [==============================] - 5s 5s/step - loss: 1779.5890 - accuracy: 1.5117e-06\n",
      "Epoch 9/10\n",
      "1/1 [==============================] - 5s 5s/step - loss: 1779.5890 - accuracy: 1.5117e-06\n",
      "Epoch 10/10\n",
      "1/1 [==============================] - 5s 5s/step - loss: 1779.5890 - accuracy: 1.5117e-06\n",
      "/home/fdf7gn/data/UVaVoice/Participant3/Electrolarynx/52.wav\n",
      "Epoch 1/10\n",
      "1/1 [==============================] - 5s 5s/step - loss: 1867.3280 - accuracy: 1.5117e-06\n",
      "Epoch 2/10\n",
      "1/1 [==============================] - 5s 5s/step - loss: 1867.3280 - accuracy: 1.5117e-06\n",
      "Epoch 3/10\n",
      "1/1 [==============================] - 5s 5s/step - loss: 1867.3280 - accuracy: 1.5117e-06\n",
      "Epoch 4/10\n",
      "1/1 [==============================] - 5s 5s/step - loss: 1867.3280 - accuracy: 1.5117e-06\n",
      "Epoch 5/10\n",
      "1/1 [==============================] - 5s 5s/step - loss: 1867.3280 - accuracy: 1.5117e-06\n",
      "Epoch 6/10\n",
      "1/1 [==============================] - 5s 5s/step - loss: 1867.3280 - accuracy: 1.5117e-06\n",
      "Epoch 7/10\n",
      "1/1 [==============================] - 5s 5s/step - loss: 1867.3280 - accuracy: 1.5117e-06\n",
      "Epoch 8/10\n",
      "1/1 [==============================] - 5s 5s/step - loss: 1867.3280 - accuracy: 1.5117e-06\n",
      "Epoch 9/10\n",
      "1/1 [==============================] - 5s 5s/step - loss: 1867.3280 - accuracy: 1.5117e-06\n",
      "Epoch 10/10\n",
      "1/1 [==============================] - 5s 5s/step - loss: 1867.3280 - accuracy: 1.5117e-06\n",
      "Epoch 1/10\n",
      "1/1 [==============================] - 5s 5s/step - loss: 1945.2179 - accuracy: 1.5117e-06\n",
      "Epoch 2/10\n",
      "1/1 [==============================] - 5s 5s/step - loss: 1945.2179 - accuracy: 1.5117e-06\n",
      "Epoch 3/10\n",
      "1/1 [==============================] - 5s 5s/step - loss: 1945.2179 - accuracy: 1.5117e-06\n",
      "Epoch 4/10\n",
      "1/1 [==============================] - 5s 5s/step - loss: 1945.2179 - accuracy: 1.5117e-06\n",
      "Epoch 5/10\n",
      "1/1 [==============================] - 5s 5s/step - loss: 1945.2179 - accuracy: 1.5117e-06\n",
      "Epoch 6/10\n",
      "1/1 [==============================] - 5s 5s/step - loss: 1945.2179 - accuracy: 1.5117e-06\n",
      "Epoch 7/10\n",
      "1/1 [==============================] - 5s 5s/step - loss: 1945.2179 - accuracy: 1.5117e-06\n",
      "Epoch 8/10\n",
      "1/1 [==============================] - 5s 5s/step - loss: 1945.2179 - accuracy: 1.5117e-06\n",
      "Epoch 9/10\n",
      "1/1 [==============================] - 5s 5s/step - loss: 1945.2179 - accuracy: 1.5117e-06\n",
      "Epoch 10/10\n",
      "1/1 [==============================] - 5s 5s/step - loss: 1945.2179 - accuracy: 1.5117e-06\n",
      "/home/fdf7gn/data/UVaVoice/Participant3/Electrolarynx/48.wav\n",
      "Epoch 1/10\n",
      "1/1 [==============================] - 5s 5s/step - loss: 1979.6604 - accuracy: 1.5117e-06\n",
      "Epoch 2/10\n",
      "1/1 [==============================] - 5s 5s/step - loss: 1979.6604 - accuracy: 1.5117e-06\n",
      "Epoch 3/10\n",
      "1/1 [==============================] - 5s 5s/step - loss: 1979.6604 - accuracy: 1.5117e-06\n",
      "Epoch 4/10\n",
      "1/1 [==============================] - 5s 5s/step - loss: 1979.6604 - accuracy: 1.5117e-06\n",
      "Epoch 5/10\n",
      "1/1 [==============================] - 5s 5s/step - loss: 1979.6604 - accuracy: 1.5117e-06\n",
      "Epoch 6/10\n",
      "1/1 [==============================] - 5s 5s/step - loss: 1979.6604 - accuracy: 1.5117e-06\n",
      "Epoch 7/10\n",
      "1/1 [==============================] - 5s 5s/step - loss: 1979.6604 - accuracy: 1.5117e-06\n",
      "Epoch 8/10\n",
      "1/1 [==============================] - 5s 5s/step - loss: 1979.6604 - accuracy: 1.5117e-06\n",
      "Epoch 9/10\n",
      "1/1 [==============================] - 5s 5s/step - loss: 1979.6604 - accuracy: 1.5117e-06\n",
      "Epoch 10/10\n",
      "1/1 [==============================] - 5s 5s/step - loss: 1979.6604 - accuracy: 1.5117e-06\n",
      "Epoch 1/10\n",
      "1/1 [==============================] - 5s 5s/step - loss: 1845.4569 - accuracy: 1.5117e-06\n",
      "Epoch 2/10\n",
      "1/1 [==============================] - 5s 5s/step - loss: 1845.4569 - accuracy: 1.5117e-06\n",
      "Epoch 3/10\n",
      "1/1 [==============================] - 5s 5s/step - loss: 1845.4569 - accuracy: 1.5117e-06\n",
      "Epoch 4/10\n",
      "1/1 [==============================] - 5s 5s/step - loss: 1845.4569 - accuracy: 1.5117e-06\n",
      "Epoch 5/10\n",
      "1/1 [==============================] - 5s 5s/step - loss: 1845.4569 - accuracy: 1.5117e-06\n",
      "Epoch 6/10\n",
      "1/1 [==============================] - 5s 5s/step - loss: 1845.4569 - accuracy: 1.5117e-06\n",
      "Epoch 7/10\n",
      "1/1 [==============================] - 5s 5s/step - loss: 1845.4569 - accuracy: 1.5117e-06\n",
      "Epoch 8/10\n",
      "1/1 [==============================] - 5s 5s/step - loss: 1845.4569 - accuracy: 1.5117e-06\n",
      "Epoch 9/10\n",
      "1/1 [==============================] - 5s 5s/step - loss: 1845.4569 - accuracy: 1.5117e-06\n",
      "Epoch 10/10\n",
      "1/1 [==============================] - 5s 5s/step - loss: 1845.4569 - accuracy: 1.5117e-06\n",
      "/home/fdf7gn/data/UVaVoice/Participant3/Electrolarynx/46.wav\n",
      "Epoch 1/10\n",
      "1/1 [==============================] - 5s 5s/step - loss: 1768.0834 - accuracy: 1.5117e-06\n",
      "Epoch 2/10\n",
      "1/1 [==============================] - 5s 5s/step - loss: 1768.0834 - accuracy: 1.5117e-06\n",
      "Epoch 3/10\n",
      "1/1 [==============================] - 5s 5s/step - loss: 1768.0834 - accuracy: 1.5117e-06\n",
      "Epoch 4/10\n",
      "1/1 [==============================] - 5s 5s/step - loss: 1768.0834 - accuracy: 1.5117e-06\n",
      "Epoch 5/10\n",
      "1/1 [==============================] - 5s 5s/step - loss: 1768.0834 - accuracy: 1.5117e-06\n",
      "Epoch 6/10\n",
      "1/1 [==============================] - 5s 5s/step - loss: 1768.0834 - accuracy: 1.5117e-06\n",
      "Epoch 7/10\n",
      "1/1 [==============================] - 5s 5s/step - loss: 1768.0836 - accuracy: 1.5117e-06\n",
      "Epoch 8/10\n",
      "1/1 [==============================] - 5s 5s/step - loss: 1768.0836 - accuracy: 1.5117e-06\n",
      "Epoch 9/10\n",
      "1/1 [==============================] - 5s 5s/step - loss: 1768.0836 - accuracy: 1.5117e-06\n",
      "Epoch 10/10\n",
      "1/1 [==============================] - 5s 5s/step - loss: 1768.0836 - accuracy: 1.5117e-06\n",
      "Epoch 1/10\n",
      "1/1 [==============================] - 5s 5s/step - loss: 1832.7725 - accuracy: 0.0000e+00\n",
      "Epoch 2/10\n",
      "1/1 [==============================] - 5s 5s/step - loss: 1832.7725 - accuracy: 0.0000e+00\n",
      "Epoch 3/10\n",
      "1/1 [==============================] - 5s 5s/step - loss: 1832.7725 - accuracy: 0.0000e+00\n",
      "Epoch 4/10\n",
      "1/1 [==============================] - 5s 5s/step - loss: 1832.7725 - accuracy: 0.0000e+00\n",
      "Epoch 5/10\n",
      "1/1 [==============================] - 5s 5s/step - loss: 1832.7725 - accuracy: 0.0000e+00\n",
      "Epoch 6/10\n",
      "1/1 [==============================] - 5s 5s/step - loss: 1832.7725 - accuracy: 0.0000e+00\n",
      "Epoch 7/10\n",
      "1/1 [==============================] - 5s 5s/step - loss: 1832.7725 - accuracy: 0.0000e+00\n",
      "Epoch 8/10\n",
      "1/1 [==============================] - 5s 5s/step - loss: 1832.7725 - accuracy: 0.0000e+00\n",
      "Epoch 9/10\n",
      "1/1 [==============================] - 5s 5s/step - loss: 1832.7725 - accuracy: 0.0000e+00\n",
      "Epoch 10/10\n",
      "1/1 [==============================] - 5s 5s/step - loss: 1832.7725 - accuracy: 0.0000e+00\n",
      "/home/fdf7gn/data/UVaVoice/Participant3/Electrolarynx/50.wav\n",
      "Epoch 1/10\n",
      "1/1 [==============================] - 5s 5s/step - loss: 2072.6113 - accuracy: 0.0000e+00\n",
      "Epoch 2/10\n",
      "1/1 [==============================] - 5s 5s/step - loss: 2072.6108 - accuracy: 0.0000e+00\n",
      "Epoch 3/10\n",
      "1/1 [==============================] - 5s 5s/step - loss: 2072.6106 - accuracy: 0.0000e+00\n",
      "Epoch 4/10\n",
      "1/1 [==============================] - 5s 5s/step - loss: 2072.6101 - accuracy: 1.5117e-06\n",
      "Epoch 5/10\n",
      "1/1 [==============================] - 5s 5s/step - loss: 2072.6101 - accuracy: 1.5117e-06\n",
      "Epoch 6/10\n",
      "1/1 [==============================] - 5s 5s/step - loss: 2072.6101 - accuracy: 1.5117e-06\n",
      "Epoch 7/10\n",
      "1/1 [==============================] - 5s 5s/step - loss: 2072.6101 - accuracy: 1.5117e-06\n",
      "Epoch 8/10\n",
      "1/1 [==============================] - 5s 5s/step - loss: 2072.6101 - accuracy: 1.5117e-06\n",
      "Epoch 9/10\n",
      "1/1 [==============================] - 5s 5s/step - loss: 2072.6101 - accuracy: 1.5117e-06\n",
      "Epoch 10/10\n",
      "1/1 [==============================] - 5s 5s/step - loss: 2072.6101 - accuracy: 1.5117e-06\n",
      "Epoch 1/10\n",
      "1/1 [==============================] - 5s 5s/step - loss: 1793.3131 - accuracy: 1.5117e-06\n",
      "Epoch 2/10\n",
      "1/1 [==============================] - 5s 5s/step - loss: 1793.3131 - accuracy: 1.5117e-06\n",
      "Epoch 3/10\n",
      "1/1 [==============================] - 5s 5s/step - loss: 1793.3131 - accuracy: 1.5117e-06\n",
      "Epoch 4/10\n",
      "1/1 [==============================] - 5s 5s/step - loss: 1793.3131 - accuracy: 1.5117e-06\n",
      "Epoch 5/10\n",
      "1/1 [==============================] - 5s 5s/step - loss: 1793.3131 - accuracy: 1.5117e-06\n",
      "Epoch 6/10\n",
      "1/1 [==============================] - 5s 5s/step - loss: 1793.3131 - accuracy: 1.5117e-06\n",
      "Epoch 7/10\n",
      "1/1 [==============================] - 5s 5s/step - loss: 1793.3131 - accuracy: 1.5117e-06\n",
      "Epoch 8/10\n",
      "1/1 [==============================] - 5s 5s/step - loss: 1793.3131 - accuracy: 1.5117e-06\n",
      "Epoch 9/10\n",
      "1/1 [==============================] - 5s 5s/step - loss: 1793.3131 - accuracy: 1.5117e-06\n",
      "Epoch 10/10\n",
      "1/1 [==============================] - 5s 5s/step - loss: 1793.3131 - accuracy: 1.5117e-06\n",
      "/home/fdf7gn/data/UVaVoice/Participant3/Electrolarynx/45.wav\n",
      "Epoch 1/10\n",
      "1/1 [==============================] - 5s 5s/step - loss: 1851.4874 - accuracy: 0.0000e+00\n",
      "Epoch 2/10\n",
      "1/1 [==============================] - 5s 5s/step - loss: 1851.4874 - accuracy: 0.0000e+00\n",
      "Epoch 3/10\n",
      "1/1 [==============================] - 5s 5s/step - loss: 1851.4874 - accuracy: 0.0000e+00\n",
      "Epoch 4/10\n",
      "1/1 [==============================] - 5s 5s/step - loss: 1851.4874 - accuracy: 0.0000e+00\n",
      "Epoch 5/10\n",
      "1/1 [==============================] - 5s 5s/step - loss: 1851.4874 - accuracy: 0.0000e+00\n",
      "Epoch 6/10\n",
      "1/1 [==============================] - 5s 5s/step - loss: 1851.4874 - accuracy: 0.0000e+00\n",
      "Epoch 7/10\n",
      "1/1 [==============================] - 5s 5s/step - loss: 1851.4874 - accuracy: 0.0000e+00\n",
      "Epoch 8/10\n",
      "1/1 [==============================] - 5s 5s/step - loss: 1851.4874 - accuracy: 0.0000e+00\n",
      "Epoch 9/10\n",
      "1/1 [==============================] - 5s 5s/step - loss: 1851.4874 - accuracy: 0.0000e+00\n",
      "Epoch 10/10\n",
      "1/1 [==============================] - 5s 5s/step - loss: 1851.4874 - accuracy: 0.0000e+00\n",
      "Epoch 1/10\n",
      "1/1 [==============================] - 5s 5s/step - loss: 1988.3796 - accuracy: 0.0000e+00\n",
      "Epoch 2/10\n",
      "1/1 [==============================] - 5s 5s/step - loss: 1988.3796 - accuracy: 0.0000e+00\n",
      "Epoch 3/10\n",
      "1/1 [==============================] - 5s 5s/step - loss: 1988.3796 - accuracy: 0.0000e+00\n",
      "Epoch 4/10\n",
      "1/1 [==============================] - 5s 5s/step - loss: 1988.3796 - accuracy: 0.0000e+00\n",
      "Epoch 5/10\n",
      "1/1 [==============================] - 5s 5s/step - loss: 1988.3796 - accuracy: 0.0000e+00\n",
      "Epoch 6/10\n",
      "1/1 [==============================] - 5s 5s/step - loss: 1988.3796 - accuracy: 0.0000e+00\n",
      "Epoch 7/10\n",
      "1/1 [==============================] - 5s 5s/step - loss: 1988.3796 - accuracy: 0.0000e+00\n",
      "Epoch 8/10\n",
      "1/1 [==============================] - 5s 5s/step - loss: 1988.3796 - accuracy: 0.0000e+00\n",
      "Epoch 9/10\n",
      "1/1 [==============================] - 5s 5s/step - loss: 1988.3796 - accuracy: 0.0000e+00\n",
      "Epoch 10/10\n",
      "1/1 [==============================] - 5s 5s/step - loss: 1988.3796 - accuracy: 0.0000e+00\n",
      "/home/fdf7gn/data/UVaVoice/Participant3/Electrolarynx/47.wav\n",
      "Epoch 1/10\n",
      "1/1 [==============================] - 5s 5s/step - loss: 1795.1432 - accuracy: 0.0000e+00\n",
      "Epoch 2/10\n",
      "1/1 [==============================] - 5s 5s/step - loss: 1795.1432 - accuracy: 0.0000e+00\n",
      "Epoch 3/10\n",
      "1/1 [==============================] - 5s 5s/step - loss: 1795.1432 - accuracy: 0.0000e+00\n",
      "Epoch 4/10\n",
      "1/1 [==============================] - 5s 5s/step - loss: 1795.1432 - accuracy: 0.0000e+00\n",
      "Epoch 5/10\n",
      "1/1 [==============================] - 5s 5s/step - loss: 1795.1432 - accuracy: 0.0000e+00\n",
      "Epoch 6/10\n",
      "1/1 [==============================] - 5s 5s/step - loss: 1795.1432 - accuracy: 0.0000e+00\n",
      "Epoch 7/10\n",
      "1/1 [==============================] - 5s 5s/step - loss: 1795.1432 - accuracy: 0.0000e+00\n",
      "Epoch 8/10\n",
      "1/1 [==============================] - 5s 5s/step - loss: 1795.1432 - accuracy: 0.0000e+00\n",
      "Epoch 9/10\n",
      "1/1 [==============================] - 5s 5s/step - loss: 1795.1432 - accuracy: 0.0000e+00\n",
      "Epoch 10/10\n",
      "1/1 [==============================] - 5s 5s/step - loss: 1795.1432 - accuracy: 0.0000e+00\n",
      "Epoch 1/10\n",
      "1/1 [==============================] - 5s 5s/step - loss: 2259.8835 - accuracy: 1.5117e-06\n",
      "Epoch 2/10\n",
      "1/1 [==============================] - 5s 5s/step - loss: 2259.8835 - accuracy: 1.5117e-06\n",
      "Epoch 3/10\n",
      "1/1 [==============================] - 5s 5s/step - loss: 2259.8835 - accuracy: 1.5117e-06\n",
      "Epoch 4/10\n",
      "1/1 [==============================] - 5s 5s/step - loss: 2259.8835 - accuracy: 1.5117e-06\n",
      "Epoch 5/10\n",
      "1/1 [==============================] - 5s 5s/step - loss: 2259.8835 - accuracy: 1.5117e-06\n",
      "Epoch 6/10\n",
      "1/1 [==============================] - 5s 5s/step - loss: 2259.8835 - accuracy: 1.5117e-06\n",
      "Epoch 7/10\n",
      "1/1 [==============================] - 5s 5s/step - loss: 2259.8835 - accuracy: 1.5117e-06\n",
      "Epoch 8/10\n",
      "1/1 [==============================] - 5s 5s/step - loss: 2259.8835 - accuracy: 1.5117e-06\n",
      "Epoch 9/10\n",
      "1/1 [==============================] - 5s 5s/step - loss: 2259.8835 - accuracy: 1.5117e-06\n",
      "Epoch 10/10\n",
      "1/1 [==============================] - 5s 5s/step - loss: 2259.8835 - accuracy: 1.5117e-06\n",
      "/home/fdf7gn/data/UVaVoice/Participant3/Electrolarynx/49.wav\n",
      "Epoch 1/10\n",
      "1/1 [==============================] - 5s 5s/step - loss: 1804.8254 - accuracy: 1.5117e-06\n",
      "Epoch 2/10\n",
      "1/1 [==============================] - 5s 5s/step - loss: 1804.8254 - accuracy: 1.5117e-06\n",
      "Epoch 3/10\n",
      "1/1 [==============================] - 5s 5s/step - loss: 1804.8254 - accuracy: 1.5117e-06\n",
      "Epoch 4/10\n",
      "1/1 [==============================] - 5s 5s/step - loss: 1804.8254 - accuracy: 1.5117e-06\n",
      "Epoch 5/10\n",
      "1/1 [==============================] - 5s 5s/step - loss: 1804.8254 - accuracy: 1.5117e-06\n",
      "Epoch 6/10\n",
      "1/1 [==============================] - 5s 5s/step - loss: 1804.8254 - accuracy: 1.5117e-06\n",
      "Epoch 7/10\n",
      "1/1 [==============================] - 5s 5s/step - loss: 1804.8254 - accuracy: 1.5117e-06\n",
      "Epoch 8/10\n",
      "1/1 [==============================] - 5s 5s/step - loss: 1804.8254 - accuracy: 1.5117e-06\n",
      "Epoch 9/10\n",
      "1/1 [==============================] - 5s 5s/step - loss: 1804.8254 - accuracy: 1.5117e-06\n",
      "Epoch 10/10\n",
      "1/1 [==============================] - 5s 5s/step - loss: 1804.8254 - accuracy: 1.5117e-06\n",
      "Epoch 1/10\n",
      "1/1 [==============================] - 5s 5s/step - loss: 1970.1310 - accuracy: 1.5117e-06\n",
      "Epoch 2/10\n",
      "1/1 [==============================] - 5s 5s/step - loss: 1970.1310 - accuracy: 1.5117e-06\n",
      "Epoch 3/10\n",
      "1/1 [==============================] - 5s 5s/step - loss: 1970.1310 - accuracy: 1.5117e-06\n",
      "Epoch 4/10\n",
      "1/1 [==============================] - 5s 5s/step - loss: 1970.1310 - accuracy: 1.5117e-06\n",
      "Epoch 5/10\n",
      "1/1 [==============================] - 5s 5s/step - loss: 1970.1310 - accuracy: 1.5117e-06\n",
      "Epoch 6/10\n",
      "1/1 [==============================] - 5s 5s/step - loss: 1970.1310 - accuracy: 1.5117e-06\n",
      "Epoch 7/10\n",
      "1/1 [==============================] - 5s 5s/step - loss: 1970.1310 - accuracy: 1.5117e-06\n",
      "Epoch 8/10\n",
      "1/1 [==============================] - 5s 5s/step - loss: 1970.1310 - accuracy: 1.5117e-06\n",
      "Epoch 9/10\n",
      "1/1 [==============================] - 5s 5s/step - loss: 1970.1310 - accuracy: 1.5117e-06\n",
      "Epoch 10/10\n",
      "1/1 [==============================] - 5s 5s/step - loss: 1970.1310 - accuracy: 1.5117e-06\n",
      "/home/fdf7gn/data/UVaVoice/Participant3/Electrolarynx/53.wav\n",
      "Epoch 1/10\n",
      "1/1 [==============================] - 5s 5s/step - loss: 1820.6896 - accuracy: 1.5117e-06\n",
      "Epoch 2/10\n",
      "1/1 [==============================] - 5s 5s/step - loss: 1820.6896 - accuracy: 1.5117e-06\n",
      "Epoch 3/10\n",
      "1/1 [==============================] - 5s 5s/step - loss: 1820.6896 - accuracy: 1.5117e-06\n",
      "Epoch 4/10\n",
      "1/1 [==============================] - 5s 5s/step - loss: 1820.6896 - accuracy: 1.5117e-06\n",
      "Epoch 5/10\n",
      "1/1 [==============================] - 5s 5s/step - loss: 1820.6896 - accuracy: 1.5117e-06\n",
      "Epoch 6/10\n",
      "1/1 [==============================] - 5s 5s/step - loss: 1820.6896 - accuracy: 1.5117e-06\n",
      "Epoch 7/10\n",
      "1/1 [==============================] - 5s 5s/step - loss: 1820.6896 - accuracy: 1.5117e-06\n",
      "Epoch 8/10\n",
      "1/1 [==============================] - 5s 5s/step - loss: 1820.6896 - accuracy: 1.5117e-06\n",
      "Epoch 9/10\n",
      "1/1 [==============================] - 5s 5s/step - loss: 1820.6896 - accuracy: 1.5117e-06\n",
      "Epoch 10/10\n",
      "1/1 [==============================] - 5s 5s/step - loss: 1820.6896 - accuracy: 1.5117e-06\n",
      "Epoch 1/10\n",
      "1/1 [==============================] - 5s 5s/step - loss: 1833.9884 - accuracy: 1.5117e-06\n",
      "Epoch 2/10\n",
      "1/1 [==============================] - 5s 5s/step - loss: 1833.9884 - accuracy: 1.5117e-06\n",
      "Epoch 3/10\n",
      "1/1 [==============================] - 5s 5s/step - loss: 1833.9884 - accuracy: 1.5117e-06\n",
      "Epoch 4/10\n",
      "1/1 [==============================] - 5s 5s/step - loss: 1833.9884 - accuracy: 1.5117e-06\n",
      "Epoch 5/10\n",
      "1/1 [==============================] - 5s 5s/step - loss: 1833.9884 - accuracy: 1.5117e-06\n",
      "Epoch 6/10\n",
      "1/1 [==============================] - 5s 5s/step - loss: 1833.9884 - accuracy: 1.5117e-06\n",
      "Epoch 7/10\n",
      "1/1 [==============================] - 5s 5s/step - loss: 1833.9884 - accuracy: 1.5117e-06\n",
      "Epoch 8/10\n",
      "1/1 [==============================] - 5s 5s/step - loss: 1833.9884 - accuracy: 1.5117e-06\n",
      "Epoch 9/10\n",
      "1/1 [==============================] - 5s 5s/step - loss: 1833.9884 - accuracy: 1.5117e-06\n",
      "Epoch 10/10\n",
      "1/1 [==============================] - 5s 5s/step - loss: 1833.9884 - accuracy: 1.5117e-06\n",
      "/home/fdf7gn/data/UVaVoice/Participant2/Electrolarynx/34.wav\n",
      "Epoch 1/10\n",
      "1/1 [==============================] - 5s 5s/step - loss: 1655.1782 - accuracy: 1.5117e-06\n",
      "Epoch 2/10\n",
      "1/1 [==============================] - 5s 5s/step - loss: 1655.1782 - accuracy: 1.5117e-06\n",
      "Epoch 3/10\n",
      "1/1 [==============================] - 5s 5s/step - loss: 1655.1782 - accuracy: 1.5117e-06\n",
      "Epoch 4/10\n",
      "1/1 [==============================] - 6s 6s/step - loss: 1655.1782 - accuracy: 1.5117e-06\n",
      "Epoch 5/10\n",
      "1/1 [==============================] - 5s 5s/step - loss: 1655.1782 - accuracy: 1.5117e-06\n",
      "Epoch 6/10\n",
      "1/1 [==============================] - 5s 5s/step - loss: 1655.1782 - accuracy: 1.5117e-06\n",
      "Epoch 7/10\n",
      "1/1 [==============================] - 5s 5s/step - loss: 1655.1782 - accuracy: 1.5117e-06\n",
      "Epoch 8/10\n",
      "1/1 [==============================] - 5s 5s/step - loss: 1655.1782 - accuracy: 1.5117e-06\n",
      "Epoch 9/10\n",
      "1/1 [==============================] - 5s 5s/step - loss: 1655.1782 - accuracy: 1.5117e-06\n",
      "Epoch 10/10\n",
      "1/1 [==============================] - 5s 5s/step - loss: 1655.1782 - accuracy: 1.5117e-06\n",
      "/home/fdf7gn/data/UVaVoice/Participant2/Electrolarynx/28.wav\n",
      "Epoch 1/10\n",
      "1/1 [==============================] - 5s 5s/step - loss: 1664.2407 - accuracy: 1.5117e-06\n",
      "Epoch 2/10\n",
      "1/1 [==============================] - 5s 5s/step - loss: 1664.2407 - accuracy: 1.5117e-06\n",
      "Epoch 3/10\n",
      "1/1 [==============================] - 5s 5s/step - loss: 1664.2407 - accuracy: 1.5117e-06\n",
      "Epoch 4/10\n",
      "1/1 [==============================] - 5s 5s/step - loss: 1664.2407 - accuracy: 1.5117e-06\n",
      "Epoch 5/10\n",
      "1/1 [==============================] - 5s 5s/step - loss: 1664.2407 - accuracy: 1.5117e-06\n",
      "Epoch 6/10\n",
      "1/1 [==============================] - 5s 5s/step - loss: 1664.2407 - accuracy: 1.5117e-06\n",
      "Epoch 7/10\n",
      "1/1 [==============================] - 5s 5s/step - loss: 1664.2407 - accuracy: 1.5117e-06\n",
      "Epoch 8/10\n",
      "1/1 [==============================] - 5s 5s/step - loss: 1664.2407 - accuracy: 1.5117e-06\n",
      "Epoch 9/10\n",
      "1/1 [==============================] - 5s 5s/step - loss: 1664.2407 - accuracy: 1.5117e-06\n",
      "Epoch 10/10\n",
      "1/1 [==============================] - 5s 5s/step - loss: 1664.2407 - accuracy: 1.5117e-06\n",
      "/home/fdf7gn/data/UVaVoice/Participant2/Electrolarynx/27.wav\n",
      "Epoch 1/10\n",
      "1/1 [==============================] - 5s 5s/step - loss: 1621.5609 - accuracy: 1.5117e-06\n",
      "Epoch 2/10\n",
      "1/1 [==============================] - 5s 5s/step - loss: 1621.5609 - accuracy: 1.5117e-06\n",
      "Epoch 3/10\n",
      "1/1 [==============================] - 5s 5s/step - loss: 1621.5609 - accuracy: 1.5117e-06\n",
      "Epoch 4/10\n",
      "1/1 [==============================] - 5s 5s/step - loss: 1621.5609 - accuracy: 1.5117e-06\n",
      "Epoch 5/10\n",
      "1/1 [==============================] - 5s 5s/step - loss: 1621.5608 - accuracy: 1.5117e-06\n",
      "Epoch 6/10\n",
      "1/1 [==============================] - 5s 5s/step - loss: 1621.5605 - accuracy: 1.5117e-06\n",
      "Epoch 7/10\n",
      "1/1 [==============================] - 5s 5s/step - loss: 1621.5605 - accuracy: 1.5117e-06\n",
      "Epoch 8/10\n",
      "1/1 [==============================] - 5s 5s/step - loss: 1621.5605 - accuracy: 1.5117e-06\n",
      "Epoch 9/10\n",
      "1/1 [==============================] - 5s 5s/step - loss: 1621.5605 - accuracy: 1.5117e-06\n",
      "Epoch 10/10\n",
      "1/1 [==============================] - 5s 5s/step - loss: 1621.5604 - accuracy: 1.5117e-06\n",
      "/home/fdf7gn/data/UVaVoice/Participant2/Electrolarynx/30.wav\n",
      "Epoch 1/10\n",
      "1/1 [==============================] - 5s 5s/step - loss: 1590.7787 - accuracy: 0.0000e+00\n",
      "Epoch 2/10\n",
      "1/1 [==============================] - 5s 5s/step - loss: 1590.7788 - accuracy: 0.0000e+00\n",
      "Epoch 3/10\n",
      "1/1 [==============================] - 5s 5s/step - loss: 1590.7788 - accuracy: 0.0000e+00\n",
      "Epoch 4/10\n",
      "1/1 [==============================] - 5s 5s/step - loss: 1590.7788 - accuracy: 0.0000e+00\n",
      "Epoch 5/10\n",
      "1/1 [==============================] - 5s 5s/step - loss: 1590.7788 - accuracy: 0.0000e+00\n",
      "Epoch 6/10\n",
      "1/1 [==============================] - 5s 5s/step - loss: 1590.7788 - accuracy: 0.0000e+00\n",
      "Epoch 7/10\n",
      "1/1 [==============================] - 5s 5s/step - loss: 1590.7788 - accuracy: 0.0000e+00\n",
      "Epoch 8/10\n",
      "1/1 [==============================] - 5s 5s/step - loss: 1590.7788 - accuracy: 0.0000e+00\n",
      "Epoch 9/10\n",
      "1/1 [==============================] - 5s 5s/step - loss: 1590.7788 - accuracy: 0.0000e+00\n",
      "Epoch 10/10\n",
      "1/1 [==============================] - 5s 5s/step - loss: 1590.7788 - accuracy: 0.0000e+00\n",
      "/home/fdf7gn/data/UVaVoice/Participant2/Electrolarynx/29.wav\n",
      "Epoch 1/10\n",
      "1/1 [==============================] - 5s 5s/step - loss: 1588.5645 - accuracy: 1.5117e-06\n",
      "Epoch 2/10\n",
      "1/1 [==============================] - 5s 5s/step - loss: 1588.5645 - accuracy: 1.5117e-06\n",
      "Epoch 3/10\n",
      "1/1 [==============================] - 5s 5s/step - loss: 1588.5645 - accuracy: 1.5117e-06\n",
      "Epoch 4/10\n",
      "1/1 [==============================] - 5s 5s/step - loss: 1588.5645 - accuracy: 1.5117e-06\n",
      "Epoch 5/10\n",
      "1/1 [==============================] - 5s 5s/step - loss: 1588.5645 - accuracy: 1.5117e-06\n",
      "Epoch 6/10\n",
      "1/1 [==============================] - 5s 5s/step - loss: 1588.5645 - accuracy: 1.5117e-06\n",
      "Epoch 7/10\n",
      "1/1 [==============================] - 5s 5s/step - loss: 1588.5645 - accuracy: 1.5117e-06\n",
      "Epoch 8/10\n",
      "1/1 [==============================] - 5s 5s/step - loss: 1588.5645 - accuracy: 1.5117e-06\n",
      "Epoch 9/10\n",
      "1/1 [==============================] - 5s 5s/step - loss: 1588.5645 - accuracy: 1.5117e-06\n",
      "Epoch 10/10\n",
      "1/1 [==============================] - 5s 5s/step - loss: 1588.5645 - accuracy: 1.5117e-06\n",
      "/home/fdf7gn/data/UVaVoice/Participant2/Electrolarynx/33.wav\n",
      "Epoch 1/10\n",
      "1/1 [==============================] - 5s 5s/step - loss: 1522.5692 - accuracy: 1.5117e-06\n",
      "Epoch 2/10\n",
      "1/1 [==============================] - 5s 5s/step - loss: 1522.5692 - accuracy: 1.5117e-06\n",
      "Epoch 3/10\n",
      "1/1 [==============================] - 5s 5s/step - loss: 1522.5692 - accuracy: 1.5117e-06\n",
      "Epoch 4/10\n",
      "1/1 [==============================] - 5s 5s/step - loss: 1522.5692 - accuracy: 1.5117e-06\n",
      "Epoch 5/10\n",
      "1/1 [==============================] - 5s 5s/step - loss: 1522.5692 - accuracy: 1.5117e-06\n",
      "Epoch 6/10\n",
      "1/1 [==============================] - 5s 5s/step - loss: 1522.5692 - accuracy: 1.5117e-06\n",
      "Epoch 7/10\n",
      "1/1 [==============================] - 5s 5s/step - loss: 1522.5692 - accuracy: 1.5117e-06\n",
      "Epoch 8/10\n",
      "1/1 [==============================] - 5s 5s/step - loss: 1522.5692 - accuracy: 1.5117e-06\n",
      "Epoch 9/10\n",
      "1/1 [==============================] - 5s 5s/step - loss: 1522.5692 - accuracy: 1.5117e-06\n",
      "Epoch 10/10\n",
      "1/1 [==============================] - 5s 5s/step - loss: 1522.5692 - accuracy: 1.5117e-06\n",
      "/home/fdf7gn/data/UVaVoice/Participant2/Electrolarynx/26.wav\n",
      "Epoch 1/10\n",
      "1/1 [==============================] - 5s 5s/step - loss: 1564.4918 - accuracy: 1.5117e-06\n",
      "Epoch 2/10\n",
      "1/1 [==============================] - 5s 5s/step - loss: 1564.4918 - accuracy: 1.5117e-06\n",
      "Epoch 3/10\n",
      "1/1 [==============================] - 5s 5s/step - loss: 1564.4918 - accuracy: 1.5117e-06\n",
      "Epoch 4/10\n",
      "1/1 [==============================] - 5s 5s/step - loss: 1564.4918 - accuracy: 1.5117e-06\n",
      "Epoch 5/10\n",
      "1/1 [==============================] - 5s 5s/step - loss: 1564.4918 - accuracy: 1.5117e-06\n",
      "Epoch 6/10\n",
      "1/1 [==============================] - 5s 5s/step - loss: 1564.4918 - accuracy: 1.5117e-06\n",
      "Epoch 7/10\n",
      "1/1 [==============================] - 5s 5s/step - loss: 1564.4918 - accuracy: 1.5117e-06\n",
      "Epoch 8/10\n",
      "1/1 [==============================] - 5s 5s/step - loss: 1564.4918 - accuracy: 1.5117e-06\n",
      "Epoch 9/10\n",
      "1/1 [==============================] - 5s 5s/step - loss: 1564.4918 - accuracy: 1.5117e-06\n",
      "Epoch 10/10\n",
      "1/1 [==============================] - 5s 5s/step - loss: 1564.4918 - accuracy: 1.5117e-06\n",
      "/home/fdf7gn/data/UVaVoice/Participant2/Electrolarynx/32.wav\n",
      "Epoch 1/10\n",
      "1/1 [==============================] - 5s 5s/step - loss: 1696.9126 - accuracy: 0.0000e+00\n",
      "Epoch 2/10\n",
      "1/1 [==============================] - 5s 5s/step - loss: 1696.9126 - accuracy: 0.0000e+00\n",
      "Epoch 3/10\n",
      "1/1 [==============================] - 5s 5s/step - loss: 1696.9126 - accuracy: 0.0000e+00\n",
      "Epoch 4/10\n",
      "1/1 [==============================] - 5s 5s/step - loss: 1696.9126 - accuracy: 0.0000e+00\n",
      "Epoch 5/10\n",
      "1/1 [==============================] - 5s 5s/step - loss: 1696.9126 - accuracy: 0.0000e+00\n",
      "Epoch 6/10\n",
      "1/1 [==============================] - 5s 5s/step - loss: 1696.9126 - accuracy: 0.0000e+00\n",
      "Epoch 7/10\n",
      "1/1 [==============================] - 5s 5s/step - loss: 1696.9126 - accuracy: 0.0000e+00\n",
      "Epoch 8/10\n",
      "1/1 [==============================] - 5s 5s/step - loss: 1696.9126 - accuracy: 0.0000e+00\n",
      "Epoch 9/10\n",
      "1/1 [==============================] - 5s 5s/step - loss: 1696.9126 - accuracy: 0.0000e+00\n",
      "Epoch 10/10\n",
      "1/1 [==============================] - 5s 5s/step - loss: 1696.9126 - accuracy: 0.0000e+00\n",
      "/home/fdf7gn/data/UVaVoice/Participant2/Electrolarynx/24.wav\n",
      "Epoch 1/10\n",
      "1/1 [==============================] - 5s 5s/step - loss: 1686.1161 - accuracy: 1.5117e-06\n",
      "Epoch 2/10\n",
      "1/1 [==============================] - 5s 5s/step - loss: 1686.1161 - accuracy: 1.5117e-06\n",
      "Epoch 3/10\n",
      "1/1 [==============================] - 5s 5s/step - loss: 1686.1161 - accuracy: 1.5117e-06\n",
      "Epoch 4/10\n",
      "1/1 [==============================] - 5s 5s/step - loss: 1686.1161 - accuracy: 1.5117e-06\n",
      "Epoch 5/10\n",
      "1/1 [==============================] - 5s 5s/step - loss: 1686.1161 - accuracy: 1.5117e-06\n",
      "Epoch 6/10\n",
      "1/1 [==============================] - 5s 5s/step - loss: 1686.1161 - accuracy: 1.5117e-06\n",
      "Epoch 7/10\n",
      "1/1 [==============================] - 5s 5s/step - loss: 1686.1161 - accuracy: 1.5117e-06\n",
      "Epoch 8/10\n",
      "1/1 [==============================] - 5s 5s/step - loss: 1686.1161 - accuracy: 1.5117e-06\n",
      "Epoch 9/10\n",
      "1/1 [==============================] - 5s 5s/step - loss: 1686.1161 - accuracy: 1.5117e-06\n",
      "Epoch 10/10\n",
      "1/1 [==============================] - 5s 5s/step - loss: 1686.1161 - accuracy: 1.5117e-06\n",
      "/home/fdf7gn/data/UVaVoice/Participant2/Electrolarynx/25.wav\n",
      "Epoch 1/10\n",
      "1/1 [==============================] - 5s 5s/step - loss: 1506.3651 - accuracy: 1.5117e-06\n",
      "Epoch 2/10\n",
      "1/1 [==============================] - 5s 5s/step - loss: 1506.3651 - accuracy: 1.5117e-06\n",
      "Epoch 3/10\n",
      "1/1 [==============================] - 5s 5s/step - loss: 1506.3651 - accuracy: 1.5117e-06\n",
      "Epoch 4/10\n",
      "1/1 [==============================] - 5s 5s/step - loss: 1506.3651 - accuracy: 1.5117e-06\n",
      "Epoch 5/10\n",
      "1/1 [==============================] - 5s 5s/step - loss: 1506.3651 - accuracy: 1.5117e-06\n",
      "Epoch 6/10\n",
      "1/1 [==============================] - 5s 5s/step - loss: 1506.3651 - accuracy: 1.5117e-06\n",
      "Epoch 7/10\n",
      "1/1 [==============================] - 5s 5s/step - loss: 1506.3651 - accuracy: 1.5117e-06\n",
      "Epoch 8/10\n",
      "1/1 [==============================] - 5s 5s/step - loss: 1506.3651 - accuracy: 1.5117e-06\n",
      "Epoch 9/10\n",
      "1/1 [==============================] - 5s 5s/step - loss: 1506.3651 - accuracy: 1.5117e-06\n",
      "Epoch 10/10\n",
      "1/1 [==============================] - 5s 5s/step - loss: 1506.3651 - accuracy: 1.5117e-06\n",
      "/home/fdf7gn/data/UVaVoice/Participant2/Electrolarynx/31.wav\n",
      "Epoch 1/10\n",
      "1/1 [==============================] - 5s 5s/step - loss: 1656.2454 - accuracy: 1.5117e-06\n",
      "Epoch 2/10\n",
      "1/1 [==============================] - 5s 5s/step - loss: 1656.2450 - accuracy: 1.5117e-06\n",
      "Epoch 3/10\n",
      "1/1 [==============================] - 5s 5s/step - loss: 1656.2450 - accuracy: 1.5117e-06\n",
      "Epoch 4/10\n",
      "1/1 [==============================] - 5s 5s/step - loss: 1656.2450 - accuracy: 1.5117e-06\n",
      "Epoch 5/10\n",
      "1/1 [==============================] - 5s 5s/step - loss: 1656.2450 - accuracy: 1.5117e-06\n",
      "Epoch 6/10\n",
      "1/1 [==============================] - 5s 5s/step - loss: 1656.2450 - accuracy: 1.5117e-06\n",
      "Epoch 7/10\n",
      "1/1 [==============================] - 5s 5s/step - loss: 1656.2450 - accuracy: 1.5117e-06\n",
      "Epoch 8/10\n",
      "1/1 [==============================] - 5s 5s/step - loss: 1656.2450 - accuracy: 1.5117e-06\n",
      "Epoch 9/10\n",
      "1/1 [==============================] - 5s 5s/step - loss: 1656.2450 - accuracy: 1.5117e-06\n",
      "Epoch 10/10\n",
      "1/1 [==============================] - 5s 5s/step - loss: 1656.2450 - accuracy: 1.5117e-06\n",
      "/home/fdf7gn/data/UVaVoice/Participant5/Electrolarynx/87.wav\n",
      "Epoch 1/10\n",
      "1/1 [==============================] - 5s 5s/step - loss: 1723.9276 - accuracy: 1.5117e-06\n",
      "Epoch 2/10\n",
      "1/1 [==============================] - 5s 5s/step - loss: 1723.9276 - accuracy: 1.5117e-06\n",
      "Epoch 3/10\n",
      "1/1 [==============================] - 5s 5s/step - loss: 1723.9276 - accuracy: 1.5117e-06\n",
      "Epoch 4/10\n",
      "1/1 [==============================] - 5s 5s/step - loss: 1723.9276 - accuracy: 1.5117e-06\n",
      "Epoch 5/10\n",
      "1/1 [==============================] - 5s 5s/step - loss: 1723.9276 - accuracy: 1.5117e-06\n",
      "Epoch 6/10\n",
      "1/1 [==============================] - 5s 5s/step - loss: 1723.9276 - accuracy: 1.5117e-06\n",
      "Epoch 7/10\n",
      "1/1 [==============================] - 5s 5s/step - loss: 1723.9276 - accuracy: 1.5117e-06\n",
      "Epoch 8/10\n",
      "1/1 [==============================] - 5s 5s/step - loss: 1723.9276 - accuracy: 1.5117e-06\n",
      "Epoch 9/10\n",
      "1/1 [==============================] - 5s 5s/step - loss: 1723.9276 - accuracy: 1.5117e-06\n",
      "Epoch 10/10\n",
      "1/1 [==============================] - 5s 5s/step - loss: 1723.9276 - accuracy: 1.5117e-06\n",
      "/home/fdf7gn/data/UVaVoice/Participant5/Electrolarynx/89.wav\n",
      "Epoch 1/10\n",
      "1/1 [==============================] - 5s 5s/step - loss: 1556.9861 - accuracy: 1.5117e-06\n",
      "Epoch 2/10\n",
      "1/1 [==============================] - 5s 5s/step - loss: 1556.9861 - accuracy: 1.5117e-06\n",
      "Epoch 3/10\n",
      "1/1 [==============================] - 5s 5s/step - loss: 1556.9861 - accuracy: 1.5117e-06\n",
      "Epoch 4/10\n",
      "1/1 [==============================] - 5s 5s/step - loss: 1556.9861 - accuracy: 1.5117e-06\n",
      "Epoch 5/10\n",
      "1/1 [==============================] - 5s 5s/step - loss: 1556.9861 - accuracy: 1.5117e-06\n",
      "Epoch 6/10\n",
      "1/1 [==============================] - 5s 5s/step - loss: 1556.9861 - accuracy: 1.5117e-06\n",
      "Epoch 7/10\n",
      "1/1 [==============================] - 5s 5s/step - loss: 1556.9861 - accuracy: 1.5117e-06\n",
      "Epoch 8/10\n",
      "1/1 [==============================] - 5s 5s/step - loss: 1556.9861 - accuracy: 1.5117e-06\n",
      "Epoch 9/10\n",
      "1/1 [==============================] - 5s 5s/step - loss: 1556.9861 - accuracy: 1.5117e-06\n",
      "Epoch 10/10\n",
      "1/1 [==============================] - 5s 5s/step - loss: 1556.9861 - accuracy: 1.5117e-06\n",
      "/home/fdf7gn/data/UVaVoice/Participant5/Electrolarynx/88.wav\n",
      "Epoch 1/10\n",
      "1/1 [==============================] - 5s 5s/step - loss: 1658.3317 - accuracy: 1.5117e-06\n",
      "Epoch 2/10\n",
      "1/1 [==============================] - 5s 5s/step - loss: 1658.3317 - accuracy: 1.5117e-06\n",
      "Epoch 3/10\n",
      "1/1 [==============================] - 5s 5s/step - loss: 1658.3317 - accuracy: 1.5117e-06\n",
      "Epoch 4/10\n",
      "1/1 [==============================] - 5s 5s/step - loss: 1658.3317 - accuracy: 1.5117e-06\n",
      "Epoch 5/10\n",
      "1/1 [==============================] - 5s 5s/step - loss: 1658.3317 - accuracy: 1.5117e-06\n",
      "Epoch 6/10\n",
      "1/1 [==============================] - 5s 5s/step - loss: 1658.3317 - accuracy: 1.5117e-06\n",
      "Epoch 7/10\n",
      "1/1 [==============================] - 5s 5s/step - loss: 1658.3317 - accuracy: 1.5117e-06\n",
      "Epoch 8/10\n",
      "1/1 [==============================] - 5s 5s/step - loss: 1658.3317 - accuracy: 1.5117e-06\n",
      "Epoch 9/10\n",
      "1/1 [==============================] - 5s 5s/step - loss: 1658.3317 - accuracy: 1.5117e-06\n",
      "Epoch 10/10\n",
      "1/1 [==============================] - 5s 5s/step - loss: 1658.3317 - accuracy: 1.5117e-06\n",
      "/home/fdf7gn/data/UVaVoice/Participant5/Electrolarynx/91.wav\n",
      "Epoch 1/10\n",
      "1/1 [==============================] - 5s 5s/step - loss: 1741.5457 - accuracy: 0.0000e+00\n",
      "Epoch 2/10\n",
      "1/1 [==============================] - 5s 5s/step - loss: 1741.5459 - accuracy: 0.0000e+00\n",
      "Epoch 3/10\n",
      "1/1 [==============================] - 5s 5s/step - loss: 1741.5459 - accuracy: 0.0000e+00\n",
      "Epoch 4/10\n",
      "1/1 [==============================] - 5s 5s/step - loss: 1741.5459 - accuracy: 0.0000e+00\n",
      "Epoch 5/10\n",
      "1/1 [==============================] - 5s 5s/step - loss: 1741.5459 - accuracy: 0.0000e+00\n",
      "Epoch 6/10\n",
      "1/1 [==============================] - 5s 5s/step - loss: 1741.5459 - accuracy: 0.0000e+00\n",
      "Epoch 7/10\n",
      "1/1 [==============================] - 5s 5s/step - loss: 1741.5459 - accuracy: 0.0000e+00\n",
      "Epoch 8/10\n",
      "1/1 [==============================] - 5s 5s/step - loss: 1741.5459 - accuracy: 0.0000e+00\n",
      "Epoch 9/10\n",
      "1/1 [==============================] - 5s 5s/step - loss: 1741.5457 - accuracy: 0.0000e+00\n",
      "Epoch 10/10\n",
      "1/1 [==============================] - 5s 5s/step - loss: 1741.5457 - accuracy: 0.0000e+00\n",
      "/home/fdf7gn/data/UVaVoice/Participant5/Electrolarynx/86.wav\n",
      "Epoch 1/10\n",
      "1/1 [==============================] - 5s 5s/step - loss: 1492.5745 - accuracy: 1.5117e-06\n",
      "Epoch 2/10\n",
      "1/1 [==============================] - 5s 5s/step - loss: 1492.5745 - accuracy: 1.5117e-06\n",
      "Epoch 3/10\n",
      "1/1 [==============================] - 5s 5s/step - loss: 1492.5745 - accuracy: 1.5117e-06\n",
      "Epoch 4/10\n",
      "1/1 [==============================] - 5s 5s/step - loss: 1492.5745 - accuracy: 1.5117e-06\n",
      "Epoch 5/10\n",
      "1/1 [==============================] - 5s 5s/step - loss: 1492.5745 - accuracy: 1.5117e-06\n",
      "Epoch 6/10\n",
      "1/1 [==============================] - 5s 5s/step - loss: 1492.5745 - accuracy: 1.5117e-06\n",
      "Epoch 7/10\n",
      "1/1 [==============================] - 5s 5s/step - loss: 1492.5745 - accuracy: 1.5117e-06\n",
      "Epoch 8/10\n",
      "1/1 [==============================] - 5s 5s/step - loss: 1492.5745 - accuracy: 1.5117e-06\n",
      "Epoch 9/10\n",
      "1/1 [==============================] - 5s 5s/step - loss: 1492.5745 - accuracy: 1.5117e-06\n",
      "Epoch 10/10\n",
      "1/1 [==============================] - 5s 5s/step - loss: 1492.5745 - accuracy: 1.5117e-06\n",
      "/home/fdf7gn/data/UVaVoice/Participant5/Electrolarynx/90.wav\n",
      "Epoch 1/10\n",
      "1/1 [==============================] - 5s 5s/step - loss: 1637.4808 - accuracy: 1.5117e-06\n",
      "Epoch 2/10\n",
      "1/1 [==============================] - 5s 5s/step - loss: 1637.4808 - accuracy: 1.5117e-06\n",
      "Epoch 3/10\n",
      "1/1 [==============================] - 5s 5s/step - loss: 1637.4808 - accuracy: 1.5117e-06\n",
      "Epoch 4/10\n",
      "1/1 [==============================] - 5s 5s/step - loss: 1637.4808 - accuracy: 1.5117e-06\n",
      "Epoch 5/10\n",
      "1/1 [==============================] - 5s 5s/step - loss: 1637.4808 - accuracy: 1.5117e-06\n",
      "Epoch 6/10\n",
      "1/1 [==============================] - 5s 5s/step - loss: 1637.4808 - accuracy: 1.5117e-06\n",
      "Epoch 7/10\n",
      "1/1 [==============================] - 5s 5s/step - loss: 1637.4808 - accuracy: 1.5117e-06\n",
      "Epoch 8/10\n",
      "1/1 [==============================] - 5s 5s/step - loss: 1637.4808 - accuracy: 1.5117e-06\n",
      "Epoch 9/10\n",
      "1/1 [==============================] - 5s 5s/step - loss: 1637.4808 - accuracy: 1.5117e-06\n",
      "Epoch 10/10\n",
      "1/1 [==============================] - 5s 5s/step - loss: 1637.4808 - accuracy: 1.5117e-06\n",
      "/home/fdf7gn/data/UVaVoice/Participant5/Electrolarynx/93.wav\n",
      "Epoch 1/10\n",
      "1/1 [==============================] - 5s 5s/step - loss: 1682.5264 - accuracy: 1.5117e-06\n",
      "Epoch 2/10\n",
      "1/1 [==============================] - 5s 5s/step - loss: 1682.5264 - accuracy: 1.5117e-06\n",
      "Epoch 3/10\n",
      "1/1 [==============================] - 5s 5s/step - loss: 1682.5264 - accuracy: 1.5117e-06\n",
      "Epoch 4/10\n",
      "1/1 [==============================] - 5s 5s/step - loss: 1682.5264 - accuracy: 1.5117e-06\n",
      "Epoch 5/10\n",
      "1/1 [==============================] - 5s 5s/step - loss: 1682.5264 - accuracy: 1.5117e-06\n",
      "Epoch 6/10\n",
      "1/1 [==============================] - 5s 5s/step - loss: 1682.5264 - accuracy: 1.5117e-06\n",
      "Epoch 7/10\n",
      "1/1 [==============================] - 5s 5s/step - loss: 1682.5264 - accuracy: 1.5117e-06\n",
      "Epoch 8/10\n",
      "1/1 [==============================] - 5s 5s/step - loss: 1682.5264 - accuracy: 1.5117e-06\n",
      "Epoch 9/10\n",
      "1/1 [==============================] - 5s 5s/step - loss: 1682.5264 - accuracy: 1.5117e-06\n",
      "Epoch 10/10\n",
      "1/1 [==============================] - 5s 5s/step - loss: 1682.5264 - accuracy: 1.5117e-06\n",
      "/home/fdf7gn/data/UVaVoice/Participant5/Electrolarynx/92.wav\n",
      "Epoch 1/10\n",
      "1/1 [==============================] - 5s 5s/step - loss: 1835.7864 - accuracy: 1.5117e-06\n",
      "Epoch 2/10\n",
      "1/1 [==============================] - 5s 5s/step - loss: 1835.7864 - accuracy: 1.5117e-06\n",
      "Epoch 3/10\n",
      "1/1 [==============================] - 5s 5s/step - loss: 1835.7864 - accuracy: 1.5117e-06\n",
      "Epoch 4/10\n",
      "1/1 [==============================] - 5s 5s/step - loss: 1835.7864 - accuracy: 1.5117e-06\n",
      "Epoch 5/10\n",
      "1/1 [==============================] - 5s 5s/step - loss: 1835.7864 - accuracy: 1.5117e-06\n",
      "Epoch 6/10\n",
      "1/1 [==============================] - 5s 5s/step - loss: 1835.7864 - accuracy: 1.5117e-06\n",
      "Epoch 7/10\n",
      "1/1 [==============================] - 5s 5s/step - loss: 1835.7864 - accuracy: 1.5117e-06\n",
      "Epoch 8/10\n",
      "1/1 [==============================] - 5s 5s/step - loss: 1835.7864 - accuracy: 1.5117e-06\n",
      "Epoch 9/10\n",
      "1/1 [==============================] - 5s 5s/step - loss: 1835.7864 - accuracy: 1.5117e-06\n",
      "Epoch 10/10\n",
      "1/1 [==============================] - 5s 5s/step - loss: 1835.7864 - accuracy: 1.5117e-06\n",
      "/home/fdf7gn/data/UVaVoice/Participant5/Electrolarynx/84.wav\n",
      "Epoch 1/10\n",
      "1/1 [==============================] - 5s 5s/step - loss: 1707.5023 - accuracy: 1.5117e-06\n",
      "Epoch 2/10\n",
      "1/1 [==============================] - 5s 5s/step - loss: 1707.5023 - accuracy: 1.5117e-06\n",
      "Epoch 3/10\n",
      "1/1 [==============================] - 5s 5s/step - loss: 1707.5023 - accuracy: 1.5117e-06\n",
      "Epoch 4/10\n",
      "1/1 [==============================] - 5s 5s/step - loss: 1707.5023 - accuracy: 1.5117e-06\n",
      "Epoch 5/10\n",
      "1/1 [==============================] - 5s 5s/step - loss: 1707.5023 - accuracy: 1.5117e-06\n",
      "Epoch 6/10\n",
      "1/1 [==============================] - 5s 5s/step - loss: 1707.5023 - accuracy: 1.5117e-06\n",
      "Epoch 7/10\n",
      "1/1 [==============================] - 5s 5s/step - loss: 1707.5023 - accuracy: 1.5117e-06\n",
      "Epoch 8/10\n",
      "1/1 [==============================] - 5s 5s/step - loss: 1707.5023 - accuracy: 1.5117e-06\n",
      "Epoch 9/10\n",
      "1/1 [==============================] - 5s 5s/step - loss: 1707.5023 - accuracy: 1.5117e-06\n",
      "Epoch 10/10\n",
      "1/1 [==============================] - 5s 5s/step - loss: 1707.5023 - accuracy: 1.5117e-06\n",
      "/home/fdf7gn/data/UVaVoice/Participant5/Electrolarynx/85.wav\n",
      "Epoch 1/10\n",
      "1/1 [==============================] - 5s 5s/step - loss: 1622.4551 - accuracy: 1.5117e-06\n",
      "Epoch 2/10\n",
      "1/1 [==============================] - 5s 5s/step - loss: 1622.4551 - accuracy: 1.5117e-06\n",
      "Epoch 3/10\n",
      "1/1 [==============================] - 5s 5s/step - loss: 1622.4551 - accuracy: 1.5117e-06\n",
      "Epoch 4/10\n",
      "1/1 [==============================] - 5s 5s/step - loss: 1622.4551 - accuracy: 1.5117e-06\n",
      "Epoch 5/10\n",
      "1/1 [==============================] - 5s 5s/step - loss: 1622.4551 - accuracy: 1.5117e-06\n",
      "Epoch 6/10\n",
      "1/1 [==============================] - 5s 5s/step - loss: 1622.4551 - accuracy: 1.5117e-06\n",
      "Epoch 7/10\n",
      "1/1 [==============================] - 5s 5s/step - loss: 1622.4551 - accuracy: 1.5117e-06\n",
      "Epoch 8/10\n",
      "1/1 [==============================] - 5s 5s/step - loss: 1622.4551 - accuracy: 1.5117e-06\n",
      "Epoch 9/10\n",
      "1/1 [==============================] - 5s 5s/step - loss: 1622.4551 - accuracy: 1.5117e-06\n",
      "Epoch 10/10\n",
      "1/1 [==============================] - 5s 5s/step - loss: 1622.4551 - accuracy: 1.5117e-06\n",
      "/home/fdf7gn/data/UVaVoice/Participant4/Electrolarynx/69.wav\n",
      "Epoch 1/10\n",
      "1/1 [==============================] - 5s 5s/step - loss: 1685.0238 - accuracy: 1.5117e-06\n",
      "Epoch 2/10\n",
      "1/1 [==============================] - 5s 5s/step - loss: 1685.0238 - accuracy: 1.5117e-06\n",
      "Epoch 3/10\n",
      "1/1 [==============================] - 5s 5s/step - loss: 1685.0238 - accuracy: 1.5117e-06\n",
      "Epoch 4/10\n",
      "1/1 [==============================] - 5s 5s/step - loss: 1685.0238 - accuracy: 1.5117e-06\n",
      "Epoch 5/10\n",
      "1/1 [==============================] - 5s 5s/step - loss: 1685.0238 - accuracy: 1.5117e-06\n",
      "Epoch 6/10\n",
      "1/1 [==============================] - 5s 5s/step - loss: 1685.0238 - accuracy: 1.5117e-06\n",
      "Epoch 7/10\n",
      "1/1 [==============================] - 5s 5s/step - loss: 1685.0238 - accuracy: 1.5117e-06\n",
      "Epoch 8/10\n",
      "1/1 [==============================] - 5s 5s/step - loss: 1685.0238 - accuracy: 1.5117e-06\n",
      "Epoch 9/10\n",
      "1/1 [==============================] - 5s 5s/step - loss: 1685.0238 - accuracy: 1.5117e-06\n",
      "Epoch 10/10\n",
      "1/1 [==============================] - 5s 5s/step - loss: 1685.0238 - accuracy: 1.5117e-06\n",
      "/home/fdf7gn/data/UVaVoice/Participant4/Electrolarynx/71.wav\n",
      "Epoch 1/10\n",
      "1/1 [==============================] - 5s 5s/step - loss: 1636.7817 - accuracy: 0.0000e+00\n",
      "Epoch 2/10\n",
      "1/1 [==============================] - 5s 5s/step - loss: 1636.7817 - accuracy: 0.0000e+00\n",
      "Epoch 3/10\n",
      "1/1 [==============================] - 5s 5s/step - loss: 1636.7817 - accuracy: 0.0000e+00\n",
      "Epoch 4/10\n",
      "1/1 [==============================] - 5s 5s/step - loss: 1636.7817 - accuracy: 0.0000e+00\n",
      "Epoch 5/10\n",
      "1/1 [==============================] - 5s 5s/step - loss: 1636.7817 - accuracy: 0.0000e+00\n",
      "Epoch 6/10\n",
      "1/1 [==============================] - 5s 5s/step - loss: 1636.7817 - accuracy: 0.0000e+00\n",
      "Epoch 7/10\n",
      "1/1 [==============================] - 5s 5s/step - loss: 1636.7817 - accuracy: 0.0000e+00\n",
      "Epoch 8/10\n",
      "1/1 [==============================] - 5s 5s/step - loss: 1636.7817 - accuracy: 0.0000e+00\n",
      "Epoch 9/10\n",
      "1/1 [==============================] - 5s 5s/step - loss: 1636.7817 - accuracy: 0.0000e+00\n",
      "Epoch 10/10\n",
      "1/1 [==============================] - 5s 5s/step - loss: 1636.7817 - accuracy: 0.0000e+00\n",
      "/home/fdf7gn/data/UVaVoice/Participant4/Electrolarynx/67.wav\n",
      "Epoch 1/10\n",
      "1/1 [==============================] - 5s 5s/step - loss: 1481.2045 - accuracy: 1.5117e-06\n",
      "Epoch 2/10\n",
      "1/1 [==============================] - 5s 5s/step - loss: 1481.2045 - accuracy: 1.5117e-06\n",
      "Epoch 3/10\n",
      "1/1 [==============================] - 5s 5s/step - loss: 1481.2045 - accuracy: 1.5117e-06\n",
      "Epoch 4/10\n",
      "1/1 [==============================] - 5s 5s/step - loss: 1481.2045 - accuracy: 1.5117e-06\n",
      "Epoch 5/10\n",
      "1/1 [==============================] - 5s 5s/step - loss: 1481.2045 - accuracy: 1.5117e-06\n",
      "Epoch 6/10\n",
      "1/1 [==============================] - 5s 5s/step - loss: 1481.2045 - accuracy: 1.5117e-06\n",
      "Epoch 7/10\n",
      "1/1 [==============================] - 5s 5s/step - loss: 1481.2045 - accuracy: 1.5117e-06\n",
      "Epoch 8/10\n",
      "1/1 [==============================] - 5s 5s/step - loss: 1481.2045 - accuracy: 1.5117e-06\n",
      "Epoch 9/10\n",
      "1/1 [==============================] - 5s 5s/step - loss: 1481.2045 - accuracy: 1.5117e-06\n",
      "Epoch 10/10\n",
      "1/1 [==============================] - 5s 5s/step - loss: 1481.2045 - accuracy: 1.5117e-06\n",
      "/home/fdf7gn/data/UVaVoice/Participant4/Electrolarynx/73.wav\n",
      "Epoch 1/10\n",
      "1/1 [==============================] - 5s 5s/step - loss: 1623.5730 - accuracy: 1.5117e-06\n",
      "Epoch 2/10\n",
      "1/1 [==============================] - 5s 5s/step - loss: 1623.5730 - accuracy: 1.5117e-06\n",
      "Epoch 3/10\n",
      "1/1 [==============================] - 5s 5s/step - loss: 1623.5730 - accuracy: 1.5117e-06\n",
      "Epoch 4/10\n",
      "1/1 [==============================] - 5s 5s/step - loss: 1623.5730 - accuracy: 1.5117e-06\n",
      "Epoch 5/10\n",
      "1/1 [==============================] - 5s 5s/step - loss: 1623.5730 - accuracy: 1.5117e-06\n",
      "Epoch 6/10\n",
      "1/1 [==============================] - 5s 5s/step - loss: 1623.5730 - accuracy: 1.5117e-06\n",
      "Epoch 7/10\n",
      "1/1 [==============================] - 5s 5s/step - loss: 1623.5730 - accuracy: 1.5117e-06\n",
      "Epoch 8/10\n",
      "1/1 [==============================] - 5s 5s/step - loss: 1623.5730 - accuracy: 1.5117e-06\n",
      "Epoch 9/10\n",
      "1/1 [==============================] - 5s 5s/step - loss: 1623.5730 - accuracy: 1.5117e-06\n",
      "Epoch 10/10\n",
      "1/1 [==============================] - 5s 5s/step - loss: 1623.5730 - accuracy: 1.5117e-06\n",
      "/home/fdf7gn/data/UVaVoice/Participant4/Electrolarynx/1.wav\n",
      "Epoch 1/10\n",
      "1/1 [==============================] - 5s 5s/step - loss: 1624.1329 - accuracy: 1.5117e-06\n",
      "Epoch 2/10\n",
      "1/1 [==============================] - 5s 5s/step - loss: 1624.1329 - accuracy: 1.5117e-06\n",
      "Epoch 3/10\n",
      "1/1 [==============================] - 5s 5s/step - loss: 1624.1329 - accuracy: 1.5117e-06\n",
      "Epoch 4/10\n",
      "1/1 [==============================] - 5s 5s/step - loss: 1624.1329 - accuracy: 1.5117e-06\n",
      "Epoch 5/10\n",
      "1/1 [==============================] - 5s 5s/step - loss: 1624.1329 - accuracy: 1.5117e-06\n",
      "Epoch 6/10\n",
      "1/1 [==============================] - 5s 5s/step - loss: 1624.1329 - accuracy: 1.5117e-06\n",
      "Epoch 7/10\n",
      "1/1 [==============================] - 5s 5s/step - loss: 1624.1329 - accuracy: 1.5117e-06\n",
      "Epoch 8/10\n",
      "1/1 [==============================] - 5s 5s/step - loss: 1624.1329 - accuracy: 1.5117e-06\n",
      "Epoch 9/10\n",
      "1/1 [==============================] - 5s 5s/step - loss: 1624.1329 - accuracy: 1.5117e-06\n",
      "Epoch 10/10\n",
      "1/1 [==============================] - 5s 5s/step - loss: 1624.1329 - accuracy: 1.5117e-06\n",
      "/home/fdf7gn/data/UVaVoice/Participant4/Electrolarynx/66.wav\n",
      "Epoch 1/10\n",
      "1/1 [==============================] - 5s 5s/step - loss: 1549.9944 - accuracy: 0.0000e+00\n",
      "Epoch 2/10\n",
      "1/1 [==============================] - 5s 5s/step - loss: 1549.9944 - accuracy: 0.0000e+00\n",
      "Epoch 3/10\n",
      "1/1 [==============================] - 5s 5s/step - loss: 1549.9944 - accuracy: 0.0000e+00\n",
      "Epoch 4/10\n",
      "1/1 [==============================] - 5s 5s/step - loss: 1549.9944 - accuracy: 0.0000e+00\n",
      "Epoch 5/10\n",
      "1/1 [==============================] - 5s 5s/step - loss: 1549.9944 - accuracy: 0.0000e+00\n",
      "Epoch 6/10\n",
      "1/1 [==============================] - 5s 5s/step - loss: 1549.9944 - accuracy: 0.0000e+00\n",
      "Epoch 7/10\n",
      "1/1 [==============================] - 5s 5s/step - loss: 1549.9944 - accuracy: 0.0000e+00\n",
      "Epoch 8/10\n",
      "1/1 [==============================] - 6s 6s/step - loss: 1549.9944 - accuracy: 0.0000e+00\n",
      "Epoch 9/10\n",
      "1/1 [==============================] - 5s 5s/step - loss: 1549.9944 - accuracy: 0.0000e+00\n",
      "Epoch 10/10\n",
      "1/1 [==============================] - 5s 5s/step - loss: 1549.9944 - accuracy: 0.0000e+00\n",
      "/home/fdf7gn/data/UVaVoice/Participant4/Electrolarynx/70.wav\n",
      "Epoch 1/10\n",
      "1/1 [==============================] - 5s 5s/step - loss: 1557.0912 - accuracy: 0.0000e+00\n",
      "Epoch 2/10\n",
      "1/1 [==============================] - 5s 5s/step - loss: 1557.0912 - accuracy: 0.0000e+00\n",
      "Epoch 3/10\n",
      "1/1 [==============================] - 5s 5s/step - loss: 1557.0912 - accuracy: 0.0000e+00\n",
      "Epoch 4/10\n",
      "1/1 [==============================] - 5s 5s/step - loss: 1557.0912 - accuracy: 0.0000e+00\n",
      "Epoch 5/10\n",
      "1/1 [==============================] - 5s 5s/step - loss: 1557.0912 - accuracy: 0.0000e+00\n",
      "Epoch 6/10\n",
      "1/1 [==============================] - 5s 5s/step - loss: 1557.0912 - accuracy: 0.0000e+00\n",
      "Epoch 7/10\n",
      "1/1 [==============================] - 5s 5s/step - loss: 1557.0912 - accuracy: 0.0000e+00\n",
      "Epoch 8/10\n",
      "1/1 [==============================] - 5s 5s/step - loss: 1557.0912 - accuracy: 0.0000e+00\n",
      "Epoch 9/10\n",
      "1/1 [==============================] - 5s 5s/step - loss: 1557.0912 - accuracy: 0.0000e+00\n",
      "Epoch 10/10\n",
      "1/1 [==============================] - 5s 5s/step - loss: 1557.0912 - accuracy: 0.0000e+00\n",
      "/home/fdf7gn/data/UVaVoice/Participant4/Electrolarynx/68.wav\n",
      "Epoch 1/10\n",
      "1/1 [==============================] - 5s 5s/step - loss: 1556.5969 - accuracy: 1.5117e-06\n",
      "Epoch 2/10\n",
      "1/1 [==============================] - 6s 6s/step - loss: 1556.5969 - accuracy: 1.5117e-06\n",
      "Epoch 3/10\n",
      "1/1 [==============================] - 5s 5s/step - loss: 1556.5969 - accuracy: 1.5117e-06\n",
      "Epoch 4/10\n",
      "1/1 [==============================] - 5s 5s/step - loss: 1556.5969 - accuracy: 1.5117e-06\n",
      "Epoch 5/10\n",
      "1/1 [==============================] - 5s 5s/step - loss: 1556.5969 - accuracy: 1.5117e-06\n",
      "Epoch 6/10\n",
      "1/1 [==============================] - 5s 5s/step - loss: 1556.5969 - accuracy: 1.5117e-06\n",
      "Epoch 7/10\n",
      "1/1 [==============================] - 5s 5s/step - loss: 1556.5969 - accuracy: 1.5117e-06\n",
      "Epoch 8/10\n",
      "1/1 [==============================] - 5s 5s/step - loss: 1556.5969 - accuracy: 1.5117e-06\n",
      "Epoch 9/10\n",
      "1/1 [==============================] - 5s 5s/step - loss: 1556.5969 - accuracy: 1.5117e-06\n",
      "Epoch 10/10\n",
      "1/1 [==============================] - 5s 5s/step - loss: 1556.5968 - accuracy: 1.5117e-06\n",
      "/home/fdf7gn/data/UVaVoice/Participant4/Electrolarynx/72.wav\n",
      "Epoch 1/10\n",
      "1/1 [==============================] - 5s 5s/step - loss: 1536.1517 - accuracy: 0.0000e+00\n",
      "Epoch 2/10\n",
      "1/1 [==============================] - 5s 5s/step - loss: 1536.1517 - accuracy: 0.0000e+00\n",
      "Epoch 3/10\n",
      "1/1 [==============================] - 5s 5s/step - loss: 1536.1517 - accuracy: 0.0000e+00\n",
      "Epoch 4/10\n",
      "1/1 [==============================] - 5s 5s/step - loss: 1536.1517 - accuracy: 0.0000e+00\n",
      "Epoch 5/10\n",
      "1/1 [==============================] - 5s 5s/step - loss: 1536.1517 - accuracy: 0.0000e+00\n",
      "Epoch 6/10\n",
      "1/1 [==============================] - 5s 5s/step - loss: 1536.1517 - accuracy: 0.0000e+00\n",
      "Epoch 7/10\n",
      "1/1 [==============================] - 5s 5s/step - loss: 1536.1517 - accuracy: 0.0000e+00\n",
      "Epoch 8/10\n",
      "1/1 [==============================] - 5s 5s/step - loss: 1536.1517 - accuracy: 0.0000e+00\n",
      "Epoch 9/10\n",
      "1/1 [==============================] - 5s 5s/step - loss: 1536.1517 - accuracy: 0.0000e+00\n",
      "Epoch 10/10\n",
      "1/1 [==============================] - 5s 5s/step - loss: 1536.1517 - accuracy: 0.0000e+00\n",
      "/home/fdf7gn/data/UVaVoice/Participant4/Electrolarynx/65.wav\n",
      "Epoch 1/10\n",
      "1/1 [==============================] - 5s 5s/step - loss: 1548.1581 - accuracy: 0.0000e+00\n",
      "Epoch 2/10\n",
      "1/1 [==============================] - 5s 5s/step - loss: 1548.1581 - accuracy: 0.0000e+00\n",
      "Epoch 3/10\n",
      "1/1 [==============================] - 5s 5s/step - loss: 1548.1581 - accuracy: 0.0000e+00\n",
      "Epoch 4/10\n",
      "1/1 [==============================] - 5s 5s/step - loss: 1548.1582 - accuracy: 0.0000e+00\n",
      "Epoch 5/10\n",
      "1/1 [==============================] - 5s 5s/step - loss: 1548.1582 - accuracy: 0.0000e+00\n",
      "Epoch 6/10\n",
      "1/1 [==============================] - 5s 5s/step - loss: 1548.1581 - accuracy: 0.0000e+00\n",
      "Epoch 7/10\n",
      "1/1 [==============================] - 5s 5s/step - loss: 1548.1581 - accuracy: 0.0000e+00\n",
      "Epoch 8/10\n",
      "1/1 [==============================] - 5s 5s/step - loss: 1548.1581 - accuracy: 0.0000e+00\n",
      "Epoch 9/10\n",
      "1/1 [==============================] - 5s 5s/step - loss: 1548.1581 - accuracy: 0.0000e+00\n",
      "Epoch 10/10\n",
      "1/1 [==============================] - 5s 5s/step - loss: 1548.1581 - accuracy: 0.0000e+00\n"
     ]
    }
   ],
   "source": [
    "import os\n",
    "import numpy as np\n",
    "import librosa\n",
    "import tensorflow as tf\n",
    "from tensorflow import keras\n",
    "from tensorflow.keras.layers import Input, Conv2D, Conv2DTranspose, Activation, BatchNormalization, MaxPooling2D, UpSampling2D\n",
    "from tensorflow.keras.models import Model\n",
    "\n",
    "def preprocess_audio(audio_file):\n",
    "    # Load the audio file\n",
    "    print(audio_file)\n",
    "    audio, sr = librosa.load(audio_file)\n",
    "\n",
    "    # Split the audio into 30-second chunks\n",
    "    chunk_size = 30 * sr\n",
    "    num_chunks = max(len(audio) // chunk_size, 1)\n",
    "    audio_chunks = np.array_split(audio[:num_chunks*chunk_size], num_chunks)\n",
    "\n",
    "    # Preprocess each chunk\n",
    "    specs = []\n",
    "    for chunk in audio_chunks:\n",
    "        spec = librosa.feature.melspectrogram(y=chunk, sr=sr, n_fft=512, hop_length=128)\n",
    "        spec_db = librosa.power_to_db(spec, ref=np.max)\n",
    "        spec_db = np.expand_dims(spec_db, axis=-1)\n",
    "        specs.append(spec_db)\n",
    "    return specs\n",
    "\n",
    "def add_noise(spec_db):\n",
    "    # Add noise to the spectrogram\n",
    "    noise = np.random.normal(0, 1, size=spec_db.shape)\n",
    "    noisy_spec_db = spec_db + 0.05 * noise\n",
    "    return noisy_spec_db\n",
    "\n",
    "def create_model(spec_shape):\n",
    "    # Define the denoising autoencoder model\n",
    "    input_layer = Input(shape=spec_shape)\n",
    "    x = Conv2D(64, (3, 3), activation='relu', padding='same')(input_layer)\n",
    "    x = BatchNormalization()(x)\n",
    "    x = Conv2D(64, (3, 3), activation='relu', padding='same')(x)\n",
    "    x = BatchNormalization()(x)\n",
    "    x = Conv2D(64, (3, 3), activation='relu', padding='same')(x)\n",
    "    x = BatchNormalization()(x)\n",
    "    x = Conv2D(64, (3, 3), activation='relu', padding='same')(x)\n",
    "    x = BatchNormalization()(x)\n",
    "    x = Conv2D(128, (3, 3), activation='relu', strides=(2, 2), padding='same')(x)\n",
    "    x = BatchNormalization()(x)\n",
    "    x = Conv2D(128, (3, 3), activation='relu', padding='same')(x)\n",
    "    x = BatchNormalization()(x)\n",
    "    x = Conv2D(128, (3, 3), activation='relu', padding='same')(x)\n",
    "    x = BatchNormalization()(x)\n",
    "    x = Conv2D(128, (3, 3), activation='relu', padding='same')(x)\n",
    "    x = BatchNormalization()(x)\n",
    "    x = Conv2D(256, (3, 3), activation='relu', strides=(2, 2), padding='same')(x)\n",
    "    x = BatchNormalization()(x)\n",
    "    x = Conv2D(256, (3, 3), activation='relu', padding='same')(x)\n",
    "    x = BatchNormalization()(x)\n",
    "    x = Conv2D(256, (3, 3), activation='relu', padding='same')(x)\n",
    "    x = BatchNormalization()(x)\n",
    "    x = Conv2D(256, (3, 3), activation='relu', padding='same')(x)\n",
    "    x = BatchNormalization()(x)\n",
    "    x = Conv2DTranspose(128, (3, 3), strides=(2, 2), activation='relu', padding='same')(x)\n",
    "    x = BatchNormalization()(x)\n",
    "    x = Conv2D(128, (3, 3), activation='relu', padding='same')(x)\n",
    "    x = BatchNormalization()(x)\n",
    "    x = Conv2D(128, (3, 3), activation='relu', padding='same')(x)\n",
    "    x = BatchNormalization()(x)\n",
    "    x = Conv2DTranspose(64, (3, 3), strides=(2, 2), activation='relu', padding='same')(x)\n",
    "    x = BatchNormalization()(x)\n",
    "    x = Conv2D(64, (3, 3), activation='relu', padding='same')(x)\n",
    "    x = BatchNormalization()(x)\n",
    "    x = Conv2D(64, (3, 3), activation='relu', padding='same')(x)\n",
    "    x = BatchNormalization()(x)\n",
    "    x = Conv2D(64, (3, 3), activation='relu', padding='same')(x)\n",
    "    x = BatchNormalization()(x)\n",
    "    x = Conv2DTranspose(1, (3, 3), activation=None, padding='same')(x)\n",
    "    decoded = Activation('sigmoid')(x)\n",
    "    model = Model(input_layer, decoded)\n",
    "    \n",
    "    # Compile the model\n",
    "    optimizer = keras.optimizers.Adam(lr=0.0001, beta_1=0.9, beta_2=0.999)\n",
    "    model.compile(optimizer=optimizer, loss='mse', metrics='accuracy')\n",
    "    return model\n",
    "\n",
    "\n",
    "# Set the root directory for audio files\n",
    "root_dir = '/home/fdf7gn/data/UVaVoice'\n",
    "\n",
    "# Recursively find all audio files in the directory\n",
    "audio_files = []\n",
    "for dirpath, dirnames, filenames in os.walk(root_dir):\n",
    "    if \"Larynx\" in dirnames:\n",
    "        dirnames.remove(\"Larynx\")\n",
    "    for filename in filenames:\n",
    "        if filename.endswith('.wav') or filename.endswith('.mp3'):\n",
    "            audio_files.append(os.path.join(dirpath, filename))\n",
    "\n",
    "# Preprocess and denoise each audio chunk\n",
    "model = create_model((128, None, 1))\n",
    "for audio_file in audio_files:\n",
    "    specs = preprocess_audio(audio_file)\n",
    "    for spec_db in specs:\n",
    "        noisy_spec_db = add_noise(spec_db)\n",
    "        model.fit(x=np.array([noisy_spec_db]), y=np.array([spec_db]), epochs=10, batch_size=8)\n",
    "\n",
    "# Save the model\n",
    "model.save('denoising_autoencoder_complex.h5')\n"
   ]
  },
  {
   "cell_type": "code",
   "execution_count": 3,
   "metadata": {},
   "outputs": [],
   "source": [
    "autoencoder = tf.keras.models.load_model('/home/fdf7gn/capstone/Electrolarynx_Capstone/notebooks/denoising_autoencoder_complex.h5')"
   ]
  },
  {
   "cell_type": "code",
   "execution_count": 4,
   "metadata": {},
   "outputs": [
    {
     "ename": "TypeError",
     "evalue": "unsupported operand type(s) for *: 'NoneType' and 'int'",
     "output_type": "error",
     "traceback": [
      "\u001b[0;31m---------------------------------------------------------------------------\u001b[0m",
      "\u001b[0;31mTypeError\u001b[0m                                 Traceback (most recent call last)",
      "\u001b[0;32m<ipython-input-4-fd765ff0fd34>\u001b[0m in \u001b[0;36m<module>\u001b[0;34m\u001b[0m\n\u001b[1;32m      1\u001b[0m \u001b[0mfont\u001b[0m \u001b[0;34m=\u001b[0m \u001b[0mImageFont\u001b[0m\u001b[0;34m.\u001b[0m\u001b[0mtruetype\u001b[0m\u001b[0;34m(\u001b[0m\u001b[0;34m\"arial.ttf\"\u001b[0m\u001b[0;34m,\u001b[0m \u001b[0;36m32\u001b[0m\u001b[0;34m)\u001b[0m\u001b[0;34m\u001b[0m\u001b[0;34m\u001b[0m\u001b[0m\n\u001b[0;32m----> 2\u001b[0;31m \u001b[0mvisualkeras\u001b[0m\u001b[0;34m.\u001b[0m\u001b[0mlayered_view\u001b[0m\u001b[0;34m(\u001b[0m\u001b[0mautoencoder\u001b[0m\u001b[0;34m,\u001b[0m \u001b[0mlegend\u001b[0m\u001b[0;34m=\u001b[0m\u001b[0;32mTrue\u001b[0m\u001b[0;34m,\u001b[0m \u001b[0mfont\u001b[0m\u001b[0;34m=\u001b[0m\u001b[0mfont\u001b[0m\u001b[0;34m,\u001b[0m \u001b[0mto_file\u001b[0m\u001b[0;34m=\u001b[0m\u001b[0;34m'cnn-ad-model.png'\u001b[0m\u001b[0;34m)\u001b[0m\u001b[0;34m\u001b[0m\u001b[0;34m\u001b[0m\u001b[0m\n\u001b[0m",
      "\u001b[0;32m~/.local/lib/python3.8/site-packages/visualkeras/layered.py\u001b[0m in \u001b[0;36mlayered_view\u001b[0;34m(model, to_file, min_z, min_xy, max_z, max_xy, scale_z, scale_xy, type_ignore, index_ignore, color_map, one_dim_orientation, background_fill, draw_volume, padding, spacing, draw_funnel, shade_step, legend, font, font_color)\u001b[0m\n\u001b[1;32m     93\u001b[0m         \u001b[0;32mif\u001b[0m \u001b[0mlen\u001b[0m\u001b[0;34m(\u001b[0m\u001b[0mshape\u001b[0m\u001b[0;34m)\u001b[0m \u001b[0;34m>=\u001b[0m \u001b[0;36m4\u001b[0m\u001b[0;34m:\u001b[0m\u001b[0;34m\u001b[0m\u001b[0;34m\u001b[0m\u001b[0m\n\u001b[1;32m     94\u001b[0m             \u001b[0mx\u001b[0m \u001b[0;34m=\u001b[0m \u001b[0mmin\u001b[0m\u001b[0;34m(\u001b[0m\u001b[0mmax\u001b[0m\u001b[0;34m(\u001b[0m\u001b[0mshape\u001b[0m\u001b[0;34m[\u001b[0m\u001b[0;36m1\u001b[0m\u001b[0;34m]\u001b[0m \u001b[0;34m*\u001b[0m \u001b[0mscale_xy\u001b[0m\u001b[0;34m,\u001b[0m \u001b[0mx\u001b[0m\u001b[0;34m)\u001b[0m\u001b[0;34m,\u001b[0m \u001b[0mmax_xy\u001b[0m\u001b[0;34m)\u001b[0m\u001b[0;34m\u001b[0m\u001b[0;34m\u001b[0m\u001b[0m\n\u001b[0;32m---> 95\u001b[0;31m             \u001b[0my\u001b[0m \u001b[0;34m=\u001b[0m \u001b[0mmin\u001b[0m\u001b[0;34m(\u001b[0m\u001b[0mmax\u001b[0m\u001b[0;34m(\u001b[0m\u001b[0mshape\u001b[0m\u001b[0;34m[\u001b[0m\u001b[0;36m2\u001b[0m\u001b[0;34m]\u001b[0m \u001b[0;34m*\u001b[0m \u001b[0mscale_xy\u001b[0m\u001b[0;34m,\u001b[0m \u001b[0my\u001b[0m\u001b[0;34m)\u001b[0m\u001b[0;34m,\u001b[0m \u001b[0mmax_xy\u001b[0m\u001b[0;34m)\u001b[0m\u001b[0;34m\u001b[0m\u001b[0;34m\u001b[0m\u001b[0m\n\u001b[0m\u001b[1;32m     96\u001b[0m             \u001b[0mz\u001b[0m \u001b[0;34m=\u001b[0m \u001b[0mmin\u001b[0m\u001b[0;34m(\u001b[0m\u001b[0mmax\u001b[0m\u001b[0;34m(\u001b[0m\u001b[0mself_multiply\u001b[0m\u001b[0;34m(\u001b[0m\u001b[0mshape\u001b[0m\u001b[0;34m[\u001b[0m\u001b[0;36m3\u001b[0m\u001b[0;34m:\u001b[0m\u001b[0;34m]\u001b[0m\u001b[0;34m)\u001b[0m \u001b[0;34m*\u001b[0m \u001b[0mscale_z\u001b[0m\u001b[0;34m,\u001b[0m \u001b[0mz\u001b[0m\u001b[0;34m)\u001b[0m\u001b[0;34m,\u001b[0m \u001b[0mmax_z\u001b[0m\u001b[0;34m)\u001b[0m\u001b[0;34m\u001b[0m\u001b[0;34m\u001b[0m\u001b[0m\n\u001b[1;32m     97\u001b[0m         \u001b[0;32melif\u001b[0m \u001b[0mlen\u001b[0m\u001b[0;34m(\u001b[0m\u001b[0mshape\u001b[0m\u001b[0;34m)\u001b[0m \u001b[0;34m==\u001b[0m \u001b[0;36m3\u001b[0m\u001b[0;34m:\u001b[0m\u001b[0;34m\u001b[0m\u001b[0;34m\u001b[0m\u001b[0m\n",
      "\u001b[0;31mTypeError\u001b[0m: unsupported operand type(s) for *: 'NoneType' and 'int'"
     ]
    }
   ],
   "source": [
    "font = ImageFont.truetype(\"arial.ttf\", 32)\n",
    "visualkeras.layered_view(autoencoder, legend=True, font=font, to_file='cnn-ad-model.png')"
   ]
  },
  {
   "cell_type": "code",
   "execution_count": null,
   "metadata": {},
   "outputs": [],
   "source": []
  }
 ],
 "metadata": {
  "kernelspec": {
   "display_name": "Python 3",
   "language": "python",
   "name": "python3"
  },
  "language_info": {
   "codemirror_mode": {
    "name": "ipython",
    "version": 3
   },
   "file_extension": ".py",
   "mimetype": "text/x-python",
   "name": "python",
   "nbconvert_exporter": "python",
   "pygments_lexer": "ipython3",
   "version": "3.8.8"
  }
 },
 "nbformat": 4,
 "nbformat_minor": 4
}
